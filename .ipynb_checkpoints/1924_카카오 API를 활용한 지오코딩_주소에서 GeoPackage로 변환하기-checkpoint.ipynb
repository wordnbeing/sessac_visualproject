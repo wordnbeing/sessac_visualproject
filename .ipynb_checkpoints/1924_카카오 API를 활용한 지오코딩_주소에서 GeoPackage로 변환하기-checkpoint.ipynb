{
 "cells": [
  {
   "cell_type": "markdown",
   "id": "f12e8691-b21c-4546-9264-2f5110bc428f",
   "metadata": {},
   "source": [
    "# 카카오 API를 활용한 지오코딩: 주소에서 GeoPackage로 변환하기"
   ]
  },
  {
   "cell_type": "code",
   "execution_count": 1,
   "id": "ce4a023c-207a-4323-b587-a4097ff1b564",
   "metadata": {},
   "outputs": [],
   "source": [
    "import requests\n",
    "import pandas as pd\n",
    "# import geopandas as gpd"
   ]
  },
  {
   "cell_type": "code",
   "execution_count": 2,
   "id": "f9e0dfdd-29d1-4ff9-b56f-ff7056f603fc",
   "metadata": {},
   "outputs": [],
   "source": [
    "# 카카오 API KEY\n",
    "API_KEY = \"2b6a0d9b90f56fb12baf4d2a23c937bb\""
   ]
  },
  {
   "cell_type": "code",
   "execution_count": 3,
   "id": "56437716-f14e-4249-9a1e-b85a3d5d6dc9",
   "metadata": {},
   "outputs": [],
   "source": [
    "# 주소를 좌표로 변환\n",
    "def convert_address_to_coordinates(address):\n",
    "    api_url = \"https://dapi.kakao.com/v2/local/search/address.json\"\n",
    "    headers = {\"Authorization\": f\"KakaoAK {API_KEY}\"}\n",
    "\n",
    "    params = {\"query\": address}\n",
    "    \n",
    "    try:\n",
    "        response = requests.get(api_url, headers=headers, params=params)\n",
    "        response.raise_for_status()\n",
    "        result = response.json()\n",
    "\n",
    "        if \"documents\" in result and len(result[\"documents\"]) > 0:\n",
    "            coordinates = result[\"documents\"][0][\"y\"], result[\"documents\"][0][\"x\"]\n",
    "            return coordinates\n",
    "        else:\n",
    "            return None\n",
    "    except requests.exceptions.RequestException as e:\n",
    "        print(f\"An error occurred: {e}\")\n",
    "        return None"
   ]
  },
  {
   "cell_type": "code",
   "execution_count": 4,
   "id": "dc354aed-c8dd-4fc3-9714-f0d0b87a8429",
   "metadata": {},
   "outputs": [],
   "source": [
    "# 데이터프레임에 좌표 추가\n",
    "def add_coordinates_to_dataframe(df, address_column):\n",
    "    latitudes = []\n",
    "    longitudes = []\n",
    "\n",
    "    for address in df[address_column]:\n",
    "        coordinates = convert_address_to_coordinates(address)\n",
    "        if coordinates:\n",
    "            latitudes.append(coordinates[0])\n",
    "            longitudes.append(coordinates[1])\n",
    "        else:\n",
    "            latitudes.append(None)\n",
    "            longitudes.append(None)\n",
    "\n",
    "    df[\"decimalLatitude\"] = latitudes\n",
    "    df[\"decimalLongitude\"] = longitudes"
   ]
  },
  {
   "cell_type": "code",
   "execution_count": 5,
   "id": "18a2f39d-dcf0-42dc-861d-71decd58566a",
   "metadata": {},
   "outputs": [
    {
     "data": {
      "text/html": [
       "<div>\n",
       "<style scoped>\n",
       "    .dataframe tbody tr th:only-of-type {\n",
       "        vertical-align: middle;\n",
       "    }\n",
       "\n",
       "    .dataframe tbody tr th {\n",
       "        vertical-align: top;\n",
       "    }\n",
       "\n",
       "    .dataframe thead th {\n",
       "        text-align: right;\n",
       "    }\n",
       "</style>\n",
       "<table border=\"1\" class=\"dataframe\">\n",
       "  <thead>\n",
       "    <tr style=\"text-align: right;\">\n",
       "      <th></th>\n",
       "      <th>Name</th>\n",
       "      <th>Address</th>\n",
       "    </tr>\n",
       "  </thead>\n",
       "  <tbody>\n",
       "    <tr>\n",
       "      <th>0</th>\n",
       "      <td>국립공원공단 본사</td>\n",
       "      <td>강원특별자치도 원주시 혁신로 22</td>\n",
       "    </tr>\n",
       "    <tr>\n",
       "      <th>1</th>\n",
       "      <td>국립공원연구원 본원</td>\n",
       "      <td>강원특별자치도 원주시 단구로 171</td>\n",
       "    </tr>\n",
       "    <tr>\n",
       "      <th>2</th>\n",
       "      <td>치악산국립공원사무소</td>\n",
       "      <td>강원특별자치도 원주시 소초면 무쇠점2길 26</td>\n",
       "    </tr>\n",
       "  </tbody>\n",
       "</table>\n",
       "</div>"
      ],
      "text/plain": [
       "         Name                   Address\n",
       "0   국립공원공단 본사        강원특별자치도 원주시 혁신로 22\n",
       "1  국립공원연구원 본원       강원특별자치도 원주시 단구로 171\n",
       "2  치악산국립공원사무소  강원특별자치도 원주시 소초면 무쇠점2길 26"
      ]
     },
     "execution_count": 5,
     "metadata": {},
     "output_type": "execute_result"
    }
   ],
   "source": [
    "# 데이터프레임\n",
    "data = {'Name': ['국립공원공단 본사', '국립공원연구원 본원', '치악산국립공원사무소'],\n",
    "        'Address': ['강원특별자치도 원주시 혁신로 22', '강원특별자치도 원주시 단구로 171', '강원특별자치도 원주시 소초면 무쇠점2길 26']}\n",
    "df = pd.DataFrame(data)\n",
    "df.head()"
   ]
  },
  {
   "cell_type": "code",
   "execution_count": 6,
   "id": "1fc8b191-c24a-4adc-8590-7a9fe28174f6",
   "metadata": {},
   "outputs": [
    {
     "data": {
      "text/html": [
       "<div>\n",
       "<style scoped>\n",
       "    .dataframe tbody tr th:only-of-type {\n",
       "        vertical-align: middle;\n",
       "    }\n",
       "\n",
       "    .dataframe tbody tr th {\n",
       "        vertical-align: top;\n",
       "    }\n",
       "\n",
       "    .dataframe thead th {\n",
       "        text-align: right;\n",
       "    }\n",
       "</style>\n",
       "<table border=\"1\" class=\"dataframe\">\n",
       "  <thead>\n",
       "    <tr style=\"text-align: right;\">\n",
       "      <th></th>\n",
       "      <th>Name</th>\n",
       "      <th>Address</th>\n",
       "      <th>decimalLatitude</th>\n",
       "      <th>decimalLongitude</th>\n",
       "    </tr>\n",
       "  </thead>\n",
       "  <tbody>\n",
       "    <tr>\n",
       "      <th>0</th>\n",
       "      <td>국립공원공단 본사</td>\n",
       "      <td>강원특별자치도 원주시 혁신로 22</td>\n",
       "      <td>37.3238242077259</td>\n",
       "      <td>127.976704931245</td>\n",
       "    </tr>\n",
       "    <tr>\n",
       "      <th>1</th>\n",
       "      <td>국립공원연구원 본원</td>\n",
       "      <td>강원특별자치도 원주시 단구로 171</td>\n",
       "      <td>37.3369694079522</td>\n",
       "      <td>127.947724482633</td>\n",
       "    </tr>\n",
       "    <tr>\n",
       "      <th>2</th>\n",
       "      <td>치악산국립공원사무소</td>\n",
       "      <td>강원특별자치도 원주시 소초면 무쇠점2길 26</td>\n",
       "      <td>37.4140421500777</td>\n",
       "      <td>128.050384626252</td>\n",
       "    </tr>\n",
       "  </tbody>\n",
       "</table>\n",
       "</div>"
      ],
      "text/plain": [
       "         Name                   Address   decimalLatitude  decimalLongitude\n",
       "0   국립공원공단 본사        강원특별자치도 원주시 혁신로 22  37.3238242077259  127.976704931245\n",
       "1  국립공원연구원 본원       강원특별자치도 원주시 단구로 171  37.3369694079522  127.947724482633\n",
       "2  치악산국립공원사무소  강원특별자치도 원주시 소초면 무쇠점2길 26  37.4140421500777  128.050384626252"
      ]
     },
     "execution_count": 6,
     "metadata": {},
     "output_type": "execute_result"
    }
   ],
   "source": [
    "# 주소를 좌표로 변환하여 데이터프레임에 추가\n",
    "add_coordinates_to_dataframe(df, 'Address')\n",
    "df.to_csv('korea_np.csv', index=False, encoding='utf-8')\n",
    "df.head()"
   ]
  },
  {
   "cell_type": "code",
   "execution_count": 7,
   "id": "139d445f-c864-44e1-9366-4ad8a9412dc3",
   "metadata": {},
   "outputs": [],
   "source": [
    "# CSV를 GeoPackage로 변환\n",
    "def csv_to_gpkg(input_csv, output_gpkg):\n",
    "    df = pd.read_csv(input_csv)\n",
    "    gdf = gpd.GeoDataFrame(\n",
    "        df,\n",
    "        geometry=gpd.points_from_xy(df.decimalLongitude, df.decimalLatitude),\n",
    "        crs=\"EPSG:4326\",\n",
    "    )\n",
    "    gdf.to_file(output_gpkg, driver=\"GPKG\")\n",
    "    print(\"데이터 변환 및 저장 완료:\", output_gpkg)"
   ]
  },
  {
   "cell_type": "code",
   "execution_count": 8,
   "id": "52f40725-f55b-4495-909a-f7bbff415156",
   "metadata": {},
   "outputs": [
    {
     "name": "stdout",
     "output_type": "stream",
     "text": [
      "데이터 변환 및 저장 완료: korea_np.gpkg\n"
     ]
    }
   ],
   "source": [
    "input_csv = \"korea_np.csv\"\n",
    "output_gpkg = \"korea_np.gpkg\"\n",
    "\n",
    "csv_to_gpkg(input_csv, output_gpkg)"
   ]
  },
  {
   "cell_type": "code",
   "execution_count": null,
   "id": "4828dbef-be69-41a2-acf2-ad1e06a34b48",
   "metadata": {},
   "outputs": [],
   "source": []
  }
 ],
 "metadata": {
  "kernelspec": {
   "display_name": "Python 3 (ipykernel)",
   "language": "python",
   "name": "python3"
  },
  "language_info": {
   "codemirror_mode": {
    "name": "ipython",
    "version": 3
   },
   "file_extension": ".py",
   "mimetype": "text/x-python",
   "name": "python",
   "nbconvert_exporter": "python",
   "pygments_lexer": "ipython3",
   "version": "3.11.4"
  },
  "toc": {
   "base_numbering": 1,
   "nav_menu": {},
   "number_sections": true,
   "sideBar": true,
   "skip_h1_title": false,
   "title_cell": "Table of Contents",
   "title_sidebar": "Contents",
   "toc_cell": false,
   "toc_position": {},
   "toc_section_display": true,
   "toc_window_display": false
  }
 },
 "nbformat": 4,
 "nbformat_minor": 5
}
