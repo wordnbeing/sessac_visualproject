{
 "cells": [
  {
   "cell_type": "markdown",
   "id": "f12e8691-b21c-4546-9264-2f5110bc428f",
   "metadata": {},
   "source": [
    "# 카카오 API를 활용한 지오코딩: 주소에서 GeoPackage로 변환하기"
   ]
  },
  {
   "cell_type": "code",
   "execution_count": 1,
   "id": "ce4a023c-207a-4323-b587-a4097ff1b564",
   "metadata": {},
   "outputs": [],
   "source": [
    "import requests\n",
    "import pandas as pd\n",
    "import geopandas as gpd"
   ]
  },
  {
   "cell_type": "code",
   "execution_count": 2,
   "id": "f9e0dfdd-29d1-4ff9-b56f-ff7056f603fc",
   "metadata": {},
   "outputs": [],
   "source": [
    "# 카카오 API KEY\n",
    "API_KEY = \"2b6a0d9b90f56fb12baf4d2a23c937bb\""
   ]
  },
  {
   "cell_type": "code",
   "execution_count": 3,
   "id": "56437716-f14e-4249-9a1e-b85a3d5d6dc9",
   "metadata": {},
   "outputs": [],
   "source": [
    "# 주소를 좌표로 변환\n",
    "def convert_address_to_coordinates(address):\n",
    "    api_url = \"https://dapi.kakao.com/v2/local/search/address.json\"\n",
    "    headers = {\"Authorization\": f\"KakaoAK {API_KEY}\"}\n",
    "\n",
    "    params = {\"query\": address}\n",
    "    \n",
    "    try:\n",
    "        response = requests.get(api_url, headers=headers, params=params)\n",
    "        response.raise_for_status()\n",
    "        result = response.json()\n",
    "\n",
    "        if \"documents\" in result and len(result[\"documents\"]) > 0:\n",
    "            coordinates = result[\"documents\"][0][\"y\"], result[\"documents\"][0][\"x\"]\n",
    "            print(result)\n",
    "            return coordinates\n",
    "        else:\n",
    "            print(result)\n",
    "            return None\n",
    "    except requests.exceptions.RequestException as e:\n",
    "        print(f\"An error occurred: {e}\")\n",
    "        return None"
   ]
  },
  {
   "cell_type": "code",
   "execution_count": 13,
   "id": "c0d3f74a",
   "metadata": {},
   "outputs": [],
   "source": [
    "addr = '서울특별시 종로구 옥인동'\n",
    "addr2 = '경기도 광주시 오포읍 능평리'\n",
    "addr3 = '경기도 고양시 일산동구 식사동'"
   ]
  },
  {
   "cell_type": "code",
   "execution_count": 14,
   "id": "3bba7c33",
   "metadata": {
    "scrolled": true
   },
   "outputs": [
    {
     "name": "stdout",
     "output_type": "stream",
     "text": [
      "{'documents': [{'address': {'address_name': '서울 종로구 옥인동', 'b_code': '1111011100', 'h_code': '', 'main_address_no': '', 'mountain_yn': 'N', 'region_1depth_name': '서울', 'region_2depth_name': '종로구', 'region_3depth_h_name': '', 'region_3depth_name': '옥인동', 'sub_address_no': '', 'x': '126.963385995622', 'y': '37.5835230926996'}, 'address_name': '서울 종로구 옥인동', 'address_type': 'REGION', 'road_address': None, 'x': '126.963385995622', 'y': '37.5835230926996'}], 'meta': {'is_end': True, 'pageable_count': 1, 'total_count': 1}}\n",
      "('37.5835230926996', '126.963385995622')\n"
     ]
    }
   ],
   "source": [
    "addr_return = convert_address_to_coordinates(addr)\n",
    "print(addr_return)"
   ]
  },
  {
   "cell_type": "code",
   "execution_count": 6,
   "id": "1041bd96",
   "metadata": {
    "scrolled": true
   },
   "outputs": [
    {
     "name": "stdout",
     "output_type": "stream",
     "text": [
      "{'documents': [{'address': {'address_name': '경기 광주시 능평동', 'b_code': '4161011600', 'h_code': '4161061000', 'main_address_no': '', 'mountain_yn': 'N', 'region_1depth_name': '경기', 'region_2depth_name': '광주시', 'region_3depth_h_name': '능평동', 'region_3depth_name': '능평동', 'sub_address_no': '', 'x': '127.167264087448', 'y': '37.3497062329604'}, 'address_name': '경기 광주시 능평동', 'address_type': 'REGION', 'road_address': None, 'x': '127.167264087448', 'y': '37.3497062329604'}], 'meta': {'is_end': True, 'pageable_count': 1, 'total_count': 1}}\n",
      "('37.3497062329604', '127.167264087448')\n"
     ]
    }
   ],
   "source": [
    "addr_return = convert_address_to_coordinates(addr2)\n",
    "print(addr_return)"
   ]
  },
  {
   "cell_type": "code",
   "execution_count": 7,
   "id": "ea5cda54",
   "metadata": {},
   "outputs": [
    {
     "name": "stdout",
     "output_type": "stream",
     "text": [
      "{'documents': [{'address': {'address_name': '경기 고양시 일산동구 식사동', 'b_code': '4128510100', 'h_code': '4128551000', 'main_address_no': '', 'mountain_yn': 'N', 'region_1depth_name': '경기', 'region_2depth_name': '고양시 일산동구', 'region_3depth_h_name': '식사동', 'region_3depth_name': '식사동', 'sub_address_no': '', 'x': '126.813707127491', 'y': '37.6773400834299'}, 'address_name': '경기 고양시 일산동구 식사동', 'address_type': 'REGION', 'road_address': None, 'x': '126.813707127491', 'y': '37.6773400834299'}], 'meta': {'is_end': True, 'pageable_count': 1, 'total_count': 1}}\n",
      "('37.6773400834299', '126.813707127491')\n"
     ]
    }
   ],
   "source": [
    "addr_return = convert_address_to_coordinates(addr3)\n",
    "print(addr_return)"
   ]
  },
  {
   "cell_type": "code",
   "execution_count": 8,
   "id": "dc354aed-c8dd-4fc3-9714-f0d0b87a8429",
   "metadata": {},
   "outputs": [],
   "source": [
    "# 데이터프레임에 좌표 추가\n",
    "def add_coordinates_to_dataframe(df, address_column):\n",
    "    latitudes = []\n",
    "    longitudes = []\n",
    "\n",
    "    for address in df[address_column]:\n",
    "        coordinates = convert_address_to_coordinates(address)\n",
    "        if coordinates:\n",
    "            latitudes.append(coordinates[0])\n",
    "            longitudes.append(coordinates[1])\n",
    "        else:\n",
    "            latitudes.append(None)\n",
    "            longitudes.append(None)\n",
    "\n",
    "    df[\"decimalLatitude\"] = latitudes\n",
    "    df[\"decimalLongitude\"] = longitudes"
   ]
  },
  {
   "cell_type": "code",
   "execution_count": 9,
   "id": "18a2f39d-dcf0-42dc-861d-71decd58566a",
   "metadata": {
    "scrolled": true
   },
   "outputs": [
    {
     "data": {
      "text/html": [
       "<div>\n",
       "<style scoped>\n",
       "    .dataframe tbody tr th:only-of-type {\n",
       "        vertical-align: middle;\n",
       "    }\n",
       "\n",
       "    .dataframe tbody tr th {\n",
       "        vertical-align: top;\n",
       "    }\n",
       "\n",
       "    .dataframe thead th {\n",
       "        text-align: right;\n",
       "    }\n",
       "</style>\n",
       "<table border=\"1\" class=\"dataframe\">\n",
       "  <thead>\n",
       "    <tr style=\"text-align: right;\">\n",
       "      <th></th>\n",
       "      <th>Name</th>\n",
       "      <th>Address</th>\n",
       "    </tr>\n",
       "  </thead>\n",
       "  <tbody>\n",
       "    <tr>\n",
       "      <th>0</th>\n",
       "      <td>국립공원공단 본사</td>\n",
       "      <td>강원특별자치도 원주시 혁신로 22</td>\n",
       "    </tr>\n",
       "    <tr>\n",
       "      <th>1</th>\n",
       "      <td>국립공원연구원 본원</td>\n",
       "      <td>강원특별자치도 원주시 단구로 171</td>\n",
       "    </tr>\n",
       "    <tr>\n",
       "      <th>2</th>\n",
       "      <td>치악산국립공원사무소</td>\n",
       "      <td>강원특별자치도 원주시 소초면 무쇠점2길 26</td>\n",
       "    </tr>\n",
       "  </tbody>\n",
       "</table>\n",
       "</div>"
      ],
      "text/plain": [
       "         Name                   Address\n",
       "0   국립공원공단 본사        강원특별자치도 원주시 혁신로 22\n",
       "1  국립공원연구원 본원       강원특별자치도 원주시 단구로 171\n",
       "2  치악산국립공원사무소  강원특별자치도 원주시 소초면 무쇠점2길 26"
      ]
     },
     "execution_count": 9,
     "metadata": {},
     "output_type": "execute_result"
    }
   ],
   "source": [
    "# 데이터프레임\n",
    "data = {'Name': ['국립공원공단 본사', '국립공원연구원 본원', '치악산국립공원사무소'],\n",
    "        'Address': ['강원특별자치도 원주시 혁신로 22', '강원특별자치도 원주시 단구로 171', '강원특별자치도 원주시 소초면 무쇠점2길 26']}\n",
    "df = pd.DataFrame(data)\n",
    "df.head()"
   ]
  },
  {
   "cell_type": "code",
   "execution_count": 10,
   "id": "1fc8b191-c24a-4adc-8590-7a9fe28174f6",
   "metadata": {},
   "outputs": [
    {
     "name": "stdout",
     "output_type": "stream",
     "text": [
      "{'documents': [{'address': {'address_name': '강원특별자치도 원주시 반곡동 2049-4', 'b_code': '5113011700', 'h_code': '5113067500', 'main_address_no': '2049', 'mountain_yn': 'N', 'region_1depth_name': '강원특별자치도', 'region_2depth_name': '원주시', 'region_3depth_h_name': '반곡관설동', 'region_3depth_name': '반곡동', 'sub_address_no': '4', 'x': '127.976704931245', 'y': '37.3238242077259'}, 'address_name': '강원특별자치도 원주시 혁신로 22', 'address_type': 'ROAD_ADDR', 'road_address': {'address_name': '강원특별자치도 원주시 혁신로 22', 'building_name': '국립공원관리공단', 'main_building_no': '22', 'region_1depth_name': '강원특별자치도', 'region_2depth_name': '원주시', 'region_3depth_name': '반곡동', 'road_name': '혁신로', 'sub_building_no': '', 'underground_yn': 'N', 'x': '127.976704931245', 'y': '37.3238242077259', 'zone_no': '26466'}, 'x': '127.976704931245', 'y': '37.3238242077259'}], 'meta': {'is_end': True, 'pageable_count': 1, 'total_count': 1}}\n",
      "{'documents': [{'address': {'address_name': '강원특별자치도 원주시 명륜동 242-2', 'b_code': '5113010600', 'h_code': '5113054100', 'main_address_no': '242', 'mountain_yn': 'N', 'region_1depth_name': '강원특별자치도', 'region_2depth_name': '원주시', 'region_3depth_h_name': '명륜1동', 'region_3depth_name': '명륜동', 'sub_address_no': '2', 'x': '127.947724482633', 'y': '37.3369694079522'}, 'address_name': '강원특별자치도 원주시 단구로 171', 'address_type': 'ROAD_ADDR', 'road_address': {'address_name': '강원특별자치도 원주시 단구로 171', 'building_name': '국립공원연구원', 'main_building_no': '171', 'region_1depth_name': '강원특별자치도', 'region_2depth_name': '원주시', 'region_3depth_name': '명륜동', 'road_name': '단구로', 'sub_building_no': '', 'underground_yn': 'N', 'x': '127.947724482633', 'y': '37.3369694079522', 'zone_no': '26441'}, 'x': '127.947724482633', 'y': '37.3369694079522'}], 'meta': {'is_end': True, 'pageable_count': 1, 'total_count': 1}}\n",
      "{'documents': [{'address': {'address_name': '강원특별자치도 원주시 소초면 학곡리 900-1', 'b_code': '5113031028', 'h_code': '5113031000', 'main_address_no': '900', 'mountain_yn': 'N', 'region_1depth_name': '강원특별자치도', 'region_2depth_name': '원주시', 'region_3depth_h_name': '소초면', 'region_3depth_name': '소초면 학곡리', 'sub_address_no': '1', 'x': '128.050384626252', 'y': '37.4140421500777'}, 'address_name': '강원특별자치도 원주시 소초면 무쇠점2길 26', 'address_type': 'ROAD_ADDR', 'road_address': {'address_name': '강원특별자치도 원주시 소초면 무쇠점2길 26', 'building_name': '', 'main_building_no': '26', 'region_1depth_name': '강원특별자치도', 'region_2depth_name': '원주시', 'region_3depth_name': '소초면 학곡리', 'road_name': '무쇠점2길', 'sub_building_no': '', 'underground_yn': 'N', 'x': '128.050384626252', 'y': '37.4140421500777', 'zone_no': '26304'}, 'x': '128.050384626252', 'y': '37.4140421500777'}], 'meta': {'is_end': True, 'pageable_count': 1, 'total_count': 1}}\n"
     ]
    },
    {
     "data": {
      "text/html": [
       "<div>\n",
       "<style scoped>\n",
       "    .dataframe tbody tr th:only-of-type {\n",
       "        vertical-align: middle;\n",
       "    }\n",
       "\n",
       "    .dataframe tbody tr th {\n",
       "        vertical-align: top;\n",
       "    }\n",
       "\n",
       "    .dataframe thead th {\n",
       "        text-align: right;\n",
       "    }\n",
       "</style>\n",
       "<table border=\"1\" class=\"dataframe\">\n",
       "  <thead>\n",
       "    <tr style=\"text-align: right;\">\n",
       "      <th></th>\n",
       "      <th>Name</th>\n",
       "      <th>Address</th>\n",
       "      <th>decimalLatitude</th>\n",
       "      <th>decimalLongitude</th>\n",
       "    </tr>\n",
       "  </thead>\n",
       "  <tbody>\n",
       "    <tr>\n",
       "      <th>0</th>\n",
       "      <td>국립공원공단 본사</td>\n",
       "      <td>강원특별자치도 원주시 혁신로 22</td>\n",
       "      <td>37.3238242077259</td>\n",
       "      <td>127.976704931245</td>\n",
       "    </tr>\n",
       "    <tr>\n",
       "      <th>1</th>\n",
       "      <td>국립공원연구원 본원</td>\n",
       "      <td>강원특별자치도 원주시 단구로 171</td>\n",
       "      <td>37.3369694079522</td>\n",
       "      <td>127.947724482633</td>\n",
       "    </tr>\n",
       "    <tr>\n",
       "      <th>2</th>\n",
       "      <td>치악산국립공원사무소</td>\n",
       "      <td>강원특별자치도 원주시 소초면 무쇠점2길 26</td>\n",
       "      <td>37.4140421500777</td>\n",
       "      <td>128.050384626252</td>\n",
       "    </tr>\n",
       "  </tbody>\n",
       "</table>\n",
       "</div>"
      ],
      "text/plain": [
       "         Name                   Address   decimalLatitude  decimalLongitude\n",
       "0   국립공원공단 본사        강원특별자치도 원주시 혁신로 22  37.3238242077259  127.976704931245\n",
       "1  국립공원연구원 본원       강원특별자치도 원주시 단구로 171  37.3369694079522  127.947724482633\n",
       "2  치악산국립공원사무소  강원특별자치도 원주시 소초면 무쇠점2길 26  37.4140421500777  128.050384626252"
      ]
     },
     "execution_count": 10,
     "metadata": {},
     "output_type": "execute_result"
    }
   ],
   "source": [
    "# 주소를 좌표로 변환하여 데이터프레임에 추가\n",
    "add_coordinates_to_dataframe(df, 'Address')\n",
    "df.to_csv('korea_np.csv', index=False, encoding='utf-8')\n",
    "df.head()"
   ]
  },
  {
   "cell_type": "code",
   "execution_count": null,
   "id": "b787c7b4",
   "metadata": {},
   "outputs": [],
   "source": []
  },
  {
   "cell_type": "code",
   "execution_count": 11,
   "id": "139d445f-c864-44e1-9366-4ad8a9412dc3",
   "metadata": {},
   "outputs": [],
   "source": [
    "# CSV를 GeoPackage로 변환\n",
    "def csv_to_gpkg(input_csv, output_gpkg):\n",
    "    df = pd.read_csv(input_csv)\n",
    "    gdf = gpd.GeoDataFrame(\n",
    "        df,\n",
    "        geometry=gpd.points_from_xy(df.decimalLongitude, df.decimalLatitude),\n",
    "        crs=\"EPSG:4326\",\n",
    "    )\n",
    "    gdf.to_file(output_gpkg, driver=\"GPKG\")\n",
    "    print(\"데이터 변환 및 저장 완료:\", output_gpkg)"
   ]
  },
  {
   "cell_type": "code",
   "execution_count": 12,
   "id": "52f40725-f55b-4495-909a-f7bbff415156",
   "metadata": {},
   "outputs": [
    {
     "name": "stdout",
     "output_type": "stream",
     "text": [
      "데이터 변환 및 저장 완료: korea_np.gpkg\n"
     ]
    }
   ],
   "source": [
    "input_csv = \"korea_np.csv\"\n",
    "output_gpkg = \"korea_np.gpkg\"\n",
    "\n",
    "csv_to_gpkg(input_csv, output_gpkg)"
   ]
  },
  {
   "cell_type": "code",
   "execution_count": null,
   "id": "4828dbef-be69-41a2-acf2-ad1e06a34b48",
   "metadata": {},
   "outputs": [],
   "source": []
  }
 ],
 "metadata": {
  "kernelspec": {
   "display_name": "Python 3 (ipykernel)",
   "language": "python",
   "name": "python3"
  },
  "language_info": {
   "codemirror_mode": {
    "name": "ipython",
    "version": 3
   },
   "file_extension": ".py",
   "mimetype": "text/x-python",
   "name": "python",
   "nbconvert_exporter": "python",
   "pygments_lexer": "ipython3",
   "version": "3.11.4"
  },
  "toc": {
   "base_numbering": 1,
   "nav_menu": {},
   "number_sections": true,
   "sideBar": true,
   "skip_h1_title": false,
   "title_cell": "Table of Contents",
   "title_sidebar": "Contents",
   "toc_cell": false,
   "toc_position": {},
   "toc_section_display": true,
   "toc_window_display": false
  }
 },
 "nbformat": 4,
 "nbformat_minor": 5
}
