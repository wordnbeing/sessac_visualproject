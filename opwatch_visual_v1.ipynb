{
 "cells": [
  {
   "cell_type": "markdown",
   "id": "e9b3cd0e",
   "metadata": {},
   "source": [
    "# Importing Python module"
   ]
  },
  {
   "cell_type": "markdown",
   "id": "fae1d5a7",
   "metadata": {},
   "source": [
    "## data processing module"
   ]
  },
  {
   "cell_type": "code",
   "execution_count": 1,
   "id": "9d287b7f",
   "metadata": {},
   "outputs": [],
   "source": [
    "# 데이터 처리를 위한 모듈들\n",
    "import pandas as pd\n",
    "import numpy as np"
   ]
  },
  {
   "cell_type": "markdown",
   "id": "87ebec34",
   "metadata": {},
   "source": [
    "## visualization module"
   ]
  },
  {
   "cell_type": "code",
   "execution_count": 2,
   "id": "6fd94619",
   "metadata": {},
   "outputs": [],
   "source": [
    "# 시각화를 위한 모듈들\n",
    "import matplotlib.pyplot as plt\n",
    "import matplotlib as mpl\n",
    "\n",
    "import seaborn as sns\n",
    "sns.set_theme(style=\"whitegrid\")"
   ]
  },
  {
   "cell_type": "code",
   "execution_count": 3,
   "id": "bb5863be",
   "metadata": {},
   "outputs": [],
   "source": [
    "# 시각화를 위한 사전 설정들 1.\n",
    "# %matplotlib inline을 주피터 노트북 셀에 실행하면 해당 셀 아래에 그래프 출력\n",
    "\n",
    "%matplotlib inline"
   ]
  },
  {
   "cell_type": "code",
   "execution_count": 4,
   "id": "616aafca",
   "metadata": {},
   "outputs": [],
   "source": [
    "# 시각화를 위한 사전 설정들 2.\n",
    "# 한글 폰트 설정\n",
    "\n",
    "from matplotlib import font_manager, rc  # 한글폰트 설정\n",
    "import platform\n",
    "\n",
    "if platform.system()==\"Windows\":\n",
    "    font_name=font_manager.FontProperties(fname=\"c:/Windows/Fonts/malgun.ttf\").get_name()\n",
    "    rc('font', family=font_name)\n",
    "    \n",
    "mpl.rcParams['axes.unicode_minus']=False"
   ]
  },
  {
   "cell_type": "code",
   "execution_count": 5,
   "id": "957946c9",
   "metadata": {},
   "outputs": [],
   "source": [
    "# 기타 사전 설정\n",
    "# warnigs 표시 설정 = ignore\n",
    "\n",
    "import warnings\n",
    "warnings.filterwarnings(\"ignore\")"
   ]
  },
  {
   "cell_type": "code",
   "execution_count": 89,
   "id": "69dffa88",
   "metadata": {},
   "outputs": [],
   "source": [
    "# 간단하게 시각화\n",
    "import plotly.express as px\n",
    "\n",
    "# 세세하게 시각화\n",
    "import plotly.graph_objects as go\n",
    "\n",
    "# subplot 생성\n",
    "from plotly.subplots import make_subplots"
   ]
  },
  {
   "cell_type": "code",
   "execution_count": 90,
   "id": "79767133",
   "metadata": {},
   "outputs": [],
   "source": [
    "# 판다스 plot옵션\n",
    "pd.options.plotting.backend = \"plotly\""
   ]
  },
  {
   "cell_type": "code",
   "execution_count": null,
   "id": "079c0404",
   "metadata": {},
   "outputs": [],
   "source": []
  },
  {
   "cell_type": "code",
   "execution_count": null,
   "id": "be3e7fe6",
   "metadata": {},
   "outputs": [],
   "source": []
  },
  {
   "cell_type": "code",
   "execution_count": null,
   "id": "16e5fa75",
   "metadata": {},
   "outputs": [],
   "source": []
  },
  {
   "cell_type": "code",
   "execution_count": null,
   "id": "6713724f",
   "metadata": {},
   "outputs": [],
   "source": []
  },
  {
   "cell_type": "markdown",
   "id": "c946b1ba",
   "metadata": {},
   "source": [
    "## Map module"
   ]
  },
  {
   "cell_type": "code",
   "execution_count": 6,
   "id": "d2aef017",
   "metadata": {},
   "outputs": [],
   "source": [
    "# 지도 기반 시각화\n",
    "# pip install folium\n",
    "import folium"
   ]
  },
  {
   "cell_type": "code",
   "execution_count": null,
   "id": "9698096e",
   "metadata": {},
   "outputs": [],
   "source": []
  },
  {
   "cell_type": "markdown",
   "id": "57adfd8c",
   "metadata": {},
   "source": [
    "# Preprocessing"
   ]
  },
  {
   "cell_type": "markdown",
   "id": "b0819260",
   "metadata": {},
   "source": [
    "## asset data"
   ]
  },
  {
   "cell_type": "code",
   "execution_count": 7,
   "id": "1914c124",
   "metadata": {},
   "outputs": [],
   "source": [
    "ast_det = pd.read_excel(\"202303_001.xlsx\", sheet_name='상세재산')\n",
    "ast_tot = pd.read_excel(\"202303_001.xlsx\", sheet_name='총계_명단')"
   ]
  },
  {
   "cell_type": "code",
   "execution_count": 9,
   "id": "767a0795",
   "metadata": {},
   "outputs": [
    {
     "data": {
      "text/html": [
       "<div>\n",
       "<style scoped>\n",
       "    .dataframe tbody tr th:only-of-type {\n",
       "        vertical-align: middle;\n",
       "    }\n",
       "\n",
       "    .dataframe tbody tr th {\n",
       "        vertical-align: top;\n",
       "    }\n",
       "\n",
       "    .dataframe thead th {\n",
       "        text-align: right;\n",
       "    }\n",
       "</style>\n",
       "<table border=\"1\" class=\"dataframe\">\n",
       "  <thead>\n",
       "    <tr style=\"text-align: right;\">\n",
       "      <th></th>\n",
       "      <th>연월</th>\n",
       "      <th>no</th>\n",
       "      <th>monaCode</th>\n",
       "      <th>소속구분</th>\n",
       "      <th>소속</th>\n",
       "      <th>직위</th>\n",
       "      <th>이름</th>\n",
       "      <th>재산구분</th>\n",
       "      <th>본인과의관계</th>\n",
       "      <th>재산의 종류</th>\n",
       "      <th>소재지 면적 등 권리의 명세</th>\n",
       "      <th>종전가액</th>\n",
       "      <th>증가액</th>\n",
       "      <th>증가액실거래가격</th>\n",
       "      <th>감소액</th>\n",
       "      <th>감소액실거래가격</th>\n",
       "      <th>현재가액</th>\n",
       "      <th>변동사유</th>\n",
       "    </tr>\n",
       "  </thead>\n",
       "  <tbody>\n",
       "    <tr>\n",
       "      <th>0</th>\n",
       "      <td>202303</td>\n",
       "      <td>324</td>\n",
       "      <td>YKW37422</td>\n",
       "      <td>1.국회의원</td>\n",
       "      <td>국회</td>\n",
       "      <td>국회의원</td>\n",
       "      <td>권은희</td>\n",
       "      <td>비영리법인에 출연한 재산</td>\n",
       "      <td>본인</td>\n",
       "      <td>출연</td>\n",
       "      <td>협동조합 하우스, 출연재산: 3,000천원, 보유직위: 조합원</td>\n",
       "      <td>-</td>\n",
       "      <td>-</td>\n",
       "      <td>NaN</td>\n",
       "      <td>-</td>\n",
       "      <td>NaN</td>\n",
       "      <td>-</td>\n",
       "      <td>변동 없음</td>\n",
       "    </tr>\n",
       "  </tbody>\n",
       "</table>\n",
       "</div>"
      ],
      "text/plain": [
       "       연월   no  monaCode    소속구분  소속    직위   이름           재산구분 본인과의관계 재산의 종류  \\\n",
       "0  202303  324  YKW37422  1.국회의원  국회  국회의원  권은희  비영리법인에 출연한 재산     본인     출연   \n",
       "\n",
       "                      소재지 면적 등 권리의 명세 종전가액 증가액  증가액실거래가격 감소액  감소액실거래가격 현재가액  \\\n",
       "0  협동조합 하우스, 출연재산: 3,000천원, 보유직위: 조합원    -   -       NaN   -       NaN    -   \n",
       "\n",
       "    변동사유  \n",
       "0  변동 없음  "
      ]
     },
     "execution_count": 9,
     "metadata": {},
     "output_type": "execute_result"
    }
   ],
   "source": [
    "ast_det.head(1)"
   ]
  },
  {
   "cell_type": "code",
   "execution_count": 10,
   "id": "831f727e",
   "metadata": {},
   "outputs": [
    {
     "data": {
      "text/html": [
       "<div>\n",
       "<style scoped>\n",
       "    .dataframe tbody tr th:only-of-type {\n",
       "        vertical-align: middle;\n",
       "    }\n",
       "\n",
       "    .dataframe tbody tr th {\n",
       "        vertical-align: top;\n",
       "    }\n",
       "\n",
       "    .dataframe thead th {\n",
       "        text-align: right;\n",
       "    }\n",
       "</style>\n",
       "<table border=\"1\" class=\"dataframe\">\n",
       "  <thead>\n",
       "    <tr style=\"text-align: right;\">\n",
       "      <th></th>\n",
       "      <th>연월</th>\n",
       "      <th>no</th>\n",
       "      <th>monaCode</th>\n",
       "      <th>소속구분</th>\n",
       "      <th>소속</th>\n",
       "      <th>직위</th>\n",
       "      <th>이름</th>\n",
       "      <th>종전가액</th>\n",
       "      <th>증가액</th>\n",
       "      <th>감소액</th>\n",
       "      <th>현재가액</th>\n",
       "      <th>증감액</th>\n",
       "      <th>가액변동</th>\n",
       "    </tr>\n",
       "  </thead>\n",
       "  <tbody>\n",
       "    <tr>\n",
       "      <th>0</th>\n",
       "      <td>202303</td>\n",
       "      <td>143</td>\n",
       "      <td>YOG1280B</td>\n",
       "      <td>1.국회의원</td>\n",
       "      <td>국회</td>\n",
       "      <td>국회의원</td>\n",
       "      <td>안철수</td>\n",
       "      <td>204055509</td>\n",
       "      <td>6419280</td>\n",
       "      <td>75765185</td>\n",
       "      <td>134709604</td>\n",
       "      <td>-69345905</td>\n",
       "      <td>-69184290.0</td>\n",
       "    </tr>\n",
       "  </tbody>\n",
       "</table>\n",
       "</div>"
      ],
      "text/plain": [
       "       연월   no  monaCode    소속구분  소속    직위   이름       종전가액      증가액       감소액  \\\n",
       "0  202303  143  YOG1280B  1.국회의원  국회  국회의원  안철수  204055509  6419280  75765185   \n",
       "\n",
       "        현재가액       증감액        가액변동  \n",
       "0  134709604 -69345905 -69184290.0  "
      ]
     },
     "execution_count": 10,
     "metadata": {},
     "output_type": "execute_result"
    }
   ],
   "source": [
    "ast_tot.head(1)"
   ]
  },
  {
   "cell_type": "code",
   "execution_count": 12,
   "id": "4c91e3a8",
   "metadata": {},
   "outputs": [
    {
     "data": {
      "text/plain": [
       "((5971, 18), (333, 13))"
      ]
     },
     "execution_count": 12,
     "metadata": {},
     "output_type": "execute_result"
    }
   ],
   "source": [
    "ast_det.shape, ast_tot.shape"
   ]
  },
  {
   "cell_type": "markdown",
   "id": "b6b0861e",
   "metadata": {},
   "source": [
    "## prepocessing : asset data "
   ]
  },
  {
   "cell_type": "markdown",
   "id": "c3350230",
   "metadata": {},
   "source": [
    "### missing value, data type convert"
   ]
  },
  {
   "cell_type": "code",
   "execution_count": 17,
   "id": "7f1b5af9",
   "metadata": {},
   "outputs": [
    {
     "name": "stdout",
     "output_type": "stream",
     "text": [
      "<class 'pandas.core.frame.DataFrame'>\n",
      "RangeIndex: 5971 entries, 0 to 5970\n",
      "Data columns (total 18 columns):\n",
      " #   Column           Non-Null Count  Dtype  \n",
      "---  ------           --------------  -----  \n",
      " 0   연월               5971 non-null   int64  \n",
      " 1   no               5971 non-null   int64  \n",
      " 2   monaCode         5317 non-null   object \n",
      " 3   소속구분             5971 non-null   object \n",
      " 4   소속               5971 non-null   object \n",
      " 5   직위               5971 non-null   object \n",
      " 6   이름               5971 non-null   object \n",
      " 7   재산구분             5971 non-null   object \n",
      " 8   본인과의관계           5971 non-null   object \n",
      " 9   재산의 종류           3928 non-null   object \n",
      " 10  소재지 면적 등 권리의 명세  5971 non-null   object \n",
      " 11  종전가액             5971 non-null   object \n",
      " 12  증가액              5971 non-null   object \n",
      " 13  증가액실거래가격         81 non-null     float64\n",
      " 14  감소액              5971 non-null   object \n",
      " 15  감소액실거래가격         84 non-null     float64\n",
      " 16  현재가액             5971 non-null   object \n",
      " 17  변동사유             5729 non-null   object \n",
      "dtypes: float64(2), int64(2), object(14)\n",
      "memory usage: 839.8+ KB\n"
     ]
    }
   ],
   "source": [
    "ast_det.info()"
   ]
  },
  {
   "cell_type": "code",
   "execution_count": null,
   "id": "4e4bc14f",
   "metadata": {},
   "outputs": [],
   "source": [
    "# RangeIndex: 5971 entries, 0 to 5970\n",
    "# Data columns (total 18 columns):\n",
    "# --------------------------------------------\n",
    "# \n",
    "# 2   monaCode            5317 non-null   object  결측\n",
    "# 9   재산의 종류          3928 non-null   object  결측\n",
    "# 11  종전가액             5971 non-null   object  타입변경\n",
    "# 12  증가액               5971 non-null   object  탑입변경\n",
    "# 13  증가액실거래가격        81 non-null   float64 결측\n",
    "# 14  감소액               5971 non-null   object  타입변경\n",
    "# 15  감소액실거래가격        84 non-null   float64 결측\n",
    "# 16  현재가액             5971 non-null   object  타입변경\n",
    "#"
   ]
  },
  {
   "cell_type": "code",
   "execution_count": 25,
   "id": "88f88e18",
   "metadata": {},
   "outputs": [
    {
     "data": {
      "text/plain": [
       "Index(['연월', 'no', 'monaCode', '소속구분', '소속', '직위', '이름', '재산구분', '본인과의관계',\n",
       "       '재산의 종류', '소재지 면적 등 권리의 명세', '종전가액', '증가액', '증가액실거래가격', '감소액',\n",
       "       '감소액실거래가격', '현재가액', '변동사유'],\n",
       "      dtype='object')"
      ]
     },
     "execution_count": 25,
     "metadata": {},
     "output_type": "execute_result"
    }
   ],
   "source": [
    "ast_det.columns"
   ]
  },
  {
   "cell_type": "code",
   "execution_count": 33,
   "id": "347b4074",
   "metadata": {},
   "outputs": [],
   "source": [
    "ast_det['종전가액'] = pd.to_numeric(ast_det['종전가액'], errors='coerce')\n",
    "ast_det['증가액'] = pd.to_numeric(ast_det['증가액'], errors='coerce')\n",
    "ast_det['증가액실거래가격'] = pd.to_numeric(ast_det['증가액실거래가격'], errors='coerce')\n",
    "ast_det['감소액'] = pd.to_numeric(ast_det['감소액'], errors='coerce')\n",
    "ast_det['감소액실거래가격'] = pd.to_numeric(ast_det['감소액실거래가격'], errors='coerce')\n",
    "ast_det['현재가액'] = pd.to_numeric(ast_det['현재가액'], errors='coerce')"
   ]
  },
  {
   "cell_type": "code",
   "execution_count": 34,
   "id": "b2c3395c",
   "metadata": {},
   "outputs": [
    {
     "name": "stdout",
     "output_type": "stream",
     "text": [
      "<class 'pandas.core.frame.DataFrame'>\n",
      "RangeIndex: 5971 entries, 0 to 5970\n",
      "Data columns (total 6 columns):\n",
      " #   Column    Non-Null Count  Dtype  \n",
      "---  ------    --------------  -----  \n",
      " 0   종전가액      5939 non-null   float64\n",
      " 1   증가액       5939 non-null   float64\n",
      " 2   증가액실거래가격  81 non-null     float64\n",
      " 3   감소액       5939 non-null   float64\n",
      " 4   감소액실거래가격  84 non-null     float64\n",
      " 5   현재가액      5939 non-null   float64\n",
      "dtypes: float64(6)\n",
      "memory usage: 280.0 KB\n"
     ]
    }
   ],
   "source": [
    "ast_det[['종전가액','증가액','증가액실거래가격','감소액','감소액실거래가격','현재가액']].info()"
   ]
  },
  {
   "cell_type": "code",
   "execution_count": 40,
   "id": "dad32c66",
   "metadata": {},
   "outputs": [
    {
     "data": {
      "text/plain": [
       "종전가액          32\n",
       "증가액           32\n",
       "증가액실거래가격    5890\n",
       "감소액           32\n",
       "감소액실거래가격    5887\n",
       "현재가액          32\n",
       "dtype: int64"
      ]
     },
     "execution_count": 40,
     "metadata": {},
     "output_type": "execute_result"
    }
   ],
   "source": [
    "ast_det[['종전가액','증가액','증가액실거래가격','감소액','감소액실거래가격','현재가액']].isna().sum()"
   ]
  },
  {
   "cell_type": "code",
   "execution_count": 41,
   "id": "bb7bb81c",
   "metadata": {},
   "outputs": [
    {
     "name": "stdout",
     "output_type": "stream",
     "text": [
      "<class 'pandas.core.frame.DataFrame'>\n",
      "RangeIndex: 5971 entries, 0 to 5970\n",
      "Data columns (total 18 columns):\n",
      " #   Column           Non-Null Count  Dtype  \n",
      "---  ------           --------------  -----  \n",
      " 0   연월               5971 non-null   int64  \n",
      " 1   no               5971 non-null   int64  \n",
      " 2   monaCode         5317 non-null   object \n",
      " 3   소속구분             5971 non-null   object \n",
      " 4   소속               5971 non-null   object \n",
      " 5   직위               5971 non-null   object \n",
      " 6   이름               5971 non-null   object \n",
      " 7   재산구분             5971 non-null   object \n",
      " 8   본인과의관계           5971 non-null   object \n",
      " 9   재산의 종류           3928 non-null   object \n",
      " 10  소재지 면적 등 권리의 명세  5971 non-null   object \n",
      " 11  종전가액             5939 non-null   float64\n",
      " 12  증가액              5939 non-null   float64\n",
      " 13  증가액실거래가격         81 non-null     float64\n",
      " 14  감소액              5939 non-null   float64\n",
      " 15  감소액실거래가격         84 non-null     float64\n",
      " 16  현재가액             5939 non-null   float64\n",
      " 17  변동사유             5729 non-null   object \n",
      "dtypes: float64(6), int64(2), object(10)\n",
      "memory usage: 839.8+ KB\n"
     ]
    }
   ],
   "source": [
    "ast_det.info()"
   ]
  },
  {
   "cell_type": "markdown",
   "id": "b8840c88",
   "metadata": {},
   "source": [
    "## Feature Type"
   ]
  },
  {
   "cell_type": "code",
   "execution_count": null,
   "id": "8dd06000",
   "metadata": {},
   "outputs": [],
   "source": [
    "#  0   연월                 5971 non-null   int64  \n",
    "#  1   no                   5971 non-null   int64  \n",
    "#  2   monaCode             5317 non-null   object \n",
    "#  ------------------------------------------------------------------\n",
    "#  3   소속구분             5971 non-null   object         [ Who ... ]\n",
    "#  4   소속                 5971 non-null   object \n",
    "#  5   직위                 5971 non-null   object \n",
    "#  ------------------------------------------------\n",
    "#  6   이름                5971 non-null   object \n",
    "#  8   본인과의관계         5971 non-null   object\n",
    "#  ------------------------------------------------------------------\n",
    "#  7   재산구분             5971 non-null   object         [ Where ... ]\n",
    "#  9   재산의 종류          3928 non-null   object \n",
    "#  ------------------------------------------------\n",
    "#  10  소재지 면적 등 권리의 명세  5971 non-null   object   \n",
    "#  ------------------------------------------------------------------\n",
    "#  11  종전가액             5939 non-null   float64\n",
    "#  12  증가액               5939 non-null   float64\n",
    "#  13  증가액실거래가격        81 non-null   float64\n",
    "#  14  감소액               5939 non-null   float64\n",
    "#  15  감소액실거래가격        84 non-null   float64\n",
    "#  16  현재가액             5939 non-null   float64        [ How much ...]\n",
    "#  ------------------------------------------------------------------\n",
    "#  17  변동사유             5729 non-null   object \n",
    "#  ------------------------------------------------------------------"
   ]
  },
  {
   "cell_type": "code",
   "execution_count": 53,
   "id": "efdb19bc",
   "metadata": {},
   "outputs": [],
   "source": [
    "# print(len(ast_det['monaCode'].unique()), ast_det['monaCode'].unique())\n",
    "# 298"
   ]
  },
  {
   "cell_type": "code",
   "execution_count": 48,
   "id": "bbdf61a0",
   "metadata": {},
   "outputs": [
    {
     "name": "stdout",
     "output_type": "stream",
     "text": [
      "5 ['1.국회의원' '2.국회사무처' '4.국회예산정책처' '5.국회입법조사처' '3.국회도서관']\n"
     ]
    }
   ],
   "source": [
    "print(len(ast_det['소속구분'].unique()), ast_det['소속구분'].unique())"
   ]
  },
  {
   "cell_type": "code",
   "execution_count": 49,
   "id": "1a52d3c9",
   "metadata": {},
   "outputs": [
    {
     "name": "stdout",
     "output_type": "stream",
     "text": [
      "1 ['국회']\n"
     ]
    }
   ],
   "source": [
    "print(len(ast_det['소속'].unique()), ast_det['소속'].unique())"
   ]
  },
  {
   "cell_type": "code",
   "execution_count": 54,
   "id": "78b3245a",
   "metadata": {},
   "outputs": [
    {
     "name": "stdout",
     "output_type": "stream",
     "text": [
      "15 ['국회의원' '의장비서실장' '국회부의장' '수석전문위원' '국회의장' '수석비서관' '입법차장' '국회사무총장'\n",
      " '국회예산정책처장' '정책연구위원' '정치행정조사실장' '법제실장' '사무차장' '국회도서관장' '의회정보실장']\n"
     ]
    }
   ],
   "source": [
    "print(len(ast_det['직위'].unique()), ast_det['직위'].unique())"
   ]
  },
  {
   "cell_type": "code",
   "execution_count": 56,
   "id": "f11eb73f",
   "metadata": {},
   "outputs": [],
   "source": [
    "# print(len(ast_det['이름'].unique()), ast_det['이름'].unique())\n",
    "# 331"
   ]
  },
  {
   "cell_type": "code",
   "execution_count": 57,
   "id": "5ed4e751",
   "metadata": {},
   "outputs": [
    {
     "name": "stdout",
     "output_type": "stream",
     "text": [
      "17 ['비영리법인에 출연한 재산' '지식재산권' '증권' '건물' '채무' '채권' '예금' '토지' '현금' '회원권'\n",
      " '정치자금법에 따른 정치자금의 수입 및 지출을 위한 예금계좌의 예금'\n",
      " '부동산에 관한 규정이 준용되는 권리와 자동차·건설기계·선박 및 항공기' '합명·합자·유한회사 출자지분' '골동품 및 예술품'\n",
      " '금 및 백금' '보석류' '고지거부 및 등록제외사항']\n"
     ]
    }
   ],
   "source": [
    "print(len(ast_det['재산구분'].unique()), ast_det['재산구분'].unique())"
   ]
  },
  {
   "cell_type": "code",
   "execution_count": 58,
   "id": "ab5807a9",
   "metadata": {},
   "outputs": [
    {
     "name": "stdout",
     "output_type": "stream",
     "text": [
      "15 ['본인' '차녀' '배우자' '장녀' '장남' '모' '부' '차남' '삼남' '삼녀' '손녀1' '손녀2' '손자2' '손자1'\n",
      " '손녀3']\n"
     ]
    }
   ],
   "source": [
    "print(len(ast_det['본인과의관계'].unique()), ast_det['본인과의관계'].unique())"
   ]
  },
  {
   "cell_type": "code",
   "execution_count": 59,
   "id": "98837d9c",
   "metadata": {},
   "outputs": [
    {
     "name": "stdout",
     "output_type": "stream",
     "text": [
      "68 ['출연' '저작재산권' '기타' '주식매수선택권' '상장주식' '비상장주식' '빌딩' '금융채무' nan '아파트(전세(임차)권)'\n",
      " '공장' '근린생활시설' '아파트' '상가' '대지' '복합건물(주택+상가)' '교육연구 및복지시설' '기타(채권)'\n",
      " '아파트(분양권)' '복합건물(주택+상가)(전세(임차)권)' '임야' '건물임대채무' '단독주택' '오피스텔' '잡종지' '금융채'\n",
      " '다가구주택' '다세대주택(전세(임차)권)' '답' '자동차관련시설' '사무실' '전' '연립주택' '주차장'\n",
      " '연립주택(전세(임차)권)' '단독주택(전세(임차)권)' '다세대주택' '헬스' '창고' '목장용지' '과수원' '유지'\n",
      " '공장용지' '오피스텔(전세(임차)권)' '상가(전세(임차)권)' '하천' '회사채' '출자' '오피스텔(분양권)'\n",
      " '다가구주택(전세(임차)권)' '숙박시설' '숙박시설(분양권)' '국채' '사무실(전세(임차)권)' '근린생활시설(전세(임차)권)'\n",
      " '자동차' '묘지' '도로' '콘도미니엄' '공채' '숙박시설(전세(임차)권)' '의료시설(전세(임차)권)'\n",
      " '기타(전세(임차)권)' '토지임대채무' '빌딩(전세(임차)권)' '골프' '구거' '종교용지']\n"
     ]
    }
   ],
   "source": [
    "print(len(ast_det['재산의 종류'].unique()), ast_det['재산의 종류'].unique())"
   ]
  },
  {
   "cell_type": "code",
   "execution_count": 60,
   "id": "a3d0807e",
   "metadata": {},
   "outputs": [
    {
     "name": "stdout",
     "output_type": "stream",
     "text": [
      "5236 ['협동조합 하우스, 출연재산: 3,000천원, 보유직위: 조합원' '9791187822523'\n",
      " '9791187822370 (소득금액: 86천원)' ...\n",
      " '서울특별시 마포구 합정동 건우빌라 건물 0.00㎡ 중 0.00㎡ (건물 총면적 250.00㎡ 감소, 지분면적 25.00㎡ 감소)'\n",
      " '2006년식 미니 쿠퍼 배기량(1,600cc) 감소' '우리은행 0(150,000 감소)']\n"
     ]
    }
   ],
   "source": [
    "print(len(ast_det['소재지 면적 등 권리의 명세'].unique()), ast_det['소재지 면적 등 권리의 명세'].unique())"
   ]
  },
  {
   "cell_type": "code",
   "execution_count": 61,
   "id": "9b4af5a5",
   "metadata": {},
   "outputs": [
    {
     "name": "stdout",
     "output_type": "stream",
     "text": [
      "1159 ['변동 없음' nan '판매감소' ... '전세 해지' '주식매도' '전세금 상환']\n"
     ]
    }
   ],
   "source": [
    "print(len(ast_det['변동사유'].unique()), ast_det['변동사유'].unique())"
   ]
  },
  {
   "cell_type": "code",
   "execution_count": 98,
   "id": "8558fa56",
   "metadata": {},
   "outputs": [
    {
     "data": {
      "text/plain": [
       "(1374283442.0, 124062000.0, 0.0, 231399.80501767976)"
      ]
     },
     "execution_count": 98,
     "metadata": {},
     "output_type": "execute_result"
    }
   ],
   "source": [
    "ast_det['현재가액'].sum(), ast_det['현재가액'].max(), ast_det['현재가액'].min(), ast_det['현재가액'].mean()"
   ]
  },
  {
   "cell_type": "markdown",
   "id": "14c59e6d",
   "metadata": {},
   "source": [
    "### 소속구분"
   ]
  },
  {
   "cell_type": "code",
   "execution_count": 65,
   "id": "82605959",
   "metadata": {},
   "outputs": [
    {
     "name": "stdout",
     "output_type": "stream",
     "text": [
      "5 ['1.국회의원' '2.국회사무처' '4.국회예산정책처' '5.국회입법조사처' '3.국회도서관']\n"
     ]
    }
   ],
   "source": [
    "print(len(ast_det['소속구분'].unique()), ast_det['소속구분'].unique())"
   ]
  },
  {
   "cell_type": "code",
   "execution_count": 83,
   "id": "8b55781e",
   "metadata": {},
   "outputs": [],
   "source": [
    "t_df = ast_det.groupby('소속구분')['현재가액'].agg('sum').reset_index()"
   ]
  },
  {
   "cell_type": "code",
   "execution_count": 84,
   "id": "0507cce0",
   "metadata": {},
   "outputs": [
    {
     "data": {
      "text/html": [
       "<div>\n",
       "<style scoped>\n",
       "    .dataframe tbody tr th:only-of-type {\n",
       "        vertical-align: middle;\n",
       "    }\n",
       "\n",
       "    .dataframe tbody tr th {\n",
       "        vertical-align: top;\n",
       "    }\n",
       "\n",
       "    .dataframe thead th {\n",
       "        text-align: right;\n",
       "    }\n",
       "</style>\n",
       "<table border=\"1\" class=\"dataframe\">\n",
       "  <thead>\n",
       "    <tr style=\"text-align: right;\">\n",
       "      <th></th>\n",
       "      <th>소속구분</th>\n",
       "      <th>현재가액</th>\n",
       "    </tr>\n",
       "  </thead>\n",
       "  <tbody>\n",
       "    <tr>\n",
       "      <th>0</th>\n",
       "      <td>1.국회의원</td>\n",
       "      <td>1.261784e+09</td>\n",
       "    </tr>\n",
       "    <tr>\n",
       "      <th>1</th>\n",
       "      <td>2.국회사무처</td>\n",
       "      <td>1.004886e+08</td>\n",
       "    </tr>\n",
       "    <tr>\n",
       "      <th>2</th>\n",
       "      <td>3.국회도서관</td>\n",
       "      <td>5.446297e+06</td>\n",
       "    </tr>\n",
       "    <tr>\n",
       "      <th>3</th>\n",
       "      <td>4.국회예산정책처</td>\n",
       "      <td>3.811051e+06</td>\n",
       "    </tr>\n",
       "    <tr>\n",
       "      <th>4</th>\n",
       "      <td>5.국회입법조사처</td>\n",
       "      <td>2.753855e+06</td>\n",
       "    </tr>\n",
       "  </tbody>\n",
       "</table>\n",
       "</div>"
      ],
      "text/plain": [
       "        소속구분          현재가액\n",
       "0     1.국회의원  1.261784e+09\n",
       "1    2.국회사무처  1.004886e+08\n",
       "2    3.국회도서관  5.446297e+06\n",
       "3  4.국회예산정책처  3.811051e+06\n",
       "4  5.국회입법조사처  2.753855e+06"
      ]
     },
     "execution_count": 84,
     "metadata": {},
     "output_type": "execute_result"
    }
   ],
   "source": [
    "t_df"
   ]
  },
  {
   "cell_type": "code",
   "execution_count": 88,
   "id": "dc7ba910",
   "metadata": {},
   "outputs": [
    {
     "data": {
      "text/html": [
       "<div>\n",
       "<style scoped>\n",
       "    .dataframe tbody tr th:only-of-type {\n",
       "        vertical-align: middle;\n",
       "    }\n",
       "\n",
       "    .dataframe tbody tr th {\n",
       "        vertical-align: top;\n",
       "    }\n",
       "\n",
       "    .dataframe thead th {\n",
       "        text-align: right;\n",
       "    }\n",
       "</style>\n",
       "<table border=\"1\" class=\"dataframe\">\n",
       "  <thead>\n",
       "    <tr style=\"text-align: right;\">\n",
       "      <th></th>\n",
       "      <th>소속구분</th>\n",
       "      <th>현재가액</th>\n",
       "    </tr>\n",
       "  </thead>\n",
       "  <tbody>\n",
       "    <tr>\n",
       "      <th>0</th>\n",
       "      <td>1.국회의원</td>\n",
       "      <td>1.261784e+09</td>\n",
       "    </tr>\n",
       "    <tr>\n",
       "      <th>1</th>\n",
       "      <td>2.국회사무처</td>\n",
       "      <td>1.004886e+08</td>\n",
       "    </tr>\n",
       "    <tr>\n",
       "      <th>2</th>\n",
       "      <td>3.국회도서관</td>\n",
       "      <td>5.446297e+06</td>\n",
       "    </tr>\n",
       "    <tr>\n",
       "      <th>3</th>\n",
       "      <td>4.국회예산정책처</td>\n",
       "      <td>3.811051e+06</td>\n",
       "    </tr>\n",
       "    <tr>\n",
       "      <th>4</th>\n",
       "      <td>5.국회입법조사처</td>\n",
       "      <td>2.753855e+06</td>\n",
       "    </tr>\n",
       "  </tbody>\n",
       "</table>\n",
       "</div>"
      ],
      "text/plain": [
       "        소속구분          현재가액\n",
       "0     1.국회의원  1.261784e+09\n",
       "1    2.국회사무처  1.004886e+08\n",
       "2    3.국회도서관  5.446297e+06\n",
       "3  4.국회예산정책처  3.811051e+06\n",
       "4  5.국회입법조사처  2.753855e+06"
      ]
     },
     "execution_count": 88,
     "metadata": {},
     "output_type": "execute_result"
    }
   ],
   "source": [
    "t_df"
   ]
  },
  {
   "cell_type": "code",
   "execution_count": null,
   "id": "c1cc3e17",
   "metadata": {},
   "outputs": [],
   "source": []
  },
  {
   "cell_type": "code",
   "execution_count": 97,
   "id": "893b8460",
   "metadata": {
    "scrolled": true
   },
   "outputs": [
    {
     "data": {
      "application/vnd.plotly.v1+json": {
       "config": {
        "plotlyServerURL": "https://plot.ly"
       },
       "data": [
        {
         "alignmentgroup": "True",
         "hovertemplate": "현재가액=%{x}<br>소속구분=%{y}<extra></extra>",
         "legendgroup": "",
         "marker": {
          "color": "#636efa",
          "pattern": {
           "shape": ""
          }
         },
         "name": "",
         "offsetgroup": "",
         "orientation": "h",
         "showlegend": false,
         "textposition": "auto",
         "type": "bar",
         "x": [
          2753855,
          3811051,
          5446297,
          100488646,
          1261783593
         ],
         "xaxis": "x",
         "y": [
          "5.국회입법조사처",
          "4.국회예산정책처",
          "3.국회도서관",
          "2.국회사무처",
          "1.국회의원"
         ],
         "yaxis": "y"
        }
       ],
       "layout": {
        "barmode": "relative",
        "height": 300,
        "legend": {
         "tracegroupgap": 0
        },
        "margin": {
         "t": 60
        },
        "template": {
         "data": {
          "bar": [
           {
            "error_x": {
             "color": "#2a3f5f"
            },
            "error_y": {
             "color": "#2a3f5f"
            },
            "marker": {
             "line": {
              "color": "#E5ECF6",
              "width": 0.5
             },
             "pattern": {
              "fillmode": "overlay",
              "size": 10,
              "solidity": 0.2
             }
            },
            "type": "bar"
           }
          ],
          "barpolar": [
           {
            "marker": {
             "line": {
              "color": "#E5ECF6",
              "width": 0.5
             },
             "pattern": {
              "fillmode": "overlay",
              "size": 10,
              "solidity": 0.2
             }
            },
            "type": "barpolar"
           }
          ],
          "carpet": [
           {
            "aaxis": {
             "endlinecolor": "#2a3f5f",
             "gridcolor": "white",
             "linecolor": "white",
             "minorgridcolor": "white",
             "startlinecolor": "#2a3f5f"
            },
            "baxis": {
             "endlinecolor": "#2a3f5f",
             "gridcolor": "white",
             "linecolor": "white",
             "minorgridcolor": "white",
             "startlinecolor": "#2a3f5f"
            },
            "type": "carpet"
           }
          ],
          "choropleth": [
           {
            "colorbar": {
             "outlinewidth": 0,
             "ticks": ""
            },
            "type": "choropleth"
           }
          ],
          "contour": [
           {
            "colorbar": {
             "outlinewidth": 0,
             "ticks": ""
            },
            "colorscale": [
             [
              0,
              "#0d0887"
             ],
             [
              0.1111111111111111,
              "#46039f"
             ],
             [
              0.2222222222222222,
              "#7201a8"
             ],
             [
              0.3333333333333333,
              "#9c179e"
             ],
             [
              0.4444444444444444,
              "#bd3786"
             ],
             [
              0.5555555555555556,
              "#d8576b"
             ],
             [
              0.6666666666666666,
              "#ed7953"
             ],
             [
              0.7777777777777778,
              "#fb9f3a"
             ],
             [
              0.8888888888888888,
              "#fdca26"
             ],
             [
              1,
              "#f0f921"
             ]
            ],
            "type": "contour"
           }
          ],
          "contourcarpet": [
           {
            "colorbar": {
             "outlinewidth": 0,
             "ticks": ""
            },
            "type": "contourcarpet"
           }
          ],
          "heatmap": [
           {
            "colorbar": {
             "outlinewidth": 0,
             "ticks": ""
            },
            "colorscale": [
             [
              0,
              "#0d0887"
             ],
             [
              0.1111111111111111,
              "#46039f"
             ],
             [
              0.2222222222222222,
              "#7201a8"
             ],
             [
              0.3333333333333333,
              "#9c179e"
             ],
             [
              0.4444444444444444,
              "#bd3786"
             ],
             [
              0.5555555555555556,
              "#d8576b"
             ],
             [
              0.6666666666666666,
              "#ed7953"
             ],
             [
              0.7777777777777778,
              "#fb9f3a"
             ],
             [
              0.8888888888888888,
              "#fdca26"
             ],
             [
              1,
              "#f0f921"
             ]
            ],
            "type": "heatmap"
           }
          ],
          "heatmapgl": [
           {
            "colorbar": {
             "outlinewidth": 0,
             "ticks": ""
            },
            "colorscale": [
             [
              0,
              "#0d0887"
             ],
             [
              0.1111111111111111,
              "#46039f"
             ],
             [
              0.2222222222222222,
              "#7201a8"
             ],
             [
              0.3333333333333333,
              "#9c179e"
             ],
             [
              0.4444444444444444,
              "#bd3786"
             ],
             [
              0.5555555555555556,
              "#d8576b"
             ],
             [
              0.6666666666666666,
              "#ed7953"
             ],
             [
              0.7777777777777778,
              "#fb9f3a"
             ],
             [
              0.8888888888888888,
              "#fdca26"
             ],
             [
              1,
              "#f0f921"
             ]
            ],
            "type": "heatmapgl"
           }
          ],
          "histogram": [
           {
            "marker": {
             "pattern": {
              "fillmode": "overlay",
              "size": 10,
              "solidity": 0.2
             }
            },
            "type": "histogram"
           }
          ],
          "histogram2d": [
           {
            "colorbar": {
             "outlinewidth": 0,
             "ticks": ""
            },
            "colorscale": [
             [
              0,
              "#0d0887"
             ],
             [
              0.1111111111111111,
              "#46039f"
             ],
             [
              0.2222222222222222,
              "#7201a8"
             ],
             [
              0.3333333333333333,
              "#9c179e"
             ],
             [
              0.4444444444444444,
              "#bd3786"
             ],
             [
              0.5555555555555556,
              "#d8576b"
             ],
             [
              0.6666666666666666,
              "#ed7953"
             ],
             [
              0.7777777777777778,
              "#fb9f3a"
             ],
             [
              0.8888888888888888,
              "#fdca26"
             ],
             [
              1,
              "#f0f921"
             ]
            ],
            "type": "histogram2d"
           }
          ],
          "histogram2dcontour": [
           {
            "colorbar": {
             "outlinewidth": 0,
             "ticks": ""
            },
            "colorscale": [
             [
              0,
              "#0d0887"
             ],
             [
              0.1111111111111111,
              "#46039f"
             ],
             [
              0.2222222222222222,
              "#7201a8"
             ],
             [
              0.3333333333333333,
              "#9c179e"
             ],
             [
              0.4444444444444444,
              "#bd3786"
             ],
             [
              0.5555555555555556,
              "#d8576b"
             ],
             [
              0.6666666666666666,
              "#ed7953"
             ],
             [
              0.7777777777777778,
              "#fb9f3a"
             ],
             [
              0.8888888888888888,
              "#fdca26"
             ],
             [
              1,
              "#f0f921"
             ]
            ],
            "type": "histogram2dcontour"
           }
          ],
          "mesh3d": [
           {
            "colorbar": {
             "outlinewidth": 0,
             "ticks": ""
            },
            "type": "mesh3d"
           }
          ],
          "parcoords": [
           {
            "line": {
             "colorbar": {
              "outlinewidth": 0,
              "ticks": ""
             }
            },
            "type": "parcoords"
           }
          ],
          "pie": [
           {
            "automargin": true,
            "type": "pie"
           }
          ],
          "scatter": [
           {
            "fillpattern": {
             "fillmode": "overlay",
             "size": 10,
             "solidity": 0.2
            },
            "type": "scatter"
           }
          ],
          "scatter3d": [
           {
            "line": {
             "colorbar": {
              "outlinewidth": 0,
              "ticks": ""
             }
            },
            "marker": {
             "colorbar": {
              "outlinewidth": 0,
              "ticks": ""
             }
            },
            "type": "scatter3d"
           }
          ],
          "scattercarpet": [
           {
            "marker": {
             "colorbar": {
              "outlinewidth": 0,
              "ticks": ""
             }
            },
            "type": "scattercarpet"
           }
          ],
          "scattergeo": [
           {
            "marker": {
             "colorbar": {
              "outlinewidth": 0,
              "ticks": ""
             }
            },
            "type": "scattergeo"
           }
          ],
          "scattergl": [
           {
            "marker": {
             "colorbar": {
              "outlinewidth": 0,
              "ticks": ""
             }
            },
            "type": "scattergl"
           }
          ],
          "scattermapbox": [
           {
            "marker": {
             "colorbar": {
              "outlinewidth": 0,
              "ticks": ""
             }
            },
            "type": "scattermapbox"
           }
          ],
          "scatterpolar": [
           {
            "marker": {
             "colorbar": {
              "outlinewidth": 0,
              "ticks": ""
             }
            },
            "type": "scatterpolar"
           }
          ],
          "scatterpolargl": [
           {
            "marker": {
             "colorbar": {
              "outlinewidth": 0,
              "ticks": ""
             }
            },
            "type": "scatterpolargl"
           }
          ],
          "scatterternary": [
           {
            "marker": {
             "colorbar": {
              "outlinewidth": 0,
              "ticks": ""
             }
            },
            "type": "scatterternary"
           }
          ],
          "surface": [
           {
            "colorbar": {
             "outlinewidth": 0,
             "ticks": ""
            },
            "colorscale": [
             [
              0,
              "#0d0887"
             ],
             [
              0.1111111111111111,
              "#46039f"
             ],
             [
              0.2222222222222222,
              "#7201a8"
             ],
             [
              0.3333333333333333,
              "#9c179e"
             ],
             [
              0.4444444444444444,
              "#bd3786"
             ],
             [
              0.5555555555555556,
              "#d8576b"
             ],
             [
              0.6666666666666666,
              "#ed7953"
             ],
             [
              0.7777777777777778,
              "#fb9f3a"
             ],
             [
              0.8888888888888888,
              "#fdca26"
             ],
             [
              1,
              "#f0f921"
             ]
            ],
            "type": "surface"
           }
          ],
          "table": [
           {
            "cells": {
             "fill": {
              "color": "#EBF0F8"
             },
             "line": {
              "color": "white"
             }
            },
            "header": {
             "fill": {
              "color": "#C8D4E3"
             },
             "line": {
              "color": "white"
             }
            },
            "type": "table"
           }
          ]
         },
         "layout": {
          "annotationdefaults": {
           "arrowcolor": "#2a3f5f",
           "arrowhead": 0,
           "arrowwidth": 1
          },
          "autotypenumbers": "strict",
          "coloraxis": {
           "colorbar": {
            "outlinewidth": 0,
            "ticks": ""
           }
          },
          "colorscale": {
           "diverging": [
            [
             0,
             "#8e0152"
            ],
            [
             0.1,
             "#c51b7d"
            ],
            [
             0.2,
             "#de77ae"
            ],
            [
             0.3,
             "#f1b6da"
            ],
            [
             0.4,
             "#fde0ef"
            ],
            [
             0.5,
             "#f7f7f7"
            ],
            [
             0.6,
             "#e6f5d0"
            ],
            [
             0.7,
             "#b8e186"
            ],
            [
             0.8,
             "#7fbc41"
            ],
            [
             0.9,
             "#4d9221"
            ],
            [
             1,
             "#276419"
            ]
           ],
           "sequential": [
            [
             0,
             "#0d0887"
            ],
            [
             0.1111111111111111,
             "#46039f"
            ],
            [
             0.2222222222222222,
             "#7201a8"
            ],
            [
             0.3333333333333333,
             "#9c179e"
            ],
            [
             0.4444444444444444,
             "#bd3786"
            ],
            [
             0.5555555555555556,
             "#d8576b"
            ],
            [
             0.6666666666666666,
             "#ed7953"
            ],
            [
             0.7777777777777778,
             "#fb9f3a"
            ],
            [
             0.8888888888888888,
             "#fdca26"
            ],
            [
             1,
             "#f0f921"
            ]
           ],
           "sequentialminus": [
            [
             0,
             "#0d0887"
            ],
            [
             0.1111111111111111,
             "#46039f"
            ],
            [
             0.2222222222222222,
             "#7201a8"
            ],
            [
             0.3333333333333333,
             "#9c179e"
            ],
            [
             0.4444444444444444,
             "#bd3786"
            ],
            [
             0.5555555555555556,
             "#d8576b"
            ],
            [
             0.6666666666666666,
             "#ed7953"
            ],
            [
             0.7777777777777778,
             "#fb9f3a"
            ],
            [
             0.8888888888888888,
             "#fdca26"
            ],
            [
             1,
             "#f0f921"
            ]
           ]
          },
          "colorway": [
           "#636efa",
           "#EF553B",
           "#00cc96",
           "#ab63fa",
           "#FFA15A",
           "#19d3f3",
           "#FF6692",
           "#B6E880",
           "#FF97FF",
           "#FECB52"
          ],
          "font": {
           "color": "#2a3f5f"
          },
          "geo": {
           "bgcolor": "white",
           "lakecolor": "white",
           "landcolor": "#E5ECF6",
           "showlakes": true,
           "showland": true,
           "subunitcolor": "white"
          },
          "hoverlabel": {
           "align": "left"
          },
          "hovermode": "closest",
          "mapbox": {
           "style": "light"
          },
          "paper_bgcolor": "white",
          "plot_bgcolor": "#E5ECF6",
          "polar": {
           "angularaxis": {
            "gridcolor": "white",
            "linecolor": "white",
            "ticks": ""
           },
           "bgcolor": "#E5ECF6",
           "radialaxis": {
            "gridcolor": "white",
            "linecolor": "white",
            "ticks": ""
           }
          },
          "scene": {
           "xaxis": {
            "backgroundcolor": "#E5ECF6",
            "gridcolor": "white",
            "gridwidth": 2,
            "linecolor": "white",
            "showbackground": true,
            "ticks": "",
            "zerolinecolor": "white"
           },
           "yaxis": {
            "backgroundcolor": "#E5ECF6",
            "gridcolor": "white",
            "gridwidth": 2,
            "linecolor": "white",
            "showbackground": true,
            "ticks": "",
            "zerolinecolor": "white"
           },
           "zaxis": {
            "backgroundcolor": "#E5ECF6",
            "gridcolor": "white",
            "gridwidth": 2,
            "linecolor": "white",
            "showbackground": true,
            "ticks": "",
            "zerolinecolor": "white"
           }
          },
          "shapedefaults": {
           "line": {
            "color": "#2a3f5f"
           }
          },
          "ternary": {
           "aaxis": {
            "gridcolor": "white",
            "linecolor": "white",
            "ticks": ""
           },
           "baxis": {
            "gridcolor": "white",
            "linecolor": "white",
            "ticks": ""
           },
           "bgcolor": "#E5ECF6",
           "caxis": {
            "gridcolor": "white",
            "linecolor": "white",
            "ticks": ""
           }
          },
          "title": {
           "x": 0.05
          },
          "xaxis": {
           "automargin": true,
           "gridcolor": "white",
           "linecolor": "white",
           "ticks": "",
           "title": {
            "standoff": 15
           },
           "zerolinecolor": "white",
           "zerolinewidth": 2
          },
          "yaxis": {
           "automargin": true,
           "gridcolor": "white",
           "linecolor": "white",
           "ticks": "",
           "title": {
            "standoff": 15
           },
           "zerolinecolor": "white",
           "zerolinewidth": 2
          }
         }
        },
        "width": 1000,
        "xaxis": {
         "anchor": "y",
         "domain": [
          0,
          1
         ],
         "title": {
          "text": "현재가액"
         }
        },
        "yaxis": {
         "anchor": "x",
         "domain": [
          0,
          1
         ],
         "title": {
          "text": "소속구분"
         }
        }
       }
      },
      "text/html": [
       "<div>                            <div id=\"4ded3673-6fa0-49bd-a986-816954a9c4a4\" class=\"plotly-graph-div\" style=\"height:300px; width:1000px;\"></div>            <script type=\"text/javascript\">                require([\"plotly\"], function(Plotly) {                    window.PLOTLYENV=window.PLOTLYENV || {};                                    if (document.getElementById(\"4ded3673-6fa0-49bd-a986-816954a9c4a4\")) {                    Plotly.newPlot(                        \"4ded3673-6fa0-49bd-a986-816954a9c4a4\",                        [{\"alignmentgroup\":\"True\",\"hovertemplate\":\"\\ud604\\uc7ac\\uac00\\uc561=%{x}<br>\\uc18c\\uc18d\\uad6c\\ubd84=%{y}<extra></extra>\",\"legendgroup\":\"\",\"marker\":{\"color\":\"#636efa\",\"pattern\":{\"shape\":\"\"}},\"name\":\"\",\"offsetgroup\":\"\",\"orientation\":\"h\",\"showlegend\":false,\"textposition\":\"auto\",\"x\":[2753855.0,3811051.0,5446297.0,100488646.0,1261783593.0],\"xaxis\":\"x\",\"y\":[\"5.\\uad6d\\ud68c\\uc785\\ubc95\\uc870\\uc0ac\\ucc98\",\"4.\\uad6d\\ud68c\\uc608\\uc0b0\\uc815\\ucc45\\ucc98\",\"3.\\uad6d\\ud68c\\ub3c4\\uc11c\\uad00\",\"2.\\uad6d\\ud68c\\uc0ac\\ubb34\\ucc98\",\"1.\\uad6d\\ud68c\\uc758\\uc6d0\"],\"yaxis\":\"y\",\"type\":\"bar\"}],                        {\"template\":{\"data\":{\"histogram2dcontour\":[{\"type\":\"histogram2dcontour\",\"colorbar\":{\"outlinewidth\":0,\"ticks\":\"\"},\"colorscale\":[[0.0,\"#0d0887\"],[0.1111111111111111,\"#46039f\"],[0.2222222222222222,\"#7201a8\"],[0.3333333333333333,\"#9c179e\"],[0.4444444444444444,\"#bd3786\"],[0.5555555555555556,\"#d8576b\"],[0.6666666666666666,\"#ed7953\"],[0.7777777777777778,\"#fb9f3a\"],[0.8888888888888888,\"#fdca26\"],[1.0,\"#f0f921\"]]}],\"choropleth\":[{\"type\":\"choropleth\",\"colorbar\":{\"outlinewidth\":0,\"ticks\":\"\"}}],\"histogram2d\":[{\"type\":\"histogram2d\",\"colorbar\":{\"outlinewidth\":0,\"ticks\":\"\"},\"colorscale\":[[0.0,\"#0d0887\"],[0.1111111111111111,\"#46039f\"],[0.2222222222222222,\"#7201a8\"],[0.3333333333333333,\"#9c179e\"],[0.4444444444444444,\"#bd3786\"],[0.5555555555555556,\"#d8576b\"],[0.6666666666666666,\"#ed7953\"],[0.7777777777777778,\"#fb9f3a\"],[0.8888888888888888,\"#fdca26\"],[1.0,\"#f0f921\"]]}],\"heatmap\":[{\"type\":\"heatmap\",\"colorbar\":{\"outlinewidth\":0,\"ticks\":\"\"},\"colorscale\":[[0.0,\"#0d0887\"],[0.1111111111111111,\"#46039f\"],[0.2222222222222222,\"#7201a8\"],[0.3333333333333333,\"#9c179e\"],[0.4444444444444444,\"#bd3786\"],[0.5555555555555556,\"#d8576b\"],[0.6666666666666666,\"#ed7953\"],[0.7777777777777778,\"#fb9f3a\"],[0.8888888888888888,\"#fdca26\"],[1.0,\"#f0f921\"]]}],\"heatmapgl\":[{\"type\":\"heatmapgl\",\"colorbar\":{\"outlinewidth\":0,\"ticks\":\"\"},\"colorscale\":[[0.0,\"#0d0887\"],[0.1111111111111111,\"#46039f\"],[0.2222222222222222,\"#7201a8\"],[0.3333333333333333,\"#9c179e\"],[0.4444444444444444,\"#bd3786\"],[0.5555555555555556,\"#d8576b\"],[0.6666666666666666,\"#ed7953\"],[0.7777777777777778,\"#fb9f3a\"],[0.8888888888888888,\"#fdca26\"],[1.0,\"#f0f921\"]]}],\"contourcarpet\":[{\"type\":\"contourcarpet\",\"colorbar\":{\"outlinewidth\":0,\"ticks\":\"\"}}],\"contour\":[{\"type\":\"contour\",\"colorbar\":{\"outlinewidth\":0,\"ticks\":\"\"},\"colorscale\":[[0.0,\"#0d0887\"],[0.1111111111111111,\"#46039f\"],[0.2222222222222222,\"#7201a8\"],[0.3333333333333333,\"#9c179e\"],[0.4444444444444444,\"#bd3786\"],[0.5555555555555556,\"#d8576b\"],[0.6666666666666666,\"#ed7953\"],[0.7777777777777778,\"#fb9f3a\"],[0.8888888888888888,\"#fdca26\"],[1.0,\"#f0f921\"]]}],\"surface\":[{\"type\":\"surface\",\"colorbar\":{\"outlinewidth\":0,\"ticks\":\"\"},\"colorscale\":[[0.0,\"#0d0887\"],[0.1111111111111111,\"#46039f\"],[0.2222222222222222,\"#7201a8\"],[0.3333333333333333,\"#9c179e\"],[0.4444444444444444,\"#bd3786\"],[0.5555555555555556,\"#d8576b\"],[0.6666666666666666,\"#ed7953\"],[0.7777777777777778,\"#fb9f3a\"],[0.8888888888888888,\"#fdca26\"],[1.0,\"#f0f921\"]]}],\"mesh3d\":[{\"type\":\"mesh3d\",\"colorbar\":{\"outlinewidth\":0,\"ticks\":\"\"}}],\"scatter\":[{\"fillpattern\":{\"fillmode\":\"overlay\",\"size\":10,\"solidity\":0.2},\"type\":\"scatter\"}],\"parcoords\":[{\"type\":\"parcoords\",\"line\":{\"colorbar\":{\"outlinewidth\":0,\"ticks\":\"\"}}}],\"scatterpolargl\":[{\"type\":\"scatterpolargl\",\"marker\":{\"colorbar\":{\"outlinewidth\":0,\"ticks\":\"\"}}}],\"bar\":[{\"error_x\":{\"color\":\"#2a3f5f\"},\"error_y\":{\"color\":\"#2a3f5f\"},\"marker\":{\"line\":{\"color\":\"#E5ECF6\",\"width\":0.5},\"pattern\":{\"fillmode\":\"overlay\",\"size\":10,\"solidity\":0.2}},\"type\":\"bar\"}],\"scattergeo\":[{\"type\":\"scattergeo\",\"marker\":{\"colorbar\":{\"outlinewidth\":0,\"ticks\":\"\"}}}],\"scatterpolar\":[{\"type\":\"scatterpolar\",\"marker\":{\"colorbar\":{\"outlinewidth\":0,\"ticks\":\"\"}}}],\"histogram\":[{\"marker\":{\"pattern\":{\"fillmode\":\"overlay\",\"size\":10,\"solidity\":0.2}},\"type\":\"histogram\"}],\"scattergl\":[{\"type\":\"scattergl\",\"marker\":{\"colorbar\":{\"outlinewidth\":0,\"ticks\":\"\"}}}],\"scatter3d\":[{\"type\":\"scatter3d\",\"line\":{\"colorbar\":{\"outlinewidth\":0,\"ticks\":\"\"}},\"marker\":{\"colorbar\":{\"outlinewidth\":0,\"ticks\":\"\"}}}],\"scattermapbox\":[{\"type\":\"scattermapbox\",\"marker\":{\"colorbar\":{\"outlinewidth\":0,\"ticks\":\"\"}}}],\"scatterternary\":[{\"type\":\"scatterternary\",\"marker\":{\"colorbar\":{\"outlinewidth\":0,\"ticks\":\"\"}}}],\"scattercarpet\":[{\"type\":\"scattercarpet\",\"marker\":{\"colorbar\":{\"outlinewidth\":0,\"ticks\":\"\"}}}],\"carpet\":[{\"aaxis\":{\"endlinecolor\":\"#2a3f5f\",\"gridcolor\":\"white\",\"linecolor\":\"white\",\"minorgridcolor\":\"white\",\"startlinecolor\":\"#2a3f5f\"},\"baxis\":{\"endlinecolor\":\"#2a3f5f\",\"gridcolor\":\"white\",\"linecolor\":\"white\",\"minorgridcolor\":\"white\",\"startlinecolor\":\"#2a3f5f\"},\"type\":\"carpet\"}],\"table\":[{\"cells\":{\"fill\":{\"color\":\"#EBF0F8\"},\"line\":{\"color\":\"white\"}},\"header\":{\"fill\":{\"color\":\"#C8D4E3\"},\"line\":{\"color\":\"white\"}},\"type\":\"table\"}],\"barpolar\":[{\"marker\":{\"line\":{\"color\":\"#E5ECF6\",\"width\":0.5},\"pattern\":{\"fillmode\":\"overlay\",\"size\":10,\"solidity\":0.2}},\"type\":\"barpolar\"}],\"pie\":[{\"automargin\":true,\"type\":\"pie\"}]},\"layout\":{\"autotypenumbers\":\"strict\",\"colorway\":[\"#636efa\",\"#EF553B\",\"#00cc96\",\"#ab63fa\",\"#FFA15A\",\"#19d3f3\",\"#FF6692\",\"#B6E880\",\"#FF97FF\",\"#FECB52\"],\"font\":{\"color\":\"#2a3f5f\"},\"hovermode\":\"closest\",\"hoverlabel\":{\"align\":\"left\"},\"paper_bgcolor\":\"white\",\"plot_bgcolor\":\"#E5ECF6\",\"polar\":{\"bgcolor\":\"#E5ECF6\",\"angularaxis\":{\"gridcolor\":\"white\",\"linecolor\":\"white\",\"ticks\":\"\"},\"radialaxis\":{\"gridcolor\":\"white\",\"linecolor\":\"white\",\"ticks\":\"\"}},\"ternary\":{\"bgcolor\":\"#E5ECF6\",\"aaxis\":{\"gridcolor\":\"white\",\"linecolor\":\"white\",\"ticks\":\"\"},\"baxis\":{\"gridcolor\":\"white\",\"linecolor\":\"white\",\"ticks\":\"\"},\"caxis\":{\"gridcolor\":\"white\",\"linecolor\":\"white\",\"ticks\":\"\"}},\"coloraxis\":{\"colorbar\":{\"outlinewidth\":0,\"ticks\":\"\"}},\"colorscale\":{\"sequential\":[[0.0,\"#0d0887\"],[0.1111111111111111,\"#46039f\"],[0.2222222222222222,\"#7201a8\"],[0.3333333333333333,\"#9c179e\"],[0.4444444444444444,\"#bd3786\"],[0.5555555555555556,\"#d8576b\"],[0.6666666666666666,\"#ed7953\"],[0.7777777777777778,\"#fb9f3a\"],[0.8888888888888888,\"#fdca26\"],[1.0,\"#f0f921\"]],\"sequentialminus\":[[0.0,\"#0d0887\"],[0.1111111111111111,\"#46039f\"],[0.2222222222222222,\"#7201a8\"],[0.3333333333333333,\"#9c179e\"],[0.4444444444444444,\"#bd3786\"],[0.5555555555555556,\"#d8576b\"],[0.6666666666666666,\"#ed7953\"],[0.7777777777777778,\"#fb9f3a\"],[0.8888888888888888,\"#fdca26\"],[1.0,\"#f0f921\"]],\"diverging\":[[0,\"#8e0152\"],[0.1,\"#c51b7d\"],[0.2,\"#de77ae\"],[0.3,\"#f1b6da\"],[0.4,\"#fde0ef\"],[0.5,\"#f7f7f7\"],[0.6,\"#e6f5d0\"],[0.7,\"#b8e186\"],[0.8,\"#7fbc41\"],[0.9,\"#4d9221\"],[1,\"#276419\"]]},\"xaxis\":{\"gridcolor\":\"white\",\"linecolor\":\"white\",\"ticks\":\"\",\"title\":{\"standoff\":15},\"zerolinecolor\":\"white\",\"automargin\":true,\"zerolinewidth\":2},\"yaxis\":{\"gridcolor\":\"white\",\"linecolor\":\"white\",\"ticks\":\"\",\"title\":{\"standoff\":15},\"zerolinecolor\":\"white\",\"automargin\":true,\"zerolinewidth\":2},\"scene\":{\"xaxis\":{\"backgroundcolor\":\"#E5ECF6\",\"gridcolor\":\"white\",\"linecolor\":\"white\",\"showbackground\":true,\"ticks\":\"\",\"zerolinecolor\":\"white\",\"gridwidth\":2},\"yaxis\":{\"backgroundcolor\":\"#E5ECF6\",\"gridcolor\":\"white\",\"linecolor\":\"white\",\"showbackground\":true,\"ticks\":\"\",\"zerolinecolor\":\"white\",\"gridwidth\":2},\"zaxis\":{\"backgroundcolor\":\"#E5ECF6\",\"gridcolor\":\"white\",\"linecolor\":\"white\",\"showbackground\":true,\"ticks\":\"\",\"zerolinecolor\":\"white\",\"gridwidth\":2}},\"shapedefaults\":{\"line\":{\"color\":\"#2a3f5f\"}},\"annotationdefaults\":{\"arrowcolor\":\"#2a3f5f\",\"arrowhead\":0,\"arrowwidth\":1},\"geo\":{\"bgcolor\":\"white\",\"landcolor\":\"#E5ECF6\",\"subunitcolor\":\"white\",\"showland\":true,\"showlakes\":true,\"lakecolor\":\"white\"},\"title\":{\"x\":0.05},\"mapbox\":{\"style\":\"light\"}}},\"xaxis\":{\"anchor\":\"y\",\"domain\":[0.0,1.0],\"title\":{\"text\":\"\\ud604\\uc7ac\\uac00\\uc561\"}},\"yaxis\":{\"anchor\":\"x\",\"domain\":[0.0,1.0],\"title\":{\"text\":\"\\uc18c\\uc18d\\uad6c\\ubd84\"}},\"legend\":{\"tracegroupgap\":0},\"margin\":{\"t\":60},\"barmode\":\"relative\",\"width\":1000,\"height\":300},                        {\"responsive\": true}                    ).then(function(){\n",
       "                            \n",
       "var gd = document.getElementById('4ded3673-6fa0-49bd-a986-816954a9c4a4');\n",
       "var x = new MutationObserver(function (mutations, observer) {{\n",
       "        var display = window.getComputedStyle(gd).display;\n",
       "        if (!display || display === 'none') {{\n",
       "            console.log([gd, 'removed!']);\n",
       "            Plotly.purge(gd);\n",
       "            observer.disconnect();\n",
       "        }}\n",
       "}});\n",
       "\n",
       "// Listen for the removal of the full notebook cells\n",
       "var notebookContainer = gd.closest('#notebook-container');\n",
       "if (notebookContainer) {{\n",
       "    x.observe(notebookContainer, {childList: true});\n",
       "}}\n",
       "\n",
       "// Listen for the clearing of the current output cell\n",
       "var outputEl = gd.closest('.output');\n",
       "if (outputEl) {{\n",
       "    x.observe(outputEl, {childList: true});\n",
       "}}\n",
       "\n",
       "                        })                };                });            </script>        </div>"
      ]
     },
     "metadata": {},
     "output_type": "display_data"
    }
   ],
   "source": [
    "fig = px.bar(t_df.sort_values('현재가액', ascending=True), x='현재가액', y='소속구분')\n",
    "fig.update_layout(\n",
    "    width = 1000,\n",
    "    height = 300\n",
    ")\n",
    "fig.show()"
   ]
  },
  {
   "cell_type": "code",
   "execution_count": 102,
   "id": "a9498ce2",
   "metadata": {},
   "outputs": [],
   "source": [
    "# 현재가액 총계 : 1,374,283,442,000 (1조 3천 742억)"
   ]
  },
  {
   "cell_type": "markdown",
   "id": "f301e751",
   "metadata": {},
   "source": [
    "## 개인별 집계"
   ]
  },
  {
   "cell_type": "code",
   "execution_count": 135,
   "id": "71208079",
   "metadata": {},
   "outputs": [],
   "source": [
    "gb_who = ast_det.groupby(['소속구분','직위','이름'])"
   ]
  },
  {
   "cell_type": "code",
   "execution_count": 139,
   "id": "ea0c6e9f",
   "metadata": {},
   "outputs": [
    {
     "data": {
      "text/html": [
       "<div>\n",
       "<style scoped>\n",
       "    .dataframe tbody tr th:only-of-type {\n",
       "        vertical-align: middle;\n",
       "    }\n",
       "\n",
       "    .dataframe tbody tr th {\n",
       "        vertical-align: top;\n",
       "    }\n",
       "\n",
       "    .dataframe thead th {\n",
       "        text-align: right;\n",
       "    }\n",
       "</style>\n",
       "<table border=\"1\" class=\"dataframe\">\n",
       "  <thead>\n",
       "    <tr style=\"text-align: right;\">\n",
       "      <th></th>\n",
       "      <th>소속구분</th>\n",
       "      <th>직위</th>\n",
       "      <th>이름</th>\n",
       "      <th>현재가액</th>\n",
       "    </tr>\n",
       "  </thead>\n",
       "  <tbody>\n",
       "    <tr>\n",
       "      <th>0</th>\n",
       "      <td>1.국회의원</td>\n",
       "      <td>국회부의장</td>\n",
       "      <td>김영주</td>\n",
       "      <td>3198001.0</td>\n",
       "    </tr>\n",
       "    <tr>\n",
       "      <th>1</th>\n",
       "      <td>1.국회의원</td>\n",
       "      <td>국회부의장</td>\n",
       "      <td>정우택</td>\n",
       "      <td>14314204.0</td>\n",
       "    </tr>\n",
       "    <tr>\n",
       "      <th>2</th>\n",
       "      <td>1.국회의원</td>\n",
       "      <td>국회의원</td>\n",
       "      <td>강기윤</td>\n",
       "      <td>13343004.0</td>\n",
       "    </tr>\n",
       "    <tr>\n",
       "      <th>3</th>\n",
       "      <td>1.국회의원</td>\n",
       "      <td>국회의원</td>\n",
       "      <td>강대식</td>\n",
       "      <td>543773.0</td>\n",
       "    </tr>\n",
       "    <tr>\n",
       "      <th>4</th>\n",
       "      <td>1.국회의원</td>\n",
       "      <td>국회의원</td>\n",
       "      <td>강득구</td>\n",
       "      <td>1390325.0</td>\n",
       "    </tr>\n",
       "    <tr>\n",
       "      <th>...</th>\n",
       "      <td>...</td>\n",
       "      <td>...</td>\n",
       "      <td>...</td>\n",
       "      <td>...</td>\n",
       "    </tr>\n",
       "    <tr>\n",
       "      <th>328</th>\n",
       "      <td>2.국회사무처</td>\n",
       "      <td>정책연구위원</td>\n",
       "      <td>정을호</td>\n",
       "      <td>2238634.0</td>\n",
       "    </tr>\n",
       "    <tr>\n",
       "      <th>329</th>\n",
       "      <td>3.국회도서관</td>\n",
       "      <td>국회도서관장</td>\n",
       "      <td>이명우</td>\n",
       "      <td>1570416.0</td>\n",
       "    </tr>\n",
       "    <tr>\n",
       "      <th>330</th>\n",
       "      <td>3.국회도서관</td>\n",
       "      <td>의회정보실장</td>\n",
       "      <td>노우진</td>\n",
       "      <td>3875881.0</td>\n",
       "    </tr>\n",
       "    <tr>\n",
       "      <th>331</th>\n",
       "      <td>4.국회예산정책처</td>\n",
       "      <td>국회예산정책처장</td>\n",
       "      <td>조의섭</td>\n",
       "      <td>3811051.0</td>\n",
       "    </tr>\n",
       "    <tr>\n",
       "      <th>332</th>\n",
       "      <td>5.국회입법조사처</td>\n",
       "      <td>정치행정조사실장</td>\n",
       "      <td>이신우</td>\n",
       "      <td>2753855.0</td>\n",
       "    </tr>\n",
       "  </tbody>\n",
       "</table>\n",
       "<p>333 rows × 4 columns</p>\n",
       "</div>"
      ],
      "text/plain": [
       "          소속구분        직위   이름        현재가액\n",
       "0       1.국회의원     국회부의장  김영주   3198001.0\n",
       "1       1.국회의원     국회부의장  정우택  14314204.0\n",
       "2       1.국회의원      국회의원  강기윤  13343004.0\n",
       "3       1.국회의원      국회의원  강대식    543773.0\n",
       "4       1.국회의원      국회의원  강득구   1390325.0\n",
       "..         ...       ...  ...         ...\n",
       "328    2.국회사무처    정책연구위원  정을호   2238634.0\n",
       "329    3.국회도서관    국회도서관장  이명우   1570416.0\n",
       "330    3.국회도서관    의회정보실장  노우진   3875881.0\n",
       "331  4.국회예산정책처  국회예산정책처장  조의섭   3811051.0\n",
       "332  5.국회입법조사처  정치행정조사실장  이신우   2753855.0\n",
       "\n",
       "[333 rows x 4 columns]"
      ]
     },
     "execution_count": 139,
     "metadata": {},
     "output_type": "execute_result"
    }
   ],
   "source": [
    "gb_who['현재가액'].sum().reset_index()"
   ]
  },
  {
   "cell_type": "code",
   "execution_count": 170,
   "id": "24826b7f",
   "metadata": {},
   "outputs": [
    {
     "data": {
      "text/html": [
       "<div>\n",
       "<style scoped>\n",
       "    .dataframe tbody tr th:only-of-type {\n",
       "        vertical-align: middle;\n",
       "    }\n",
       "\n",
       "    .dataframe tbody tr th {\n",
       "        vertical-align: top;\n",
       "    }\n",
       "\n",
       "    .dataframe thead th {\n",
       "        text-align: right;\n",
       "    }\n",
       "</style>\n",
       "<table border=\"1\" class=\"dataframe\">\n",
       "  <thead>\n",
       "    <tr style=\"text-align: right;\">\n",
       "      <th></th>\n",
       "      <th>본인과의관계</th>\n",
       "      <th>재산구분</th>\n",
       "      <th>재산의 종류</th>\n",
       "      <th>현재가액</th>\n",
       "    </tr>\n",
       "  </thead>\n",
       "  <tbody>\n",
       "    <tr>\n",
       "      <th>229</th>\n",
       "      <td>본인</td>\n",
       "      <td>예금</td>\n",
       "      <td>NaN</td>\n",
       "      <td>1115731.0</td>\n",
       "    </tr>\n",
       "    <tr>\n",
       "      <th>236</th>\n",
       "      <td>본인</td>\n",
       "      <td>건물</td>\n",
       "      <td>아파트</td>\n",
       "      <td>1089000.0</td>\n",
       "    </tr>\n",
       "    <tr>\n",
       "      <th>581</th>\n",
       "      <td>배우자</td>\n",
       "      <td>예금</td>\n",
       "      <td>NaN</td>\n",
       "      <td>538054.0</td>\n",
       "    </tr>\n",
       "    <tr>\n",
       "      <th>958</th>\n",
       "      <td>본인</td>\n",
       "      <td>정치자금법에 따른 정치자금의 수입 및 지출을 위한 예금계좌의 예금</td>\n",
       "      <td>NaN</td>\n",
       "      <td>326332.0</td>\n",
       "    </tr>\n",
       "    <tr>\n",
       "      <th>2274</th>\n",
       "      <td>본인</td>\n",
       "      <td>부동산에 관한 규정이 준용되는 권리와 자동차·건설기계·선박 및 항공기</td>\n",
       "      <td>자동차</td>\n",
       "      <td>77280.0</td>\n",
       "    </tr>\n",
       "    <tr>\n",
       "      <th>3052</th>\n",
       "      <td>본인</td>\n",
       "      <td>채무</td>\n",
       "      <td>금융채무</td>\n",
       "      <td>31604.0</td>\n",
       "    </tr>\n",
       "    <tr>\n",
       "      <th>3510</th>\n",
       "      <td>본인</td>\n",
       "      <td>건물</td>\n",
       "      <td>사무실(전세(임차)권)</td>\n",
       "      <td>20000.0</td>\n",
       "    </tr>\n",
       "  </tbody>\n",
       "</table>\n",
       "</div>"
      ],
      "text/plain": [
       "     본인과의관계                                    재산구분        재산의 종류       현재가액\n",
       "229      본인                                      예금           NaN  1115731.0\n",
       "236      본인                                      건물           아파트  1089000.0\n",
       "581     배우자                                      예금           NaN   538054.0\n",
       "958      본인    정치자금법에 따른 정치자금의 수입 및 지출을 위한 예금계좌의 예금           NaN   326332.0\n",
       "2274     본인  부동산에 관한 규정이 준용되는 권리와 자동차·건설기계·선박 및 항공기           자동차    77280.0\n",
       "3052     본인                                      채무          금융채무    31604.0\n",
       "3510     본인                                      건물  사무실(전세(임차)권)    20000.0"
      ]
     },
     "execution_count": 170,
     "metadata": {},
     "output_type": "execute_result"
    }
   ],
   "source": [
    "gb_who.get_group(('1.국회의원','국회부의장','김영주'))[['본인과의관계','재산구분','재산의 종류','현재가액']]"
   ]
  },
  {
   "cell_type": "code",
   "execution_count": 172,
   "id": "140a20e7",
   "metadata": {
    "scrolled": false
   },
   "outputs": [
    {
     "data": {
      "text/plain": [
       "pandas.io.formats.printing.PrettyDict"
      ]
     },
     "execution_count": 172,
     "metadata": {},
     "output_type": "execute_result"
    }
   ],
   "source": [
    "type(gb_who.groups)"
   ]
  },
  {
   "cell_type": "code",
   "execution_count": 160,
   "id": "75fbd93e",
   "metadata": {},
   "outputs": [
    {
     "data": {
      "text/html": [
       "<div>\n",
       "<style scoped>\n",
       "    .dataframe tbody tr th:only-of-type {\n",
       "        vertical-align: middle;\n",
       "    }\n",
       "\n",
       "    .dataframe tbody tr th {\n",
       "        vertical-align: top;\n",
       "    }\n",
       "\n",
       "    .dataframe thead th {\n",
       "        text-align: right;\n",
       "    }\n",
       "</style>\n",
       "<table border=\"1\" class=\"dataframe\">\n",
       "  <thead>\n",
       "    <tr style=\"text-align: right;\">\n",
       "      <th></th>\n",
       "      <th></th>\n",
       "      <th></th>\n",
       "      <th>연월</th>\n",
       "      <th>no</th>\n",
       "      <th>종전가액</th>\n",
       "      <th>증가액</th>\n",
       "      <th>증가액실거래가격</th>\n",
       "      <th>감소액</th>\n",
       "      <th>감소액실거래가격</th>\n",
       "      <th>현재가액</th>\n",
       "    </tr>\n",
       "    <tr>\n",
       "      <th>소속구분</th>\n",
       "      <th>직위</th>\n",
       "      <th>이름</th>\n",
       "      <th></th>\n",
       "      <th></th>\n",
       "      <th></th>\n",
       "      <th></th>\n",
       "      <th></th>\n",
       "      <th></th>\n",
       "      <th></th>\n",
       "      <th></th>\n",
       "    </tr>\n",
       "  </thead>\n",
       "  <tbody>\n",
       "    <tr>\n",
       "      <th rowspan=\"5\" valign=\"top\">1.국회의원</th>\n",
       "      <th rowspan=\"2\" valign=\"top\">국회부의장</th>\n",
       "      <th>김영주</th>\n",
       "      <td>1416121</td>\n",
       "      <td>98</td>\n",
       "      <td>2915626.0</td>\n",
       "      <td>1177908.0</td>\n",
       "      <td>0.0</td>\n",
       "      <td>895533.0</td>\n",
       "      <td>0.0</td>\n",
       "      <td>3198001.0</td>\n",
       "    </tr>\n",
       "    <tr>\n",
       "      <th>정우택</th>\n",
       "      <td>5462181</td>\n",
       "      <td>837</td>\n",
       "      <td>11129510.0</td>\n",
       "      <td>6902656.0</td>\n",
       "      <td>0.0</td>\n",
       "      <td>3717962.0</td>\n",
       "      <td>7350.0</td>\n",
       "      <td>14314204.0</td>\n",
       "    </tr>\n",
       "    <tr>\n",
       "      <th rowspan=\"3\" valign=\"top\">국회의원</th>\n",
       "      <th>강기윤</th>\n",
       "      <td>5462181</td>\n",
       "      <td>1566</td>\n",
       "      <td>14530019.0</td>\n",
       "      <td>4750251.0</td>\n",
       "      <td>0.0</td>\n",
       "      <td>5937266.0</td>\n",
       "      <td>0.0</td>\n",
       "      <td>13343004.0</td>\n",
       "    </tr>\n",
       "    <tr>\n",
       "      <th>강대식</th>\n",
       "      <td>1213818</td>\n",
       "      <td>447</td>\n",
       "      <td>432002.0</td>\n",
       "      <td>269349.0</td>\n",
       "      <td>0.0</td>\n",
       "      <td>157578.0</td>\n",
       "      <td>0.0</td>\n",
       "      <td>543773.0</td>\n",
       "    </tr>\n",
       "    <tr>\n",
       "      <th>강득구</th>\n",
       "      <td>2023030</td>\n",
       "      <td>825</td>\n",
       "      <td>1183151.0</td>\n",
       "      <td>231344.0</td>\n",
       "      <td>29000.0</td>\n",
       "      <td>24170.0</td>\n",
       "      <td>0.0</td>\n",
       "      <td>1390325.0</td>\n",
       "    </tr>\n",
       "    <tr>\n",
       "      <th>...</th>\n",
       "      <th>...</th>\n",
       "      <th>...</th>\n",
       "      <td>...</td>\n",
       "      <td>...</td>\n",
       "      <td>...</td>\n",
       "      <td>...</td>\n",
       "      <td>...</td>\n",
       "      <td>...</td>\n",
       "      <td>...</td>\n",
       "      <td>...</td>\n",
       "    </tr>\n",
       "    <tr>\n",
       "      <th>2.국회사무처</th>\n",
       "      <th>정책연구위원</th>\n",
       "      <th>정을호</th>\n",
       "      <td>1213818</td>\n",
       "      <td>35235</td>\n",
       "      <td>2322648.0</td>\n",
       "      <td>142511.0</td>\n",
       "      <td>0.0</td>\n",
       "      <td>226525.0</td>\n",
       "      <td>0.0</td>\n",
       "      <td>2238634.0</td>\n",
       "    </tr>\n",
       "    <tr>\n",
       "      <th rowspan=\"2\" valign=\"top\">3.국회도서관</th>\n",
       "      <th>국회도서관장</th>\n",
       "      <th>이명우</th>\n",
       "      <td>2023030</td>\n",
       "      <td>59085</td>\n",
       "      <td>1507252.0</td>\n",
       "      <td>1227304.0</td>\n",
       "      <td>0.0</td>\n",
       "      <td>1164140.0</td>\n",
       "      <td>0.0</td>\n",
       "      <td>1570416.0</td>\n",
       "    </tr>\n",
       "    <tr>\n",
       "      <th>의회정보실장</th>\n",
       "      <th>노우진</th>\n",
       "      <td>6271393</td>\n",
       "      <td>183799</td>\n",
       "      <td>4052836.0</td>\n",
       "      <td>471680.0</td>\n",
       "      <td>0.0</td>\n",
       "      <td>648635.0</td>\n",
       "      <td>1500.0</td>\n",
       "      <td>3875881.0</td>\n",
       "    </tr>\n",
       "    <tr>\n",
       "      <th>4.국회예산정책처</th>\n",
       "      <th>국회예산정책처장</th>\n",
       "      <th>조의섭</th>\n",
       "      <td>2629939</td>\n",
       "      <td>77363</td>\n",
       "      <td>3676680.0</td>\n",
       "      <td>224925.0</td>\n",
       "      <td>0.0</td>\n",
       "      <td>90554.0</td>\n",
       "      <td>0.0</td>\n",
       "      <td>3811051.0</td>\n",
       "    </tr>\n",
       "    <tr>\n",
       "      <th>5.국회입법조사처</th>\n",
       "      <th>정치행정조사실장</th>\n",
       "      <th>이신우</th>\n",
       "      <td>2832242</td>\n",
       "      <td>83503</td>\n",
       "      <td>2675053.0</td>\n",
       "      <td>210531.0</td>\n",
       "      <td>0.0</td>\n",
       "      <td>131729.0</td>\n",
       "      <td>0.0</td>\n",
       "      <td>2753855.0</td>\n",
       "    </tr>\n",
       "  </tbody>\n",
       "</table>\n",
       "<p>333 rows × 8 columns</p>\n",
       "</div>"
      ],
      "text/plain": [
       "                             연월      no        종전가액        증가액  증가액실거래가격  \\\n",
       "소속구분      직위       이름                                                      \n",
       "1.국회의원    국회부의장    김영주  1416121      98   2915626.0  1177908.0       0.0   \n",
       "                   정우택  5462181     837  11129510.0  6902656.0       0.0   \n",
       "          국회의원     강기윤  5462181    1566  14530019.0  4750251.0       0.0   \n",
       "                   강대식  1213818     447    432002.0   269349.0       0.0   \n",
       "                   강득구  2023030     825   1183151.0   231344.0   29000.0   \n",
       "...                         ...     ...         ...        ...       ...   \n",
       "2.국회사무처   정책연구위원   정을호  1213818   35235   2322648.0   142511.0       0.0   \n",
       "3.국회도서관   국회도서관장   이명우  2023030   59085   1507252.0  1227304.0       0.0   \n",
       "          의회정보실장   노우진  6271393  183799   4052836.0   471680.0       0.0   \n",
       "4.국회예산정책처 국회예산정책처장 조의섭  2629939   77363   3676680.0   224925.0       0.0   \n",
       "5.국회입법조사처 정치행정조사실장 이신우  2832242   83503   2675053.0   210531.0       0.0   \n",
       "\n",
       "                              감소액  감소액실거래가격        현재가액  \n",
       "소속구분      직위       이름                                    \n",
       "1.국회의원    국회부의장    김영주   895533.0       0.0   3198001.0  \n",
       "                   정우택  3717962.0    7350.0  14314204.0  \n",
       "          국회의원     강기윤  5937266.0       0.0  13343004.0  \n",
       "                   강대식   157578.0       0.0    543773.0  \n",
       "                   강득구    24170.0       0.0   1390325.0  \n",
       "...                           ...       ...         ...  \n",
       "2.국회사무처   정책연구위원   정을호   226525.0       0.0   2238634.0  \n",
       "3.국회도서관   국회도서관장   이명우  1164140.0       0.0   1570416.0  \n",
       "          의회정보실장   노우진   648635.0    1500.0   3875881.0  \n",
       "4.국회예산정책처 국회예산정책처장 조의섭    90554.0       0.0   3811051.0  \n",
       "5.국회입법조사처 정치행정조사실장 이신우   131729.0       0.0   2753855.0  \n",
       "\n",
       "[333 rows x 8 columns]"
      ]
     },
     "execution_count": 160,
     "metadata": {},
     "output_type": "execute_result"
    }
   ],
   "source": [
    "gb_who.sum() #[['현재가액']]"
   ]
  },
  {
   "cell_type": "code",
   "execution_count": 150,
   "id": "3e970aae",
   "metadata": {},
   "outputs": [
    {
     "data": {
      "text/html": [
       "<div>\n",
       "<style scoped>\n",
       "    .dataframe tbody tr th:only-of-type {\n",
       "        vertical-align: middle;\n",
       "    }\n",
       "\n",
       "    .dataframe tbody tr th {\n",
       "        vertical-align: top;\n",
       "    }\n",
       "\n",
       "    .dataframe thead th {\n",
       "        text-align: right;\n",
       "    }\n",
       "</style>\n",
       "<table border=\"1\" class=\"dataframe\">\n",
       "  <thead>\n",
       "    <tr style=\"text-align: right;\">\n",
       "      <th></th>\n",
       "      <th></th>\n",
       "      <th></th>\n",
       "      <th>현재가액</th>\n",
       "    </tr>\n",
       "    <tr>\n",
       "      <th>소속구분</th>\n",
       "      <th>직위</th>\n",
       "      <th>이름</th>\n",
       "      <th></th>\n",
       "    </tr>\n",
       "  </thead>\n",
       "  <tbody>\n",
       "    <tr>\n",
       "      <th rowspan=\"5\" valign=\"top\">1.국회의원</th>\n",
       "      <th rowspan=\"2\" valign=\"top\">국회부의장</th>\n",
       "      <th>김영주</th>\n",
       "      <td>3198001.0</td>\n",
       "    </tr>\n",
       "    <tr>\n",
       "      <th>정우택</th>\n",
       "      <td>14314204.0</td>\n",
       "    </tr>\n",
       "    <tr>\n",
       "      <th rowspan=\"3\" valign=\"top\">국회의원</th>\n",
       "      <th>강기윤</th>\n",
       "      <td>13343004.0</td>\n",
       "    </tr>\n",
       "    <tr>\n",
       "      <th>강대식</th>\n",
       "      <td>543773.0</td>\n",
       "    </tr>\n",
       "    <tr>\n",
       "      <th>강득구</th>\n",
       "      <td>1390325.0</td>\n",
       "    </tr>\n",
       "    <tr>\n",
       "      <th>...</th>\n",
       "      <th>...</th>\n",
       "      <th>...</th>\n",
       "      <td>...</td>\n",
       "    </tr>\n",
       "    <tr>\n",
       "      <th>2.국회사무처</th>\n",
       "      <th>정책연구위원</th>\n",
       "      <th>정을호</th>\n",
       "      <td>2238634.0</td>\n",
       "    </tr>\n",
       "    <tr>\n",
       "      <th rowspan=\"2\" valign=\"top\">3.국회도서관</th>\n",
       "      <th>국회도서관장</th>\n",
       "      <th>이명우</th>\n",
       "      <td>1570416.0</td>\n",
       "    </tr>\n",
       "    <tr>\n",
       "      <th>의회정보실장</th>\n",
       "      <th>노우진</th>\n",
       "      <td>3875881.0</td>\n",
       "    </tr>\n",
       "    <tr>\n",
       "      <th>4.국회예산정책처</th>\n",
       "      <th>국회예산정책처장</th>\n",
       "      <th>조의섭</th>\n",
       "      <td>3811051.0</td>\n",
       "    </tr>\n",
       "    <tr>\n",
       "      <th>5.국회입법조사처</th>\n",
       "      <th>정치행정조사실장</th>\n",
       "      <th>이신우</th>\n",
       "      <td>2753855.0</td>\n",
       "    </tr>\n",
       "  </tbody>\n",
       "</table>\n",
       "<p>333 rows × 1 columns</p>\n",
       "</div>"
      ],
      "text/plain": [
       "                              현재가액\n",
       "소속구분      직위       이름             \n",
       "1.국회의원    국회부의장    김영주   3198001.0\n",
       "                   정우택  14314204.0\n",
       "          국회의원     강기윤  13343004.0\n",
       "                   강대식    543773.0\n",
       "                   강득구   1390325.0\n",
       "...                            ...\n",
       "2.국회사무처   정책연구위원   정을호   2238634.0\n",
       "3.국회도서관   국회도서관장   이명우   1570416.0\n",
       "          의회정보실장   노우진   3875881.0\n",
       "4.국회예산정책처 국회예산정책처장 조의섭   3811051.0\n",
       "5.국회입법조사처 정치행정조사실장 이신우   2753855.0\n",
       "\n",
       "[333 rows x 1 columns]"
      ]
     },
     "execution_count": 150,
     "metadata": {},
     "output_type": "execute_result"
    }
   ],
   "source": [
    "gb_w_sum = gb_who.sum()[['현재가액']]\n",
    "gb_w_sum"
   ]
  },
  {
   "cell_type": "code",
   "execution_count": 159,
   "id": "8ac91d2d",
   "metadata": {
    "scrolled": false
   },
   "outputs": [
    {
     "data": {
      "text/html": [
       "<div>\n",
       "<style scoped>\n",
       "    .dataframe tbody tr th:only-of-type {\n",
       "        vertical-align: middle;\n",
       "    }\n",
       "\n",
       "    .dataframe tbody tr th {\n",
       "        vertical-align: top;\n",
       "    }\n",
       "\n",
       "    .dataframe thead th {\n",
       "        text-align: right;\n",
       "    }\n",
       "</style>\n",
       "<table border=\"1\" class=\"dataframe\">\n",
       "  <thead>\n",
       "    <tr style=\"text-align: right;\">\n",
       "      <th></th>\n",
       "      <th></th>\n",
       "      <th>현재가액</th>\n",
       "    </tr>\n",
       "    <tr>\n",
       "      <th>직위</th>\n",
       "      <th>이름</th>\n",
       "      <th></th>\n",
       "    </tr>\n",
       "  </thead>\n",
       "  <tbody>\n",
       "    <tr>\n",
       "      <th rowspan=\"2\" valign=\"top\">국회부의장</th>\n",
       "      <th>김영주</th>\n",
       "      <td>3198001.0</td>\n",
       "    </tr>\n",
       "    <tr>\n",
       "      <th>정우택</th>\n",
       "      <td>14314204.0</td>\n",
       "    </tr>\n",
       "    <tr>\n",
       "      <th rowspan=\"8\" valign=\"top\">국회의원</th>\n",
       "      <th>강기윤</th>\n",
       "      <td>13343004.0</td>\n",
       "    </tr>\n",
       "    <tr>\n",
       "      <th>강대식</th>\n",
       "      <td>543773.0</td>\n",
       "    </tr>\n",
       "    <tr>\n",
       "      <th>강득구</th>\n",
       "      <td>1390325.0</td>\n",
       "    </tr>\n",
       "    <tr>\n",
       "      <th>...</th>\n",
       "      <td>...</td>\n",
       "    </tr>\n",
       "    <tr>\n",
       "      <th>홍정민</th>\n",
       "      <td>1690721.0</td>\n",
       "    </tr>\n",
       "    <tr>\n",
       "      <th>황보승희</th>\n",
       "      <td>953648.0</td>\n",
       "    </tr>\n",
       "    <tr>\n",
       "      <th>황운하</th>\n",
       "      <td>1652133.0</td>\n",
       "    </tr>\n",
       "    <tr>\n",
       "      <th>황희</th>\n",
       "      <td>889143.0</td>\n",
       "    </tr>\n",
       "    <tr>\n",
       "      <th>국회의장</th>\n",
       "      <th>김진표</th>\n",
       "      <td>4367680.0</td>\n",
       "    </tr>\n",
       "  </tbody>\n",
       "</table>\n",
       "<p>296 rows × 1 columns</p>\n",
       "</div>"
      ],
      "text/plain": [
       "                  현재가액\n",
       "직위    이름              \n",
       "국회부의장 김영주    3198001.0\n",
       "      정우택   14314204.0\n",
       "국회의원  강기윤   13343004.0\n",
       "      강대식     543773.0\n",
       "      강득구    1390325.0\n",
       "...                ...\n",
       "      홍정민    1690721.0\n",
       "      황보승희    953648.0\n",
       "      황운하    1652133.0\n",
       "      황희      889143.0\n",
       "국회의장  김진표    4367680.0\n",
       "\n",
       "[296 rows x 1 columns]"
      ]
     },
     "execution_count": 159,
     "metadata": {},
     "output_type": "execute_result"
    }
   ],
   "source": [
    "gb_w_sum.loc[('1.국회의원')] # ['국회부의장']"
   ]
  },
  {
   "cell_type": "code",
   "execution_count": 133,
   "id": "46563cf4",
   "metadata": {},
   "outputs": [
    {
     "data": {
      "text/html": [
       "<div>\n",
       "<style scoped>\n",
       "    .dataframe tbody tr th:only-of-type {\n",
       "        vertical-align: middle;\n",
       "    }\n",
       "\n",
       "    .dataframe tbody tr th {\n",
       "        vertical-align: top;\n",
       "    }\n",
       "\n",
       "    .dataframe thead th {\n",
       "        text-align: right;\n",
       "    }\n",
       "</style>\n",
       "<table border=\"1\" class=\"dataframe\">\n",
       "  <thead>\n",
       "    <tr style=\"text-align: right;\">\n",
       "      <th></th>\n",
       "      <th>소속구분</th>\n",
       "      <th>직위</th>\n",
       "      <th>이름</th>\n",
       "      <th>현재가액</th>\n",
       "    </tr>\n",
       "  </thead>\n",
       "  <tbody>\n",
       "    <tr>\n",
       "      <th>0</th>\n",
       "      <td>1.국회의원</td>\n",
       "      <td>국회부의장</td>\n",
       "      <td>김영주</td>\n",
       "      <td>3198001.0</td>\n",
       "    </tr>\n",
       "    <tr>\n",
       "      <th>1</th>\n",
       "      <td>1.국회의원</td>\n",
       "      <td>국회부의장</td>\n",
       "      <td>정우택</td>\n",
       "      <td>14314204.0</td>\n",
       "    </tr>\n",
       "    <tr>\n",
       "      <th>2</th>\n",
       "      <td>1.국회의원</td>\n",
       "      <td>국회의원</td>\n",
       "      <td>강기윤</td>\n",
       "      <td>13343004.0</td>\n",
       "    </tr>\n",
       "    <tr>\n",
       "      <th>3</th>\n",
       "      <td>1.국회의원</td>\n",
       "      <td>국회의원</td>\n",
       "      <td>강대식</td>\n",
       "      <td>543773.0</td>\n",
       "    </tr>\n",
       "    <tr>\n",
       "      <th>4</th>\n",
       "      <td>1.국회의원</td>\n",
       "      <td>국회의원</td>\n",
       "      <td>강득구</td>\n",
       "      <td>1390325.0</td>\n",
       "    </tr>\n",
       "    <tr>\n",
       "      <th>...</th>\n",
       "      <td>...</td>\n",
       "      <td>...</td>\n",
       "      <td>...</td>\n",
       "      <td>...</td>\n",
       "    </tr>\n",
       "    <tr>\n",
       "      <th>328</th>\n",
       "      <td>2.국회사무처</td>\n",
       "      <td>정책연구위원</td>\n",
       "      <td>정을호</td>\n",
       "      <td>2238634.0</td>\n",
       "    </tr>\n",
       "    <tr>\n",
       "      <th>329</th>\n",
       "      <td>3.국회도서관</td>\n",
       "      <td>국회도서관장</td>\n",
       "      <td>이명우</td>\n",
       "      <td>1570416.0</td>\n",
       "    </tr>\n",
       "    <tr>\n",
       "      <th>330</th>\n",
       "      <td>3.국회도서관</td>\n",
       "      <td>의회정보실장</td>\n",
       "      <td>노우진</td>\n",
       "      <td>3875881.0</td>\n",
       "    </tr>\n",
       "    <tr>\n",
       "      <th>331</th>\n",
       "      <td>4.국회예산정책처</td>\n",
       "      <td>국회예산정책처장</td>\n",
       "      <td>조의섭</td>\n",
       "      <td>3811051.0</td>\n",
       "    </tr>\n",
       "    <tr>\n",
       "      <th>332</th>\n",
       "      <td>5.국회입법조사처</td>\n",
       "      <td>정치행정조사실장</td>\n",
       "      <td>이신우</td>\n",
       "      <td>2753855.0</td>\n",
       "    </tr>\n",
       "  </tbody>\n",
       "</table>\n",
       "<p>333 rows × 4 columns</p>\n",
       "</div>"
      ],
      "text/plain": [
       "          소속구분        직위   이름        현재가액\n",
       "0       1.국회의원     국회부의장  김영주   3198001.0\n",
       "1       1.국회의원     국회부의장  정우택  14314204.0\n",
       "2       1.국회의원      국회의원  강기윤  13343004.0\n",
       "3       1.국회의원      국회의원  강대식    543773.0\n",
       "4       1.국회의원      국회의원  강득구   1390325.0\n",
       "..         ...       ...  ...         ...\n",
       "328    2.국회사무처    정책연구위원  정을호   2238634.0\n",
       "329    3.국회도서관    국회도서관장  이명우   1570416.0\n",
       "330    3.국회도서관    의회정보실장  노우진   3875881.0\n",
       "331  4.국회예산정책처  국회예산정책처장  조의섭   3811051.0\n",
       "332  5.국회입법조사처  정치행정조사실장  이신우   2753855.0\n",
       "\n",
       "[333 rows x 4 columns]"
      ]
     },
     "execution_count": 133,
     "metadata": {},
     "output_type": "execute_result"
    }
   ],
   "source": [
    "ast_det.groupby(['소속구분','직위', '이름'])['현재가액'].agg('sum').reset_index()"
   ]
  },
  {
   "cell_type": "code",
   "execution_count": null,
   "id": "d173ae25",
   "metadata": {},
   "outputs": [],
   "source": []
  },
  {
   "cell_type": "code",
   "execution_count": null,
   "id": "0c7de1d6",
   "metadata": {},
   "outputs": [],
   "source": []
  },
  {
   "cell_type": "code",
   "execution_count": null,
   "id": "d50b43ec",
   "metadata": {},
   "outputs": [],
   "source": []
  },
  {
   "cell_type": "code",
   "execution_count": null,
   "id": "d988ee30",
   "metadata": {},
   "outputs": [],
   "source": []
  },
  {
   "cell_type": "code",
   "execution_count": null,
   "id": "2d513fbc",
   "metadata": {},
   "outputs": [],
   "source": []
  },
  {
   "cell_type": "code",
   "execution_count": null,
   "id": "18e6b3a6",
   "metadata": {},
   "outputs": [],
   "source": []
  },
  {
   "cell_type": "code",
   "execution_count": null,
   "id": "aea4642f",
   "metadata": {},
   "outputs": [],
   "source": []
  },
  {
   "cell_type": "code",
   "execution_count": null,
   "id": "2ce0b4b0",
   "metadata": {},
   "outputs": [],
   "source": []
  },
  {
   "cell_type": "code",
   "execution_count": null,
   "id": "cf60fe6f",
   "metadata": {},
   "outputs": [],
   "source": []
  },
  {
   "cell_type": "markdown",
   "id": "c446105a",
   "metadata": {},
   "source": [
    "## assembly data"
   ]
  },
  {
   "cell_type": "code",
   "execution_count": 13,
   "id": "e218afbe",
   "metadata": {},
   "outputs": [],
   "source": [
    "asm_det = pd.read_excel(\"assembly_18_to_21.xlsx\", sheet_name='상세')\n",
    "asm_cur = pd.read_excel(\"assembly_18_to_21.xlsx\", sheet_name='현재')"
   ]
  },
  {
   "cell_type": "code",
   "execution_count": 14,
   "id": "269f30c5",
   "metadata": {},
   "outputs": [
    {
     "data": {
      "text/html": [
       "<div>\n",
       "<style scoped>\n",
       "    .dataframe tbody tr th:only-of-type {\n",
       "        vertical-align: middle;\n",
       "    }\n",
       "\n",
       "    .dataframe tbody tr th {\n",
       "        vertical-align: top;\n",
       "    }\n",
       "\n",
       "    .dataframe thead th {\n",
       "        text-align: right;\n",
       "    }\n",
       "</style>\n",
       "<table border=\"1\" class=\"dataframe\">\n",
       "  <thead>\n",
       "    <tr style=\"text-align: right;\">\n",
       "      <th></th>\n",
       "      <th>대수</th>\n",
       "      <th>hjId</th>\n",
       "      <th>monaCode</th>\n",
       "      <th>이름</th>\n",
       "      <th>특이사항</th>\n",
       "      <th>한자</th>\n",
       "      <th>영문명</th>\n",
       "      <th>양력/음력</th>\n",
       "      <th>생년월일</th>\n",
       "      <th>성별</th>\n",
       "      <th>...</th>\n",
       "      <th>직책</th>\n",
       "      <th>전화</th>\n",
       "      <th>위원회</th>\n",
       "      <th>이메일</th>\n",
       "      <th>홈페이지</th>\n",
       "      <th>보좌관</th>\n",
       "      <th>선임비서관</th>\n",
       "      <th>비서관</th>\n",
       "      <th>주요약력</th>\n",
       "      <th>사무실</th>\n",
       "    </tr>\n",
       "  </thead>\n",
       "  <tbody>\n",
       "    <tr>\n",
       "      <th>0</th>\n",
       "      <td>18</td>\n",
       "      <td>2448.0</td>\n",
       "      <td>XQ98168F</td>\n",
       "      <td>강길부</td>\n",
       "      <td>NaN</td>\n",
       "      <td>姜吉夫</td>\n",
       "      <td>KANG GHILBOO</td>\n",
       "      <td>음</td>\n",
       "      <td>1942-06-05</td>\n",
       "      <td>남</td>\n",
       "      <td>...</td>\n",
       "      <td>NaN</td>\n",
       "      <td>NaN</td>\n",
       "      <td>NaN</td>\n",
       "      <td>NaN</td>\n",
       "      <td>NaN</td>\n",
       "      <td>NaN</td>\n",
       "      <td>NaN</td>\n",
       "      <td>NaN</td>\n",
       "      <td>NaN</td>\n",
       "      <td>NaN</td>\n",
       "    </tr>\n",
       "  </tbody>\n",
       "</table>\n",
       "<p>1 rows × 24 columns</p>\n",
       "</div>"
      ],
      "text/plain": [
       "   대수    hjId  monaCode   이름 특이사항   한자           영문명 양력/음력       생년월일 성별  ...  \\\n",
       "0  18  2448.0  XQ98168F  강길부  NaN  姜吉夫  KANG GHILBOO     음 1942-06-05  남  ...   \n",
       "\n",
       "    직책   전화  위원회  이메일 홈페이지  보좌관 선임비서관  비서관 주요약력  사무실  \n",
       "0  NaN  NaN  NaN  NaN  NaN  NaN   NaN  NaN  NaN  NaN  \n",
       "\n",
       "[1 rows x 24 columns]"
      ]
     },
     "execution_count": 14,
     "metadata": {},
     "output_type": "execute_result"
    }
   ],
   "source": [
    "asm_det.head(1)"
   ]
  },
  {
   "cell_type": "code",
   "execution_count": 15,
   "id": "0a75244c",
   "metadata": {},
   "outputs": [
    {
     "data": {
      "text/html": [
       "<div>\n",
       "<style scoped>\n",
       "    .dataframe tbody tr th:only-of-type {\n",
       "        vertical-align: middle;\n",
       "    }\n",
       "\n",
       "    .dataframe tbody tr th {\n",
       "        vertical-align: top;\n",
       "    }\n",
       "\n",
       "    .dataframe thead th {\n",
       "        text-align: right;\n",
       "    }\n",
       "</style>\n",
       "<table border=\"1\" class=\"dataframe\">\n",
       "  <thead>\n",
       "    <tr style=\"text-align: right;\">\n",
       "      <th></th>\n",
       "      <th>번호</th>\n",
       "      <th>교섭단체</th>\n",
       "      <th>정당</th>\n",
       "      <th>지역구</th>\n",
       "      <th>비례대표</th>\n",
       "      <th>계</th>\n",
       "      <th>비율</th>\n",
       "    </tr>\n",
       "  </thead>\n",
       "  <tbody>\n",
       "    <tr>\n",
       "      <th>0</th>\n",
       "      <td>1</td>\n",
       "      <td>교섭단체</td>\n",
       "      <td>더불어민주당</td>\n",
       "      <td>152</td>\n",
       "      <td>16</td>\n",
       "      <td>168</td>\n",
       "      <td>56.38</td>\n",
       "    </tr>\n",
       "  </tbody>\n",
       "</table>\n",
       "</div>"
      ],
      "text/plain": [
       "   번호  교섭단체      정당  지역구  비례대표    계     비율\n",
       "0   1  교섭단체  더불어민주당  152    16  168  56.38"
      ]
     },
     "execution_count": 15,
     "metadata": {},
     "output_type": "execute_result"
    }
   ],
   "source": [
    "asm_cur.head(1)"
   ]
  },
  {
   "cell_type": "code",
   "execution_count": 16,
   "id": "c94dd829",
   "metadata": {},
   "outputs": [
    {
     "data": {
      "text/plain": [
       "((1299, 24), (9, 7))"
      ]
     },
     "execution_count": 16,
     "metadata": {},
     "output_type": "execute_result"
    }
   ],
   "source": [
    "asm_det.shape, asm_cur.shape"
   ]
  },
  {
   "cell_type": "code",
   "execution_count": null,
   "id": "9939ba37",
   "metadata": {},
   "outputs": [],
   "source": []
  },
  {
   "cell_type": "code",
   "execution_count": null,
   "id": "439e46ce",
   "metadata": {},
   "outputs": [],
   "source": []
  },
  {
   "cell_type": "code",
   "execution_count": null,
   "id": "0071a6de",
   "metadata": {},
   "outputs": [],
   "source": []
  },
  {
   "cell_type": "code",
   "execution_count": null,
   "id": "1800b6aa",
   "metadata": {},
   "outputs": [],
   "source": []
  },
  {
   "cell_type": "code",
   "execution_count": null,
   "id": "6d0f019f",
   "metadata": {},
   "outputs": [],
   "source": []
  },
  {
   "cell_type": "code",
   "execution_count": null,
   "id": "783a4253",
   "metadata": {},
   "outputs": [],
   "source": []
  },
  {
   "cell_type": "code",
   "execution_count": null,
   "id": "87fe4cbf",
   "metadata": {},
   "outputs": [],
   "source": []
  },
  {
   "cell_type": "code",
   "execution_count": null,
   "id": "920bc253",
   "metadata": {},
   "outputs": [],
   "source": []
  },
  {
   "cell_type": "code",
   "execution_count": null,
   "id": "cd18da8f",
   "metadata": {},
   "outputs": [],
   "source": []
  },
  {
   "cell_type": "code",
   "execution_count": null,
   "id": "0d7f2e3b",
   "metadata": {},
   "outputs": [],
   "source": []
  },
  {
   "cell_type": "code",
   "execution_count": null,
   "id": "49b578fd",
   "metadata": {},
   "outputs": [],
   "source": []
  },
  {
   "cell_type": "code",
   "execution_count": null,
   "id": "5794fd4c",
   "metadata": {},
   "outputs": [],
   "source": []
  },
  {
   "cell_type": "code",
   "execution_count": null,
   "id": "b68554dc",
   "metadata": {},
   "outputs": [],
   "source": []
  },
  {
   "cell_type": "code",
   "execution_count": null,
   "id": "5164d95b",
   "metadata": {},
   "outputs": [],
   "source": []
  }
 ],
 "metadata": {
  "kernelspec": {
   "display_name": "Python 3 (ipykernel)",
   "language": "python",
   "name": "python3"
  },
  "language_info": {
   "codemirror_mode": {
    "name": "ipython",
    "version": 3
   },
   "file_extension": ".py",
   "mimetype": "text/x-python",
   "name": "python",
   "nbconvert_exporter": "python",
   "pygments_lexer": "ipython3",
   "version": "3.11.4"
  },
  "toc": {
   "base_numbering": 1,
   "nav_menu": {},
   "number_sections": true,
   "sideBar": true,
   "skip_h1_title": false,
   "title_cell": "Table of Contents",
   "title_sidebar": "Contents",
   "toc_cell": false,
   "toc_position": {
    "height": "calc(100% - 180px)",
    "left": "10px",
    "top": "150px",
    "width": "301.713px"
   },
   "toc_section_display": true,
   "toc_window_display": true
  }
 },
 "nbformat": 4,
 "nbformat_minor": 5
}
