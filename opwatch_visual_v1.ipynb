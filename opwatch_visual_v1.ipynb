{
 "cells": [
  {
   "cell_type": "markdown",
   "id": "cfbde346",
   "metadata": {},
   "source": [
    "# 준비"
   ]
  },
  {
   "cell_type": "markdown",
   "id": "e9b3cd0e",
   "metadata": {},
   "source": [
    "## Python Module Import"
   ]
  },
  {
   "cell_type": "markdown",
   "id": "fae1d5a7",
   "metadata": {},
   "source": [
    "### data processing module"
   ]
  },
  {
   "cell_type": "code",
   "execution_count": 1,
   "id": "9d287b7f",
   "metadata": {},
   "outputs": [],
   "source": [
    "# 데이터 처리를 위한 모듈들\n",
    "import pandas as pd\n",
    "import numpy as np"
   ]
  },
  {
   "cell_type": "markdown",
   "id": "87ebec34",
   "metadata": {},
   "source": [
    "### visualization module"
   ]
  },
  {
   "cell_type": "code",
   "execution_count": 8,
   "id": "6fd94619",
   "metadata": {},
   "outputs": [],
   "source": [
    "# 시각화를 위한 모듈들\n",
    "import matplotlib.pyplot as plt\n",
    "import matplotlib as mpl\n",
    "\n",
    "import seaborn as sns\n",
    "sns.set_theme(style=\"whitegrid\")"
   ]
  },
  {
   "cell_type": "code",
   "execution_count": 3,
   "id": "bb5863be",
   "metadata": {},
   "outputs": [],
   "source": [
    "# 시각화를 위한 사전 설정들 1.\n",
    "# %matplotlib inline을 주피터 노트북 셀에 실행하면 해당 셀 아래에 그래프 출력\n",
    "\n",
    "%matplotlib inline"
   ]
  },
  {
   "cell_type": "code",
   "execution_count": 5,
   "id": "616aafca",
   "metadata": {},
   "outputs": [],
   "source": [
    "# 시각화를 위한 사전 설정들 2.\n",
    "# 한글 폰트 설정\n",
    "\n",
    "from matplotlib import font_manager, rc  # 한글폰트 설정\n",
    "import platform\n",
    "\n",
    "if platform.system()==\"Windows\":\n",
    "    font_name=font_manager.FontProperties(fname=\"c:/Windows/Fonts/malgun.ttf\").get_name()\n",
    "    rc('font', family=font_name)\n",
    "    \n",
    "mpl.rcParams['axes.unicode_minus']=False"
   ]
  },
  {
   "cell_type": "code",
   "execution_count": 6,
   "id": "957946c9",
   "metadata": {},
   "outputs": [],
   "source": [
    "# 기타 사전 설정\n",
    "# warnigs 표시 설정 = ignore\n",
    "\n",
    "import warnings\n",
    "warnings.filterwarnings(\"ignore\")"
   ]
  },
  {
   "cell_type": "markdown",
   "id": "c946b1ba",
   "metadata": {},
   "source": [
    "### Map module"
   ]
  },
  {
   "cell_type": "code",
   "execution_count": 9,
   "id": "d2aef017",
   "metadata": {},
   "outputs": [],
   "source": [
    "# 지도 기반 시각화\n",
    "# pip install folium\n",
    "import folium"
   ]
  },
  {
   "cell_type": "code",
   "execution_count": null,
   "id": "9698096e",
   "metadata": {},
   "outputs": [],
   "source": []
  },
  {
   "cell_type": "code",
   "execution_count": null,
   "id": "36df1a58",
   "metadata": {},
   "outputs": [],
   "source": []
  },
  {
   "cell_type": "code",
   "execution_count": null,
   "id": "d8db5717",
   "metadata": {},
   "outputs": [],
   "source": []
  },
  {
   "cell_type": "code",
   "execution_count": null,
   "id": "1914c124",
   "metadata": {},
   "outputs": [],
   "source": []
  },
  {
   "cell_type": "code",
   "execution_count": null,
   "id": "767a0795",
   "metadata": {},
   "outputs": [],
   "source": []
  }
 ],
 "metadata": {
  "kernelspec": {
   "display_name": "Python 3 (ipykernel)",
   "language": "python",
   "name": "python3"
  },
  "language_info": {
   "codemirror_mode": {
    "name": "ipython",
    "version": 3
   },
   "file_extension": ".py",
   "mimetype": "text/x-python",
   "name": "python",
   "nbconvert_exporter": "python",
   "pygments_lexer": "ipython3",
   "version": "3.11.4"
  },
  "toc": {
   "base_numbering": 1,
   "nav_menu": {},
   "number_sections": true,
   "sideBar": true,
   "skip_h1_title": false,
   "title_cell": "Table of Contents",
   "title_sidebar": "Contents",
   "toc_cell": false,
   "toc_position": {
    "height": "calc(100% - 180px)",
    "left": "10px",
    "top": "150px",
    "width": "301.713px"
   },
   "toc_section_display": true,
   "toc_window_display": true
  }
 },
 "nbformat": 4,
 "nbformat_minor": 5
}
