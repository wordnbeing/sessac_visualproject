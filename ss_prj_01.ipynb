{
 "cells": [
  {
   "cell_type": "markdown",
   "id": "2fcc8799",
   "metadata": {},
   "source": [
    "데이터수집 -> 전처리 -> 분석 -> 시각화\n",
    "\n",
    "기간 : 2023.10.04 - 2023.10.10\n",
    "발표 : 2023.10.11"
   ]
  },
  {
   "cell_type": "code",
   "execution_count": 1,
   "id": "c1e8e057",
   "metadata": {},
   "outputs": [],
   "source": [
    "import pandas as pd\n",
    "import numpy as np"
   ]
  },
  {
   "cell_type": "code",
   "execution_count": 2,
   "id": "233e3a34",
   "metadata": {},
   "outputs": [],
   "source": [
    "import matplotlib\n",
    "from matplotlib import font_manager, rc  # 한글폰트 설정\n",
    "import platform\n",
    "\n",
    "if platform.system()==\"Windows\":\n",
    "    font_name=font_manager.FontProperties(fname=\"c:/Windows/Fonts/malgun.ttf\").get_name()\n",
    "    rc('font', family=font_name)\n",
    "    \n",
    "matplotlib.rcParams['axes.unicode_minus']=False\n",
    "\n",
    "import warnings\n",
    "warnings.filterwarnings(\"ignore\")"
   ]
  },
  {
   "cell_type": "code",
   "execution_count": 3,
   "id": "7f10fc95",
   "metadata": {},
   "outputs": [],
   "source": [
    "# 간단하게 시각화\n",
    "import plotly.express as px\n",
    "\n",
    "# 세세하게 시각화\n",
    "import plotly.graph_objects as go\n",
    "\n",
    "# subplot 생성\n",
    "from plotly.subplots import make_subplots"
   ]
  },
  {
   "cell_type": "code",
   "execution_count": 4,
   "id": "c5efae68",
   "metadata": {},
   "outputs": [],
   "source": [
    "# 판다스 plot옵션\n",
    "pd.options.plotting.backend = \"plotly\""
   ]
  },
  {
   "cell_type": "code",
   "execution_count": null,
   "id": "7e511e23",
   "metadata": {},
   "outputs": [],
   "source": []
  },
  {
   "cell_type": "markdown",
   "id": "a6f53d77",
   "metadata": {},
   "source": [
    "# data open"
   ]
  },
  {
   "cell_type": "markdown",
   "id": "c91eb2dd",
   "metadata": {},
   "source": [
    "## asset data open"
   ]
  },
  {
   "cell_type": "code",
   "execution_count": 5,
   "id": "d633cc82",
   "metadata": {},
   "outputs": [],
   "source": [
    "asset_detail = pd.read_excel(\"202303_001.xlsx\", sheet_name='상세재산')\n",
    "asset_total = pd.read_excel(\"202303_001.xlsx\", sheet_name='총계_명단')"
   ]
  },
  {
   "cell_type": "code",
   "execution_count": 6,
   "id": "247696f8",
   "metadata": {
    "scrolled": true
   },
   "outputs": [
    {
     "data": {
      "text/html": [
       "<div>\n",
       "<style scoped>\n",
       "    .dataframe tbody tr th:only-of-type {\n",
       "        vertical-align: middle;\n",
       "    }\n",
       "\n",
       "    .dataframe tbody tr th {\n",
       "        vertical-align: top;\n",
       "    }\n",
       "\n",
       "    .dataframe thead th {\n",
       "        text-align: right;\n",
       "    }\n",
       "</style>\n",
       "<table border=\"1\" class=\"dataframe\">\n",
       "  <thead>\n",
       "    <tr style=\"text-align: right;\">\n",
       "      <th></th>\n",
       "      <th>연월</th>\n",
       "      <th>no</th>\n",
       "      <th>monaCode</th>\n",
       "      <th>소속구분</th>\n",
       "      <th>소속</th>\n",
       "      <th>직위</th>\n",
       "      <th>이름</th>\n",
       "      <th>재산구분</th>\n",
       "      <th>본인과의관계</th>\n",
       "      <th>재산의 종류</th>\n",
       "      <th>소재지 면적 등 권리의 명세</th>\n",
       "      <th>종전가액</th>\n",
       "      <th>증가액</th>\n",
       "      <th>증가액실거래가격</th>\n",
       "      <th>감소액</th>\n",
       "      <th>감소액실거래가격</th>\n",
       "      <th>현재가액</th>\n",
       "      <th>변동사유</th>\n",
       "    </tr>\n",
       "  </thead>\n",
       "  <tbody>\n",
       "    <tr>\n",
       "      <th>0</th>\n",
       "      <td>202303</td>\n",
       "      <td>61</td>\n",
       "      <td>14M56632</td>\n",
       "      <td>1.국회의원</td>\n",
       "      <td>국회</td>\n",
       "      <td>국회의원</td>\n",
       "      <td>강기윤</td>\n",
       "      <td>예금</td>\n",
       "      <td>본인</td>\n",
       "      <td>NaN</td>\n",
       "      <td>경남은행 7,448(1 증가), 농협은행 3,617(150,049 감소),농협중앙회...</td>\n",
       "      <td>4123996</td>\n",
       "      <td>3949916</td>\n",
       "      <td>NaN</td>\n",
       "      <td>3975484</td>\n",
       "      <td>NaN</td>\n",
       "      <td>4098428</td>\n",
       "      <td>급여 저축 및 생활비 지출, 배우자 사업 운영자금</td>\n",
       "    </tr>\n",
       "    <tr>\n",
       "      <th>1</th>\n",
       "      <td>202303</td>\n",
       "      <td>55</td>\n",
       "      <td>14M56632</td>\n",
       "      <td>1.국회의원</td>\n",
       "      <td>국회</td>\n",
       "      <td>국회의원</td>\n",
       "      <td>강기윤</td>\n",
       "      <td>건물</td>\n",
       "      <td>배우자</td>\n",
       "      <td>공장</td>\n",
       "      <td>경상남도 창원시 의창구 팔용동 대지 2,532.70㎡ 건물1,979.08㎡</td>\n",
       "      <td>2396262</td>\n",
       "      <td>75475</td>\n",
       "      <td>NaN</td>\n",
       "      <td>0</td>\n",
       "      <td>NaN</td>\n",
       "      <td>2471737</td>\n",
       "      <td>가액변동</td>\n",
       "    </tr>\n",
       "  </tbody>\n",
       "</table>\n",
       "</div>"
      ],
      "text/plain": [
       "       연월  no  monaCode    소속구분  소속    직위   이름 재산구분 본인과의관계 재산의 종류  \\\n",
       "0  202303  61  14M56632  1.국회의원  국회  국회의원  강기윤   예금     본인    NaN   \n",
       "1  202303  55  14M56632  1.국회의원  국회  국회의원  강기윤   건물    배우자     공장   \n",
       "\n",
       "                                     소재지 면적 등 권리의 명세     종전가액      증가액  \\\n",
       "0  경남은행 7,448(1 증가), 농협은행 3,617(150,049 감소),농협중앙회...  4123996  3949916   \n",
       "1          경상남도 창원시 의창구 팔용동 대지 2,532.70㎡ 건물1,979.08㎡  2396262    75475   \n",
       "\n",
       "   증가액실거래가격      감소액  감소액실거래가격     현재가액                         변동사유  \n",
       "0       NaN  3975484       NaN  4098428  급여 저축 및 생활비 지출, 배우자 사업 운영자금  \n",
       "1       NaN        0       NaN  2471737                         가액변동  "
      ]
     },
     "execution_count": 6,
     "metadata": {},
     "output_type": "execute_result"
    }
   ],
   "source": [
    "asset_detail.head(2)"
   ]
  },
  {
   "cell_type": "code",
   "execution_count": 7,
   "id": "0c821fa2",
   "metadata": {},
   "outputs": [
    {
     "data": {
      "text/plain": [
       "(5971, 18)"
      ]
     },
     "execution_count": 7,
     "metadata": {},
     "output_type": "execute_result"
    }
   ],
   "source": [
    "asset_detail.shape"
   ]
  },
  {
   "cell_type": "code",
   "execution_count": 8,
   "id": "8229ae4f",
   "metadata": {},
   "outputs": [
    {
     "name": "stdout",
     "output_type": "stream",
     "text": [
      "<class 'pandas.core.frame.DataFrame'>\n",
      "RangeIndex: 5971 entries, 0 to 5970\n",
      "Data columns (total 18 columns):\n",
      " #   Column           Non-Null Count  Dtype  \n",
      "---  ------           --------------  -----  \n",
      " 0   연월               5971 non-null   int64  \n",
      " 1   no               5971 non-null   int64  \n",
      " 2   monaCode         5317 non-null   object \n",
      " 3   소속구분             5971 non-null   object \n",
      " 4   소속               5971 non-null   object \n",
      " 5   직위               5971 non-null   object \n",
      " 6   이름               5971 non-null   object \n",
      " 7   재산구분             5971 non-null   object \n",
      " 8   본인과의관계           5971 non-null   object \n",
      " 9   재산의 종류           3928 non-null   object \n",
      " 10  소재지 면적 등 권리의 명세  5971 non-null   object \n",
      " 11  종전가액             5971 non-null   object \n",
      " 12  증가액              5971 non-null   object \n",
      " 13  증가액실거래가격         81 non-null     float64\n",
      " 14  감소액              5971 non-null   object \n",
      " 15  감소액실거래가격         84 non-null     float64\n",
      " 16  현재가액             5971 non-null   object \n",
      " 17  변동사유             5729 non-null   object \n",
      "dtypes: float64(2), int64(2), object(14)\n",
      "memory usage: 839.8+ KB\n"
     ]
    }
   ],
   "source": [
    "asset_detail.info()"
   ]
  },
  {
   "cell_type": "code",
   "execution_count": 9,
   "id": "ecc23ea1",
   "metadata": {},
   "outputs": [
    {
     "data": {
      "text/plain": [
       "Index(['연월', 'no', 'monaCode', '소속구분', '소속', '직위', '이름', '재산구분', '본인과의관계',\n",
       "       '재산의 종류', '소재지 면적 등 권리의 명세', '종전가액', '증가액', '증가액실거래가격', '감소액',\n",
       "       '감소액실거래가격', '현재가액', '변동사유'],\n",
       "      dtype='object')"
      ]
     },
     "execution_count": 9,
     "metadata": {},
     "output_type": "execute_result"
    }
   ],
   "source": [
    "asset_detail.columns"
   ]
  },
  {
   "cell_type": "code",
   "execution_count": 10,
   "id": "92250c79",
   "metadata": {
    "scrolled": false
   },
   "outputs": [
    {
     "data": {
      "text/html": [
       "<div>\n",
       "<style scoped>\n",
       "    .dataframe tbody tr th:only-of-type {\n",
       "        vertical-align: middle;\n",
       "    }\n",
       "\n",
       "    .dataframe tbody tr th {\n",
       "        vertical-align: top;\n",
       "    }\n",
       "\n",
       "    .dataframe thead th {\n",
       "        text-align: right;\n",
       "    }\n",
       "</style>\n",
       "<table border=\"1\" class=\"dataframe\">\n",
       "  <thead>\n",
       "    <tr style=\"text-align: right;\">\n",
       "      <th></th>\n",
       "      <th>연월</th>\n",
       "      <th>no</th>\n",
       "      <th>monaCode</th>\n",
       "      <th>소속구분</th>\n",
       "      <th>소속</th>\n",
       "      <th>직위</th>\n",
       "      <th>이름</th>\n",
       "      <th>종전가액</th>\n",
       "      <th>증가액</th>\n",
       "      <th>감소액</th>\n",
       "      <th>현재가액</th>\n",
       "      <th>증감액</th>\n",
       "      <th>가액변동</th>\n",
       "    </tr>\n",
       "  </thead>\n",
       "  <tbody>\n",
       "    <tr>\n",
       "      <th>0</th>\n",
       "      <td>202303</td>\n",
       "      <td>143</td>\n",
       "      <td>YOG1280B</td>\n",
       "      <td>1.국회의원</td>\n",
       "      <td>국회</td>\n",
       "      <td>국회의원</td>\n",
       "      <td>안철수</td>\n",
       "      <td>204055509</td>\n",
       "      <td>6419280</td>\n",
       "      <td>75765185</td>\n",
       "      <td>134709604</td>\n",
       "      <td>-69345905</td>\n",
       "      <td>-69184290.0</td>\n",
       "    </tr>\n",
       "    <tr>\n",
       "      <th>1</th>\n",
       "      <td>202303</td>\n",
       "      <td>230</td>\n",
       "      <td>DPZ7685X</td>\n",
       "      <td>1.국회의원</td>\n",
       "      <td>국회</td>\n",
       "      <td>국회의원</td>\n",
       "      <td>전봉민</td>\n",
       "      <td>106555786</td>\n",
       "      <td>13196875</td>\n",
       "      <td>63835889</td>\n",
       "      <td>55916772</td>\n",
       "      <td>-50639014</td>\n",
       "      <td>NaN</td>\n",
       "    </tr>\n",
       "  </tbody>\n",
       "</table>\n",
       "</div>"
      ],
      "text/plain": [
       "       연월   no  monaCode    소속구분  소속    직위   이름       종전가액       증가액  \\\n",
       "0  202303  143  YOG1280B  1.국회의원  국회  국회의원  안철수  204055509   6419280   \n",
       "1  202303  230  DPZ7685X  1.국회의원  국회  국회의원  전봉민  106555786  13196875   \n",
       "\n",
       "        감소액       현재가액       증감액        가액변동  \n",
       "0  75765185  134709604 -69345905 -69184290.0  \n",
       "1  63835889   55916772 -50639014         NaN  "
      ]
     },
     "execution_count": 10,
     "metadata": {},
     "output_type": "execute_result"
    }
   ],
   "source": [
    "asset_total.head(2)"
   ]
  },
  {
   "cell_type": "code",
   "execution_count": 11,
   "id": "3c04a230",
   "metadata": {
    "scrolled": true
   },
   "outputs": [
    {
     "name": "stdout",
     "output_type": "stream",
     "text": [
      "<class 'pandas.core.frame.DataFrame'>\n",
      "RangeIndex: 333 entries, 0 to 332\n",
      "Data columns (total 13 columns):\n",
      " #   Column    Non-Null Count  Dtype  \n",
      "---  ------    --------------  -----  \n",
      " 0   연월        333 non-null    int64  \n",
      " 1   no        333 non-null    int64  \n",
      " 2   monaCode  297 non-null    object \n",
      " 3   소속구분      333 non-null    object \n",
      " 4   소속        333 non-null    object \n",
      " 5   직위        333 non-null    object \n",
      " 6   이름        333 non-null    object \n",
      " 7   종전가액      333 non-null    int64  \n",
      " 8   증가액       333 non-null    int64  \n",
      " 9   감소액       333 non-null    int64  \n",
      " 10  현재가액      333 non-null    int64  \n",
      " 11  증감액       333 non-null    int64  \n",
      " 12  가액변동      330 non-null    float64\n",
      "dtypes: float64(1), int64(7), object(5)\n",
      "memory usage: 33.9+ KB\n"
     ]
    }
   ],
   "source": [
    "asset_total.info()"
   ]
  },
  {
   "cell_type": "code",
   "execution_count": 12,
   "id": "b0469b53",
   "metadata": {},
   "outputs": [
    {
     "data": {
      "text/plain": [
       "33.734898212121216"
      ]
     },
     "execution_count": 12,
     "metadata": {},
     "output_type": "execute_result"
    }
   ],
   "source": [
    "(asset_total[asset_total['현재가액']>0]['현재가액'].sum()/100000)/330"
   ]
  },
  {
   "cell_type": "markdown",
   "id": "9cb03421",
   "metadata": {},
   "source": [
    "## assembly data open"
   ]
  },
  {
   "cell_type": "code",
   "execution_count": 13,
   "id": "10087903",
   "metadata": {},
   "outputs": [],
   "source": [
    "assem_detail = pd.read_excel(\"assembly_18_to_21.xlsx\", sheet_name='상세')\n",
    "assem_curr = pd.read_excel(\"assembly_18_to_21.xlsx\", sheet_name='현재')"
   ]
  },
  {
   "cell_type": "code",
   "execution_count": 14,
   "id": "6675918d",
   "metadata": {
    "scrolled": true
   },
   "outputs": [
    {
     "data": {
      "text/html": [
       "<div>\n",
       "<style scoped>\n",
       "    .dataframe tbody tr th:only-of-type {\n",
       "        vertical-align: middle;\n",
       "    }\n",
       "\n",
       "    .dataframe tbody tr th {\n",
       "        vertical-align: top;\n",
       "    }\n",
       "\n",
       "    .dataframe thead th {\n",
       "        text-align: right;\n",
       "    }\n",
       "</style>\n",
       "<table border=\"1\" class=\"dataframe\">\n",
       "  <thead>\n",
       "    <tr style=\"text-align: right;\">\n",
       "      <th></th>\n",
       "      <th>대수</th>\n",
       "      <th>hjId</th>\n",
       "      <th>monaCode</th>\n",
       "      <th>이름</th>\n",
       "      <th>특이사항</th>\n",
       "      <th>한자</th>\n",
       "      <th>영문명</th>\n",
       "      <th>양력/음력</th>\n",
       "      <th>생년월일</th>\n",
       "      <th>성별</th>\n",
       "      <th>...</th>\n",
       "      <th>직책</th>\n",
       "      <th>전화</th>\n",
       "      <th>위원회</th>\n",
       "      <th>이메일</th>\n",
       "      <th>홈페이지</th>\n",
       "      <th>보좌관</th>\n",
       "      <th>선임비서관</th>\n",
       "      <th>비서관</th>\n",
       "      <th>주요약력</th>\n",
       "      <th>사무실</th>\n",
       "    </tr>\n",
       "  </thead>\n",
       "  <tbody>\n",
       "    <tr>\n",
       "      <th>0</th>\n",
       "      <td>18</td>\n",
       "      <td>2448.0</td>\n",
       "      <td>XQ98168F</td>\n",
       "      <td>강길부</td>\n",
       "      <td>NaN</td>\n",
       "      <td>姜吉夫</td>\n",
       "      <td>KANG GHILBOO</td>\n",
       "      <td>음</td>\n",
       "      <td>1942-06-05</td>\n",
       "      <td>남</td>\n",
       "      <td>...</td>\n",
       "      <td>NaN</td>\n",
       "      <td>NaN</td>\n",
       "      <td>NaN</td>\n",
       "      <td>NaN</td>\n",
       "      <td>NaN</td>\n",
       "      <td>NaN</td>\n",
       "      <td>NaN</td>\n",
       "      <td>NaN</td>\n",
       "      <td>NaN</td>\n",
       "      <td>NaN</td>\n",
       "    </tr>\n",
       "    <tr>\n",
       "      <th>1</th>\n",
       "      <td>18</td>\n",
       "      <td>2451.0</td>\n",
       "      <td>8I61593E</td>\n",
       "      <td>강석호</td>\n",
       "      <td>NaN</td>\n",
       "      <td>姜碩鎬</td>\n",
       "      <td>KANG SEOKHO</td>\n",
       "      <td>음</td>\n",
       "      <td>1955-12-03</td>\n",
       "      <td>남</td>\n",
       "      <td>...</td>\n",
       "      <td>NaN</td>\n",
       "      <td>NaN</td>\n",
       "      <td>NaN</td>\n",
       "      <td>NaN</td>\n",
       "      <td>NaN</td>\n",
       "      <td>NaN</td>\n",
       "      <td>NaN</td>\n",
       "      <td>NaN</td>\n",
       "      <td>NaN</td>\n",
       "      <td>NaN</td>\n",
       "    </tr>\n",
       "    <tr>\n",
       "      <th>2</th>\n",
       "      <td>18</td>\n",
       "      <td>2456.0</td>\n",
       "      <td>TOU1222X</td>\n",
       "      <td>강창일</td>\n",
       "      <td>NaN</td>\n",
       "      <td>姜昌一</td>\n",
       "      <td>KANG CHANGIL</td>\n",
       "      <td>음</td>\n",
       "      <td>1952-01-28</td>\n",
       "      <td>남</td>\n",
       "      <td>...</td>\n",
       "      <td>NaN</td>\n",
       "      <td>NaN</td>\n",
       "      <td>NaN</td>\n",
       "      <td>NaN</td>\n",
       "      <td>NaN</td>\n",
       "      <td>NaN</td>\n",
       "      <td>NaN</td>\n",
       "      <td>NaN</td>\n",
       "      <td>NaN</td>\n",
       "      <td>NaN</td>\n",
       "    </tr>\n",
       "  </tbody>\n",
       "</table>\n",
       "<p>3 rows × 24 columns</p>\n",
       "</div>"
      ],
      "text/plain": [
       "   대수    hjId  monaCode   이름 특이사항   한자           영문명 양력/음력       생년월일 성별  ...  \\\n",
       "0  18  2448.0  XQ98168F  강길부  NaN  姜吉夫  KANG GHILBOO     음 1942-06-05  남  ...   \n",
       "1  18  2451.0  8I61593E  강석호  NaN  姜碩鎬   KANG SEOKHO     음 1955-12-03  남  ...   \n",
       "2  18  2456.0  TOU1222X  강창일  NaN  姜昌一  KANG CHANGIL     음 1952-01-28  남  ...   \n",
       "\n",
       "    직책   전화  위원회  이메일 홈페이지  보좌관 선임비서관  비서관 주요약력  사무실  \n",
       "0  NaN  NaN  NaN  NaN  NaN  NaN   NaN  NaN  NaN  NaN  \n",
       "1  NaN  NaN  NaN  NaN  NaN  NaN   NaN  NaN  NaN  NaN  \n",
       "2  NaN  NaN  NaN  NaN  NaN  NaN   NaN  NaN  NaN  NaN  \n",
       "\n",
       "[3 rows x 24 columns]"
      ]
     },
     "execution_count": 14,
     "metadata": {},
     "output_type": "execute_result"
    }
   ],
   "source": [
    "assem_detail.head(3)"
   ]
  },
  {
   "cell_type": "code",
   "execution_count": 15,
   "id": "78048fe6",
   "metadata": {},
   "outputs": [
    {
     "data": {
      "text/plain": [
       "316"
      ]
     },
     "execution_count": 15,
     "metadata": {},
     "output_type": "execute_result"
    }
   ],
   "source": [
    "len(assem_detail[(assem_detail['대수']==21)])"
   ]
  },
  {
   "cell_type": "code",
   "execution_count": 16,
   "id": "936a6e0c",
   "metadata": {},
   "outputs": [
    {
     "data": {
      "text/plain": [
       "Index(['대수', 'hjId', 'monaCode', '이름', '특이사항', '한자', '영문명', '양력/음력', '생년월일',\n",
       "       '성별', '재선횟수', '정당', '선거구', '당선구분', '직책', '전화', '위원회', '이메일', '홈페이지',\n",
       "       '보좌관', '선임비서관', '비서관', '주요약력', '사무실'],\n",
       "      dtype='object')"
      ]
     },
     "execution_count": 16,
     "metadata": {},
     "output_type": "execute_result"
    }
   ],
   "source": [
    "assem_detail.columns"
   ]
  },
  {
   "cell_type": "code",
   "execution_count": 17,
   "id": "91a56527",
   "metadata": {},
   "outputs": [
    {
     "data": {
      "text/plain": [
       "array(['무소속', '새누리당', '더불어민주당', '국민의당', '자유한국당', '민주통합당', '통합진보당',\n",
       "       '자유선진당', '민주노동당', '한나라당', '통합민주당', '친박연대', '민주당', '창조한국당', '진보신당',\n",
       "       '정의당', '새정치민주연합', '바른미래당', '국민의힘', '진보당', '열린우리당', '새천년민주당',\n",
       "       '기본소득당', '시대전환', '미래통합당', '미래한국당'], dtype=object)"
      ]
     },
     "execution_count": 17,
     "metadata": {},
     "output_type": "execute_result"
    }
   ],
   "source": [
    "assem_detail['정당'].unique()"
   ]
  },
  {
   "cell_type": "code",
   "execution_count": 18,
   "id": "3a28b65a",
   "metadata": {},
   "outputs": [
    {
     "data": {
      "text/plain": [
       "(60, 3)"
      ]
     },
     "execution_count": 18,
     "metadata": {},
     "output_type": "execute_result"
    }
   ],
   "source": [
    "assem_detail[(assem_detail['대수'] == 21) & (assem_detail['정당'] == '국민의힘')][['대수','이름','정당']].shape"
   ]
  },
  {
   "cell_type": "code",
   "execution_count": 19,
   "id": "587e15a4",
   "metadata": {},
   "outputs": [
    {
     "data": {
      "text/html": [
       "<div>\n",
       "<style scoped>\n",
       "    .dataframe tbody tr th:only-of-type {\n",
       "        vertical-align: middle;\n",
       "    }\n",
       "\n",
       "    .dataframe tbody tr th {\n",
       "        vertical-align: top;\n",
       "    }\n",
       "\n",
       "    .dataframe thead th {\n",
       "        text-align: right;\n",
       "    }\n",
       "</style>\n",
       "<table border=\"1\" class=\"dataframe\">\n",
       "  <thead>\n",
       "    <tr style=\"text-align: right;\">\n",
       "      <th></th>\n",
       "      <th>번호</th>\n",
       "      <th>교섭단체</th>\n",
       "      <th>정당</th>\n",
       "      <th>지역구</th>\n",
       "      <th>비례대표</th>\n",
       "      <th>계</th>\n",
       "      <th>비율</th>\n",
       "    </tr>\n",
       "  </thead>\n",
       "  <tbody>\n",
       "    <tr>\n",
       "      <th>0</th>\n",
       "      <td>1</td>\n",
       "      <td>교섭단체</td>\n",
       "      <td>더불어민주당</td>\n",
       "      <td>152</td>\n",
       "      <td>16</td>\n",
       "      <td>168</td>\n",
       "      <td>56.38</td>\n",
       "    </tr>\n",
       "    <tr>\n",
       "      <th>1</th>\n",
       "      <td>2</td>\n",
       "      <td>교섭단체</td>\n",
       "      <td>국민의힘</td>\n",
       "      <td>89</td>\n",
       "      <td>22</td>\n",
       "      <td>111</td>\n",
       "      <td>37.25</td>\n",
       "    </tr>\n",
       "    <tr>\n",
       "      <th>2</th>\n",
       "      <td>3</td>\n",
       "      <td>비교섭단체</td>\n",
       "      <td>정의당</td>\n",
       "      <td>1</td>\n",
       "      <td>5</td>\n",
       "      <td>6</td>\n",
       "      <td>2.01</td>\n",
       "    </tr>\n",
       "    <tr>\n",
       "      <th>3</th>\n",
       "      <td>4</td>\n",
       "      <td>비교섭단체</td>\n",
       "      <td>기본소득당</td>\n",
       "      <td>0</td>\n",
       "      <td>1</td>\n",
       "      <td>1</td>\n",
       "      <td>0.34</td>\n",
       "    </tr>\n",
       "    <tr>\n",
       "      <th>4</th>\n",
       "      <td>5</td>\n",
       "      <td>비교섭단체</td>\n",
       "      <td>시대전환</td>\n",
       "      <td>0</td>\n",
       "      <td>1</td>\n",
       "      <td>1</td>\n",
       "      <td>0.34</td>\n",
       "    </tr>\n",
       "    <tr>\n",
       "      <th>5</th>\n",
       "      <td>6</td>\n",
       "      <td>비교섭단체</td>\n",
       "      <td>진보당</td>\n",
       "      <td>1</td>\n",
       "      <td>0</td>\n",
       "      <td>1</td>\n",
       "      <td>0.34</td>\n",
       "    </tr>\n",
       "    <tr>\n",
       "      <th>6</th>\n",
       "      <td>7</td>\n",
       "      <td>비교섭단체</td>\n",
       "      <td>한국의희망</td>\n",
       "      <td>1</td>\n",
       "      <td>0</td>\n",
       "      <td>1</td>\n",
       "      <td>0.34</td>\n",
       "    </tr>\n",
       "    <tr>\n",
       "      <th>7</th>\n",
       "      <td>8</td>\n",
       "      <td>비교섭단체</td>\n",
       "      <td>무소속</td>\n",
       "      <td>7</td>\n",
       "      <td>2</td>\n",
       "      <td>9</td>\n",
       "      <td>3.02</td>\n",
       "    </tr>\n",
       "    <tr>\n",
       "      <th>8</th>\n",
       "      <td>9</td>\n",
       "      <td>합계</td>\n",
       "      <td>NaN</td>\n",
       "      <td>251</td>\n",
       "      <td>47</td>\n",
       "      <td>298</td>\n",
       "      <td>100.00</td>\n",
       "    </tr>\n",
       "  </tbody>\n",
       "</table>\n",
       "</div>"
      ],
      "text/plain": [
       "   번호   교섭단체      정당  지역구  비례대표    계      비율\n",
       "0   1   교섭단체  더불어민주당  152    16  168   56.38\n",
       "1   2   교섭단체    국민의힘   89    22  111   37.25\n",
       "2   3  비교섭단체     정의당    1     5    6    2.01\n",
       "3   4  비교섭단체   기본소득당    0     1    1    0.34\n",
       "4   5  비교섭단체    시대전환    0     1    1    0.34\n",
       "5   6  비교섭단체     진보당    1     0    1    0.34\n",
       "6   7  비교섭단체   한국의희망    1     0    1    0.34\n",
       "7   8  비교섭단체     무소속    7     2    9    3.02\n",
       "8   9     합계     NaN  251    47  298  100.00"
      ]
     },
     "execution_count": 19,
     "metadata": {},
     "output_type": "execute_result"
    }
   ],
   "source": [
    "assem_curr"
   ]
  },
  {
   "cell_type": "code",
   "execution_count": 20,
   "id": "4657476c",
   "metadata": {},
   "outputs": [],
   "source": [
    "asset_detail['종전가액'] = pd.to_numeric(asset_detail['종전가액'], errors='coerce')\n",
    "asset_detail['증가액'] = pd.to_numeric(asset_detail['증가액'], errors='coerce')\n",
    "asset_detail['증가액실거래가격'] = pd.to_numeric(asset_detail['증가액실거래가격'], errors='coerce')\n",
    "asset_detail['감소액'] = pd.to_numeric(asset_detail['감소액'], errors='coerce')\n",
    "asset_detail['감소액실거래가격'] = pd.to_numeric(asset_detail['감소액실거래가격'], errors='coerce')\n",
    "asset_detail['현재가액'] = pd.to_numeric(asset_detail['현재가액'], errors='coerce')"
   ]
  },
  {
   "cell_type": "code",
   "execution_count": 21,
   "id": "5e878da3",
   "metadata": {},
   "outputs": [
    {
     "name": "stdout",
     "output_type": "stream",
     "text": [
      "<class 'pandas.core.frame.DataFrame'>\n",
      "RangeIndex: 5971 entries, 0 to 5970\n",
      "Data columns (total 6 columns):\n",
      " #   Column    Non-Null Count  Dtype  \n",
      "---  ------    --------------  -----  \n",
      " 0   종전가액      5939 non-null   float64\n",
      " 1   증가액       5939 non-null   float64\n",
      " 2   증가액실거래가격  81 non-null     float64\n",
      " 3   감소액       5939 non-null   float64\n",
      " 4   감소액실거래가격  84 non-null     float64\n",
      " 5   현재가액      5939 non-null   float64\n",
      "dtypes: float64(6)\n",
      "memory usage: 280.0 KB\n"
     ]
    }
   ],
   "source": [
    "asset_detail[['종전가액','증가액','증가액실거래가격','감소액','감소액실거래가격','현재가액']].info()"
   ]
  },
  {
   "cell_type": "code",
   "execution_count": 22,
   "id": "b6c8c796",
   "metadata": {},
   "outputs": [
    {
     "data": {
      "text/html": [
       "<div>\n",
       "<style scoped>\n",
       "    .dataframe tbody tr th:only-of-type {\n",
       "        vertical-align: middle;\n",
       "    }\n",
       "\n",
       "    .dataframe tbody tr th {\n",
       "        vertical-align: top;\n",
       "    }\n",
       "\n",
       "    .dataframe thead th {\n",
       "        text-align: right;\n",
       "    }\n",
       "</style>\n",
       "<table border=\"1\" class=\"dataframe\">\n",
       "  <thead>\n",
       "    <tr style=\"text-align: right;\">\n",
       "      <th></th>\n",
       "      <th>종전가액</th>\n",
       "      <th>증가액</th>\n",
       "      <th>증가액실거래가격</th>\n",
       "      <th>감소액</th>\n",
       "      <th>감소액실거래가격</th>\n",
       "      <th>현재가액</th>\n",
       "    </tr>\n",
       "  </thead>\n",
       "  <tbody>\n",
       "    <tr>\n",
       "      <th>0</th>\n",
       "      <td>4123996.0</td>\n",
       "      <td>3949916.0</td>\n",
       "      <td>NaN</td>\n",
       "      <td>3975484.0</td>\n",
       "      <td>NaN</td>\n",
       "      <td>4098428.0</td>\n",
       "    </tr>\n",
       "    <tr>\n",
       "      <th>1</th>\n",
       "      <td>2396262.0</td>\n",
       "      <td>75475.0</td>\n",
       "      <td>NaN</td>\n",
       "      <td>0.0</td>\n",
       "      <td>NaN</td>\n",
       "      <td>2471737.0</td>\n",
       "    </tr>\n",
       "    <tr>\n",
       "      <th>2</th>\n",
       "      <td>2203150.0</td>\n",
       "      <td>0.0</td>\n",
       "      <td>NaN</td>\n",
       "      <td>653150.0</td>\n",
       "      <td>NaN</td>\n",
       "      <td>1550000.0</td>\n",
       "    </tr>\n",
       "    <tr>\n",
       "      <th>3</th>\n",
       "      <td>1332280.0</td>\n",
       "      <td>0.0</td>\n",
       "      <td>NaN</td>\n",
       "      <td>382280.0</td>\n",
       "      <td>NaN</td>\n",
       "      <td>950000.0</td>\n",
       "    </tr>\n",
       "    <tr>\n",
       "      <th>4</th>\n",
       "      <td>721005.0</td>\n",
       "      <td>619516.0</td>\n",
       "      <td>NaN</td>\n",
       "      <td>603352.0</td>\n",
       "      <td>NaN</td>\n",
       "      <td>737169.0</td>\n",
       "    </tr>\n",
       "    <tr>\n",
       "      <th>...</th>\n",
       "      <td>...</td>\n",
       "      <td>...</td>\n",
       "      <td>...</td>\n",
       "      <td>...</td>\n",
       "      <td>...</td>\n",
       "      <td>...</td>\n",
       "    </tr>\n",
       "    <tr>\n",
       "      <th>5966</th>\n",
       "      <td>13590.0</td>\n",
       "      <td>7459.0</td>\n",
       "      <td>NaN</td>\n",
       "      <td>0.0</td>\n",
       "      <td>NaN</td>\n",
       "      <td>21049.0</td>\n",
       "    </tr>\n",
       "    <tr>\n",
       "      <th>5967</th>\n",
       "      <td>21666.0</td>\n",
       "      <td>0.0</td>\n",
       "      <td>NaN</td>\n",
       "      <td>3421.0</td>\n",
       "      <td>NaN</td>\n",
       "      <td>18245.0</td>\n",
       "    </tr>\n",
       "    <tr>\n",
       "      <th>5968</th>\n",
       "      <td>400000.0</td>\n",
       "      <td>0.0</td>\n",
       "      <td>NaN</td>\n",
       "      <td>400000.0</td>\n",
       "      <td>NaN</td>\n",
       "      <td>0.0</td>\n",
       "    </tr>\n",
       "    <tr>\n",
       "      <th>5969</th>\n",
       "      <td>70000.0</td>\n",
       "      <td>0.0</td>\n",
       "      <td>NaN</td>\n",
       "      <td>70000.0</td>\n",
       "      <td>NaN</td>\n",
       "      <td>0.0</td>\n",
       "    </tr>\n",
       "    <tr>\n",
       "      <th>5970</th>\n",
       "      <td>0.0</td>\n",
       "      <td>0.0</td>\n",
       "      <td>NaN</td>\n",
       "      <td>0.0</td>\n",
       "      <td>NaN</td>\n",
       "      <td>0.0</td>\n",
       "    </tr>\n",
       "  </tbody>\n",
       "</table>\n",
       "<p>5971 rows × 6 columns</p>\n",
       "</div>"
      ],
      "text/plain": [
       "           종전가액        증가액  증가액실거래가격        감소액  감소액실거래가격       현재가액\n",
       "0     4123996.0  3949916.0       NaN  3975484.0       NaN  4098428.0\n",
       "1     2396262.0    75475.0       NaN        0.0       NaN  2471737.0\n",
       "2     2203150.0        0.0       NaN   653150.0       NaN  1550000.0\n",
       "3     1332280.0        0.0       NaN   382280.0       NaN   950000.0\n",
       "4      721005.0   619516.0       NaN   603352.0       NaN   737169.0\n",
       "...         ...        ...       ...        ...       ...        ...\n",
       "5966    13590.0     7459.0       NaN        0.0       NaN    21049.0\n",
       "5967    21666.0        0.0       NaN     3421.0       NaN    18245.0\n",
       "5968   400000.0        0.0       NaN   400000.0       NaN        0.0\n",
       "5969    70000.0        0.0       NaN    70000.0       NaN        0.0\n",
       "5970        0.0        0.0       NaN        0.0       NaN        0.0\n",
       "\n",
       "[5971 rows x 6 columns]"
      ]
     },
     "execution_count": 22,
     "metadata": {},
     "output_type": "execute_result"
    }
   ],
   "source": [
    "asset_detail[['종전가액','증가액','증가액실거래가격','감소액','감소액실거래가격','현재가액']]"
   ]
  },
  {
   "cell_type": "code",
   "execution_count": 23,
   "id": "f628c286",
   "metadata": {},
   "outputs": [
    {
     "data": {
      "text/plain": [
       "(5971, 18)"
      ]
     },
     "execution_count": 23,
     "metadata": {},
     "output_type": "execute_result"
    }
   ],
   "source": [
    "asset_detail.shape"
   ]
  },
  {
   "cell_type": "code",
   "execution_count": 24,
   "id": "726588d4",
   "metadata": {},
   "outputs": [
    {
     "data": {
      "text/plain": [
       "array(['1.국회의원', '2.국회사무처', '3.국회도서관', '5.국회입법조사처', '4.국회예산정책처'],\n",
       "      dtype=object)"
      ]
     },
     "execution_count": 24,
     "metadata": {},
     "output_type": "execute_result"
    }
   ],
   "source": [
    "asset_detail['소속구분'].unique()"
   ]
  },
  {
   "cell_type": "code",
   "execution_count": null,
   "id": "e671ec2c",
   "metadata": {},
   "outputs": [],
   "source": []
  },
  {
   "cell_type": "markdown",
   "id": "913706d3",
   "metadata": {},
   "source": [
    "# 재산구분, 재산의 종류"
   ]
  },
  {
   "cell_type": "markdown",
   "id": "dd860414",
   "metadata": {},
   "source": [
    "## 재산의 구분, 종류"
   ]
  },
  {
   "cell_type": "code",
   "execution_count": 25,
   "id": "60e01ea3",
   "metadata": {},
   "outputs": [
    {
     "data": {
      "text/plain": [
       "Index(['연월', 'no', 'monaCode', '소속구분', '소속', '직위', '이름', '재산구분', '본인과의관계',\n",
       "       '재산의 종류', '소재지 면적 등 권리의 명세', '종전가액', '증가액', '증가액실거래가격', '감소액',\n",
       "       '감소액실거래가격', '현재가액', '변동사유'],\n",
       "      dtype='object')"
      ]
     },
     "execution_count": 25,
     "metadata": {},
     "output_type": "execute_result"
    }
   ],
   "source": [
    "asset_detail.columns"
   ]
  },
  {
   "cell_type": "code",
   "execution_count": 26,
   "id": "eae3c462",
   "metadata": {
    "scrolled": false
   },
   "outputs": [
    {
     "data": {
      "text/plain": [
       "(array(['예금', '건물', '증권', '토지', '채무',\n",
       "        '부동산에 관한 규정이 준용되는 권리와 자동차·건설기계·선박 및 항공기',\n",
       "        '정치자금법에 따른 정치자금의 수입 및 지출을 위한 예금계좌의 예금', '채권', '고지거부 및 등록제외사항',\n",
       "        '보석류', '회원권', '비영리법인에 출연한 재산', '현금', '지식재산권', '합명·합자·유한회사 출자지분',\n",
       "        '금 및 백금', '골동품 및 예술품'], dtype=object),\n",
       " 17)"
      ]
     },
     "execution_count": 26,
     "metadata": {},
     "output_type": "execute_result"
    }
   ],
   "source": [
    "asset_detail['재산구분'].unique(), len(asset_detail['재산구분'].unique())"
   ]
  },
  {
   "cell_type": "code",
   "execution_count": 27,
   "id": "db09b48f",
   "metadata": {},
   "outputs": [
    {
     "data": {
      "text/plain": [
       "(array([nan, '공장', '비상장주식', '아파트(전세(임차)권)', '연립주택', '과수원', '대지', '금융채무',\n",
       "        '답', '상가', '임야', '기타', '자동차', '건물임대채무', '사무실(전세(임차)권)',\n",
       "        '오피스텔(전세(임차)권)', '다세대주택(전세(임차)권)', '아파트', '상장주식', '금융채', '전',\n",
       "        '잡종지', '토지임대채무', '창고', '상가(전세(임차)권)', '단독주택(전세(임차)권)', '묘지',\n",
       "        '오피스텔(분양권)', '오피스텔', '도로', '근린생활시설', '국채', '기타(채권)',\n",
       "        '복합건물(주택+상가)(전세(임차)권)', '콘도미니엄', '출연', '숙박시설', '숙박시설(분양권)', '단독주택',\n",
       "        '다세대주택', '회사채', '목장용지', '근린생활시설(전세(임차)권)', '저작재산권',\n",
       "        '다가구주택(전세(임차)권)', '아파트(분양권)', '복합건물(주택+상가)', '자동차관련시설',\n",
       "        '빌딩(전세(임차)권)', '헬스', '유지', '출자', '연립주택(전세(임차)권)', '공장용지', '사무실',\n",
       "        '종교용지', '골프', '다가구주택', '빌딩', '주차장', '구거', '하천', '교육연구 및복지시설',\n",
       "        '숙박시설(전세(임차)권)', '주식매수선택권', '기타(전세(임차)권)', '의료시설(전세(임차)권)', '공채'],\n",
       "       dtype=object),\n",
       " 68)"
      ]
     },
     "execution_count": 27,
     "metadata": {},
     "output_type": "execute_result"
    }
   ],
   "source": [
    "asset_detail['재산의 종류'].unique(), len(asset_detail['재산의 종류'].unique())"
   ]
  },
  {
   "cell_type": "markdown",
   "id": "9019d78e",
   "metadata": {},
   "source": [
    "## 재산의 구분과 종류에 따른 합계"
   ]
  },
  {
   "cell_type": "code",
   "execution_count": 28,
   "id": "77bf648b",
   "metadata": {},
   "outputs": [
    {
     "data": {
      "text/plain": [
       "array(['예금', '건물', '증권', '토지', '채무',\n",
       "       '부동산에 관한 규정이 준용되는 권리와 자동차·건설기계·선박 및 항공기',\n",
       "       '정치자금법에 따른 정치자금의 수입 및 지출을 위한 예금계좌의 예금', '채권', '고지거부 및 등록제외사항',\n",
       "       '보석류', '회원권', '비영리법인에 출연한 재산', '현금', '지식재산권', '합명·합자·유한회사 출자지분',\n",
       "       '금 및 백금', '골동품 및 예술품'], dtype=object)"
      ]
     },
     "execution_count": 28,
     "metadata": {},
     "output_type": "execute_result"
    }
   ],
   "source": [
    "asset_detail['재산구분'].unique()"
   ]
  },
  {
   "cell_type": "code",
   "execution_count": 29,
   "id": "8f7378b8",
   "metadata": {
    "scrolled": true
   },
   "outputs": [
    {
     "data": {
      "text/html": [
       "<div>\n",
       "<style scoped>\n",
       "    .dataframe tbody tr th:only-of-type {\n",
       "        vertical-align: middle;\n",
       "    }\n",
       "\n",
       "    .dataframe tbody tr th {\n",
       "        vertical-align: top;\n",
       "    }\n",
       "\n",
       "    .dataframe thead th {\n",
       "        text-align: right;\n",
       "    }\n",
       "</style>\n",
       "<table border=\"1\" class=\"dataframe\">\n",
       "  <thead>\n",
       "    <tr style=\"text-align: right;\">\n",
       "      <th></th>\n",
       "      <th>연월</th>\n",
       "      <th>no</th>\n",
       "      <th>종전가액</th>\n",
       "      <th>증가액</th>\n",
       "      <th>증가액실거래가격</th>\n",
       "      <th>감소액</th>\n",
       "      <th>감소액실거래가격</th>\n",
       "      <th>현재가액</th>\n",
       "    </tr>\n",
       "  </thead>\n",
       "  <tbody>\n",
       "    <tr>\n",
       "      <th>count</th>\n",
       "      <td>1226.0</td>\n",
       "      <td>1226.000000</td>\n",
       "      <td>1.226000e+03</td>\n",
       "      <td>1.226000e+03</td>\n",
       "      <td>0.0</td>\n",
       "      <td>1.226000e+03</td>\n",
       "      <td>0.0</td>\n",
       "      <td>1.226000e+03</td>\n",
       "    </tr>\n",
       "    <tr>\n",
       "      <th>mean</th>\n",
       "      <td>202303.0</td>\n",
       "      <td>2971.225938</td>\n",
       "      <td>2.101724e+05</td>\n",
       "      <td>9.322438e+04</td>\n",
       "      <td>NaN</td>\n",
       "      <td>9.470770e+04</td>\n",
       "      <td>NaN</td>\n",
       "      <td>2.086890e+05</td>\n",
       "    </tr>\n",
       "    <tr>\n",
       "      <th>std</th>\n",
       "      <td>0.0</td>\n",
       "      <td>1743.115816</td>\n",
       "      <td>5.945360e+05</td>\n",
       "      <td>2.905588e+05</td>\n",
       "      <td>NaN</td>\n",
       "      <td>3.689656e+05</td>\n",
       "      <td>NaN</td>\n",
       "      <td>5.072947e+05</td>\n",
       "    </tr>\n",
       "    <tr>\n",
       "      <th>min</th>\n",
       "      <td>202303.0</td>\n",
       "      <td>4.000000</td>\n",
       "      <td>0.000000e+00</td>\n",
       "      <td>0.000000e+00</td>\n",
       "      <td>NaN</td>\n",
       "      <td>0.000000e+00</td>\n",
       "      <td>NaN</td>\n",
       "      <td>0.000000e+00</td>\n",
       "    </tr>\n",
       "    <tr>\n",
       "      <th>25%</th>\n",
       "      <td>202303.0</td>\n",
       "      <td>1417.250000</td>\n",
       "      <td>1.187900e+04</td>\n",
       "      <td>2.420500e+03</td>\n",
       "      <td>NaN</td>\n",
       "      <td>4.067500e+02</td>\n",
       "      <td>NaN</td>\n",
       "      <td>1.416575e+04</td>\n",
       "    </tr>\n",
       "    <tr>\n",
       "      <th>50%</th>\n",
       "      <td>202303.0</td>\n",
       "      <td>2933.500000</td>\n",
       "      <td>5.689350e+04</td>\n",
       "      <td>1.540000e+04</td>\n",
       "      <td>NaN</td>\n",
       "      <td>8.193000e+03</td>\n",
       "      <td>NaN</td>\n",
       "      <td>6.048200e+04</td>\n",
       "    </tr>\n",
       "    <tr>\n",
       "      <th>75%</th>\n",
       "      <td>202303.0</td>\n",
       "      <td>4518.750000</td>\n",
       "      <td>1.765470e+05</td>\n",
       "      <td>6.232875e+04</td>\n",
       "      <td>NaN</td>\n",
       "      <td>5.428950e+04</td>\n",
       "      <td>NaN</td>\n",
       "      <td>1.941518e+05</td>\n",
       "    </tr>\n",
       "    <tr>\n",
       "      <th>max</th>\n",
       "      <td>202303.0</td>\n",
       "      <td>5966.000000</td>\n",
       "      <td>1.283402e+07</td>\n",
       "      <td>3.949916e+06</td>\n",
       "      <td>NaN</td>\n",
       "      <td>7.358470e+06</td>\n",
       "      <td>NaN</td>\n",
       "      <td>8.720813e+06</td>\n",
       "    </tr>\n",
       "  </tbody>\n",
       "</table>\n",
       "</div>"
      ],
      "text/plain": [
       "             연월           no          종전가액           증가액  증가액실거래가격  \\\n",
       "count    1226.0  1226.000000  1.226000e+03  1.226000e+03       0.0   \n",
       "mean   202303.0  2971.225938  2.101724e+05  9.322438e+04       NaN   \n",
       "std         0.0  1743.115816  5.945360e+05  2.905588e+05       NaN   \n",
       "min    202303.0     4.000000  0.000000e+00  0.000000e+00       NaN   \n",
       "25%    202303.0  1417.250000  1.187900e+04  2.420500e+03       NaN   \n",
       "50%    202303.0  2933.500000  5.689350e+04  1.540000e+04       NaN   \n",
       "75%    202303.0  4518.750000  1.765470e+05  6.232875e+04       NaN   \n",
       "max    202303.0  5966.000000  1.283402e+07  3.949916e+06       NaN   \n",
       "\n",
       "                감소액  감소액실거래가격          현재가액  \n",
       "count  1.226000e+03       0.0  1.226000e+03  \n",
       "mean   9.470770e+04       NaN  2.086890e+05  \n",
       "std    3.689656e+05       NaN  5.072947e+05  \n",
       "min    0.000000e+00       NaN  0.000000e+00  \n",
       "25%    4.067500e+02       NaN  1.416575e+04  \n",
       "50%    8.193000e+03       NaN  6.048200e+04  \n",
       "75%    5.428950e+04       NaN  1.941518e+05  \n",
       "max    7.358470e+06       NaN  8.720813e+06  "
      ]
     },
     "execution_count": 29,
     "metadata": {},
     "output_type": "execute_result"
    }
   ],
   "source": [
    "asset_detail[asset_detail['재산구분']=='예금'].describe()"
   ]
  },
  {
   "cell_type": "code",
   "execution_count": 30,
   "id": "8dda6115",
   "metadata": {},
   "outputs": [
    {
     "data": {
      "text/html": [
       "<div>\n",
       "<style scoped>\n",
       "    .dataframe tbody tr th:only-of-type {\n",
       "        vertical-align: middle;\n",
       "    }\n",
       "\n",
       "    .dataframe tbody tr th {\n",
       "        vertical-align: top;\n",
       "    }\n",
       "\n",
       "    .dataframe thead th {\n",
       "        text-align: right;\n",
       "    }\n",
       "</style>\n",
       "<table border=\"1\" class=\"dataframe\">\n",
       "  <thead>\n",
       "    <tr style=\"text-align: right;\">\n",
       "      <th></th>\n",
       "      <th>연월</th>\n",
       "      <th>no</th>\n",
       "      <th>종전가액</th>\n",
       "      <th>증가액</th>\n",
       "      <th>증가액실거래가격</th>\n",
       "      <th>감소액</th>\n",
       "      <th>감소액실거래가격</th>\n",
       "      <th>현재가액</th>\n",
       "    </tr>\n",
       "  </thead>\n",
       "  <tbody>\n",
       "    <tr>\n",
       "      <th>count</th>\n",
       "      <td>1343.0</td>\n",
       "      <td>1343.000000</td>\n",
       "      <td>1.343000e+03</td>\n",
       "      <td>1.343000e+03</td>\n",
       "      <td>1.600000e+01</td>\n",
       "      <td>1.343000e+03</td>\n",
       "      <td>1.900000e+01</td>\n",
       "      <td>1.343000e+03</td>\n",
       "    </tr>\n",
       "    <tr>\n",
       "      <th>mean</th>\n",
       "      <td>202303.0</td>\n",
       "      <td>2929.019360</td>\n",
       "      <td>3.792728e+05</td>\n",
       "      <td>6.679850e+04</td>\n",
       "      <td>3.984824e+05</td>\n",
       "      <td>2.706855e+04</td>\n",
       "      <td>1.359789e+06</td>\n",
       "      <td>4.190027e+05</td>\n",
       "    </tr>\n",
       "    <tr>\n",
       "      <th>std</th>\n",
       "      <td>0.0</td>\n",
       "      <td>1706.091435</td>\n",
       "      <td>1.180379e+06</td>\n",
       "      <td>2.285724e+05</td>\n",
       "      <td>2.446149e+05</td>\n",
       "      <td>2.524629e+05</td>\n",
       "      <td>4.535357e+06</td>\n",
       "      <td>1.247722e+06</td>\n",
       "    </tr>\n",
       "    <tr>\n",
       "      <th>min</th>\n",
       "      <td>202303.0</td>\n",
       "      <td>1.000000</td>\n",
       "      <td>0.000000e+00</td>\n",
       "      <td>0.000000e+00</td>\n",
       "      <td>9.800000e+04</td>\n",
       "      <td>0.000000e+00</td>\n",
       "      <td>0.000000e+00</td>\n",
       "      <td>0.000000e+00</td>\n",
       "    </tr>\n",
       "    <tr>\n",
       "      <th>25%</th>\n",
       "      <td>202303.0</td>\n",
       "      <td>1465.500000</td>\n",
       "      <td>2.000000e+04</td>\n",
       "      <td>0.000000e+00</td>\n",
       "      <td>2.280025e+05</td>\n",
       "      <td>0.000000e+00</td>\n",
       "      <td>0.000000e+00</td>\n",
       "      <td>2.000000e+04</td>\n",
       "    </tr>\n",
       "    <tr>\n",
       "      <th>50%</th>\n",
       "      <td>202303.0</td>\n",
       "      <td>2980.000000</td>\n",
       "      <td>1.570000e+05</td>\n",
       "      <td>0.000000e+00</td>\n",
       "      <td>3.500000e+05</td>\n",
       "      <td>0.000000e+00</td>\n",
       "      <td>1.750000e+05</td>\n",
       "      <td>1.750000e+05</td>\n",
       "    </tr>\n",
       "    <tr>\n",
       "      <th>75%</th>\n",
       "      <td>202303.0</td>\n",
       "      <td>4422.500000</td>\n",
       "      <td>4.589310e+05</td>\n",
       "      <td>6.000000e+04</td>\n",
       "      <td>4.844520e+05</td>\n",
       "      <td>0.000000e+00</td>\n",
       "      <td>6.775000e+05</td>\n",
       "      <td>5.180000e+05</td>\n",
       "    </tr>\n",
       "    <tr>\n",
       "      <th>max</th>\n",
       "      <td>202303.0</td>\n",
       "      <td>5960.000000</td>\n",
       "      <td>3.775119e+07</td>\n",
       "      <td>5.506036e+06</td>\n",
       "      <td>1.099000e+06</td>\n",
       "      <td>7.951755e+06</td>\n",
       "      <td>2.000000e+07</td>\n",
       "      <td>4.021844e+07</td>\n",
       "    </tr>\n",
       "  </tbody>\n",
       "</table>\n",
       "</div>"
      ],
      "text/plain": [
       "             연월           no          종전가액           증가액      증가액실거래가격  \\\n",
       "count    1343.0  1343.000000  1.343000e+03  1.343000e+03  1.600000e+01   \n",
       "mean   202303.0  2929.019360  3.792728e+05  6.679850e+04  3.984824e+05   \n",
       "std         0.0  1706.091435  1.180379e+06  2.285724e+05  2.446149e+05   \n",
       "min    202303.0     1.000000  0.000000e+00  0.000000e+00  9.800000e+04   \n",
       "25%    202303.0  1465.500000  2.000000e+04  0.000000e+00  2.280025e+05   \n",
       "50%    202303.0  2980.000000  1.570000e+05  0.000000e+00  3.500000e+05   \n",
       "75%    202303.0  4422.500000  4.589310e+05  6.000000e+04  4.844520e+05   \n",
       "max    202303.0  5960.000000  3.775119e+07  5.506036e+06  1.099000e+06   \n",
       "\n",
       "                감소액      감소액실거래가격          현재가액  \n",
       "count  1.343000e+03  1.900000e+01  1.343000e+03  \n",
       "mean   2.706855e+04  1.359789e+06  4.190027e+05  \n",
       "std    2.524629e+05  4.535357e+06  1.247722e+06  \n",
       "min    0.000000e+00  0.000000e+00  0.000000e+00  \n",
       "25%    0.000000e+00  0.000000e+00  2.000000e+04  \n",
       "50%    0.000000e+00  1.750000e+05  1.750000e+05  \n",
       "75%    0.000000e+00  6.775000e+05  5.180000e+05  \n",
       "max    7.951755e+06  2.000000e+07  4.021844e+07  "
      ]
     },
     "execution_count": 30,
     "metadata": {},
     "output_type": "execute_result"
    }
   ],
   "source": [
    "asset_detail[asset_detail['재산구분']=='건물'].describe()"
   ]
  },
  {
   "cell_type": "code",
   "execution_count": 31,
   "id": "b678113d",
   "metadata": {},
   "outputs": [],
   "source": [
    "# groupby에서 nan가 있으면 기본이 drop임....\n",
    "asset_div = asset_detail.groupby(['재산구분', '재산의 종류'],dropna=False)"
   ]
  },
  {
   "cell_type": "code",
   "execution_count": 32,
   "id": "a9dc73a4",
   "metadata": {},
   "outputs": [],
   "source": [
    "asset_div = asset_detail.groupby(['재산구분', '재산의 종류'])"
   ]
  },
  {
   "cell_type": "code",
   "execution_count": 33,
   "id": "58757691",
   "metadata": {
    "scrolled": false
   },
   "outputs": [
    {
     "data": {
      "text/html": [
       "<div>\n",
       "<style scoped>\n",
       "    .dataframe tbody tr th:only-of-type {\n",
       "        vertical-align: middle;\n",
       "    }\n",
       "\n",
       "    .dataframe tbody tr th {\n",
       "        vertical-align: top;\n",
       "    }\n",
       "\n",
       "    .dataframe thead th {\n",
       "        text-align: right;\n",
       "    }\n",
       "</style>\n",
       "<table border=\"1\" class=\"dataframe\">\n",
       "  <thead>\n",
       "    <tr style=\"text-align: right;\">\n",
       "      <th></th>\n",
       "      <th>재산구분</th>\n",
       "      <th>재산의 종류</th>\n",
       "      <th>현재가액</th>\n",
       "    </tr>\n",
       "  </thead>\n",
       "  <tbody>\n",
       "    <tr>\n",
       "      <th>0</th>\n",
       "      <td>건물</td>\n",
       "      <td>공장</td>\n",
       "      <td>12815476.0</td>\n",
       "    </tr>\n",
       "    <tr>\n",
       "      <th>1</th>\n",
       "      <td>건물</td>\n",
       "      <td>교육연구 및복지시설</td>\n",
       "      <td>4335650.0</td>\n",
       "    </tr>\n",
       "    <tr>\n",
       "      <th>2</th>\n",
       "      <td>건물</td>\n",
       "      <td>근린생활시설</td>\n",
       "      <td>35832575.0</td>\n",
       "    </tr>\n",
       "    <tr>\n",
       "      <th>3</th>\n",
       "      <td>건물</td>\n",
       "      <td>근린생활시설(전세(임차)권)</td>\n",
       "      <td>1301000.0</td>\n",
       "    </tr>\n",
       "    <tr>\n",
       "      <th>4</th>\n",
       "      <td>건물</td>\n",
       "      <td>기타</td>\n",
       "      <td>5675635.0</td>\n",
       "    </tr>\n",
       "    <tr>\n",
       "      <th>...</th>\n",
       "      <td>...</td>\n",
       "      <td>...</td>\n",
       "      <td>...</td>\n",
       "    </tr>\n",
       "    <tr>\n",
       "      <th>65</th>\n",
       "      <td>토지</td>\n",
       "      <td>하천</td>\n",
       "      <td>440094.0</td>\n",
       "    </tr>\n",
       "    <tr>\n",
       "      <th>66</th>\n",
       "      <td>합명·합자·유한회사 출자지분</td>\n",
       "      <td>출자</td>\n",
       "      <td>579699.0</td>\n",
       "    </tr>\n",
       "    <tr>\n",
       "      <th>67</th>\n",
       "      <td>회원권</td>\n",
       "      <td>골프</td>\n",
       "      <td>1141000.0</td>\n",
       "    </tr>\n",
       "    <tr>\n",
       "      <th>68</th>\n",
       "      <td>회원권</td>\n",
       "      <td>콘도미니엄</td>\n",
       "      <td>436330.0</td>\n",
       "    </tr>\n",
       "    <tr>\n",
       "      <th>69</th>\n",
       "      <td>회원권</td>\n",
       "      <td>헬스</td>\n",
       "      <td>517000.0</td>\n",
       "    </tr>\n",
       "  </tbody>\n",
       "</table>\n",
       "<p>70 rows × 3 columns</p>\n",
       "</div>"
      ],
      "text/plain": [
       "               재산구분           재산의 종류        현재가액\n",
       "0                건물               공장  12815476.0\n",
       "1                건물       교육연구 및복지시설   4335650.0\n",
       "2                건물           근린생활시설  35832575.0\n",
       "3                건물  근린생활시설(전세(임차)권)   1301000.0\n",
       "4                건물               기타   5675635.0\n",
       "..              ...              ...         ...\n",
       "65               토지               하천    440094.0\n",
       "66  합명·합자·유한회사 출자지분               출자    579699.0\n",
       "67              회원권               골프   1141000.0\n",
       "68              회원권            콘도미니엄    436330.0\n",
       "69              회원권               헬스    517000.0\n",
       "\n",
       "[70 rows x 3 columns]"
      ]
     },
     "execution_count": 33,
     "metadata": {},
     "output_type": "execute_result"
    }
   ],
   "source": [
    "asset_div['현재가액'].sum().reset_index()"
   ]
  },
  {
   "cell_type": "code",
   "execution_count": 34,
   "id": "6cfef3aa",
   "metadata": {},
   "outputs": [
    {
     "ename": "KeyError",
     "evalue": "'건물'",
     "output_type": "error",
     "traceback": [
      "\u001b[1;31m---------------------------------------------------------------------------\u001b[0m",
      "\u001b[1;31mKeyError\u001b[0m                                  Traceback (most recent call last)",
      "Cell \u001b[1;32mIn[34], line 1\u001b[0m\n\u001b[1;32m----> 1\u001b[0m asset_div[\u001b[38;5;124m'\u001b[39m\u001b[38;5;124m현재가액\u001b[39m\u001b[38;5;124m'\u001b[39m]\u001b[38;5;241m.\u001b[39msum()\u001b[38;5;241m.\u001b[39mreset_index()\u001b[38;5;241m.\u001b[39mloc[\u001b[38;5;124m'\u001b[39m\u001b[38;5;124m건물\u001b[39m\u001b[38;5;124m'\u001b[39m]\n",
      "File \u001b[1;32m~\\anaconda3\\Lib\\site-packages\\pandas\\core\\indexing.py:1073\u001b[0m, in \u001b[0;36m_LocationIndexer.__getitem__\u001b[1;34m(self, key)\u001b[0m\n\u001b[0;32m   1070\u001b[0m axis \u001b[38;5;241m=\u001b[39m \u001b[38;5;28mself\u001b[39m\u001b[38;5;241m.\u001b[39maxis \u001b[38;5;129;01mor\u001b[39;00m \u001b[38;5;241m0\u001b[39m\n\u001b[0;32m   1072\u001b[0m maybe_callable \u001b[38;5;241m=\u001b[39m com\u001b[38;5;241m.\u001b[39mapply_if_callable(key, \u001b[38;5;28mself\u001b[39m\u001b[38;5;241m.\u001b[39mobj)\n\u001b[1;32m-> 1073\u001b[0m \u001b[38;5;28;01mreturn\u001b[39;00m \u001b[38;5;28mself\u001b[39m\u001b[38;5;241m.\u001b[39m_getitem_axis(maybe_callable, axis\u001b[38;5;241m=\u001b[39maxis)\n",
      "File \u001b[1;32m~\\anaconda3\\Lib\\site-packages\\pandas\\core\\indexing.py:1312\u001b[0m, in \u001b[0;36m_LocIndexer._getitem_axis\u001b[1;34m(self, key, axis)\u001b[0m\n\u001b[0;32m   1310\u001b[0m \u001b[38;5;66;03m# fall thru to straight lookup\u001b[39;00m\n\u001b[0;32m   1311\u001b[0m \u001b[38;5;28mself\u001b[39m\u001b[38;5;241m.\u001b[39m_validate_key(key, axis)\n\u001b[1;32m-> 1312\u001b[0m \u001b[38;5;28;01mreturn\u001b[39;00m \u001b[38;5;28mself\u001b[39m\u001b[38;5;241m.\u001b[39m_get_label(key, axis\u001b[38;5;241m=\u001b[39maxis)\n",
      "File \u001b[1;32m~\\anaconda3\\Lib\\site-packages\\pandas\\core\\indexing.py:1260\u001b[0m, in \u001b[0;36m_LocIndexer._get_label\u001b[1;34m(self, label, axis)\u001b[0m\n\u001b[0;32m   1258\u001b[0m \u001b[38;5;28;01mdef\u001b[39;00m \u001b[38;5;21m_get_label\u001b[39m(\u001b[38;5;28mself\u001b[39m, label, axis: \u001b[38;5;28mint\u001b[39m):\n\u001b[0;32m   1259\u001b[0m     \u001b[38;5;66;03m# GH#5567 this will fail if the label is not present in the axis.\u001b[39;00m\n\u001b[1;32m-> 1260\u001b[0m     \u001b[38;5;28;01mreturn\u001b[39;00m \u001b[38;5;28mself\u001b[39m\u001b[38;5;241m.\u001b[39mobj\u001b[38;5;241m.\u001b[39mxs(label, axis\u001b[38;5;241m=\u001b[39maxis)\n",
      "File \u001b[1;32m~\\anaconda3\\Lib\\site-packages\\pandas\\core\\generic.py:4056\u001b[0m, in \u001b[0;36mNDFrame.xs\u001b[1;34m(self, key, axis, level, drop_level)\u001b[0m\n\u001b[0;32m   4054\u001b[0m             new_index \u001b[38;5;241m=\u001b[39m index[loc]\n\u001b[0;32m   4055\u001b[0m \u001b[38;5;28;01melse\u001b[39;00m:\n\u001b[1;32m-> 4056\u001b[0m     loc \u001b[38;5;241m=\u001b[39m index\u001b[38;5;241m.\u001b[39mget_loc(key)\n\u001b[0;32m   4058\u001b[0m     \u001b[38;5;28;01mif\u001b[39;00m \u001b[38;5;28misinstance\u001b[39m(loc, np\u001b[38;5;241m.\u001b[39mndarray):\n\u001b[0;32m   4059\u001b[0m         \u001b[38;5;28;01mif\u001b[39;00m loc\u001b[38;5;241m.\u001b[39mdtype \u001b[38;5;241m==\u001b[39m np\u001b[38;5;241m.\u001b[39mbool_:\n",
      "File \u001b[1;32m~\\anaconda3\\Lib\\site-packages\\pandas\\core\\indexes\\range.py:395\u001b[0m, in \u001b[0;36mRangeIndex.get_loc\u001b[1;34m(self, key, method, tolerance)\u001b[0m\n\u001b[0;32m    393\u001b[0m             \u001b[38;5;28;01mraise\u001b[39;00m \u001b[38;5;167;01mKeyError\u001b[39;00m(key) \u001b[38;5;28;01mfrom\u001b[39;00m \u001b[38;5;21;01merr\u001b[39;00m\n\u001b[0;32m    394\u001b[0m     \u001b[38;5;28mself\u001b[39m\u001b[38;5;241m.\u001b[39m_check_indexing_error(key)\n\u001b[1;32m--> 395\u001b[0m     \u001b[38;5;28;01mraise\u001b[39;00m \u001b[38;5;167;01mKeyError\u001b[39;00m(key)\n\u001b[0;32m    396\u001b[0m \u001b[38;5;28;01mreturn\u001b[39;00m \u001b[38;5;28msuper\u001b[39m()\u001b[38;5;241m.\u001b[39mget_loc(key, method\u001b[38;5;241m=\u001b[39mmethod, tolerance\u001b[38;5;241m=\u001b[39mtolerance)\n",
      "\u001b[1;31mKeyError\u001b[0m: '건물'"
     ]
    }
   ],
   "source": [
    "asset_div['현재가액'].sum().reset_index().loc['건물']"
   ]
  },
  {
   "cell_type": "code",
   "execution_count": null,
   "id": "9900cf6a",
   "metadata": {
    "scrolled": false
   },
   "outputs": [],
   "source": [
    "temp = asset_div.sum()[['현재가액']]\n",
    "temp"
   ]
  },
  {
   "cell_type": "code",
   "execution_count": null,
   "id": "580cb7f1",
   "metadata": {},
   "outputs": [],
   "source": [
    "# temp.index"
   ]
  },
  {
   "cell_type": "code",
   "execution_count": null,
   "id": "3ef20e6c",
   "metadata": {},
   "outputs": [],
   "source": []
  },
  {
   "cell_type": "code",
   "execution_count": null,
   "id": "26884e05",
   "metadata": {},
   "outputs": [],
   "source": []
  },
  {
   "cell_type": "code",
   "execution_count": null,
   "id": "279198c1",
   "metadata": {},
   "outputs": [],
   "source": []
  },
  {
   "cell_type": "code",
   "execution_count": null,
   "id": "e5c6dd9f",
   "metadata": {},
   "outputs": [],
   "source": [
    "asset_div_si = asset_detail[['재산구분', '재산의 종류', '현재가액']]\n",
    "asset_div_si"
   ]
  },
  {
   "cell_type": "code",
   "execution_count": null,
   "id": "9ca40f12",
   "metadata": {},
   "outputs": [],
   "source": [
    "asset_total = asset_div_si['현재가액'].sum()\n",
    "asset_total / 100000 # 억원, 1조 3천 7백 42억"
   ]
  },
  {
   "cell_type": "code",
   "execution_count": null,
   "id": "a6f06789",
   "metadata": {
    "scrolled": false
   },
   "outputs": [],
   "source": [
    "asset_div_si_total = asset_div_si.groupby(['재산구분', '재산의 종류'], dropna = False).sum()\n",
    "asset_div_si_total"
   ]
  },
  {
   "cell_type": "markdown",
   "id": "9a8ef910",
   "metadata": {},
   "source": [
    "## 재산구분"
   ]
  },
  {
   "cell_type": "code",
   "execution_count": null,
   "id": "537453fe",
   "metadata": {},
   "outputs": [],
   "source": [
    "asset_div_total = asset_div_si.groupby(['재산구분']).sum()\n",
    "asset_div_total"
   ]
  },
  {
   "cell_type": "code",
   "execution_count": null,
   "id": "139b4dd6",
   "metadata": {},
   "outputs": [],
   "source": [
    "# 255,852,773,000"
   ]
  },
  {
   "cell_type": "code",
   "execution_count": null,
   "id": "9e2acc6c",
   "metadata": {
    "scrolled": false
   },
   "outputs": [],
   "source": [
    "asset_div_total.reset_index().sort_values('현재가액', ascending=False)"
   ]
  },
  {
   "cell_type": "code",
   "execution_count": null,
   "id": "f79c3847",
   "metadata": {
    "scrolled": false
   },
   "outputs": [],
   "source": [
    "px.bar(asset_div_total.reset_index().sort_values('현재가액', ascending=True), x='현재가액', y='재산구분')"
   ]
  },
  {
   "cell_type": "markdown",
   "id": "93074787",
   "metadata": {},
   "source": [
    "## 재산구분 > 재산의종류"
   ]
  },
  {
   "cell_type": "markdown",
   "id": "8b748f05",
   "metadata": {},
   "source": [
    "### 건물"
   ]
  },
  {
   "cell_type": "code",
   "execution_count": null,
   "id": "512cc6e6",
   "metadata": {
    "scrolled": false
   },
   "outputs": [],
   "source": [
    "asset_div_si_total.loc['건물'].sort_values('현재가액', ascending=False)"
   ]
  },
  {
   "cell_type": "code",
   "execution_count": null,
   "id": "7d2de685",
   "metadata": {},
   "outputs": [],
   "source": [
    "# asset_div_total.reset_index().sort_values('현재가액', ascending=True)\n",
    "asset_div_si_total.loc['건물'].reset_index().sort_values('현재가액', ascending=False)"
   ]
  },
  {
   "cell_type": "code",
   "execution_count": null,
   "id": "860e3d75",
   "metadata": {
    "scrolled": false
   },
   "outputs": [],
   "source": [
    "fig = px.bar(asset_div_si_total.loc['건물'].reset_index().sort_values('현재가액', ascending=True), x='현재가액', y='재산의 종류')\n",
    "fig.update_layout(\n",
    "    width = 1000,\n",
    "    height = 800\n",
    ")\n",
    "fig.show()"
   ]
  },
  {
   "cell_type": "code",
   "execution_count": null,
   "id": "e9328168",
   "metadata": {},
   "outputs": [],
   "source": [
    "asset_div_si_total"
   ]
  },
  {
   "cell_type": "code",
   "execution_count": null,
   "id": "92b374ef",
   "metadata": {},
   "outputs": [],
   "source": [
    "asset_div_si_total.index"
   ]
  },
  {
   "cell_type": "code",
   "execution_count": null,
   "id": "c91142ce",
   "metadata": {
    "scrolled": false
   },
   "outputs": [],
   "source": [
    "asset_div_si_total.loc['예금']"
   ]
  },
  {
   "cell_type": "code",
   "execution_count": null,
   "id": "d8dde605",
   "metadata": {},
   "outputs": [],
   "source": []
  },
  {
   "cell_type": "code",
   "execution_count": null,
   "id": "354a3c62",
   "metadata": {},
   "outputs": [],
   "source": []
  },
  {
   "cell_type": "code",
   "execution_count": null,
   "id": "379a8d02",
   "metadata": {},
   "outputs": [],
   "source": []
  }
 ],
 "metadata": {
  "kernelspec": {
   "display_name": "Python 3 (ipykernel)",
   "language": "python",
   "name": "python3"
  },
  "language_info": {
   "codemirror_mode": {
    "name": "ipython",
    "version": 3
   },
   "file_extension": ".py",
   "mimetype": "text/x-python",
   "name": "python",
   "nbconvert_exporter": "python",
   "pygments_lexer": "ipython3",
   "version": "3.11.4"
  },
  "toc": {
   "base_numbering": 1,
   "nav_menu": {},
   "number_sections": true,
   "sideBar": true,
   "skip_h1_title": false,
   "title_cell": "Table of Contents",
   "title_sidebar": "Contents",
   "toc_cell": false,
   "toc_position": {
    "height": "calc(100% - 180px)",
    "left": "10px",
    "top": "150px",
    "width": "301.493px"
   },
   "toc_section_display": true,
   "toc_window_display": true
  }
 },
 "nbformat": 4,
 "nbformat_minor": 5
}
