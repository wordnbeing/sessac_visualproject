{
 "cells": [
  {
   "cell_type": "markdown",
   "id": "2fcc8799",
   "metadata": {},
   "source": [
    "데이터수집 -> 전처리 -> 분석 -> 시각화\n",
    "\n",
    "기간 : 2023.10.04 - 2023.10.10\n",
    "발표 : 2023.10.11"
   ]
  },
  {
   "cell_type": "code",
   "execution_count": 1,
   "id": "c1e8e057",
   "metadata": {},
   "outputs": [],
   "source": [
    "import pandas as pd\n",
    "import numpy as np"
   ]
  },
  {
   "cell_type": "code",
   "execution_count": 41,
   "id": "233e3a34",
   "metadata": {},
   "outputs": [],
   "source": [
    "import matplotlib\n",
    "from matplotlib import font_manager, rc  # 한글폰트 설정\n",
    "import platform\n",
    "\n",
    "if platform.system()==\"Windows\":\n",
    "    font_name=font_manager.FontProperties(fname=\"c:/Windows/Fonts/malgun.ttf\").get_name()\n",
    "    rc('font', family=font_name)\n",
    "    \n",
    "matplotlib.rcParams['axes.unicode_minus']=False\n",
    "\n",
    "import warnings\n",
    "warnings.filterwarnings(\"ignore\")"
   ]
  },
  {
   "cell_type": "code",
   "execution_count": 47,
   "id": "7f10fc95",
   "metadata": {},
   "outputs": [],
   "source": [
    "# 간단하게 시각화\n",
    "import plotly.express as px\n",
    "\n",
    "# 세세하게 시각화\n",
    "import plotly.graph_objects as go\n",
    "\n",
    "# subplot 생성\n",
    "from plotly.subplots import make_subplots"
   ]
  },
  {
   "cell_type": "code",
   "execution_count": 101,
   "id": "c5efae68",
   "metadata": {},
   "outputs": [],
   "source": [
    "# 판다스 plot옵션\n",
    "pd.options.plotting.backend = \"plotly\""
   ]
  },
  {
   "cell_type": "code",
   "execution_count": null,
   "id": "7e511e23",
   "metadata": {},
   "outputs": [],
   "source": []
  },
  {
   "cell_type": "markdown",
   "id": "a6f53d77",
   "metadata": {},
   "source": [
    "# data open"
   ]
  },
  {
   "cell_type": "markdown",
   "id": "c91eb2dd",
   "metadata": {},
   "source": [
    "## asset data open"
   ]
  },
  {
   "cell_type": "code",
   "execution_count": 2,
   "id": "d633cc82",
   "metadata": {},
   "outputs": [],
   "source": [
    "asset_detail = pd.read_excel(\"202303_001.xlsx\", sheet_name='상세재산')\n",
    "asset_total = pd.read_excel(\"202303_001.xlsx\", sheet_name='총계_명단')"
   ]
  },
  {
   "cell_type": "code",
   "execution_count": 3,
   "id": "247696f8",
   "metadata": {
    "scrolled": true
   },
   "outputs": [
    {
     "data": {
      "text/html": [
       "<div>\n",
       "<style scoped>\n",
       "    .dataframe tbody tr th:only-of-type {\n",
       "        vertical-align: middle;\n",
       "    }\n",
       "\n",
       "    .dataframe tbody tr th {\n",
       "        vertical-align: top;\n",
       "    }\n",
       "\n",
       "    .dataframe thead th {\n",
       "        text-align: right;\n",
       "    }\n",
       "</style>\n",
       "<table border=\"1\" class=\"dataframe\">\n",
       "  <thead>\n",
       "    <tr style=\"text-align: right;\">\n",
       "      <th></th>\n",
       "      <th>연월</th>\n",
       "      <th>no</th>\n",
       "      <th>monaCode</th>\n",
       "      <th>소속구분</th>\n",
       "      <th>소속</th>\n",
       "      <th>직위</th>\n",
       "      <th>이름</th>\n",
       "      <th>재산구분</th>\n",
       "      <th>본인과의관계</th>\n",
       "      <th>재산의 종류</th>\n",
       "      <th>소재지 면적 등 권리의 명세</th>\n",
       "      <th>종전가액</th>\n",
       "      <th>증가액</th>\n",
       "      <th>증가액실거래가격</th>\n",
       "      <th>감소액</th>\n",
       "      <th>감소액실거래가격</th>\n",
       "      <th>현재가액</th>\n",
       "      <th>변동사유</th>\n",
       "    </tr>\n",
       "  </thead>\n",
       "  <tbody>\n",
       "    <tr>\n",
       "      <th>0</th>\n",
       "      <td>202303</td>\n",
       "      <td>324</td>\n",
       "      <td>YKW37422</td>\n",
       "      <td>1.국회의원</td>\n",
       "      <td>국회</td>\n",
       "      <td>국회의원</td>\n",
       "      <td>권은희</td>\n",
       "      <td>비영리법인에 출연한 재산</td>\n",
       "      <td>본인</td>\n",
       "      <td>출연</td>\n",
       "      <td>협동조합 하우스, 출연재산: 3,000천원, 보유직위: 조합원</td>\n",
       "      <td>-</td>\n",
       "      <td>-</td>\n",
       "      <td>NaN</td>\n",
       "      <td>-</td>\n",
       "      <td>NaN</td>\n",
       "      <td>-</td>\n",
       "      <td>변동 없음</td>\n",
       "    </tr>\n",
       "    <tr>\n",
       "      <th>1</th>\n",
       "      <td>202303</td>\n",
       "      <td>625</td>\n",
       "      <td>GF286398</td>\n",
       "      <td>1.국회의원</td>\n",
       "      <td>국회</td>\n",
       "      <td>국회의원</td>\n",
       "      <td>김병주</td>\n",
       "      <td>지식재산권</td>\n",
       "      <td>본인</td>\n",
       "      <td>저작재산권</td>\n",
       "      <td>9791187822523</td>\n",
       "      <td>-</td>\n",
       "      <td>-</td>\n",
       "      <td>NaN</td>\n",
       "      <td>-</td>\n",
       "      <td>NaN</td>\n",
       "      <td>-</td>\n",
       "      <td>NaN</td>\n",
       "    </tr>\n",
       "  </tbody>\n",
       "</table>\n",
       "</div>"
      ],
      "text/plain": [
       "       연월   no  monaCode    소속구분  소속    직위   이름           재산구분 본인과의관계 재산의 종류  \\\n",
       "0  202303  324  YKW37422  1.국회의원  국회  국회의원  권은희  비영리법인에 출연한 재산     본인     출연   \n",
       "1  202303  625  GF286398  1.국회의원  국회  국회의원  김병주          지식재산권     본인  저작재산권   \n",
       "\n",
       "                      소재지 면적 등 권리의 명세 종전가액 증가액  증가액실거래가격 감소액  감소액실거래가격 현재가액  \\\n",
       "0  협동조합 하우스, 출연재산: 3,000천원, 보유직위: 조합원    -   -       NaN   -       NaN    -   \n",
       "1                       9791187822523    -   -       NaN   -       NaN    -   \n",
       "\n",
       "    변동사유  \n",
       "0  변동 없음  \n",
       "1    NaN  "
      ]
     },
     "execution_count": 3,
     "metadata": {},
     "output_type": "execute_result"
    }
   ],
   "source": [
    "asset_detail.head(2)"
   ]
  },
  {
   "cell_type": "code",
   "execution_count": 4,
   "id": "0c821fa2",
   "metadata": {},
   "outputs": [
    {
     "data": {
      "text/plain": [
       "(5971, 18)"
      ]
     },
     "execution_count": 4,
     "metadata": {},
     "output_type": "execute_result"
    }
   ],
   "source": [
    "asset_detail.shape"
   ]
  },
  {
   "cell_type": "code",
   "execution_count": 5,
   "id": "8229ae4f",
   "metadata": {},
   "outputs": [
    {
     "name": "stdout",
     "output_type": "stream",
     "text": [
      "<class 'pandas.core.frame.DataFrame'>\n",
      "RangeIndex: 5971 entries, 0 to 5970\n",
      "Data columns (total 18 columns):\n",
      " #   Column           Non-Null Count  Dtype  \n",
      "---  ------           --------------  -----  \n",
      " 0   연월               5971 non-null   int64  \n",
      " 1   no               5971 non-null   int64  \n",
      " 2   monaCode         5317 non-null   object \n",
      " 3   소속구분             5971 non-null   object \n",
      " 4   소속               5971 non-null   object \n",
      " 5   직위               5971 non-null   object \n",
      " 6   이름               5971 non-null   object \n",
      " 7   재산구분             5971 non-null   object \n",
      " 8   본인과의관계           5971 non-null   object \n",
      " 9   재산의 종류           3928 non-null   object \n",
      " 10  소재지 면적 등 권리의 명세  5971 non-null   object \n",
      " 11  종전가액             5971 non-null   object \n",
      " 12  증가액              5971 non-null   object \n",
      " 13  증가액실거래가격         81 non-null     float64\n",
      " 14  감소액              5971 non-null   object \n",
      " 15  감소액실거래가격         84 non-null     float64\n",
      " 16  현재가액             5971 non-null   object \n",
      " 17  변동사유             5729 non-null   object \n",
      "dtypes: float64(2), int64(2), object(14)\n",
      "memory usage: 839.8+ KB\n"
     ]
    }
   ],
   "source": [
    "asset_detail.info()"
   ]
  },
  {
   "cell_type": "code",
   "execution_count": 6,
   "id": "ecc23ea1",
   "metadata": {},
   "outputs": [
    {
     "data": {
      "text/plain": [
       "Index(['연월', 'no', 'monaCode', '소속구분', '소속', '직위', '이름', '재산구분', '본인과의관계',\n",
       "       '재산의 종류', '소재지 면적 등 권리의 명세', '종전가액', '증가액', '증가액실거래가격', '감소액',\n",
       "       '감소액실거래가격', '현재가액', '변동사유'],\n",
       "      dtype='object')"
      ]
     },
     "execution_count": 6,
     "metadata": {},
     "output_type": "execute_result"
    }
   ],
   "source": [
    "asset_detail.columns"
   ]
  },
  {
   "cell_type": "code",
   "execution_count": 7,
   "id": "92250c79",
   "metadata": {
    "scrolled": false
   },
   "outputs": [
    {
     "data": {
      "text/html": [
       "<div>\n",
       "<style scoped>\n",
       "    .dataframe tbody tr th:only-of-type {\n",
       "        vertical-align: middle;\n",
       "    }\n",
       "\n",
       "    .dataframe tbody tr th {\n",
       "        vertical-align: top;\n",
       "    }\n",
       "\n",
       "    .dataframe thead th {\n",
       "        text-align: right;\n",
       "    }\n",
       "</style>\n",
       "<table border=\"1\" class=\"dataframe\">\n",
       "  <thead>\n",
       "    <tr style=\"text-align: right;\">\n",
       "      <th></th>\n",
       "      <th>연월</th>\n",
       "      <th>no</th>\n",
       "      <th>monaCode</th>\n",
       "      <th>소속구분</th>\n",
       "      <th>소속</th>\n",
       "      <th>직위</th>\n",
       "      <th>이름</th>\n",
       "      <th>종전가액</th>\n",
       "      <th>증가액</th>\n",
       "      <th>감소액</th>\n",
       "      <th>현재가액</th>\n",
       "      <th>증감액</th>\n",
       "      <th>가액변동</th>\n",
       "    </tr>\n",
       "  </thead>\n",
       "  <tbody>\n",
       "    <tr>\n",
       "      <th>0</th>\n",
       "      <td>202303</td>\n",
       "      <td>143</td>\n",
       "      <td>YOG1280B</td>\n",
       "      <td>1.국회의원</td>\n",
       "      <td>국회</td>\n",
       "      <td>국회의원</td>\n",
       "      <td>안철수</td>\n",
       "      <td>204055509</td>\n",
       "      <td>6419280</td>\n",
       "      <td>75765185</td>\n",
       "      <td>134709604</td>\n",
       "      <td>-69345905</td>\n",
       "      <td>-69184290.0</td>\n",
       "    </tr>\n",
       "    <tr>\n",
       "      <th>1</th>\n",
       "      <td>202303</td>\n",
       "      <td>230</td>\n",
       "      <td>DPZ7685X</td>\n",
       "      <td>1.국회의원</td>\n",
       "      <td>국회</td>\n",
       "      <td>국회의원</td>\n",
       "      <td>전봉민</td>\n",
       "      <td>106555786</td>\n",
       "      <td>13196875</td>\n",
       "      <td>63835889</td>\n",
       "      <td>55916772</td>\n",
       "      <td>-50639014</td>\n",
       "      <td>NaN</td>\n",
       "    </tr>\n",
       "  </tbody>\n",
       "</table>\n",
       "</div>"
      ],
      "text/plain": [
       "       연월   no  monaCode    소속구분  소속    직위   이름       종전가액       증가액  \\\n",
       "0  202303  143  YOG1280B  1.국회의원  국회  국회의원  안철수  204055509   6419280   \n",
       "1  202303  230  DPZ7685X  1.국회의원  국회  국회의원  전봉민  106555786  13196875   \n",
       "\n",
       "        감소액       현재가액       증감액        가액변동  \n",
       "0  75765185  134709604 -69345905 -69184290.0  \n",
       "1  63835889   55916772 -50639014         NaN  "
      ]
     },
     "execution_count": 7,
     "metadata": {},
     "output_type": "execute_result"
    }
   ],
   "source": [
    "asset_total.head(2)"
   ]
  },
  {
   "cell_type": "code",
   "execution_count": 8,
   "id": "3c04a230",
   "metadata": {
    "scrolled": true
   },
   "outputs": [
    {
     "name": "stdout",
     "output_type": "stream",
     "text": [
      "<class 'pandas.core.frame.DataFrame'>\n",
      "RangeIndex: 333 entries, 0 to 332\n",
      "Data columns (total 13 columns):\n",
      " #   Column    Non-Null Count  Dtype  \n",
      "---  ------    --------------  -----  \n",
      " 0   연월        333 non-null    int64  \n",
      " 1   no        333 non-null    int64  \n",
      " 2   monaCode  297 non-null    object \n",
      " 3   소속구분      333 non-null    object \n",
      " 4   소속        333 non-null    object \n",
      " 5   직위        333 non-null    object \n",
      " 6   이름        333 non-null    object \n",
      " 7   종전가액      333 non-null    int64  \n",
      " 8   증가액       333 non-null    int64  \n",
      " 9   감소액       333 non-null    int64  \n",
      " 10  현재가액      333 non-null    int64  \n",
      " 11  증감액       333 non-null    int64  \n",
      " 12  가액변동      330 non-null    float64\n",
      "dtypes: float64(1), int64(7), object(5)\n",
      "memory usage: 33.9+ KB\n"
     ]
    }
   ],
   "source": [
    "asset_total.info()"
   ]
  },
  {
   "cell_type": "code",
   "execution_count": 9,
   "id": "b0469b53",
   "metadata": {},
   "outputs": [
    {
     "data": {
      "text/plain": [
       "33.734898212121216"
      ]
     },
     "execution_count": 9,
     "metadata": {},
     "output_type": "execute_result"
    }
   ],
   "source": [
    "(asset_total[asset_total['현재가액']>0]['현재가액'].sum()/100000)/330"
   ]
  },
  {
   "cell_type": "markdown",
   "id": "9cb03421",
   "metadata": {},
   "source": [
    "## assembly data open"
   ]
  },
  {
   "cell_type": "code",
   "execution_count": 10,
   "id": "10087903",
   "metadata": {},
   "outputs": [],
   "source": [
    "assem_detail = pd.read_excel(\"assembly_18_to_21.xlsx\", sheet_name='상세')\n",
    "assem_curr = pd.read_excel(\"assembly_18_to_21.xlsx\", sheet_name='현재')"
   ]
  },
  {
   "cell_type": "code",
   "execution_count": 11,
   "id": "6675918d",
   "metadata": {
    "scrolled": true
   },
   "outputs": [
    {
     "data": {
      "text/html": [
       "<div>\n",
       "<style scoped>\n",
       "    .dataframe tbody tr th:only-of-type {\n",
       "        vertical-align: middle;\n",
       "    }\n",
       "\n",
       "    .dataframe tbody tr th {\n",
       "        vertical-align: top;\n",
       "    }\n",
       "\n",
       "    .dataframe thead th {\n",
       "        text-align: right;\n",
       "    }\n",
       "</style>\n",
       "<table border=\"1\" class=\"dataframe\">\n",
       "  <thead>\n",
       "    <tr style=\"text-align: right;\">\n",
       "      <th></th>\n",
       "      <th>대수</th>\n",
       "      <th>hjId</th>\n",
       "      <th>monaCode</th>\n",
       "      <th>이름</th>\n",
       "      <th>특이사항</th>\n",
       "      <th>한자</th>\n",
       "      <th>영문명</th>\n",
       "      <th>양력/음력</th>\n",
       "      <th>생년월일</th>\n",
       "      <th>성별</th>\n",
       "      <th>...</th>\n",
       "      <th>직책</th>\n",
       "      <th>전화</th>\n",
       "      <th>위원회</th>\n",
       "      <th>이메일</th>\n",
       "      <th>홈페이지</th>\n",
       "      <th>보좌관</th>\n",
       "      <th>선임비서관</th>\n",
       "      <th>비서관</th>\n",
       "      <th>주요약력</th>\n",
       "      <th>사무실</th>\n",
       "    </tr>\n",
       "  </thead>\n",
       "  <tbody>\n",
       "    <tr>\n",
       "      <th>0</th>\n",
       "      <td>18</td>\n",
       "      <td>2448.0</td>\n",
       "      <td>XQ98168F</td>\n",
       "      <td>강길부</td>\n",
       "      <td>NaN</td>\n",
       "      <td>姜吉夫</td>\n",
       "      <td>KANG GHILBOO</td>\n",
       "      <td>음</td>\n",
       "      <td>1942-06-05</td>\n",
       "      <td>남</td>\n",
       "      <td>...</td>\n",
       "      <td>NaN</td>\n",
       "      <td>NaN</td>\n",
       "      <td>NaN</td>\n",
       "      <td>NaN</td>\n",
       "      <td>NaN</td>\n",
       "      <td>NaN</td>\n",
       "      <td>NaN</td>\n",
       "      <td>NaN</td>\n",
       "      <td>NaN</td>\n",
       "      <td>NaN</td>\n",
       "    </tr>\n",
       "    <tr>\n",
       "      <th>1</th>\n",
       "      <td>18</td>\n",
       "      <td>2451.0</td>\n",
       "      <td>8I61593E</td>\n",
       "      <td>강석호</td>\n",
       "      <td>NaN</td>\n",
       "      <td>姜碩鎬</td>\n",
       "      <td>KANG SEOKHO</td>\n",
       "      <td>음</td>\n",
       "      <td>1955-12-03</td>\n",
       "      <td>남</td>\n",
       "      <td>...</td>\n",
       "      <td>NaN</td>\n",
       "      <td>NaN</td>\n",
       "      <td>NaN</td>\n",
       "      <td>NaN</td>\n",
       "      <td>NaN</td>\n",
       "      <td>NaN</td>\n",
       "      <td>NaN</td>\n",
       "      <td>NaN</td>\n",
       "      <td>NaN</td>\n",
       "      <td>NaN</td>\n",
       "    </tr>\n",
       "    <tr>\n",
       "      <th>2</th>\n",
       "      <td>18</td>\n",
       "      <td>2456.0</td>\n",
       "      <td>TOU1222X</td>\n",
       "      <td>강창일</td>\n",
       "      <td>NaN</td>\n",
       "      <td>姜昌一</td>\n",
       "      <td>KANG CHANGIL</td>\n",
       "      <td>음</td>\n",
       "      <td>1952-01-28</td>\n",
       "      <td>남</td>\n",
       "      <td>...</td>\n",
       "      <td>NaN</td>\n",
       "      <td>NaN</td>\n",
       "      <td>NaN</td>\n",
       "      <td>NaN</td>\n",
       "      <td>NaN</td>\n",
       "      <td>NaN</td>\n",
       "      <td>NaN</td>\n",
       "      <td>NaN</td>\n",
       "      <td>NaN</td>\n",
       "      <td>NaN</td>\n",
       "    </tr>\n",
       "  </tbody>\n",
       "</table>\n",
       "<p>3 rows × 24 columns</p>\n",
       "</div>"
      ],
      "text/plain": [
       "   대수    hjId  monaCode   이름 특이사항   한자           영문명 양력/음력       생년월일 성별  ...  \\\n",
       "0  18  2448.0  XQ98168F  강길부  NaN  姜吉夫  KANG GHILBOO     음 1942-06-05  남  ...   \n",
       "1  18  2451.0  8I61593E  강석호  NaN  姜碩鎬   KANG SEOKHO     음 1955-12-03  남  ...   \n",
       "2  18  2456.0  TOU1222X  강창일  NaN  姜昌一  KANG CHANGIL     음 1952-01-28  남  ...   \n",
       "\n",
       "    직책   전화  위원회  이메일 홈페이지  보좌관 선임비서관  비서관 주요약력  사무실  \n",
       "0  NaN  NaN  NaN  NaN  NaN  NaN   NaN  NaN  NaN  NaN  \n",
       "1  NaN  NaN  NaN  NaN  NaN  NaN   NaN  NaN  NaN  NaN  \n",
       "2  NaN  NaN  NaN  NaN  NaN  NaN   NaN  NaN  NaN  NaN  \n",
       "\n",
       "[3 rows x 24 columns]"
      ]
     },
     "execution_count": 11,
     "metadata": {},
     "output_type": "execute_result"
    }
   ],
   "source": [
    "assem_detail.head(3)"
   ]
  },
  {
   "cell_type": "code",
   "execution_count": 12,
   "id": "78048fe6",
   "metadata": {},
   "outputs": [
    {
     "data": {
      "text/plain": [
       "316"
      ]
     },
     "execution_count": 12,
     "metadata": {},
     "output_type": "execute_result"
    }
   ],
   "source": [
    "len(assem_detail[(assem_detail['대수']==21)])"
   ]
  },
  {
   "cell_type": "code",
   "execution_count": 13,
   "id": "587e15a4",
   "metadata": {},
   "outputs": [
    {
     "data": {
      "text/html": [
       "<div>\n",
       "<style scoped>\n",
       "    .dataframe tbody tr th:only-of-type {\n",
       "        vertical-align: middle;\n",
       "    }\n",
       "\n",
       "    .dataframe tbody tr th {\n",
       "        vertical-align: top;\n",
       "    }\n",
       "\n",
       "    .dataframe thead th {\n",
       "        text-align: right;\n",
       "    }\n",
       "</style>\n",
       "<table border=\"1\" class=\"dataframe\">\n",
       "  <thead>\n",
       "    <tr style=\"text-align: right;\">\n",
       "      <th></th>\n",
       "      <th>번호</th>\n",
       "      <th>교섭단체</th>\n",
       "      <th>정당</th>\n",
       "      <th>지역구</th>\n",
       "      <th>비례대표</th>\n",
       "      <th>계</th>\n",
       "      <th>비율</th>\n",
       "    </tr>\n",
       "  </thead>\n",
       "  <tbody>\n",
       "    <tr>\n",
       "      <th>0</th>\n",
       "      <td>1</td>\n",
       "      <td>교섭단체</td>\n",
       "      <td>더불어민주당</td>\n",
       "      <td>152</td>\n",
       "      <td>16</td>\n",
       "      <td>168</td>\n",
       "      <td>56.38</td>\n",
       "    </tr>\n",
       "    <tr>\n",
       "      <th>1</th>\n",
       "      <td>2</td>\n",
       "      <td>교섭단체</td>\n",
       "      <td>국민의힘</td>\n",
       "      <td>89</td>\n",
       "      <td>22</td>\n",
       "      <td>111</td>\n",
       "      <td>37.25</td>\n",
       "    </tr>\n",
       "    <tr>\n",
       "      <th>2</th>\n",
       "      <td>3</td>\n",
       "      <td>비교섭단체</td>\n",
       "      <td>정의당</td>\n",
       "      <td>1</td>\n",
       "      <td>5</td>\n",
       "      <td>6</td>\n",
       "      <td>2.01</td>\n",
       "    </tr>\n",
       "    <tr>\n",
       "      <th>3</th>\n",
       "      <td>4</td>\n",
       "      <td>비교섭단체</td>\n",
       "      <td>기본소득당</td>\n",
       "      <td>0</td>\n",
       "      <td>1</td>\n",
       "      <td>1</td>\n",
       "      <td>0.34</td>\n",
       "    </tr>\n",
       "    <tr>\n",
       "      <th>4</th>\n",
       "      <td>5</td>\n",
       "      <td>비교섭단체</td>\n",
       "      <td>시대전환</td>\n",
       "      <td>0</td>\n",
       "      <td>1</td>\n",
       "      <td>1</td>\n",
       "      <td>0.34</td>\n",
       "    </tr>\n",
       "    <tr>\n",
       "      <th>5</th>\n",
       "      <td>6</td>\n",
       "      <td>비교섭단체</td>\n",
       "      <td>진보당</td>\n",
       "      <td>1</td>\n",
       "      <td>0</td>\n",
       "      <td>1</td>\n",
       "      <td>0.34</td>\n",
       "    </tr>\n",
       "    <tr>\n",
       "      <th>6</th>\n",
       "      <td>7</td>\n",
       "      <td>비교섭단체</td>\n",
       "      <td>한국의희망</td>\n",
       "      <td>1</td>\n",
       "      <td>0</td>\n",
       "      <td>1</td>\n",
       "      <td>0.34</td>\n",
       "    </tr>\n",
       "    <tr>\n",
       "      <th>7</th>\n",
       "      <td>8</td>\n",
       "      <td>비교섭단체</td>\n",
       "      <td>무소속</td>\n",
       "      <td>7</td>\n",
       "      <td>2</td>\n",
       "      <td>9</td>\n",
       "      <td>3.02</td>\n",
       "    </tr>\n",
       "    <tr>\n",
       "      <th>8</th>\n",
       "      <td>9</td>\n",
       "      <td>합계</td>\n",
       "      <td>NaN</td>\n",
       "      <td>251</td>\n",
       "      <td>47</td>\n",
       "      <td>298</td>\n",
       "      <td>100.00</td>\n",
       "    </tr>\n",
       "  </tbody>\n",
       "</table>\n",
       "</div>"
      ],
      "text/plain": [
       "   번호   교섭단체      정당  지역구  비례대표    계      비율\n",
       "0   1   교섭단체  더불어민주당  152    16  168   56.38\n",
       "1   2   교섭단체    국민의힘   89    22  111   37.25\n",
       "2   3  비교섭단체     정의당    1     5    6    2.01\n",
       "3   4  비교섭단체   기본소득당    0     1    1    0.34\n",
       "4   5  비교섭단체    시대전환    0     1    1    0.34\n",
       "5   6  비교섭단체     진보당    1     0    1    0.34\n",
       "6   7  비교섭단체   한국의희망    1     0    1    0.34\n",
       "7   8  비교섭단체     무소속    7     2    9    3.02\n",
       "8   9     합계     NaN  251    47  298  100.00"
      ]
     },
     "execution_count": 13,
     "metadata": {},
     "output_type": "execute_result"
    }
   ],
   "source": [
    "assem_curr"
   ]
  },
  {
   "cell_type": "code",
   "execution_count": 18,
   "id": "4657476c",
   "metadata": {},
   "outputs": [],
   "source": [
    "asset_detail['종전가액'] = pd.to_numeric(asset_detail['종전가액'], errors='coerce')\n",
    "asset_detail['증가액'] = pd.to_numeric(asset_detail['증가액'], errors='coerce')\n",
    "asset_detail['증가액실거래가격'] = pd.to_numeric(asset_detail['증가액실거래가격'], errors='coerce')\n",
    "asset_detail['감소액'] = pd.to_numeric(asset_detail['감소액'], errors='coerce')\n",
    "asset_detail['감소액실거래가격'] = pd.to_numeric(asset_detail['감소액실거래가격'], errors='coerce')\n",
    "asset_detail['현재가액'] = pd.to_numeric(asset_detail['현재가액'], errors='coerce')"
   ]
  },
  {
   "cell_type": "code",
   "execution_count": 19,
   "id": "5e878da3",
   "metadata": {},
   "outputs": [
    {
     "name": "stdout",
     "output_type": "stream",
     "text": [
      "<class 'pandas.core.frame.DataFrame'>\n",
      "RangeIndex: 5971 entries, 0 to 5970\n",
      "Data columns (total 6 columns):\n",
      " #   Column    Non-Null Count  Dtype  \n",
      "---  ------    --------------  -----  \n",
      " 0   종전가액      5939 non-null   float64\n",
      " 1   증가액       5939 non-null   float64\n",
      " 2   증가액실거래가격  81 non-null     float64\n",
      " 3   감소액       5939 non-null   float64\n",
      " 4   감소액실거래가격  84 non-null     float64\n",
      " 5   현재가액      5939 non-null   float64\n",
      "dtypes: float64(6)\n",
      "memory usage: 280.0 KB\n"
     ]
    }
   ],
   "source": [
    "asset_detail[['종전가액','증가액','증가액실거래가격','감소액','감소액실거래가격','현재가액']].info()"
   ]
  },
  {
   "cell_type": "code",
   "execution_count": 20,
   "id": "b6c8c796",
   "metadata": {},
   "outputs": [
    {
     "data": {
      "text/html": [
       "<div>\n",
       "<style scoped>\n",
       "    .dataframe tbody tr th:only-of-type {\n",
       "        vertical-align: middle;\n",
       "    }\n",
       "\n",
       "    .dataframe tbody tr th {\n",
       "        vertical-align: top;\n",
       "    }\n",
       "\n",
       "    .dataframe thead th {\n",
       "        text-align: right;\n",
       "    }\n",
       "</style>\n",
       "<table border=\"1\" class=\"dataframe\">\n",
       "  <thead>\n",
       "    <tr style=\"text-align: right;\">\n",
       "      <th></th>\n",
       "      <th>종전가액</th>\n",
       "      <th>증가액</th>\n",
       "      <th>증가액실거래가격</th>\n",
       "      <th>감소액</th>\n",
       "      <th>감소액실거래가격</th>\n",
       "      <th>현재가액</th>\n",
       "    </tr>\n",
       "  </thead>\n",
       "  <tbody>\n",
       "    <tr>\n",
       "      <th>0</th>\n",
       "      <td>NaN</td>\n",
       "      <td>NaN</td>\n",
       "      <td>NaN</td>\n",
       "      <td>NaN</td>\n",
       "      <td>NaN</td>\n",
       "      <td>NaN</td>\n",
       "    </tr>\n",
       "    <tr>\n",
       "      <th>1</th>\n",
       "      <td>NaN</td>\n",
       "      <td>NaN</td>\n",
       "      <td>NaN</td>\n",
       "      <td>NaN</td>\n",
       "      <td>NaN</td>\n",
       "      <td>NaN</td>\n",
       "    </tr>\n",
       "    <tr>\n",
       "      <th>2</th>\n",
       "      <td>NaN</td>\n",
       "      <td>NaN</td>\n",
       "      <td>NaN</td>\n",
       "      <td>NaN</td>\n",
       "      <td>NaN</td>\n",
       "      <td>NaN</td>\n",
       "    </tr>\n",
       "    <tr>\n",
       "      <th>3</th>\n",
       "      <td>NaN</td>\n",
       "      <td>NaN</td>\n",
       "      <td>NaN</td>\n",
       "      <td>NaN</td>\n",
       "      <td>NaN</td>\n",
       "      <td>NaN</td>\n",
       "    </tr>\n",
       "    <tr>\n",
       "      <th>4</th>\n",
       "      <td>NaN</td>\n",
       "      <td>NaN</td>\n",
       "      <td>NaN</td>\n",
       "      <td>NaN</td>\n",
       "      <td>NaN</td>\n",
       "      <td>NaN</td>\n",
       "    </tr>\n",
       "    <tr>\n",
       "      <th>...</th>\n",
       "      <td>...</td>\n",
       "      <td>...</td>\n",
       "      <td>...</td>\n",
       "      <td>...</td>\n",
       "      <td>...</td>\n",
       "      <td>...</td>\n",
       "    </tr>\n",
       "    <tr>\n",
       "      <th>5966</th>\n",
       "      <td>0.0</td>\n",
       "      <td>65000.0</td>\n",
       "      <td>NaN</td>\n",
       "      <td>0.0</td>\n",
       "      <td>NaN</td>\n",
       "      <td>65000.0</td>\n",
       "    </tr>\n",
       "    <tr>\n",
       "      <th>5967</th>\n",
       "      <td>0.0</td>\n",
       "      <td>2898.0</td>\n",
       "      <td>NaN</td>\n",
       "      <td>0.0</td>\n",
       "      <td>NaN</td>\n",
       "      <td>2898.0</td>\n",
       "    </tr>\n",
       "    <tr>\n",
       "      <th>5968</th>\n",
       "      <td>0.0</td>\n",
       "      <td>435.0</td>\n",
       "      <td>NaN</td>\n",
       "      <td>0.0</td>\n",
       "      <td>NaN</td>\n",
       "      <td>435.0</td>\n",
       "    </tr>\n",
       "    <tr>\n",
       "      <th>5969</th>\n",
       "      <td>0.0</td>\n",
       "      <td>871.0</td>\n",
       "      <td>NaN</td>\n",
       "      <td>0.0</td>\n",
       "      <td>NaN</td>\n",
       "      <td>871.0</td>\n",
       "    </tr>\n",
       "    <tr>\n",
       "      <th>5970</th>\n",
       "      <td>-236698.0</td>\n",
       "      <td>0.0</td>\n",
       "      <td>NaN</td>\n",
       "      <td>-236698.0</td>\n",
       "      <td>NaN</td>\n",
       "      <td>0.0</td>\n",
       "    </tr>\n",
       "  </tbody>\n",
       "</table>\n",
       "<p>5971 rows × 6 columns</p>\n",
       "</div>"
      ],
      "text/plain": [
       "          종전가액      증가액  증가액실거래가격       감소액  감소액실거래가격     현재가액\n",
       "0          NaN      NaN       NaN       NaN       NaN      NaN\n",
       "1          NaN      NaN       NaN       NaN       NaN      NaN\n",
       "2          NaN      NaN       NaN       NaN       NaN      NaN\n",
       "3          NaN      NaN       NaN       NaN       NaN      NaN\n",
       "4          NaN      NaN       NaN       NaN       NaN      NaN\n",
       "...        ...      ...       ...       ...       ...      ...\n",
       "5966       0.0  65000.0       NaN       0.0       NaN  65000.0\n",
       "5967       0.0   2898.0       NaN       0.0       NaN   2898.0\n",
       "5968       0.0    435.0       NaN       0.0       NaN    435.0\n",
       "5969       0.0    871.0       NaN       0.0       NaN    871.0\n",
       "5970 -236698.0      0.0       NaN -236698.0       NaN      0.0\n",
       "\n",
       "[5971 rows x 6 columns]"
      ]
     },
     "execution_count": 20,
     "metadata": {},
     "output_type": "execute_result"
    }
   ],
   "source": [
    "asset_detail[['종전가액','증가액','증가액실거래가격','감소액','감소액실거래가격','현재가액']]"
   ]
  },
  {
   "cell_type": "code",
   "execution_count": 21,
   "id": "f628c286",
   "metadata": {},
   "outputs": [
    {
     "data": {
      "text/plain": [
       "(5971, 18)"
      ]
     },
     "execution_count": 21,
     "metadata": {},
     "output_type": "execute_result"
    }
   ],
   "source": [
    "asset_detail.shape"
   ]
  },
  {
   "cell_type": "code",
   "execution_count": 26,
   "id": "726588d4",
   "metadata": {},
   "outputs": [
    {
     "data": {
      "text/plain": [
       "array(['1.국회의원', '2.국회사무처', '4.국회예산정책처', '5.국회입법조사처', '3.국회도서관'],\n",
       "      dtype=object)"
      ]
     },
     "execution_count": 26,
     "metadata": {},
     "output_type": "execute_result"
    }
   ],
   "source": [
    "asset_detail['소속구분'].unique()"
   ]
  },
  {
   "cell_type": "code",
   "execution_count": null,
   "id": "e671ec2c",
   "metadata": {},
   "outputs": [],
   "source": []
  },
  {
   "cell_type": "markdown",
   "id": "913706d3",
   "metadata": {},
   "source": [
    "# 재산구분, 재산의 종류"
   ]
  },
  {
   "cell_type": "markdown",
   "id": "dd860414",
   "metadata": {},
   "source": [
    "## 재산의 구분, 종류"
   ]
  },
  {
   "cell_type": "code",
   "execution_count": 27,
   "id": "60e01ea3",
   "metadata": {},
   "outputs": [
    {
     "data": {
      "text/plain": [
       "Index(['연월', 'no', 'monaCode', '소속구분', '소속', '직위', '이름', '재산구분', '본인과의관계',\n",
       "       '재산의 종류', '소재지 면적 등 권리의 명세', '종전가액', '증가액', '증가액실거래가격', '감소액',\n",
       "       '감소액실거래가격', '현재가액', '변동사유'],\n",
       "      dtype='object')"
      ]
     },
     "execution_count": 27,
     "metadata": {},
     "output_type": "execute_result"
    }
   ],
   "source": [
    "asset_detail.columns"
   ]
  },
  {
   "cell_type": "code",
   "execution_count": 28,
   "id": "eae3c462",
   "metadata": {
    "scrolled": false
   },
   "outputs": [
    {
     "data": {
      "text/plain": [
       "(array(['비영리법인에 출연한 재산', '지식재산권', '증권', '건물', '채무', '예금', '고지거부 및 등록제외사항',\n",
       "        '채권', '토지', '회원권', '정치자금법에 따른 정치자금의 수입 및 지출을 위한 예금계좌의 예금', '현금',\n",
       "        '합명·합자·유한회사 출자지분', '부동산에 관한 규정이 준용되는 권리와 자동차·건설기계·선박 및 항공기',\n",
       "        '골동품 및 예술품', '금 및 백금', '보석류'], dtype=object),\n",
       " 17)"
      ]
     },
     "execution_count": 28,
     "metadata": {},
     "output_type": "execute_result"
    }
   ],
   "source": [
    "asset_detail['재산구분'].unique(), len(asset_detail['재산구분'].unique())"
   ]
  },
  {
   "cell_type": "code",
   "execution_count": 29,
   "id": "db09b48f",
   "metadata": {},
   "outputs": [
    {
     "data": {
      "text/plain": [
       "(array(['출연', '저작재산권', '기타', '주식매수선택권', '상장주식', '비상장주식', '빌딩', '금융채무', nan,\n",
       "        '근린생활시설', '아파트(전세(임차)권)', '공장', '아파트', '상가', '대지', '복합건물(주택+상가)',\n",
       "        '단독주택', '교육연구 및복지시설', '아파트(분양권)', '복합건물(주택+상가)(전세(임차)권)', '건물임대채무',\n",
       "        '임야', '골프', '오피스텔', '잡종지', '다세대주택(전세(임차)권)', '자동차관련시설', '사무실', '답',\n",
       "        '전', '연립주택', '연립주택(전세(임차)권)', '주차장', '단독주택(전세(임차)권)', '기타(채권)',\n",
       "        '과수원', '금융채', '공장용지', '목장용지', '유지', '다세대주택', '오피스텔(전세(임차)권)',\n",
       "        '상가(전세(임차)권)', '창고', '하천', '기타(전세(임차)권)', '출자', '오피스텔(분양권)',\n",
       "        '다가구주택', '다가구주택(전세(임차)권)', '숙박시설', '사무실(전세(임차)권)', '회사채', '국채',\n",
       "        '근린생활시설(전세(임차)권)', '헬스', '자동차', '도로', '콘도미니엄', '묘지', '빌딩(전세(임차)권)',\n",
       "        '의료시설(전세(임차)권)', '토지임대채무', '구거', '종교용지', '숙박시설(분양권)',\n",
       "        '숙박시설(전세(임차)권)', '공채'], dtype=object),\n",
       " 68)"
      ]
     },
     "execution_count": 29,
     "metadata": {},
     "output_type": "execute_result"
    }
   ],
   "source": [
    "asset_detail['재산의 종류'].unique(), len(asset_detail['재산의 종류'].unique())"
   ]
  },
  {
   "cell_type": "markdown",
   "id": "9019d78e",
   "metadata": {},
   "source": [
    "## 재산의 구분과 종류에 따른 합계"
   ]
  },
  {
   "cell_type": "code",
   "execution_count": 30,
   "id": "77bf648b",
   "metadata": {},
   "outputs": [
    {
     "data": {
      "text/plain": [
       "array(['비영리법인에 출연한 재산', '지식재산권', '증권', '건물', '채무', '예금', '고지거부 및 등록제외사항',\n",
       "       '채권', '토지', '회원권', '정치자금법에 따른 정치자금의 수입 및 지출을 위한 예금계좌의 예금', '현금',\n",
       "       '합명·합자·유한회사 출자지분', '부동산에 관한 규정이 준용되는 권리와 자동차·건설기계·선박 및 항공기',\n",
       "       '골동품 및 예술품', '금 및 백금', '보석류'], dtype=object)"
      ]
     },
     "execution_count": 30,
     "metadata": {},
     "output_type": "execute_result"
    }
   ],
   "source": [
    "asset_detail['재산구분'].unique()"
   ]
  },
  {
   "cell_type": "code",
   "execution_count": 162,
   "id": "8f7378b8",
   "metadata": {
    "scrolled": true
   },
   "outputs": [
    {
     "data": {
      "text/html": [
       "<div>\n",
       "<style scoped>\n",
       "    .dataframe tbody tr th:only-of-type {\n",
       "        vertical-align: middle;\n",
       "    }\n",
       "\n",
       "    .dataframe tbody tr th {\n",
       "        vertical-align: top;\n",
       "    }\n",
       "\n",
       "    .dataframe thead th {\n",
       "        text-align: right;\n",
       "    }\n",
       "</style>\n",
       "<table border=\"1\" class=\"dataframe\">\n",
       "  <thead>\n",
       "    <tr style=\"text-align: right;\">\n",
       "      <th></th>\n",
       "      <th>연월</th>\n",
       "      <th>no</th>\n",
       "      <th>종전가액</th>\n",
       "      <th>증가액</th>\n",
       "      <th>증가액실거래가격</th>\n",
       "      <th>감소액</th>\n",
       "      <th>감소액실거래가격</th>\n",
       "      <th>현재가액</th>\n",
       "    </tr>\n",
       "  </thead>\n",
       "  <tbody>\n",
       "    <tr>\n",
       "      <th>count</th>\n",
       "      <td>1226.0</td>\n",
       "      <td>1226.000000</td>\n",
       "      <td>1.226000e+03</td>\n",
       "      <td>1.226000e+03</td>\n",
       "      <td>0.0</td>\n",
       "      <td>1.226000e+03</td>\n",
       "      <td>0.0</td>\n",
       "      <td>1.226000e+03</td>\n",
       "    </tr>\n",
       "    <tr>\n",
       "      <th>mean</th>\n",
       "      <td>202303.0</td>\n",
       "      <td>2971.225938</td>\n",
       "      <td>2.101724e+05</td>\n",
       "      <td>9.322438e+04</td>\n",
       "      <td>NaN</td>\n",
       "      <td>9.470770e+04</td>\n",
       "      <td>NaN</td>\n",
       "      <td>2.086890e+05</td>\n",
       "    </tr>\n",
       "    <tr>\n",
       "      <th>std</th>\n",
       "      <td>0.0</td>\n",
       "      <td>1743.115816</td>\n",
       "      <td>5.945360e+05</td>\n",
       "      <td>2.905588e+05</td>\n",
       "      <td>NaN</td>\n",
       "      <td>3.689656e+05</td>\n",
       "      <td>NaN</td>\n",
       "      <td>5.072947e+05</td>\n",
       "    </tr>\n",
       "    <tr>\n",
       "      <th>min</th>\n",
       "      <td>202303.0</td>\n",
       "      <td>4.000000</td>\n",
       "      <td>0.000000e+00</td>\n",
       "      <td>0.000000e+00</td>\n",
       "      <td>NaN</td>\n",
       "      <td>0.000000e+00</td>\n",
       "      <td>NaN</td>\n",
       "      <td>0.000000e+00</td>\n",
       "    </tr>\n",
       "    <tr>\n",
       "      <th>25%</th>\n",
       "      <td>202303.0</td>\n",
       "      <td>1417.250000</td>\n",
       "      <td>1.187900e+04</td>\n",
       "      <td>2.420500e+03</td>\n",
       "      <td>NaN</td>\n",
       "      <td>4.067500e+02</td>\n",
       "      <td>NaN</td>\n",
       "      <td>1.416575e+04</td>\n",
       "    </tr>\n",
       "    <tr>\n",
       "      <th>50%</th>\n",
       "      <td>202303.0</td>\n",
       "      <td>2933.500000</td>\n",
       "      <td>5.689350e+04</td>\n",
       "      <td>1.540000e+04</td>\n",
       "      <td>NaN</td>\n",
       "      <td>8.193000e+03</td>\n",
       "      <td>NaN</td>\n",
       "      <td>6.048200e+04</td>\n",
       "    </tr>\n",
       "    <tr>\n",
       "      <th>75%</th>\n",
       "      <td>202303.0</td>\n",
       "      <td>4518.750000</td>\n",
       "      <td>1.765470e+05</td>\n",
       "      <td>6.232875e+04</td>\n",
       "      <td>NaN</td>\n",
       "      <td>5.428950e+04</td>\n",
       "      <td>NaN</td>\n",
       "      <td>1.941518e+05</td>\n",
       "    </tr>\n",
       "    <tr>\n",
       "      <th>max</th>\n",
       "      <td>202303.0</td>\n",
       "      <td>5966.000000</td>\n",
       "      <td>1.283402e+07</td>\n",
       "      <td>3.949916e+06</td>\n",
       "      <td>NaN</td>\n",
       "      <td>7.358470e+06</td>\n",
       "      <td>NaN</td>\n",
       "      <td>8.720813e+06</td>\n",
       "    </tr>\n",
       "  </tbody>\n",
       "</table>\n",
       "</div>"
      ],
      "text/plain": [
       "             연월           no          종전가액           증가액  증가액실거래가격  \\\n",
       "count    1226.0  1226.000000  1.226000e+03  1.226000e+03       0.0   \n",
       "mean   202303.0  2971.225938  2.101724e+05  9.322438e+04       NaN   \n",
       "std         0.0  1743.115816  5.945360e+05  2.905588e+05       NaN   \n",
       "min    202303.0     4.000000  0.000000e+00  0.000000e+00       NaN   \n",
       "25%    202303.0  1417.250000  1.187900e+04  2.420500e+03       NaN   \n",
       "50%    202303.0  2933.500000  5.689350e+04  1.540000e+04       NaN   \n",
       "75%    202303.0  4518.750000  1.765470e+05  6.232875e+04       NaN   \n",
       "max    202303.0  5966.000000  1.283402e+07  3.949916e+06       NaN   \n",
       "\n",
       "                감소액  감소액실거래가격          현재가액  \n",
       "count  1.226000e+03       0.0  1.226000e+03  \n",
       "mean   9.470770e+04       NaN  2.086890e+05  \n",
       "std    3.689656e+05       NaN  5.072947e+05  \n",
       "min    0.000000e+00       NaN  0.000000e+00  \n",
       "25%    4.067500e+02       NaN  1.416575e+04  \n",
       "50%    8.193000e+03       NaN  6.048200e+04  \n",
       "75%    5.428950e+04       NaN  1.941518e+05  \n",
       "max    7.358470e+06       NaN  8.720813e+06  "
      ]
     },
     "execution_count": 162,
     "metadata": {},
     "output_type": "execute_result"
    }
   ],
   "source": [
    "asset_detail[asset_detail['재산구분']=='예금'].describe()"
   ]
  },
  {
   "cell_type": "code",
   "execution_count": 163,
   "id": "8dda6115",
   "metadata": {},
   "outputs": [
    {
     "data": {
      "text/html": [
       "<div>\n",
       "<style scoped>\n",
       "    .dataframe tbody tr th:only-of-type {\n",
       "        vertical-align: middle;\n",
       "    }\n",
       "\n",
       "    .dataframe tbody tr th {\n",
       "        vertical-align: top;\n",
       "    }\n",
       "\n",
       "    .dataframe thead th {\n",
       "        text-align: right;\n",
       "    }\n",
       "</style>\n",
       "<table border=\"1\" class=\"dataframe\">\n",
       "  <thead>\n",
       "    <tr style=\"text-align: right;\">\n",
       "      <th></th>\n",
       "      <th>연월</th>\n",
       "      <th>no</th>\n",
       "      <th>종전가액</th>\n",
       "      <th>증가액</th>\n",
       "      <th>증가액실거래가격</th>\n",
       "      <th>감소액</th>\n",
       "      <th>감소액실거래가격</th>\n",
       "      <th>현재가액</th>\n",
       "    </tr>\n",
       "  </thead>\n",
       "  <tbody>\n",
       "    <tr>\n",
       "      <th>count</th>\n",
       "      <td>1343.0</td>\n",
       "      <td>1343.000000</td>\n",
       "      <td>1.343000e+03</td>\n",
       "      <td>1.343000e+03</td>\n",
       "      <td>1.600000e+01</td>\n",
       "      <td>1.343000e+03</td>\n",
       "      <td>1.900000e+01</td>\n",
       "      <td>1.343000e+03</td>\n",
       "    </tr>\n",
       "    <tr>\n",
       "      <th>mean</th>\n",
       "      <td>202303.0</td>\n",
       "      <td>2929.019360</td>\n",
       "      <td>3.792728e+05</td>\n",
       "      <td>6.679850e+04</td>\n",
       "      <td>3.984824e+05</td>\n",
       "      <td>2.706855e+04</td>\n",
       "      <td>1.359789e+06</td>\n",
       "      <td>4.190027e+05</td>\n",
       "    </tr>\n",
       "    <tr>\n",
       "      <th>std</th>\n",
       "      <td>0.0</td>\n",
       "      <td>1706.091435</td>\n",
       "      <td>1.180379e+06</td>\n",
       "      <td>2.285724e+05</td>\n",
       "      <td>2.446149e+05</td>\n",
       "      <td>2.524629e+05</td>\n",
       "      <td>4.535357e+06</td>\n",
       "      <td>1.247722e+06</td>\n",
       "    </tr>\n",
       "    <tr>\n",
       "      <th>min</th>\n",
       "      <td>202303.0</td>\n",
       "      <td>1.000000</td>\n",
       "      <td>0.000000e+00</td>\n",
       "      <td>0.000000e+00</td>\n",
       "      <td>9.800000e+04</td>\n",
       "      <td>0.000000e+00</td>\n",
       "      <td>0.000000e+00</td>\n",
       "      <td>0.000000e+00</td>\n",
       "    </tr>\n",
       "    <tr>\n",
       "      <th>25%</th>\n",
       "      <td>202303.0</td>\n",
       "      <td>1465.500000</td>\n",
       "      <td>2.000000e+04</td>\n",
       "      <td>0.000000e+00</td>\n",
       "      <td>2.280025e+05</td>\n",
       "      <td>0.000000e+00</td>\n",
       "      <td>0.000000e+00</td>\n",
       "      <td>2.000000e+04</td>\n",
       "    </tr>\n",
       "    <tr>\n",
       "      <th>50%</th>\n",
       "      <td>202303.0</td>\n",
       "      <td>2980.000000</td>\n",
       "      <td>1.570000e+05</td>\n",
       "      <td>0.000000e+00</td>\n",
       "      <td>3.500000e+05</td>\n",
       "      <td>0.000000e+00</td>\n",
       "      <td>1.750000e+05</td>\n",
       "      <td>1.750000e+05</td>\n",
       "    </tr>\n",
       "    <tr>\n",
       "      <th>75%</th>\n",
       "      <td>202303.0</td>\n",
       "      <td>4422.500000</td>\n",
       "      <td>4.589310e+05</td>\n",
       "      <td>6.000000e+04</td>\n",
       "      <td>4.844520e+05</td>\n",
       "      <td>0.000000e+00</td>\n",
       "      <td>6.775000e+05</td>\n",
       "      <td>5.180000e+05</td>\n",
       "    </tr>\n",
       "    <tr>\n",
       "      <th>max</th>\n",
       "      <td>202303.0</td>\n",
       "      <td>5960.000000</td>\n",
       "      <td>3.775119e+07</td>\n",
       "      <td>5.506036e+06</td>\n",
       "      <td>1.099000e+06</td>\n",
       "      <td>7.951755e+06</td>\n",
       "      <td>2.000000e+07</td>\n",
       "      <td>4.021844e+07</td>\n",
       "    </tr>\n",
       "  </tbody>\n",
       "</table>\n",
       "</div>"
      ],
      "text/plain": [
       "             연월           no          종전가액           증가액      증가액실거래가격  \\\n",
       "count    1343.0  1343.000000  1.343000e+03  1.343000e+03  1.600000e+01   \n",
       "mean   202303.0  2929.019360  3.792728e+05  6.679850e+04  3.984824e+05   \n",
       "std         0.0  1706.091435  1.180379e+06  2.285724e+05  2.446149e+05   \n",
       "min    202303.0     1.000000  0.000000e+00  0.000000e+00  9.800000e+04   \n",
       "25%    202303.0  1465.500000  2.000000e+04  0.000000e+00  2.280025e+05   \n",
       "50%    202303.0  2980.000000  1.570000e+05  0.000000e+00  3.500000e+05   \n",
       "75%    202303.0  4422.500000  4.589310e+05  6.000000e+04  4.844520e+05   \n",
       "max    202303.0  5960.000000  3.775119e+07  5.506036e+06  1.099000e+06   \n",
       "\n",
       "                감소액      감소액실거래가격          현재가액  \n",
       "count  1.343000e+03  1.900000e+01  1.343000e+03  \n",
       "mean   2.706855e+04  1.359789e+06  4.190027e+05  \n",
       "std    2.524629e+05  4.535357e+06  1.247722e+06  \n",
       "min    0.000000e+00  0.000000e+00  0.000000e+00  \n",
       "25%    0.000000e+00  0.000000e+00  2.000000e+04  \n",
       "50%    0.000000e+00  1.750000e+05  1.750000e+05  \n",
       "75%    0.000000e+00  6.775000e+05  5.180000e+05  \n",
       "max    7.951755e+06  2.000000e+07  4.021844e+07  "
      ]
     },
     "execution_count": 163,
     "metadata": {},
     "output_type": "execute_result"
    }
   ],
   "source": [
    "asset_detail[asset_detail['재산구분']=='건물'].describe()"
   ]
  },
  {
   "cell_type": "code",
   "execution_count": 168,
   "id": "b678113d",
   "metadata": {},
   "outputs": [],
   "source": [
    "# groupby에서 nan가 있으면 기본이 drop임....\n",
    "asset_div = asset_detail.groupby(['재산구분', '재산의 종류'],dropna=False)"
   ]
  },
  {
   "cell_type": "code",
   "execution_count": 31,
   "id": "a9dc73a4",
   "metadata": {},
   "outputs": [],
   "source": [
    "asset_div = asset_detail.groupby(['재산구분', '재산의 종류'])"
   ]
  },
  {
   "cell_type": "code",
   "execution_count": 169,
   "id": "9900cf6a",
   "metadata": {
    "scrolled": false
   },
   "outputs": [
    {
     "data": {
      "text/html": [
       "<div>\n",
       "<style scoped>\n",
       "    .dataframe tbody tr th:only-of-type {\n",
       "        vertical-align: middle;\n",
       "    }\n",
       "\n",
       "    .dataframe tbody tr th {\n",
       "        vertical-align: top;\n",
       "    }\n",
       "\n",
       "    .dataframe thead th {\n",
       "        text-align: right;\n",
       "    }\n",
       "</style>\n",
       "<table border=\"1\" class=\"dataframe\">\n",
       "  <thead>\n",
       "    <tr style=\"text-align: right;\">\n",
       "      <th></th>\n",
       "      <th></th>\n",
       "      <th>현재가액</th>\n",
       "    </tr>\n",
       "    <tr>\n",
       "      <th>재산구분</th>\n",
       "      <th>재산의 종류</th>\n",
       "      <th></th>\n",
       "    </tr>\n",
       "  </thead>\n",
       "  <tbody>\n",
       "    <tr>\n",
       "      <th rowspan=\"5\" valign=\"top\">건물</th>\n",
       "      <th>공장</th>\n",
       "      <td>12815476.0</td>\n",
       "    </tr>\n",
       "    <tr>\n",
       "      <th>교육연구 및복지시설</th>\n",
       "      <td>4335650.0</td>\n",
       "    </tr>\n",
       "    <tr>\n",
       "      <th>근린생활시설</th>\n",
       "      <td>35832575.0</td>\n",
       "    </tr>\n",
       "    <tr>\n",
       "      <th>근린생활시설(전세(임차)권)</th>\n",
       "      <td>1301000.0</td>\n",
       "    </tr>\n",
       "    <tr>\n",
       "      <th>기타</th>\n",
       "      <td>5675635.0</td>\n",
       "    </tr>\n",
       "    <tr>\n",
       "      <th>...</th>\n",
       "      <th>...</th>\n",
       "      <td>...</td>\n",
       "    </tr>\n",
       "    <tr>\n",
       "      <th>합명·합자·유한회사 출자지분</th>\n",
       "      <th>출자</th>\n",
       "      <td>579699.0</td>\n",
       "    </tr>\n",
       "    <tr>\n",
       "      <th>현금</th>\n",
       "      <th>NaN</th>\n",
       "      <td>2231300.0</td>\n",
       "    </tr>\n",
       "    <tr>\n",
       "      <th rowspan=\"3\" valign=\"top\">회원권</th>\n",
       "      <th>골프</th>\n",
       "      <td>1141000.0</td>\n",
       "    </tr>\n",
       "    <tr>\n",
       "      <th>콘도미니엄</th>\n",
       "      <td>436330.0</td>\n",
       "    </tr>\n",
       "    <tr>\n",
       "      <th>헬스</th>\n",
       "      <td>517000.0</td>\n",
       "    </tr>\n",
       "  </tbody>\n",
       "</table>\n",
       "<p>79 rows × 1 columns</p>\n",
       "</div>"
      ],
      "text/plain": [
       "                                       현재가액\n",
       "재산구분            재산의 종류                     \n",
       "건물              공장               12815476.0\n",
       "                교육연구 및복지시설        4335650.0\n",
       "                근린생활시설           35832575.0\n",
       "                근린생활시설(전세(임차)권)   1301000.0\n",
       "                기타                5675635.0\n",
       "...                                     ...\n",
       "합명·합자·유한회사 출자지분 출자                 579699.0\n",
       "현금              NaN               2231300.0\n",
       "회원권             골프                1141000.0\n",
       "                콘도미니엄              436330.0\n",
       "                헬스                 517000.0\n",
       "\n",
       "[79 rows x 1 columns]"
      ]
     },
     "execution_count": 169,
     "metadata": {},
     "output_type": "execute_result"
    }
   ],
   "source": [
    "temp = asset_div.sum()[['현재가액']]\n",
    "temp"
   ]
  },
  {
   "cell_type": "code",
   "execution_count": 170,
   "id": "580cb7f1",
   "metadata": {},
   "outputs": [
    {
     "data": {
      "text/plain": [
       "MultiIndex([(                                    '건물',                   '공장'),\n",
       "            (                                    '건물',           '교육연구 및복지시설'),\n",
       "            (                                    '건물',               '근린생활시설'),\n",
       "            (                                    '건물',      '근린생활시설(전세(임차)권)'),\n",
       "            (                                    '건물',                   '기타'),\n",
       "            (                                    '건물',          '기타(전세(임차)권)'),\n",
       "            (                                    '건물',                '다가구주택'),\n",
       "            (                                    '건물',       '다가구주택(전세(임차)권)'),\n",
       "            (                                    '건물',                '다세대주택'),\n",
       "            (                                    '건물',       '다세대주택(전세(임차)권)'),\n",
       "            (                                    '건물',                 '단독주택'),\n",
       "            (                                    '건물',        '단독주택(전세(임차)권)'),\n",
       "            (                                    '건물',          '복합건물(주택+상가)'),\n",
       "            (                                    '건물', '복합건물(주택+상가)(전세(임차)권)'),\n",
       "            (                                    '건물',                   '빌딩'),\n",
       "            (                                    '건물',          '빌딩(전세(임차)권)'),\n",
       "            (                                    '건물',                  '사무실'),\n",
       "            (                                    '건물',         '사무실(전세(임차)권)'),\n",
       "            (                                    '건물',                   '상가'),\n",
       "            (                                    '건물',          '상가(전세(임차)권)'),\n",
       "            (                                    '건물',                 '숙박시설'),\n",
       "            (                                    '건물',            '숙박시설(분양권)'),\n",
       "            (                                    '건물',        '숙박시설(전세(임차)권)'),\n",
       "            (                                    '건물',                  '아파트'),\n",
       "            (                                    '건물',             '아파트(분양권)'),\n",
       "            (                                    '건물',         '아파트(전세(임차)권)'),\n",
       "            (                                    '건물',                 '연립주택'),\n",
       "            (                                    '건물',        '연립주택(전세(임차)권)'),\n",
       "            (                                    '건물',                 '오피스텔'),\n",
       "            (                                    '건물',            '오피스텔(분양권)'),\n",
       "            (                                    '건물',        '오피스텔(전세(임차)권)'),\n",
       "            (                                    '건물',        '의료시설(전세(임차)권)'),\n",
       "            (                                    '건물',              '자동차관련시설'),\n",
       "            (                                    '건물',                   '창고'),\n",
       "            (                         '고지거부 및 등록제외사항',                    nan),\n",
       "            (                             '골동품 및 예술품',                    nan),\n",
       "            (                                '금 및 백금',                    nan),\n",
       "            (                                   '보석류',                    nan),\n",
       "            ('부동산에 관한 규정이 준용되는 권리와 자동차·건설기계·선박 및 항공기',                   '기타'),\n",
       "            ('부동산에 관한 규정이 준용되는 권리와 자동차·건설기계·선박 및 항공기',                  '자동차'),\n",
       "            (                         '비영리법인에 출연한 재산',                   '출연'),\n",
       "            (                                    '예금',                    nan),\n",
       "            (  '정치자금법에 따른 정치자금의 수입 및 지출을 위한 예금계좌의 예금',                    nan),\n",
       "            (                                    '증권',                   '공채'),\n",
       "            (                                    '증권',                   '국채'),\n",
       "            (                                    '증권',                  '금융채'),\n",
       "            (                                    '증권',               '기타(채권)'),\n",
       "            (                                    '증권',                '비상장주식'),\n",
       "            (                                    '증권',                 '상장주식'),\n",
       "            (                                    '증권',              '주식매수선택권'),\n",
       "            (                                    '증권',                  '회사채'),\n",
       "            (                                 '지식재산권',                   '기타'),\n",
       "            (                                 '지식재산권',                '저작재산권'),\n",
       "            (                                    '채권',                    nan),\n",
       "            (                                    '채무',               '건물임대채무'),\n",
       "            (                                    '채무',                 '금융채무'),\n",
       "            (                                    '채무',                   '기타'),\n",
       "            (                                    '채무',               '토지임대채무'),\n",
       "            (                                    '채무',                    nan),\n",
       "            (                                    '토지',                 '공장용지'),\n",
       "            (                                    '토지',                  '과수원'),\n",
       "            (                                    '토지',                   '구거'),\n",
       "            (                                    '토지',                    '답'),\n",
       "            (                                    '토지',                   '대지'),\n",
       "            (                                    '토지',                   '도로'),\n",
       "            (                                    '토지',                 '목장용지'),\n",
       "            (                                    '토지',                   '묘지'),\n",
       "            (                                    '토지',                   '유지'),\n",
       "            (                                    '토지',                   '임야'),\n",
       "            (                                    '토지',                  '잡종지'),\n",
       "            (                                    '토지',                    '전'),\n",
       "            (                                    '토지',                 '종교용지'),\n",
       "            (                                    '토지',                  '주차장'),\n",
       "            (                                    '토지',                   '하천'),\n",
       "            (                       '합명·합자·유한회사 출자지분',                   '출자'),\n",
       "            (                                    '현금',                    nan),\n",
       "            (                                   '회원권',                   '골프'),\n",
       "            (                                   '회원권',                '콘도미니엄'),\n",
       "            (                                   '회원권',                   '헬스')],\n",
       "           names=['재산구분', '재산의 종류'])"
      ]
     },
     "execution_count": 170,
     "metadata": {},
     "output_type": "execute_result"
    }
   ],
   "source": [
    "temp.index"
   ]
  },
  {
   "cell_type": "code",
   "execution_count": null,
   "id": "3ef20e6c",
   "metadata": {},
   "outputs": [],
   "source": []
  },
  {
   "cell_type": "code",
   "execution_count": null,
   "id": "26884e05",
   "metadata": {},
   "outputs": [],
   "source": []
  },
  {
   "cell_type": "code",
   "execution_count": null,
   "id": "279198c1",
   "metadata": {},
   "outputs": [],
   "source": []
  },
  {
   "cell_type": "code",
   "execution_count": 33,
   "id": "e5c6dd9f",
   "metadata": {},
   "outputs": [
    {
     "data": {
      "text/html": [
       "<div>\n",
       "<style scoped>\n",
       "    .dataframe tbody tr th:only-of-type {\n",
       "        vertical-align: middle;\n",
       "    }\n",
       "\n",
       "    .dataframe tbody tr th {\n",
       "        vertical-align: top;\n",
       "    }\n",
       "\n",
       "    .dataframe thead th {\n",
       "        text-align: right;\n",
       "    }\n",
       "</style>\n",
       "<table border=\"1\" class=\"dataframe\">\n",
       "  <thead>\n",
       "    <tr style=\"text-align: right;\">\n",
       "      <th></th>\n",
       "      <th>재산구분</th>\n",
       "      <th>재산의 종류</th>\n",
       "      <th>현재가액</th>\n",
       "    </tr>\n",
       "  </thead>\n",
       "  <tbody>\n",
       "    <tr>\n",
       "      <th>0</th>\n",
       "      <td>비영리법인에 출연한 재산</td>\n",
       "      <td>출연</td>\n",
       "      <td>NaN</td>\n",
       "    </tr>\n",
       "    <tr>\n",
       "      <th>1</th>\n",
       "      <td>지식재산권</td>\n",
       "      <td>저작재산권</td>\n",
       "      <td>NaN</td>\n",
       "    </tr>\n",
       "    <tr>\n",
       "      <th>2</th>\n",
       "      <td>지식재산권</td>\n",
       "      <td>저작재산권</td>\n",
       "      <td>NaN</td>\n",
       "    </tr>\n",
       "    <tr>\n",
       "      <th>3</th>\n",
       "      <td>지식재산권</td>\n",
       "      <td>저작재산권</td>\n",
       "      <td>NaN</td>\n",
       "    </tr>\n",
       "    <tr>\n",
       "      <th>4</th>\n",
       "      <td>지식재산권</td>\n",
       "      <td>저작재산권</td>\n",
       "      <td>NaN</td>\n",
       "    </tr>\n",
       "    <tr>\n",
       "      <th>...</th>\n",
       "      <td>...</td>\n",
       "      <td>...</td>\n",
       "      <td>...</td>\n",
       "    </tr>\n",
       "    <tr>\n",
       "      <th>5966</th>\n",
       "      <td>건물</td>\n",
       "      <td>아파트(전세(임차)권)</td>\n",
       "      <td>65000.0</td>\n",
       "    </tr>\n",
       "    <tr>\n",
       "      <th>5967</th>\n",
       "      <td>증권</td>\n",
       "      <td>상장주식</td>\n",
       "      <td>2898.0</td>\n",
       "    </tr>\n",
       "    <tr>\n",
       "      <th>5968</th>\n",
       "      <td>증권</td>\n",
       "      <td>상장주식</td>\n",
       "      <td>435.0</td>\n",
       "    </tr>\n",
       "    <tr>\n",
       "      <th>5969</th>\n",
       "      <td>증권</td>\n",
       "      <td>상장주식</td>\n",
       "      <td>871.0</td>\n",
       "    </tr>\n",
       "    <tr>\n",
       "      <th>5970</th>\n",
       "      <td>고지거부 및 등록제외사항</td>\n",
       "      <td>NaN</td>\n",
       "      <td>0.0</td>\n",
       "    </tr>\n",
       "  </tbody>\n",
       "</table>\n",
       "<p>5971 rows × 3 columns</p>\n",
       "</div>"
      ],
      "text/plain": [
       "               재산구분        재산의 종류     현재가액\n",
       "0     비영리법인에 출연한 재산            출연      NaN\n",
       "1             지식재산권         저작재산권      NaN\n",
       "2             지식재산권         저작재산권      NaN\n",
       "3             지식재산권         저작재산권      NaN\n",
       "4             지식재산권         저작재산권      NaN\n",
       "...             ...           ...      ...\n",
       "5966             건물  아파트(전세(임차)권)  65000.0\n",
       "5967             증권          상장주식   2898.0\n",
       "5968             증권          상장주식    435.0\n",
       "5969             증권          상장주식    871.0\n",
       "5970  고지거부 및 등록제외사항           NaN      0.0\n",
       "\n",
       "[5971 rows x 3 columns]"
      ]
     },
     "execution_count": 33,
     "metadata": {},
     "output_type": "execute_result"
    }
   ],
   "source": [
    "asset_div_si = asset_detail[['재산구분', '재산의 종류', '현재가액']]\n",
    "asset_div_si"
   ]
  },
  {
   "cell_type": "code",
   "execution_count": 34,
   "id": "9ca40f12",
   "metadata": {},
   "outputs": [
    {
     "data": {
      "text/plain": [
       "13742.83442"
      ]
     },
     "execution_count": 34,
     "metadata": {},
     "output_type": "execute_result"
    }
   ],
   "source": [
    "asset_total = asset_div_si['현재가액'].sum()\n",
    "asset_total / 100000 # 억원, 1조 3천 7백 42억"
   ]
  },
  {
   "cell_type": "code",
   "execution_count": 171,
   "id": "a6f06789",
   "metadata": {
    "scrolled": false
   },
   "outputs": [
    {
     "data": {
      "text/html": [
       "<div>\n",
       "<style scoped>\n",
       "    .dataframe tbody tr th:only-of-type {\n",
       "        vertical-align: middle;\n",
       "    }\n",
       "\n",
       "    .dataframe tbody tr th {\n",
       "        vertical-align: top;\n",
       "    }\n",
       "\n",
       "    .dataframe thead th {\n",
       "        text-align: right;\n",
       "    }\n",
       "</style>\n",
       "<table border=\"1\" class=\"dataframe\">\n",
       "  <thead>\n",
       "    <tr style=\"text-align: right;\">\n",
       "      <th></th>\n",
       "      <th></th>\n",
       "      <th>현재가액</th>\n",
       "    </tr>\n",
       "    <tr>\n",
       "      <th>재산구분</th>\n",
       "      <th>재산의 종류</th>\n",
       "      <th></th>\n",
       "    </tr>\n",
       "  </thead>\n",
       "  <tbody>\n",
       "    <tr>\n",
       "      <th rowspan=\"5\" valign=\"top\">건물</th>\n",
       "      <th>공장</th>\n",
       "      <td>12815476.0</td>\n",
       "    </tr>\n",
       "    <tr>\n",
       "      <th>교육연구 및복지시설</th>\n",
       "      <td>4335650.0</td>\n",
       "    </tr>\n",
       "    <tr>\n",
       "      <th>근린생활시설</th>\n",
       "      <td>35832575.0</td>\n",
       "    </tr>\n",
       "    <tr>\n",
       "      <th>근린생활시설(전세(임차)권)</th>\n",
       "      <td>1301000.0</td>\n",
       "    </tr>\n",
       "    <tr>\n",
       "      <th>기타</th>\n",
       "      <td>5675635.0</td>\n",
       "    </tr>\n",
       "    <tr>\n",
       "      <th>...</th>\n",
       "      <th>...</th>\n",
       "      <td>...</td>\n",
       "    </tr>\n",
       "    <tr>\n",
       "      <th>합명·합자·유한회사 출자지분</th>\n",
       "      <th>출자</th>\n",
       "      <td>579699.0</td>\n",
       "    </tr>\n",
       "    <tr>\n",
       "      <th>현금</th>\n",
       "      <th>NaN</th>\n",
       "      <td>2231300.0</td>\n",
       "    </tr>\n",
       "    <tr>\n",
       "      <th rowspan=\"3\" valign=\"top\">회원권</th>\n",
       "      <th>골프</th>\n",
       "      <td>1141000.0</td>\n",
       "    </tr>\n",
       "    <tr>\n",
       "      <th>콘도미니엄</th>\n",
       "      <td>436330.0</td>\n",
       "    </tr>\n",
       "    <tr>\n",
       "      <th>헬스</th>\n",
       "      <td>517000.0</td>\n",
       "    </tr>\n",
       "  </tbody>\n",
       "</table>\n",
       "<p>79 rows × 1 columns</p>\n",
       "</div>"
      ],
      "text/plain": [
       "                                       현재가액\n",
       "재산구분            재산의 종류                     \n",
       "건물              공장               12815476.0\n",
       "                교육연구 및복지시설        4335650.0\n",
       "                근린생활시설           35832575.0\n",
       "                근린생활시설(전세(임차)권)   1301000.0\n",
       "                기타                5675635.0\n",
       "...                                     ...\n",
       "합명·합자·유한회사 출자지분 출자                 579699.0\n",
       "현금              NaN               2231300.0\n",
       "회원권             골프                1141000.0\n",
       "                콘도미니엄              436330.0\n",
       "                헬스                 517000.0\n",
       "\n",
       "[79 rows x 1 columns]"
      ]
     },
     "execution_count": 171,
     "metadata": {},
     "output_type": "execute_result"
    }
   ],
   "source": [
    "asset_div_si_total = asset_div_si.groupby(['재산구분', '재산의 종류'], dropna = False).sum()\n",
    "asset_div_si_total"
   ]
  },
  {
   "cell_type": "markdown",
   "id": "9a8ef910",
   "metadata": {},
   "source": [
    "## 재산구분"
   ]
  },
  {
   "cell_type": "code",
   "execution_count": 173,
   "id": "537453fe",
   "metadata": {},
   "outputs": [
    {
     "data": {
      "text/html": [
       "<div>\n",
       "<style scoped>\n",
       "    .dataframe tbody tr th:only-of-type {\n",
       "        vertical-align: middle;\n",
       "    }\n",
       "\n",
       "    .dataframe tbody tr th {\n",
       "        vertical-align: top;\n",
       "    }\n",
       "\n",
       "    .dataframe thead th {\n",
       "        text-align: right;\n",
       "    }\n",
       "</style>\n",
       "<table border=\"1\" class=\"dataframe\">\n",
       "  <thead>\n",
       "    <tr style=\"text-align: right;\">\n",
       "      <th></th>\n",
       "      <th>현재가액</th>\n",
       "    </tr>\n",
       "    <tr>\n",
       "      <th>재산구분</th>\n",
       "      <th></th>\n",
       "    </tr>\n",
       "  </thead>\n",
       "  <tbody>\n",
       "    <tr>\n",
       "      <th>건물</th>\n",
       "      <td>562720662.0</td>\n",
       "    </tr>\n",
       "    <tr>\n",
       "      <th>고지거부 및 등록제외사항</th>\n",
       "      <td>0.0</td>\n",
       "    </tr>\n",
       "    <tr>\n",
       "      <th>골동품 및 예술품</th>\n",
       "      <td>135000.0</td>\n",
       "    </tr>\n",
       "    <tr>\n",
       "      <th>금 및 백금</th>\n",
       "      <td>29165.0</td>\n",
       "    </tr>\n",
       "    <tr>\n",
       "      <th>보석류</th>\n",
       "      <td>10000.0</td>\n",
       "    </tr>\n",
       "    <tr>\n",
       "      <th>부동산에 관한 규정이 준용되는 권리와 자동차·건설기계·선박 및 항공기</th>\n",
       "      <td>8265959.0</td>\n",
       "    </tr>\n",
       "    <tr>\n",
       "      <th>비영리법인에 출연한 재산</th>\n",
       "      <td>0.0</td>\n",
       "    </tr>\n",
       "    <tr>\n",
       "      <th>예금</th>\n",
       "      <td>255852773.0</td>\n",
       "    </tr>\n",
       "    <tr>\n",
       "      <th>정치자금법에 따른 정치자금의 수입 및 지출을 위한 예금계좌의 예금</th>\n",
       "      <td>31000784.0</td>\n",
       "    </tr>\n",
       "    <tr>\n",
       "      <th>증권</th>\n",
       "      <td>247050194.0</td>\n",
       "    </tr>\n",
       "    <tr>\n",
       "      <th>지식재산권</th>\n",
       "      <td>0.0</td>\n",
       "    </tr>\n",
       "    <tr>\n",
       "      <th>채권</th>\n",
       "      <td>42578106.0</td>\n",
       "    </tr>\n",
       "    <tr>\n",
       "      <th>채무</th>\n",
       "      <td>131130848.0</td>\n",
       "    </tr>\n",
       "    <tr>\n",
       "      <th>토지</th>\n",
       "      <td>90604622.0</td>\n",
       "    </tr>\n",
       "    <tr>\n",
       "      <th>합명·합자·유한회사 출자지분</th>\n",
       "      <td>579699.0</td>\n",
       "    </tr>\n",
       "    <tr>\n",
       "      <th>현금</th>\n",
       "      <td>2231300.0</td>\n",
       "    </tr>\n",
       "    <tr>\n",
       "      <th>회원권</th>\n",
       "      <td>2094330.0</td>\n",
       "    </tr>\n",
       "  </tbody>\n",
       "</table>\n",
       "</div>"
      ],
      "text/plain": [
       "                                               현재가액\n",
       "재산구분                                               \n",
       "건물                                      562720662.0\n",
       "고지거부 및 등록제외사항                                   0.0\n",
       "골동품 및 예술품                                  135000.0\n",
       "금 및 백금                                      29165.0\n",
       "보석류                                         10000.0\n",
       "부동산에 관한 규정이 준용되는 권리와 자동차·건설기계·선박 및 항공기    8265959.0\n",
       "비영리법인에 출연한 재산                                   0.0\n",
       "예금                                      255852773.0\n",
       "정치자금법에 따른 정치자금의 수입 및 지출을 위한 예금계좌의 예금     31000784.0\n",
       "증권                                      247050194.0\n",
       "지식재산권                                           0.0\n",
       "채권                                       42578106.0\n",
       "채무                                      131130848.0\n",
       "토지                                       90604622.0\n",
       "합명·합자·유한회사 출자지분                            579699.0\n",
       "현금                                        2231300.0\n",
       "회원권                                       2094330.0"
      ]
     },
     "execution_count": 173,
     "metadata": {},
     "output_type": "execute_result"
    }
   ],
   "source": [
    "asset_div_total = asset_div_si.groupby(['재산구분']).sum()\n",
    "asset_div_total"
   ]
  },
  {
   "cell_type": "code",
   "execution_count": 174,
   "id": "9e2acc6c",
   "metadata": {
    "scrolled": false
   },
   "outputs": [
    {
     "data": {
      "text/html": [
       "<div>\n",
       "<style scoped>\n",
       "    .dataframe tbody tr th:only-of-type {\n",
       "        vertical-align: middle;\n",
       "    }\n",
       "\n",
       "    .dataframe tbody tr th {\n",
       "        vertical-align: top;\n",
       "    }\n",
       "\n",
       "    .dataframe thead th {\n",
       "        text-align: right;\n",
       "    }\n",
       "</style>\n",
       "<table border=\"1\" class=\"dataframe\">\n",
       "  <thead>\n",
       "    <tr style=\"text-align: right;\">\n",
       "      <th></th>\n",
       "      <th>재산구분</th>\n",
       "      <th>현재가액</th>\n",
       "    </tr>\n",
       "  </thead>\n",
       "  <tbody>\n",
       "    <tr>\n",
       "      <th>0</th>\n",
       "      <td>건물</td>\n",
       "      <td>562720662.0</td>\n",
       "    </tr>\n",
       "    <tr>\n",
       "      <th>7</th>\n",
       "      <td>예금</td>\n",
       "      <td>255852773.0</td>\n",
       "    </tr>\n",
       "    <tr>\n",
       "      <th>9</th>\n",
       "      <td>증권</td>\n",
       "      <td>247050194.0</td>\n",
       "    </tr>\n",
       "    <tr>\n",
       "      <th>12</th>\n",
       "      <td>채무</td>\n",
       "      <td>131130848.0</td>\n",
       "    </tr>\n",
       "    <tr>\n",
       "      <th>13</th>\n",
       "      <td>토지</td>\n",
       "      <td>90604622.0</td>\n",
       "    </tr>\n",
       "    <tr>\n",
       "      <th>11</th>\n",
       "      <td>채권</td>\n",
       "      <td>42578106.0</td>\n",
       "    </tr>\n",
       "    <tr>\n",
       "      <th>8</th>\n",
       "      <td>정치자금법에 따른 정치자금의 수입 및 지출을 위한 예금계좌의 예금</td>\n",
       "      <td>31000784.0</td>\n",
       "    </tr>\n",
       "    <tr>\n",
       "      <th>5</th>\n",
       "      <td>부동산에 관한 규정이 준용되는 권리와 자동차·건설기계·선박 및 항공기</td>\n",
       "      <td>8265959.0</td>\n",
       "    </tr>\n",
       "    <tr>\n",
       "      <th>15</th>\n",
       "      <td>현금</td>\n",
       "      <td>2231300.0</td>\n",
       "    </tr>\n",
       "    <tr>\n",
       "      <th>16</th>\n",
       "      <td>회원권</td>\n",
       "      <td>2094330.0</td>\n",
       "    </tr>\n",
       "    <tr>\n",
       "      <th>14</th>\n",
       "      <td>합명·합자·유한회사 출자지분</td>\n",
       "      <td>579699.0</td>\n",
       "    </tr>\n",
       "    <tr>\n",
       "      <th>2</th>\n",
       "      <td>골동품 및 예술품</td>\n",
       "      <td>135000.0</td>\n",
       "    </tr>\n",
       "    <tr>\n",
       "      <th>3</th>\n",
       "      <td>금 및 백금</td>\n",
       "      <td>29165.0</td>\n",
       "    </tr>\n",
       "    <tr>\n",
       "      <th>4</th>\n",
       "      <td>보석류</td>\n",
       "      <td>10000.0</td>\n",
       "    </tr>\n",
       "    <tr>\n",
       "      <th>6</th>\n",
       "      <td>비영리법인에 출연한 재산</td>\n",
       "      <td>0.0</td>\n",
       "    </tr>\n",
       "    <tr>\n",
       "      <th>1</th>\n",
       "      <td>고지거부 및 등록제외사항</td>\n",
       "      <td>0.0</td>\n",
       "    </tr>\n",
       "    <tr>\n",
       "      <th>10</th>\n",
       "      <td>지식재산권</td>\n",
       "      <td>0.0</td>\n",
       "    </tr>\n",
       "  </tbody>\n",
       "</table>\n",
       "</div>"
      ],
      "text/plain": [
       "                                      재산구분         현재가액\n",
       "0                                       건물  562720662.0\n",
       "7                                       예금  255852773.0\n",
       "9                                       증권  247050194.0\n",
       "12                                      채무  131130848.0\n",
       "13                                      토지   90604622.0\n",
       "11                                      채권   42578106.0\n",
       "8     정치자금법에 따른 정치자금의 수입 및 지출을 위한 예금계좌의 예금   31000784.0\n",
       "5   부동산에 관한 규정이 준용되는 권리와 자동차·건설기계·선박 및 항공기    8265959.0\n",
       "15                                      현금    2231300.0\n",
       "16                                     회원권    2094330.0\n",
       "14                         합명·합자·유한회사 출자지분     579699.0\n",
       "2                                골동품 및 예술품     135000.0\n",
       "3                                   금 및 백금      29165.0\n",
       "4                                      보석류      10000.0\n",
       "6                            비영리법인에 출연한 재산          0.0\n",
       "1                            고지거부 및 등록제외사항          0.0\n",
       "10                                   지식재산권          0.0"
      ]
     },
     "execution_count": 174,
     "metadata": {},
     "output_type": "execute_result"
    }
   ],
   "source": [
    "asset_div_total.reset_index().sort_values('현재가액', ascending=False)"
   ]
  },
  {
   "cell_type": "code",
   "execution_count": 175,
   "id": "f79c3847",
   "metadata": {
    "scrolled": false
   },
   "outputs": [
    {
     "data": {
      "application/vnd.plotly.v1+json": {
       "config": {
        "plotlyServerURL": "https://plot.ly"
       },
       "data": [
        {
         "alignmentgroup": "True",
         "hovertemplate": "현재가액=%{x}<br>재산구분=%{y}<extra></extra>",
         "legendgroup": "",
         "marker": {
          "color": "#636efa",
          "pattern": {
           "shape": ""
          }
         },
         "name": "",
         "offsetgroup": "",
         "orientation": "h",
         "showlegend": false,
         "textposition": "auto",
         "type": "bar",
         "x": [
          0,
          0,
          0,
          10000,
          29165,
          135000,
          579699,
          2094330,
          2231300,
          8265959,
          31000784,
          42578106,
          90604622,
          131130848,
          247050194,
          255852773,
          562720662
         ],
         "xaxis": "x",
         "y": [
          "고지거부 및 등록제외사항",
          "비영리법인에 출연한 재산",
          "지식재산권",
          "보석류",
          "금 및 백금",
          "골동품 및 예술품",
          "합명·합자·유한회사 출자지분",
          "회원권",
          "현금",
          "부동산에 관한 규정이 준용되는 권리와 자동차·건설기계·선박 및 항공기",
          "정치자금법에 따른 정치자금의 수입 및 지출을 위한 예금계좌의 예금",
          "채권",
          "토지",
          "채무",
          "증권",
          "예금",
          "건물"
         ],
         "yaxis": "y"
        }
       ],
       "layout": {
        "barmode": "relative",
        "legend": {
         "tracegroupgap": 0
        },
        "margin": {
         "t": 60
        },
        "template": {
         "data": {
          "bar": [
           {
            "error_x": {
             "color": "#2a3f5f"
            },
            "error_y": {
             "color": "#2a3f5f"
            },
            "marker": {
             "line": {
              "color": "#E5ECF6",
              "width": 0.5
             },
             "pattern": {
              "fillmode": "overlay",
              "size": 10,
              "solidity": 0.2
             }
            },
            "type": "bar"
           }
          ],
          "barpolar": [
           {
            "marker": {
             "line": {
              "color": "#E5ECF6",
              "width": 0.5
             },
             "pattern": {
              "fillmode": "overlay",
              "size": 10,
              "solidity": 0.2
             }
            },
            "type": "barpolar"
           }
          ],
          "carpet": [
           {
            "aaxis": {
             "endlinecolor": "#2a3f5f",
             "gridcolor": "white",
             "linecolor": "white",
             "minorgridcolor": "white",
             "startlinecolor": "#2a3f5f"
            },
            "baxis": {
             "endlinecolor": "#2a3f5f",
             "gridcolor": "white",
             "linecolor": "white",
             "minorgridcolor": "white",
             "startlinecolor": "#2a3f5f"
            },
            "type": "carpet"
           }
          ],
          "choropleth": [
           {
            "colorbar": {
             "outlinewidth": 0,
             "ticks": ""
            },
            "type": "choropleth"
           }
          ],
          "contour": [
           {
            "colorbar": {
             "outlinewidth": 0,
             "ticks": ""
            },
            "colorscale": [
             [
              0,
              "#0d0887"
             ],
             [
              0.1111111111111111,
              "#46039f"
             ],
             [
              0.2222222222222222,
              "#7201a8"
             ],
             [
              0.3333333333333333,
              "#9c179e"
             ],
             [
              0.4444444444444444,
              "#bd3786"
             ],
             [
              0.5555555555555556,
              "#d8576b"
             ],
             [
              0.6666666666666666,
              "#ed7953"
             ],
             [
              0.7777777777777778,
              "#fb9f3a"
             ],
             [
              0.8888888888888888,
              "#fdca26"
             ],
             [
              1,
              "#f0f921"
             ]
            ],
            "type": "contour"
           }
          ],
          "contourcarpet": [
           {
            "colorbar": {
             "outlinewidth": 0,
             "ticks": ""
            },
            "type": "contourcarpet"
           }
          ],
          "heatmap": [
           {
            "colorbar": {
             "outlinewidth": 0,
             "ticks": ""
            },
            "colorscale": [
             [
              0,
              "#0d0887"
             ],
             [
              0.1111111111111111,
              "#46039f"
             ],
             [
              0.2222222222222222,
              "#7201a8"
             ],
             [
              0.3333333333333333,
              "#9c179e"
             ],
             [
              0.4444444444444444,
              "#bd3786"
             ],
             [
              0.5555555555555556,
              "#d8576b"
             ],
             [
              0.6666666666666666,
              "#ed7953"
             ],
             [
              0.7777777777777778,
              "#fb9f3a"
             ],
             [
              0.8888888888888888,
              "#fdca26"
             ],
             [
              1,
              "#f0f921"
             ]
            ],
            "type": "heatmap"
           }
          ],
          "heatmapgl": [
           {
            "colorbar": {
             "outlinewidth": 0,
             "ticks": ""
            },
            "colorscale": [
             [
              0,
              "#0d0887"
             ],
             [
              0.1111111111111111,
              "#46039f"
             ],
             [
              0.2222222222222222,
              "#7201a8"
             ],
             [
              0.3333333333333333,
              "#9c179e"
             ],
             [
              0.4444444444444444,
              "#bd3786"
             ],
             [
              0.5555555555555556,
              "#d8576b"
             ],
             [
              0.6666666666666666,
              "#ed7953"
             ],
             [
              0.7777777777777778,
              "#fb9f3a"
             ],
             [
              0.8888888888888888,
              "#fdca26"
             ],
             [
              1,
              "#f0f921"
             ]
            ],
            "type": "heatmapgl"
           }
          ],
          "histogram": [
           {
            "marker": {
             "pattern": {
              "fillmode": "overlay",
              "size": 10,
              "solidity": 0.2
             }
            },
            "type": "histogram"
           }
          ],
          "histogram2d": [
           {
            "colorbar": {
             "outlinewidth": 0,
             "ticks": ""
            },
            "colorscale": [
             [
              0,
              "#0d0887"
             ],
             [
              0.1111111111111111,
              "#46039f"
             ],
             [
              0.2222222222222222,
              "#7201a8"
             ],
             [
              0.3333333333333333,
              "#9c179e"
             ],
             [
              0.4444444444444444,
              "#bd3786"
             ],
             [
              0.5555555555555556,
              "#d8576b"
             ],
             [
              0.6666666666666666,
              "#ed7953"
             ],
             [
              0.7777777777777778,
              "#fb9f3a"
             ],
             [
              0.8888888888888888,
              "#fdca26"
             ],
             [
              1,
              "#f0f921"
             ]
            ],
            "type": "histogram2d"
           }
          ],
          "histogram2dcontour": [
           {
            "colorbar": {
             "outlinewidth": 0,
             "ticks": ""
            },
            "colorscale": [
             [
              0,
              "#0d0887"
             ],
             [
              0.1111111111111111,
              "#46039f"
             ],
             [
              0.2222222222222222,
              "#7201a8"
             ],
             [
              0.3333333333333333,
              "#9c179e"
             ],
             [
              0.4444444444444444,
              "#bd3786"
             ],
             [
              0.5555555555555556,
              "#d8576b"
             ],
             [
              0.6666666666666666,
              "#ed7953"
             ],
             [
              0.7777777777777778,
              "#fb9f3a"
             ],
             [
              0.8888888888888888,
              "#fdca26"
             ],
             [
              1,
              "#f0f921"
             ]
            ],
            "type": "histogram2dcontour"
           }
          ],
          "mesh3d": [
           {
            "colorbar": {
             "outlinewidth": 0,
             "ticks": ""
            },
            "type": "mesh3d"
           }
          ],
          "parcoords": [
           {
            "line": {
             "colorbar": {
              "outlinewidth": 0,
              "ticks": ""
             }
            },
            "type": "parcoords"
           }
          ],
          "pie": [
           {
            "automargin": true,
            "type": "pie"
           }
          ],
          "scatter": [
           {
            "fillpattern": {
             "fillmode": "overlay",
             "size": 10,
             "solidity": 0.2
            },
            "type": "scatter"
           }
          ],
          "scatter3d": [
           {
            "line": {
             "colorbar": {
              "outlinewidth": 0,
              "ticks": ""
             }
            },
            "marker": {
             "colorbar": {
              "outlinewidth": 0,
              "ticks": ""
             }
            },
            "type": "scatter3d"
           }
          ],
          "scattercarpet": [
           {
            "marker": {
             "colorbar": {
              "outlinewidth": 0,
              "ticks": ""
             }
            },
            "type": "scattercarpet"
           }
          ],
          "scattergeo": [
           {
            "marker": {
             "colorbar": {
              "outlinewidth": 0,
              "ticks": ""
             }
            },
            "type": "scattergeo"
           }
          ],
          "scattergl": [
           {
            "marker": {
             "colorbar": {
              "outlinewidth": 0,
              "ticks": ""
             }
            },
            "type": "scattergl"
           }
          ],
          "scattermapbox": [
           {
            "marker": {
             "colorbar": {
              "outlinewidth": 0,
              "ticks": ""
             }
            },
            "type": "scattermapbox"
           }
          ],
          "scatterpolar": [
           {
            "marker": {
             "colorbar": {
              "outlinewidth": 0,
              "ticks": ""
             }
            },
            "type": "scatterpolar"
           }
          ],
          "scatterpolargl": [
           {
            "marker": {
             "colorbar": {
              "outlinewidth": 0,
              "ticks": ""
             }
            },
            "type": "scatterpolargl"
           }
          ],
          "scatterternary": [
           {
            "marker": {
             "colorbar": {
              "outlinewidth": 0,
              "ticks": ""
             }
            },
            "type": "scatterternary"
           }
          ],
          "surface": [
           {
            "colorbar": {
             "outlinewidth": 0,
             "ticks": ""
            },
            "colorscale": [
             [
              0,
              "#0d0887"
             ],
             [
              0.1111111111111111,
              "#46039f"
             ],
             [
              0.2222222222222222,
              "#7201a8"
             ],
             [
              0.3333333333333333,
              "#9c179e"
             ],
             [
              0.4444444444444444,
              "#bd3786"
             ],
             [
              0.5555555555555556,
              "#d8576b"
             ],
             [
              0.6666666666666666,
              "#ed7953"
             ],
             [
              0.7777777777777778,
              "#fb9f3a"
             ],
             [
              0.8888888888888888,
              "#fdca26"
             ],
             [
              1,
              "#f0f921"
             ]
            ],
            "type": "surface"
           }
          ],
          "table": [
           {
            "cells": {
             "fill": {
              "color": "#EBF0F8"
             },
             "line": {
              "color": "white"
             }
            },
            "header": {
             "fill": {
              "color": "#C8D4E3"
             },
             "line": {
              "color": "white"
             }
            },
            "type": "table"
           }
          ]
         },
         "layout": {
          "annotationdefaults": {
           "arrowcolor": "#2a3f5f",
           "arrowhead": 0,
           "arrowwidth": 1
          },
          "autotypenumbers": "strict",
          "coloraxis": {
           "colorbar": {
            "outlinewidth": 0,
            "ticks": ""
           }
          },
          "colorscale": {
           "diverging": [
            [
             0,
             "#8e0152"
            ],
            [
             0.1,
             "#c51b7d"
            ],
            [
             0.2,
             "#de77ae"
            ],
            [
             0.3,
             "#f1b6da"
            ],
            [
             0.4,
             "#fde0ef"
            ],
            [
             0.5,
             "#f7f7f7"
            ],
            [
             0.6,
             "#e6f5d0"
            ],
            [
             0.7,
             "#b8e186"
            ],
            [
             0.8,
             "#7fbc41"
            ],
            [
             0.9,
             "#4d9221"
            ],
            [
             1,
             "#276419"
            ]
           ],
           "sequential": [
            [
             0,
             "#0d0887"
            ],
            [
             0.1111111111111111,
             "#46039f"
            ],
            [
             0.2222222222222222,
             "#7201a8"
            ],
            [
             0.3333333333333333,
             "#9c179e"
            ],
            [
             0.4444444444444444,
             "#bd3786"
            ],
            [
             0.5555555555555556,
             "#d8576b"
            ],
            [
             0.6666666666666666,
             "#ed7953"
            ],
            [
             0.7777777777777778,
             "#fb9f3a"
            ],
            [
             0.8888888888888888,
             "#fdca26"
            ],
            [
             1,
             "#f0f921"
            ]
           ],
           "sequentialminus": [
            [
             0,
             "#0d0887"
            ],
            [
             0.1111111111111111,
             "#46039f"
            ],
            [
             0.2222222222222222,
             "#7201a8"
            ],
            [
             0.3333333333333333,
             "#9c179e"
            ],
            [
             0.4444444444444444,
             "#bd3786"
            ],
            [
             0.5555555555555556,
             "#d8576b"
            ],
            [
             0.6666666666666666,
             "#ed7953"
            ],
            [
             0.7777777777777778,
             "#fb9f3a"
            ],
            [
             0.8888888888888888,
             "#fdca26"
            ],
            [
             1,
             "#f0f921"
            ]
           ]
          },
          "colorway": [
           "#636efa",
           "#EF553B",
           "#00cc96",
           "#ab63fa",
           "#FFA15A",
           "#19d3f3",
           "#FF6692",
           "#B6E880",
           "#FF97FF",
           "#FECB52"
          ],
          "font": {
           "color": "#2a3f5f"
          },
          "geo": {
           "bgcolor": "white",
           "lakecolor": "white",
           "landcolor": "#E5ECF6",
           "showlakes": true,
           "showland": true,
           "subunitcolor": "white"
          },
          "hoverlabel": {
           "align": "left"
          },
          "hovermode": "closest",
          "mapbox": {
           "style": "light"
          },
          "paper_bgcolor": "white",
          "plot_bgcolor": "#E5ECF6",
          "polar": {
           "angularaxis": {
            "gridcolor": "white",
            "linecolor": "white",
            "ticks": ""
           },
           "bgcolor": "#E5ECF6",
           "radialaxis": {
            "gridcolor": "white",
            "linecolor": "white",
            "ticks": ""
           }
          },
          "scene": {
           "xaxis": {
            "backgroundcolor": "#E5ECF6",
            "gridcolor": "white",
            "gridwidth": 2,
            "linecolor": "white",
            "showbackground": true,
            "ticks": "",
            "zerolinecolor": "white"
           },
           "yaxis": {
            "backgroundcolor": "#E5ECF6",
            "gridcolor": "white",
            "gridwidth": 2,
            "linecolor": "white",
            "showbackground": true,
            "ticks": "",
            "zerolinecolor": "white"
           },
           "zaxis": {
            "backgroundcolor": "#E5ECF6",
            "gridcolor": "white",
            "gridwidth": 2,
            "linecolor": "white",
            "showbackground": true,
            "ticks": "",
            "zerolinecolor": "white"
           }
          },
          "shapedefaults": {
           "line": {
            "color": "#2a3f5f"
           }
          },
          "ternary": {
           "aaxis": {
            "gridcolor": "white",
            "linecolor": "white",
            "ticks": ""
           },
           "baxis": {
            "gridcolor": "white",
            "linecolor": "white",
            "ticks": ""
           },
           "bgcolor": "#E5ECF6",
           "caxis": {
            "gridcolor": "white",
            "linecolor": "white",
            "ticks": ""
           }
          },
          "title": {
           "x": 0.05
          },
          "xaxis": {
           "automargin": true,
           "gridcolor": "white",
           "linecolor": "white",
           "ticks": "",
           "title": {
            "standoff": 15
           },
           "zerolinecolor": "white",
           "zerolinewidth": 2
          },
          "yaxis": {
           "automargin": true,
           "gridcolor": "white",
           "linecolor": "white",
           "ticks": "",
           "title": {
            "standoff": 15
           },
           "zerolinecolor": "white",
           "zerolinewidth": 2
          }
         }
        },
        "xaxis": {
         "anchor": "y",
         "domain": [
          0,
          1
         ],
         "title": {
          "text": "현재가액"
         }
        },
        "yaxis": {
         "anchor": "x",
         "domain": [
          0,
          1
         ],
         "title": {
          "text": "재산구분"
         }
        }
       }
      },
      "text/html": [
       "<div>                            <div id=\"19bca3f3-b9e9-4462-8d00-4abd81ba9b67\" class=\"plotly-graph-div\" style=\"height:525px; width:100%;\"></div>            <script type=\"text/javascript\">                require([\"plotly\"], function(Plotly) {                    window.PLOTLYENV=window.PLOTLYENV || {};                                    if (document.getElementById(\"19bca3f3-b9e9-4462-8d00-4abd81ba9b67\")) {                    Plotly.newPlot(                        \"19bca3f3-b9e9-4462-8d00-4abd81ba9b67\",                        [{\"alignmentgroup\":\"True\",\"hovertemplate\":\"\\ud604\\uc7ac\\uac00\\uc561=%{x}<br>\\uc7ac\\uc0b0\\uad6c\\ubd84=%{y}<extra></extra>\",\"legendgroup\":\"\",\"marker\":{\"color\":\"#636efa\",\"pattern\":{\"shape\":\"\"}},\"name\":\"\",\"offsetgroup\":\"\",\"orientation\":\"h\",\"showlegend\":false,\"textposition\":\"auto\",\"x\":[0.0,0.0,0.0,10000.0,29165.0,135000.0,579699.0,2094330.0,2231300.0,8265959.0,31000784.0,42578106.0,90604622.0,131130848.0,247050194.0,255852773.0,562720662.0],\"xaxis\":\"x\",\"y\":[\"\\uace0\\uc9c0\\uac70\\ubd80 \\ubc0f \\ub4f1\\ub85d\\uc81c\\uc678\\uc0ac\\ud56d\",\"\\ube44\\uc601\\ub9ac\\ubc95\\uc778\\uc5d0 \\ucd9c\\uc5f0\\ud55c \\uc7ac\\uc0b0\",\"\\uc9c0\\uc2dd\\uc7ac\\uc0b0\\uad8c\",\"\\ubcf4\\uc11d\\ub958\",\"\\uae08 \\ubc0f \\ubc31\\uae08\",\"\\uace8\\ub3d9\\ud488 \\ubc0f \\uc608\\uc220\\ud488\",\"\\ud569\\uba85\\u00b7\\ud569\\uc790\\u00b7\\uc720\\ud55c\\ud68c\\uc0ac \\ucd9c\\uc790\\uc9c0\\ubd84\",\"\\ud68c\\uc6d0\\uad8c\",\"\\ud604\\uae08\",\"\\ubd80\\ub3d9\\uc0b0\\uc5d0 \\uad00\\ud55c \\uaddc\\uc815\\uc774 \\uc900\\uc6a9\\ub418\\ub294 \\uad8c\\ub9ac\\uc640 \\uc790\\ub3d9\\ucc28\\u00b7\\uac74\\uc124\\uae30\\uacc4\\u00b7\\uc120\\ubc15 \\ubc0f \\ud56d\\uacf5\\uae30\",\"\\uc815\\uce58\\uc790\\uae08\\ubc95\\uc5d0 \\ub530\\ub978 \\uc815\\uce58\\uc790\\uae08\\uc758 \\uc218\\uc785 \\ubc0f \\uc9c0\\ucd9c\\uc744 \\uc704\\ud55c \\uc608\\uae08\\uacc4\\uc88c\\uc758 \\uc608\\uae08\",\"\\ucc44\\uad8c\",\"\\ud1a0\\uc9c0\",\"\\ucc44\\ubb34\",\"\\uc99d\\uad8c\",\"\\uc608\\uae08\",\"\\uac74\\ubb3c\"],\"yaxis\":\"y\",\"type\":\"bar\"}],                        {\"template\":{\"data\":{\"histogram2dcontour\":[{\"type\":\"histogram2dcontour\",\"colorbar\":{\"outlinewidth\":0,\"ticks\":\"\"},\"colorscale\":[[0.0,\"#0d0887\"],[0.1111111111111111,\"#46039f\"],[0.2222222222222222,\"#7201a8\"],[0.3333333333333333,\"#9c179e\"],[0.4444444444444444,\"#bd3786\"],[0.5555555555555556,\"#d8576b\"],[0.6666666666666666,\"#ed7953\"],[0.7777777777777778,\"#fb9f3a\"],[0.8888888888888888,\"#fdca26\"],[1.0,\"#f0f921\"]]}],\"choropleth\":[{\"type\":\"choropleth\",\"colorbar\":{\"outlinewidth\":0,\"ticks\":\"\"}}],\"histogram2d\":[{\"type\":\"histogram2d\",\"colorbar\":{\"outlinewidth\":0,\"ticks\":\"\"},\"colorscale\":[[0.0,\"#0d0887\"],[0.1111111111111111,\"#46039f\"],[0.2222222222222222,\"#7201a8\"],[0.3333333333333333,\"#9c179e\"],[0.4444444444444444,\"#bd3786\"],[0.5555555555555556,\"#d8576b\"],[0.6666666666666666,\"#ed7953\"],[0.7777777777777778,\"#fb9f3a\"],[0.8888888888888888,\"#fdca26\"],[1.0,\"#f0f921\"]]}],\"heatmap\":[{\"type\":\"heatmap\",\"colorbar\":{\"outlinewidth\":0,\"ticks\":\"\"},\"colorscale\":[[0.0,\"#0d0887\"],[0.1111111111111111,\"#46039f\"],[0.2222222222222222,\"#7201a8\"],[0.3333333333333333,\"#9c179e\"],[0.4444444444444444,\"#bd3786\"],[0.5555555555555556,\"#d8576b\"],[0.6666666666666666,\"#ed7953\"],[0.7777777777777778,\"#fb9f3a\"],[0.8888888888888888,\"#fdca26\"],[1.0,\"#f0f921\"]]}],\"heatmapgl\":[{\"type\":\"heatmapgl\",\"colorbar\":{\"outlinewidth\":0,\"ticks\":\"\"},\"colorscale\":[[0.0,\"#0d0887\"],[0.1111111111111111,\"#46039f\"],[0.2222222222222222,\"#7201a8\"],[0.3333333333333333,\"#9c179e\"],[0.4444444444444444,\"#bd3786\"],[0.5555555555555556,\"#d8576b\"],[0.6666666666666666,\"#ed7953\"],[0.7777777777777778,\"#fb9f3a\"],[0.8888888888888888,\"#fdca26\"],[1.0,\"#f0f921\"]]}],\"contourcarpet\":[{\"type\":\"contourcarpet\",\"colorbar\":{\"outlinewidth\":0,\"ticks\":\"\"}}],\"contour\":[{\"type\":\"contour\",\"colorbar\":{\"outlinewidth\":0,\"ticks\":\"\"},\"colorscale\":[[0.0,\"#0d0887\"],[0.1111111111111111,\"#46039f\"],[0.2222222222222222,\"#7201a8\"],[0.3333333333333333,\"#9c179e\"],[0.4444444444444444,\"#bd3786\"],[0.5555555555555556,\"#d8576b\"],[0.6666666666666666,\"#ed7953\"],[0.7777777777777778,\"#fb9f3a\"],[0.8888888888888888,\"#fdca26\"],[1.0,\"#f0f921\"]]}],\"surface\":[{\"type\":\"surface\",\"colorbar\":{\"outlinewidth\":0,\"ticks\":\"\"},\"colorscale\":[[0.0,\"#0d0887\"],[0.1111111111111111,\"#46039f\"],[0.2222222222222222,\"#7201a8\"],[0.3333333333333333,\"#9c179e\"],[0.4444444444444444,\"#bd3786\"],[0.5555555555555556,\"#d8576b\"],[0.6666666666666666,\"#ed7953\"],[0.7777777777777778,\"#fb9f3a\"],[0.8888888888888888,\"#fdca26\"],[1.0,\"#f0f921\"]]}],\"mesh3d\":[{\"type\":\"mesh3d\",\"colorbar\":{\"outlinewidth\":0,\"ticks\":\"\"}}],\"scatter\":[{\"fillpattern\":{\"fillmode\":\"overlay\",\"size\":10,\"solidity\":0.2},\"type\":\"scatter\"}],\"parcoords\":[{\"type\":\"parcoords\",\"line\":{\"colorbar\":{\"outlinewidth\":0,\"ticks\":\"\"}}}],\"scatterpolargl\":[{\"type\":\"scatterpolargl\",\"marker\":{\"colorbar\":{\"outlinewidth\":0,\"ticks\":\"\"}}}],\"bar\":[{\"error_x\":{\"color\":\"#2a3f5f\"},\"error_y\":{\"color\":\"#2a3f5f\"},\"marker\":{\"line\":{\"color\":\"#E5ECF6\",\"width\":0.5},\"pattern\":{\"fillmode\":\"overlay\",\"size\":10,\"solidity\":0.2}},\"type\":\"bar\"}],\"scattergeo\":[{\"type\":\"scattergeo\",\"marker\":{\"colorbar\":{\"outlinewidth\":0,\"ticks\":\"\"}}}],\"scatterpolar\":[{\"type\":\"scatterpolar\",\"marker\":{\"colorbar\":{\"outlinewidth\":0,\"ticks\":\"\"}}}],\"histogram\":[{\"marker\":{\"pattern\":{\"fillmode\":\"overlay\",\"size\":10,\"solidity\":0.2}},\"type\":\"histogram\"}],\"scattergl\":[{\"type\":\"scattergl\",\"marker\":{\"colorbar\":{\"outlinewidth\":0,\"ticks\":\"\"}}}],\"scatter3d\":[{\"type\":\"scatter3d\",\"line\":{\"colorbar\":{\"outlinewidth\":0,\"ticks\":\"\"}},\"marker\":{\"colorbar\":{\"outlinewidth\":0,\"ticks\":\"\"}}}],\"scattermapbox\":[{\"type\":\"scattermapbox\",\"marker\":{\"colorbar\":{\"outlinewidth\":0,\"ticks\":\"\"}}}],\"scatterternary\":[{\"type\":\"scatterternary\",\"marker\":{\"colorbar\":{\"outlinewidth\":0,\"ticks\":\"\"}}}],\"scattercarpet\":[{\"type\":\"scattercarpet\",\"marker\":{\"colorbar\":{\"outlinewidth\":0,\"ticks\":\"\"}}}],\"carpet\":[{\"aaxis\":{\"endlinecolor\":\"#2a3f5f\",\"gridcolor\":\"white\",\"linecolor\":\"white\",\"minorgridcolor\":\"white\",\"startlinecolor\":\"#2a3f5f\"},\"baxis\":{\"endlinecolor\":\"#2a3f5f\",\"gridcolor\":\"white\",\"linecolor\":\"white\",\"minorgridcolor\":\"white\",\"startlinecolor\":\"#2a3f5f\"},\"type\":\"carpet\"}],\"table\":[{\"cells\":{\"fill\":{\"color\":\"#EBF0F8\"},\"line\":{\"color\":\"white\"}},\"header\":{\"fill\":{\"color\":\"#C8D4E3\"},\"line\":{\"color\":\"white\"}},\"type\":\"table\"}],\"barpolar\":[{\"marker\":{\"line\":{\"color\":\"#E5ECF6\",\"width\":0.5},\"pattern\":{\"fillmode\":\"overlay\",\"size\":10,\"solidity\":0.2}},\"type\":\"barpolar\"}],\"pie\":[{\"automargin\":true,\"type\":\"pie\"}]},\"layout\":{\"autotypenumbers\":\"strict\",\"colorway\":[\"#636efa\",\"#EF553B\",\"#00cc96\",\"#ab63fa\",\"#FFA15A\",\"#19d3f3\",\"#FF6692\",\"#B6E880\",\"#FF97FF\",\"#FECB52\"],\"font\":{\"color\":\"#2a3f5f\"},\"hovermode\":\"closest\",\"hoverlabel\":{\"align\":\"left\"},\"paper_bgcolor\":\"white\",\"plot_bgcolor\":\"#E5ECF6\",\"polar\":{\"bgcolor\":\"#E5ECF6\",\"angularaxis\":{\"gridcolor\":\"white\",\"linecolor\":\"white\",\"ticks\":\"\"},\"radialaxis\":{\"gridcolor\":\"white\",\"linecolor\":\"white\",\"ticks\":\"\"}},\"ternary\":{\"bgcolor\":\"#E5ECF6\",\"aaxis\":{\"gridcolor\":\"white\",\"linecolor\":\"white\",\"ticks\":\"\"},\"baxis\":{\"gridcolor\":\"white\",\"linecolor\":\"white\",\"ticks\":\"\"},\"caxis\":{\"gridcolor\":\"white\",\"linecolor\":\"white\",\"ticks\":\"\"}},\"coloraxis\":{\"colorbar\":{\"outlinewidth\":0,\"ticks\":\"\"}},\"colorscale\":{\"sequential\":[[0.0,\"#0d0887\"],[0.1111111111111111,\"#46039f\"],[0.2222222222222222,\"#7201a8\"],[0.3333333333333333,\"#9c179e\"],[0.4444444444444444,\"#bd3786\"],[0.5555555555555556,\"#d8576b\"],[0.6666666666666666,\"#ed7953\"],[0.7777777777777778,\"#fb9f3a\"],[0.8888888888888888,\"#fdca26\"],[1.0,\"#f0f921\"]],\"sequentialminus\":[[0.0,\"#0d0887\"],[0.1111111111111111,\"#46039f\"],[0.2222222222222222,\"#7201a8\"],[0.3333333333333333,\"#9c179e\"],[0.4444444444444444,\"#bd3786\"],[0.5555555555555556,\"#d8576b\"],[0.6666666666666666,\"#ed7953\"],[0.7777777777777778,\"#fb9f3a\"],[0.8888888888888888,\"#fdca26\"],[1.0,\"#f0f921\"]],\"diverging\":[[0,\"#8e0152\"],[0.1,\"#c51b7d\"],[0.2,\"#de77ae\"],[0.3,\"#f1b6da\"],[0.4,\"#fde0ef\"],[0.5,\"#f7f7f7\"],[0.6,\"#e6f5d0\"],[0.7,\"#b8e186\"],[0.8,\"#7fbc41\"],[0.9,\"#4d9221\"],[1,\"#276419\"]]},\"xaxis\":{\"gridcolor\":\"white\",\"linecolor\":\"white\",\"ticks\":\"\",\"title\":{\"standoff\":15},\"zerolinecolor\":\"white\",\"automargin\":true,\"zerolinewidth\":2},\"yaxis\":{\"gridcolor\":\"white\",\"linecolor\":\"white\",\"ticks\":\"\",\"title\":{\"standoff\":15},\"zerolinecolor\":\"white\",\"automargin\":true,\"zerolinewidth\":2},\"scene\":{\"xaxis\":{\"backgroundcolor\":\"#E5ECF6\",\"gridcolor\":\"white\",\"linecolor\":\"white\",\"showbackground\":true,\"ticks\":\"\",\"zerolinecolor\":\"white\",\"gridwidth\":2},\"yaxis\":{\"backgroundcolor\":\"#E5ECF6\",\"gridcolor\":\"white\",\"linecolor\":\"white\",\"showbackground\":true,\"ticks\":\"\",\"zerolinecolor\":\"white\",\"gridwidth\":2},\"zaxis\":{\"backgroundcolor\":\"#E5ECF6\",\"gridcolor\":\"white\",\"linecolor\":\"white\",\"showbackground\":true,\"ticks\":\"\",\"zerolinecolor\":\"white\",\"gridwidth\":2}},\"shapedefaults\":{\"line\":{\"color\":\"#2a3f5f\"}},\"annotationdefaults\":{\"arrowcolor\":\"#2a3f5f\",\"arrowhead\":0,\"arrowwidth\":1},\"geo\":{\"bgcolor\":\"white\",\"landcolor\":\"#E5ECF6\",\"subunitcolor\":\"white\",\"showland\":true,\"showlakes\":true,\"lakecolor\":\"white\"},\"title\":{\"x\":0.05},\"mapbox\":{\"style\":\"light\"}}},\"xaxis\":{\"anchor\":\"y\",\"domain\":[0.0,1.0],\"title\":{\"text\":\"\\ud604\\uc7ac\\uac00\\uc561\"}},\"yaxis\":{\"anchor\":\"x\",\"domain\":[0.0,1.0],\"title\":{\"text\":\"\\uc7ac\\uc0b0\\uad6c\\ubd84\"}},\"legend\":{\"tracegroupgap\":0},\"margin\":{\"t\":60},\"barmode\":\"relative\"},                        {\"responsive\": true}                    ).then(function(){\n",
       "                            \n",
       "var gd = document.getElementById('19bca3f3-b9e9-4462-8d00-4abd81ba9b67');\n",
       "var x = new MutationObserver(function (mutations, observer) {{\n",
       "        var display = window.getComputedStyle(gd).display;\n",
       "        if (!display || display === 'none') {{\n",
       "            console.log([gd, 'removed!']);\n",
       "            Plotly.purge(gd);\n",
       "            observer.disconnect();\n",
       "        }}\n",
       "}});\n",
       "\n",
       "// Listen for the removal of the full notebook cells\n",
       "var notebookContainer = gd.closest('#notebook-container');\n",
       "if (notebookContainer) {{\n",
       "    x.observe(notebookContainer, {childList: true});\n",
       "}}\n",
       "\n",
       "// Listen for the clearing of the current output cell\n",
       "var outputEl = gd.closest('.output');\n",
       "if (outputEl) {{\n",
       "    x.observe(outputEl, {childList: true});\n",
       "}}\n",
       "\n",
       "                        })                };                });            </script>        </div>"
      ]
     },
     "metadata": {},
     "output_type": "display_data"
    }
   ],
   "source": [
    "px.bar(asset_div_total.reset_index().sort_values('현재가액', ascending=True), x='현재가액', y='재산구분')"
   ]
  },
  {
   "cell_type": "markdown",
   "id": "93074787",
   "metadata": {},
   "source": [
    "## 재산구분 > 재산의종류"
   ]
  },
  {
   "cell_type": "markdown",
   "id": "8b748f05",
   "metadata": {},
   "source": [
    "### 건물"
   ]
  },
  {
   "cell_type": "code",
   "execution_count": 176,
   "id": "512cc6e6",
   "metadata": {
    "scrolled": false
   },
   "outputs": [
    {
     "data": {
      "text/html": [
       "<div>\n",
       "<style scoped>\n",
       "    .dataframe tbody tr th:only-of-type {\n",
       "        vertical-align: middle;\n",
       "    }\n",
       "\n",
       "    .dataframe tbody tr th {\n",
       "        vertical-align: top;\n",
       "    }\n",
       "\n",
       "    .dataframe thead th {\n",
       "        text-align: right;\n",
       "    }\n",
       "</style>\n",
       "<table border=\"1\" class=\"dataframe\">\n",
       "  <thead>\n",
       "    <tr style=\"text-align: right;\">\n",
       "      <th></th>\n",
       "      <th>현재가액</th>\n",
       "    </tr>\n",
       "    <tr>\n",
       "      <th>재산의 종류</th>\n",
       "      <th></th>\n",
       "    </tr>\n",
       "  </thead>\n",
       "  <tbody>\n",
       "    <tr>\n",
       "      <th>아파트</th>\n",
       "      <td>279936006.0</td>\n",
       "    </tr>\n",
       "    <tr>\n",
       "      <th>아파트(전세(임차)권)</th>\n",
       "      <td>78872696.0</td>\n",
       "    </tr>\n",
       "    <tr>\n",
       "      <th>빌딩</th>\n",
       "      <td>40293892.0</td>\n",
       "    </tr>\n",
       "    <tr>\n",
       "      <th>근린생활시설</th>\n",
       "      <td>35832575.0</td>\n",
       "    </tr>\n",
       "    <tr>\n",
       "      <th>상가</th>\n",
       "      <td>25657226.0</td>\n",
       "    </tr>\n",
       "    <tr>\n",
       "      <th>복합건물(주택+상가)</th>\n",
       "      <td>14274744.0</td>\n",
       "    </tr>\n",
       "    <tr>\n",
       "      <th>공장</th>\n",
       "      <td>12815476.0</td>\n",
       "    </tr>\n",
       "    <tr>\n",
       "      <th>단독주택</th>\n",
       "      <td>12296079.0</td>\n",
       "    </tr>\n",
       "    <tr>\n",
       "      <th>오피스텔</th>\n",
       "      <td>6821803.0</td>\n",
       "    </tr>\n",
       "    <tr>\n",
       "      <th>기타</th>\n",
       "      <td>5675635.0</td>\n",
       "    </tr>\n",
       "    <tr>\n",
       "      <th>연립주택</th>\n",
       "      <td>5652603.0</td>\n",
       "    </tr>\n",
       "    <tr>\n",
       "      <th>아파트(분양권)</th>\n",
       "      <td>5417197.0</td>\n",
       "    </tr>\n",
       "    <tr>\n",
       "      <th>사무실</th>\n",
       "      <td>4666904.0</td>\n",
       "    </tr>\n",
       "    <tr>\n",
       "      <th>오피스텔(전세(임차)권)</th>\n",
       "      <td>4614000.0</td>\n",
       "    </tr>\n",
       "    <tr>\n",
       "      <th>교육연구 및복지시설</th>\n",
       "      <td>4335650.0</td>\n",
       "    </tr>\n",
       "    <tr>\n",
       "      <th>다세대주택</th>\n",
       "      <td>4108930.0</td>\n",
       "    </tr>\n",
       "    <tr>\n",
       "      <th>복합건물(주택+상가)(전세(임차)권)</th>\n",
       "      <td>3950000.0</td>\n",
       "    </tr>\n",
       "    <tr>\n",
       "      <th>사무실(전세(임차)권)</th>\n",
       "      <td>3506000.0</td>\n",
       "    </tr>\n",
       "    <tr>\n",
       "      <th>다세대주택(전세(임차)권)</th>\n",
       "      <td>2765400.0</td>\n",
       "    </tr>\n",
       "    <tr>\n",
       "      <th>단독주택(전세(임차)권)</th>\n",
       "      <td>1846500.0</td>\n",
       "    </tr>\n",
       "    <tr>\n",
       "      <th>다가구주택</th>\n",
       "      <td>1800000.0</td>\n",
       "    </tr>\n",
       "    <tr>\n",
       "      <th>창고</th>\n",
       "      <td>1733467.0</td>\n",
       "    </tr>\n",
       "    <tr>\n",
       "      <th>근린생활시설(전세(임차)권)</th>\n",
       "      <td>1301000.0</td>\n",
       "    </tr>\n",
       "    <tr>\n",
       "      <th>상가(전세(임차)권)</th>\n",
       "      <td>1000000.0</td>\n",
       "    </tr>\n",
       "    <tr>\n",
       "      <th>자동차관련시설</th>\n",
       "      <td>874710.0</td>\n",
       "    </tr>\n",
       "    <tr>\n",
       "      <th>연립주택(전세(임차)권)</th>\n",
       "      <td>785000.0</td>\n",
       "    </tr>\n",
       "    <tr>\n",
       "      <th>다가구주택(전세(임차)권)</th>\n",
       "      <td>783000.0</td>\n",
       "    </tr>\n",
       "    <tr>\n",
       "      <th>오피스텔(분양권)</th>\n",
       "      <td>475399.0</td>\n",
       "    </tr>\n",
       "    <tr>\n",
       "      <th>숙박시설</th>\n",
       "      <td>237110.0</td>\n",
       "    </tr>\n",
       "    <tr>\n",
       "      <th>숙박시설(분양권)</th>\n",
       "      <td>234660.0</td>\n",
       "    </tr>\n",
       "    <tr>\n",
       "      <th>빌딩(전세(임차)권)</th>\n",
       "      <td>50000.0</td>\n",
       "    </tr>\n",
       "    <tr>\n",
       "      <th>의료시설(전세(임차)권)</th>\n",
       "      <td>40000.0</td>\n",
       "    </tr>\n",
       "    <tr>\n",
       "      <th>숙박시설(전세(임차)권)</th>\n",
       "      <td>37000.0</td>\n",
       "    </tr>\n",
       "    <tr>\n",
       "      <th>기타(전세(임차)권)</th>\n",
       "      <td>30000.0</td>\n",
       "    </tr>\n",
       "  </tbody>\n",
       "</table>\n",
       "</div>"
      ],
      "text/plain": [
       "                             현재가액\n",
       "재산의 종류                           \n",
       "아파트                   279936006.0\n",
       "아파트(전세(임차)권)           78872696.0\n",
       "빌딩                     40293892.0\n",
       "근린생활시설                 35832575.0\n",
       "상가                     25657226.0\n",
       "복합건물(주택+상가)            14274744.0\n",
       "공장                     12815476.0\n",
       "단독주택                   12296079.0\n",
       "오피스텔                    6821803.0\n",
       "기타                      5675635.0\n",
       "연립주택                    5652603.0\n",
       "아파트(분양권)                5417197.0\n",
       "사무실                     4666904.0\n",
       "오피스텔(전세(임차)권)           4614000.0\n",
       "교육연구 및복지시설              4335650.0\n",
       "다세대주택                   4108930.0\n",
       "복합건물(주택+상가)(전세(임차)권)    3950000.0\n",
       "사무실(전세(임차)권)            3506000.0\n",
       "다세대주택(전세(임차)권)          2765400.0\n",
       "단독주택(전세(임차)권)           1846500.0\n",
       "다가구주택                   1800000.0\n",
       "창고                      1733467.0\n",
       "근린생활시설(전세(임차)권)         1301000.0\n",
       "상가(전세(임차)권)             1000000.0\n",
       "자동차관련시설                  874710.0\n",
       "연립주택(전세(임차)권)            785000.0\n",
       "다가구주택(전세(임차)권)           783000.0\n",
       "오피스텔(분양권)                475399.0\n",
       "숙박시설                     237110.0\n",
       "숙박시설(분양권)                234660.0\n",
       "빌딩(전세(임차)권)               50000.0\n",
       "의료시설(전세(임차)권)             40000.0\n",
       "숙박시설(전세(임차)권)             37000.0\n",
       "기타(전세(임차)권)               30000.0"
      ]
     },
     "execution_count": 176,
     "metadata": {},
     "output_type": "execute_result"
    }
   ],
   "source": [
    "asset_div_si_total.loc['건물'].sort_values('현재가액', ascending=False)"
   ]
  },
  {
   "cell_type": "code",
   "execution_count": 177,
   "id": "7d2de685",
   "metadata": {},
   "outputs": [
    {
     "data": {
      "text/html": [
       "<div>\n",
       "<style scoped>\n",
       "    .dataframe tbody tr th:only-of-type {\n",
       "        vertical-align: middle;\n",
       "    }\n",
       "\n",
       "    .dataframe tbody tr th {\n",
       "        vertical-align: top;\n",
       "    }\n",
       "\n",
       "    .dataframe thead th {\n",
       "        text-align: right;\n",
       "    }\n",
       "</style>\n",
       "<table border=\"1\" class=\"dataframe\">\n",
       "  <thead>\n",
       "    <tr style=\"text-align: right;\">\n",
       "      <th></th>\n",
       "      <th>재산의 종류</th>\n",
       "      <th>현재가액</th>\n",
       "    </tr>\n",
       "  </thead>\n",
       "  <tbody>\n",
       "    <tr>\n",
       "      <th>23</th>\n",
       "      <td>아파트</td>\n",
       "      <td>279936006.0</td>\n",
       "    </tr>\n",
       "    <tr>\n",
       "      <th>25</th>\n",
       "      <td>아파트(전세(임차)권)</td>\n",
       "      <td>78872696.0</td>\n",
       "    </tr>\n",
       "    <tr>\n",
       "      <th>14</th>\n",
       "      <td>빌딩</td>\n",
       "      <td>40293892.0</td>\n",
       "    </tr>\n",
       "    <tr>\n",
       "      <th>2</th>\n",
       "      <td>근린생활시설</td>\n",
       "      <td>35832575.0</td>\n",
       "    </tr>\n",
       "    <tr>\n",
       "      <th>18</th>\n",
       "      <td>상가</td>\n",
       "      <td>25657226.0</td>\n",
       "    </tr>\n",
       "    <tr>\n",
       "      <th>12</th>\n",
       "      <td>복합건물(주택+상가)</td>\n",
       "      <td>14274744.0</td>\n",
       "    </tr>\n",
       "    <tr>\n",
       "      <th>0</th>\n",
       "      <td>공장</td>\n",
       "      <td>12815476.0</td>\n",
       "    </tr>\n",
       "    <tr>\n",
       "      <th>10</th>\n",
       "      <td>단독주택</td>\n",
       "      <td>12296079.0</td>\n",
       "    </tr>\n",
       "    <tr>\n",
       "      <th>28</th>\n",
       "      <td>오피스텔</td>\n",
       "      <td>6821803.0</td>\n",
       "    </tr>\n",
       "    <tr>\n",
       "      <th>4</th>\n",
       "      <td>기타</td>\n",
       "      <td>5675635.0</td>\n",
       "    </tr>\n",
       "    <tr>\n",
       "      <th>26</th>\n",
       "      <td>연립주택</td>\n",
       "      <td>5652603.0</td>\n",
       "    </tr>\n",
       "    <tr>\n",
       "      <th>24</th>\n",
       "      <td>아파트(분양권)</td>\n",
       "      <td>5417197.0</td>\n",
       "    </tr>\n",
       "    <tr>\n",
       "      <th>16</th>\n",
       "      <td>사무실</td>\n",
       "      <td>4666904.0</td>\n",
       "    </tr>\n",
       "    <tr>\n",
       "      <th>30</th>\n",
       "      <td>오피스텔(전세(임차)권)</td>\n",
       "      <td>4614000.0</td>\n",
       "    </tr>\n",
       "    <tr>\n",
       "      <th>1</th>\n",
       "      <td>교육연구 및복지시설</td>\n",
       "      <td>4335650.0</td>\n",
       "    </tr>\n",
       "    <tr>\n",
       "      <th>8</th>\n",
       "      <td>다세대주택</td>\n",
       "      <td>4108930.0</td>\n",
       "    </tr>\n",
       "    <tr>\n",
       "      <th>13</th>\n",
       "      <td>복합건물(주택+상가)(전세(임차)권)</td>\n",
       "      <td>3950000.0</td>\n",
       "    </tr>\n",
       "    <tr>\n",
       "      <th>17</th>\n",
       "      <td>사무실(전세(임차)권)</td>\n",
       "      <td>3506000.0</td>\n",
       "    </tr>\n",
       "    <tr>\n",
       "      <th>9</th>\n",
       "      <td>다세대주택(전세(임차)권)</td>\n",
       "      <td>2765400.0</td>\n",
       "    </tr>\n",
       "    <tr>\n",
       "      <th>11</th>\n",
       "      <td>단독주택(전세(임차)권)</td>\n",
       "      <td>1846500.0</td>\n",
       "    </tr>\n",
       "    <tr>\n",
       "      <th>6</th>\n",
       "      <td>다가구주택</td>\n",
       "      <td>1800000.0</td>\n",
       "    </tr>\n",
       "    <tr>\n",
       "      <th>33</th>\n",
       "      <td>창고</td>\n",
       "      <td>1733467.0</td>\n",
       "    </tr>\n",
       "    <tr>\n",
       "      <th>3</th>\n",
       "      <td>근린생활시설(전세(임차)권)</td>\n",
       "      <td>1301000.0</td>\n",
       "    </tr>\n",
       "    <tr>\n",
       "      <th>19</th>\n",
       "      <td>상가(전세(임차)권)</td>\n",
       "      <td>1000000.0</td>\n",
       "    </tr>\n",
       "    <tr>\n",
       "      <th>32</th>\n",
       "      <td>자동차관련시설</td>\n",
       "      <td>874710.0</td>\n",
       "    </tr>\n",
       "    <tr>\n",
       "      <th>27</th>\n",
       "      <td>연립주택(전세(임차)권)</td>\n",
       "      <td>785000.0</td>\n",
       "    </tr>\n",
       "    <tr>\n",
       "      <th>7</th>\n",
       "      <td>다가구주택(전세(임차)권)</td>\n",
       "      <td>783000.0</td>\n",
       "    </tr>\n",
       "    <tr>\n",
       "      <th>29</th>\n",
       "      <td>오피스텔(분양권)</td>\n",
       "      <td>475399.0</td>\n",
       "    </tr>\n",
       "    <tr>\n",
       "      <th>20</th>\n",
       "      <td>숙박시설</td>\n",
       "      <td>237110.0</td>\n",
       "    </tr>\n",
       "    <tr>\n",
       "      <th>21</th>\n",
       "      <td>숙박시설(분양권)</td>\n",
       "      <td>234660.0</td>\n",
       "    </tr>\n",
       "    <tr>\n",
       "      <th>15</th>\n",
       "      <td>빌딩(전세(임차)권)</td>\n",
       "      <td>50000.0</td>\n",
       "    </tr>\n",
       "    <tr>\n",
       "      <th>31</th>\n",
       "      <td>의료시설(전세(임차)권)</td>\n",
       "      <td>40000.0</td>\n",
       "    </tr>\n",
       "    <tr>\n",
       "      <th>22</th>\n",
       "      <td>숙박시설(전세(임차)권)</td>\n",
       "      <td>37000.0</td>\n",
       "    </tr>\n",
       "    <tr>\n",
       "      <th>5</th>\n",
       "      <td>기타(전세(임차)권)</td>\n",
       "      <td>30000.0</td>\n",
       "    </tr>\n",
       "  </tbody>\n",
       "</table>\n",
       "</div>"
      ],
      "text/plain": [
       "                  재산의 종류         현재가액\n",
       "23                   아파트  279936006.0\n",
       "25          아파트(전세(임차)권)   78872696.0\n",
       "14                    빌딩   40293892.0\n",
       "2                 근린생활시설   35832575.0\n",
       "18                    상가   25657226.0\n",
       "12           복합건물(주택+상가)   14274744.0\n",
       "0                     공장   12815476.0\n",
       "10                  단독주택   12296079.0\n",
       "28                  오피스텔    6821803.0\n",
       "4                     기타    5675635.0\n",
       "26                  연립주택    5652603.0\n",
       "24              아파트(분양권)    5417197.0\n",
       "16                   사무실    4666904.0\n",
       "30         오피스텔(전세(임차)권)    4614000.0\n",
       "1             교육연구 및복지시설    4335650.0\n",
       "8                  다세대주택    4108930.0\n",
       "13  복합건물(주택+상가)(전세(임차)권)    3950000.0\n",
       "17          사무실(전세(임차)권)    3506000.0\n",
       "9         다세대주택(전세(임차)권)    2765400.0\n",
       "11         단독주택(전세(임차)권)    1846500.0\n",
       "6                  다가구주택    1800000.0\n",
       "33                    창고    1733467.0\n",
       "3        근린생활시설(전세(임차)권)    1301000.0\n",
       "19           상가(전세(임차)권)    1000000.0\n",
       "32               자동차관련시설     874710.0\n",
       "27         연립주택(전세(임차)권)     785000.0\n",
       "7         다가구주택(전세(임차)권)     783000.0\n",
       "29             오피스텔(분양권)     475399.0\n",
       "20                  숙박시설     237110.0\n",
       "21             숙박시설(분양권)     234660.0\n",
       "15           빌딩(전세(임차)권)      50000.0\n",
       "31         의료시설(전세(임차)권)      40000.0\n",
       "22         숙박시설(전세(임차)권)      37000.0\n",
       "5            기타(전세(임차)권)      30000.0"
      ]
     },
     "execution_count": 177,
     "metadata": {},
     "output_type": "execute_result"
    }
   ],
   "source": [
    "# asset_div_total.reset_index().sort_values('현재가액', ascending=True)\n",
    "asset_div_si_total.loc['건물'].reset_index().sort_values('현재가액', ascending=False)"
   ]
  },
  {
   "cell_type": "code",
   "execution_count": 178,
   "id": "860e3d75",
   "metadata": {
    "scrolled": false
   },
   "outputs": [
    {
     "data": {
      "application/vnd.plotly.v1+json": {
       "config": {
        "plotlyServerURL": "https://plot.ly"
       },
       "data": [
        {
         "alignmentgroup": "True",
         "hovertemplate": "현재가액=%{x}<br>재산의 종류=%{y}<extra></extra>",
         "legendgroup": "",
         "marker": {
          "color": "#636efa",
          "pattern": {
           "shape": ""
          }
         },
         "name": "",
         "offsetgroup": "",
         "orientation": "h",
         "showlegend": false,
         "textposition": "auto",
         "type": "bar",
         "x": [
          30000,
          37000,
          40000,
          50000,
          234660,
          237110,
          475399,
          783000,
          785000,
          874710,
          1000000,
          1301000,
          1733467,
          1800000,
          1846500,
          2765400,
          3506000,
          3950000,
          4108930,
          4335650,
          4614000,
          4666904,
          5417197,
          5652603,
          5675635,
          6821803,
          12296079,
          12815476,
          14274744,
          25657226,
          35832575,
          40293892,
          78872696,
          279936006
         ],
         "xaxis": "x",
         "y": [
          "기타(전세(임차)권)",
          "숙박시설(전세(임차)권)",
          "의료시설(전세(임차)권)",
          "빌딩(전세(임차)권)",
          "숙박시설(분양권)",
          "숙박시설",
          "오피스텔(분양권)",
          "다가구주택(전세(임차)권)",
          "연립주택(전세(임차)권)",
          "자동차관련시설",
          "상가(전세(임차)권)",
          "근린생활시설(전세(임차)권)",
          "창고",
          "다가구주택",
          "단독주택(전세(임차)권)",
          "다세대주택(전세(임차)권)",
          "사무실(전세(임차)권)",
          "복합건물(주택+상가)(전세(임차)권)",
          "다세대주택",
          "교육연구 및복지시설",
          "오피스텔(전세(임차)권)",
          "사무실",
          "아파트(분양권)",
          "연립주택",
          "기타",
          "오피스텔",
          "단독주택",
          "공장",
          "복합건물(주택+상가)",
          "상가",
          "근린생활시설",
          "빌딩",
          "아파트(전세(임차)권)",
          "아파트"
         ],
         "yaxis": "y"
        }
       ],
       "layout": {
        "barmode": "relative",
        "height": 800,
        "legend": {
         "tracegroupgap": 0
        },
        "margin": {
         "t": 60
        },
        "template": {
         "data": {
          "bar": [
           {
            "error_x": {
             "color": "#2a3f5f"
            },
            "error_y": {
             "color": "#2a3f5f"
            },
            "marker": {
             "line": {
              "color": "#E5ECF6",
              "width": 0.5
             },
             "pattern": {
              "fillmode": "overlay",
              "size": 10,
              "solidity": 0.2
             }
            },
            "type": "bar"
           }
          ],
          "barpolar": [
           {
            "marker": {
             "line": {
              "color": "#E5ECF6",
              "width": 0.5
             },
             "pattern": {
              "fillmode": "overlay",
              "size": 10,
              "solidity": 0.2
             }
            },
            "type": "barpolar"
           }
          ],
          "carpet": [
           {
            "aaxis": {
             "endlinecolor": "#2a3f5f",
             "gridcolor": "white",
             "linecolor": "white",
             "minorgridcolor": "white",
             "startlinecolor": "#2a3f5f"
            },
            "baxis": {
             "endlinecolor": "#2a3f5f",
             "gridcolor": "white",
             "linecolor": "white",
             "minorgridcolor": "white",
             "startlinecolor": "#2a3f5f"
            },
            "type": "carpet"
           }
          ],
          "choropleth": [
           {
            "colorbar": {
             "outlinewidth": 0,
             "ticks": ""
            },
            "type": "choropleth"
           }
          ],
          "contour": [
           {
            "colorbar": {
             "outlinewidth": 0,
             "ticks": ""
            },
            "colorscale": [
             [
              0,
              "#0d0887"
             ],
             [
              0.1111111111111111,
              "#46039f"
             ],
             [
              0.2222222222222222,
              "#7201a8"
             ],
             [
              0.3333333333333333,
              "#9c179e"
             ],
             [
              0.4444444444444444,
              "#bd3786"
             ],
             [
              0.5555555555555556,
              "#d8576b"
             ],
             [
              0.6666666666666666,
              "#ed7953"
             ],
             [
              0.7777777777777778,
              "#fb9f3a"
             ],
             [
              0.8888888888888888,
              "#fdca26"
             ],
             [
              1,
              "#f0f921"
             ]
            ],
            "type": "contour"
           }
          ],
          "contourcarpet": [
           {
            "colorbar": {
             "outlinewidth": 0,
             "ticks": ""
            },
            "type": "contourcarpet"
           }
          ],
          "heatmap": [
           {
            "colorbar": {
             "outlinewidth": 0,
             "ticks": ""
            },
            "colorscale": [
             [
              0,
              "#0d0887"
             ],
             [
              0.1111111111111111,
              "#46039f"
             ],
             [
              0.2222222222222222,
              "#7201a8"
             ],
             [
              0.3333333333333333,
              "#9c179e"
             ],
             [
              0.4444444444444444,
              "#bd3786"
             ],
             [
              0.5555555555555556,
              "#d8576b"
             ],
             [
              0.6666666666666666,
              "#ed7953"
             ],
             [
              0.7777777777777778,
              "#fb9f3a"
             ],
             [
              0.8888888888888888,
              "#fdca26"
             ],
             [
              1,
              "#f0f921"
             ]
            ],
            "type": "heatmap"
           }
          ],
          "heatmapgl": [
           {
            "colorbar": {
             "outlinewidth": 0,
             "ticks": ""
            },
            "colorscale": [
             [
              0,
              "#0d0887"
             ],
             [
              0.1111111111111111,
              "#46039f"
             ],
             [
              0.2222222222222222,
              "#7201a8"
             ],
             [
              0.3333333333333333,
              "#9c179e"
             ],
             [
              0.4444444444444444,
              "#bd3786"
             ],
             [
              0.5555555555555556,
              "#d8576b"
             ],
             [
              0.6666666666666666,
              "#ed7953"
             ],
             [
              0.7777777777777778,
              "#fb9f3a"
             ],
             [
              0.8888888888888888,
              "#fdca26"
             ],
             [
              1,
              "#f0f921"
             ]
            ],
            "type": "heatmapgl"
           }
          ],
          "histogram": [
           {
            "marker": {
             "pattern": {
              "fillmode": "overlay",
              "size": 10,
              "solidity": 0.2
             }
            },
            "type": "histogram"
           }
          ],
          "histogram2d": [
           {
            "colorbar": {
             "outlinewidth": 0,
             "ticks": ""
            },
            "colorscale": [
             [
              0,
              "#0d0887"
             ],
             [
              0.1111111111111111,
              "#46039f"
             ],
             [
              0.2222222222222222,
              "#7201a8"
             ],
             [
              0.3333333333333333,
              "#9c179e"
             ],
             [
              0.4444444444444444,
              "#bd3786"
             ],
             [
              0.5555555555555556,
              "#d8576b"
             ],
             [
              0.6666666666666666,
              "#ed7953"
             ],
             [
              0.7777777777777778,
              "#fb9f3a"
             ],
             [
              0.8888888888888888,
              "#fdca26"
             ],
             [
              1,
              "#f0f921"
             ]
            ],
            "type": "histogram2d"
           }
          ],
          "histogram2dcontour": [
           {
            "colorbar": {
             "outlinewidth": 0,
             "ticks": ""
            },
            "colorscale": [
             [
              0,
              "#0d0887"
             ],
             [
              0.1111111111111111,
              "#46039f"
             ],
             [
              0.2222222222222222,
              "#7201a8"
             ],
             [
              0.3333333333333333,
              "#9c179e"
             ],
             [
              0.4444444444444444,
              "#bd3786"
             ],
             [
              0.5555555555555556,
              "#d8576b"
             ],
             [
              0.6666666666666666,
              "#ed7953"
             ],
             [
              0.7777777777777778,
              "#fb9f3a"
             ],
             [
              0.8888888888888888,
              "#fdca26"
             ],
             [
              1,
              "#f0f921"
             ]
            ],
            "type": "histogram2dcontour"
           }
          ],
          "mesh3d": [
           {
            "colorbar": {
             "outlinewidth": 0,
             "ticks": ""
            },
            "type": "mesh3d"
           }
          ],
          "parcoords": [
           {
            "line": {
             "colorbar": {
              "outlinewidth": 0,
              "ticks": ""
             }
            },
            "type": "parcoords"
           }
          ],
          "pie": [
           {
            "automargin": true,
            "type": "pie"
           }
          ],
          "scatter": [
           {
            "fillpattern": {
             "fillmode": "overlay",
             "size": 10,
             "solidity": 0.2
            },
            "type": "scatter"
           }
          ],
          "scatter3d": [
           {
            "line": {
             "colorbar": {
              "outlinewidth": 0,
              "ticks": ""
             }
            },
            "marker": {
             "colorbar": {
              "outlinewidth": 0,
              "ticks": ""
             }
            },
            "type": "scatter3d"
           }
          ],
          "scattercarpet": [
           {
            "marker": {
             "colorbar": {
              "outlinewidth": 0,
              "ticks": ""
             }
            },
            "type": "scattercarpet"
           }
          ],
          "scattergeo": [
           {
            "marker": {
             "colorbar": {
              "outlinewidth": 0,
              "ticks": ""
             }
            },
            "type": "scattergeo"
           }
          ],
          "scattergl": [
           {
            "marker": {
             "colorbar": {
              "outlinewidth": 0,
              "ticks": ""
             }
            },
            "type": "scattergl"
           }
          ],
          "scattermapbox": [
           {
            "marker": {
             "colorbar": {
              "outlinewidth": 0,
              "ticks": ""
             }
            },
            "type": "scattermapbox"
           }
          ],
          "scatterpolar": [
           {
            "marker": {
             "colorbar": {
              "outlinewidth": 0,
              "ticks": ""
             }
            },
            "type": "scatterpolar"
           }
          ],
          "scatterpolargl": [
           {
            "marker": {
             "colorbar": {
              "outlinewidth": 0,
              "ticks": ""
             }
            },
            "type": "scatterpolargl"
           }
          ],
          "scatterternary": [
           {
            "marker": {
             "colorbar": {
              "outlinewidth": 0,
              "ticks": ""
             }
            },
            "type": "scatterternary"
           }
          ],
          "surface": [
           {
            "colorbar": {
             "outlinewidth": 0,
             "ticks": ""
            },
            "colorscale": [
             [
              0,
              "#0d0887"
             ],
             [
              0.1111111111111111,
              "#46039f"
             ],
             [
              0.2222222222222222,
              "#7201a8"
             ],
             [
              0.3333333333333333,
              "#9c179e"
             ],
             [
              0.4444444444444444,
              "#bd3786"
             ],
             [
              0.5555555555555556,
              "#d8576b"
             ],
             [
              0.6666666666666666,
              "#ed7953"
             ],
             [
              0.7777777777777778,
              "#fb9f3a"
             ],
             [
              0.8888888888888888,
              "#fdca26"
             ],
             [
              1,
              "#f0f921"
             ]
            ],
            "type": "surface"
           }
          ],
          "table": [
           {
            "cells": {
             "fill": {
              "color": "#EBF0F8"
             },
             "line": {
              "color": "white"
             }
            },
            "header": {
             "fill": {
              "color": "#C8D4E3"
             },
             "line": {
              "color": "white"
             }
            },
            "type": "table"
           }
          ]
         },
         "layout": {
          "annotationdefaults": {
           "arrowcolor": "#2a3f5f",
           "arrowhead": 0,
           "arrowwidth": 1
          },
          "autotypenumbers": "strict",
          "coloraxis": {
           "colorbar": {
            "outlinewidth": 0,
            "ticks": ""
           }
          },
          "colorscale": {
           "diverging": [
            [
             0,
             "#8e0152"
            ],
            [
             0.1,
             "#c51b7d"
            ],
            [
             0.2,
             "#de77ae"
            ],
            [
             0.3,
             "#f1b6da"
            ],
            [
             0.4,
             "#fde0ef"
            ],
            [
             0.5,
             "#f7f7f7"
            ],
            [
             0.6,
             "#e6f5d0"
            ],
            [
             0.7,
             "#b8e186"
            ],
            [
             0.8,
             "#7fbc41"
            ],
            [
             0.9,
             "#4d9221"
            ],
            [
             1,
             "#276419"
            ]
           ],
           "sequential": [
            [
             0,
             "#0d0887"
            ],
            [
             0.1111111111111111,
             "#46039f"
            ],
            [
             0.2222222222222222,
             "#7201a8"
            ],
            [
             0.3333333333333333,
             "#9c179e"
            ],
            [
             0.4444444444444444,
             "#bd3786"
            ],
            [
             0.5555555555555556,
             "#d8576b"
            ],
            [
             0.6666666666666666,
             "#ed7953"
            ],
            [
             0.7777777777777778,
             "#fb9f3a"
            ],
            [
             0.8888888888888888,
             "#fdca26"
            ],
            [
             1,
             "#f0f921"
            ]
           ],
           "sequentialminus": [
            [
             0,
             "#0d0887"
            ],
            [
             0.1111111111111111,
             "#46039f"
            ],
            [
             0.2222222222222222,
             "#7201a8"
            ],
            [
             0.3333333333333333,
             "#9c179e"
            ],
            [
             0.4444444444444444,
             "#bd3786"
            ],
            [
             0.5555555555555556,
             "#d8576b"
            ],
            [
             0.6666666666666666,
             "#ed7953"
            ],
            [
             0.7777777777777778,
             "#fb9f3a"
            ],
            [
             0.8888888888888888,
             "#fdca26"
            ],
            [
             1,
             "#f0f921"
            ]
           ]
          },
          "colorway": [
           "#636efa",
           "#EF553B",
           "#00cc96",
           "#ab63fa",
           "#FFA15A",
           "#19d3f3",
           "#FF6692",
           "#B6E880",
           "#FF97FF",
           "#FECB52"
          ],
          "font": {
           "color": "#2a3f5f"
          },
          "geo": {
           "bgcolor": "white",
           "lakecolor": "white",
           "landcolor": "#E5ECF6",
           "showlakes": true,
           "showland": true,
           "subunitcolor": "white"
          },
          "hoverlabel": {
           "align": "left"
          },
          "hovermode": "closest",
          "mapbox": {
           "style": "light"
          },
          "paper_bgcolor": "white",
          "plot_bgcolor": "#E5ECF6",
          "polar": {
           "angularaxis": {
            "gridcolor": "white",
            "linecolor": "white",
            "ticks": ""
           },
           "bgcolor": "#E5ECF6",
           "radialaxis": {
            "gridcolor": "white",
            "linecolor": "white",
            "ticks": ""
           }
          },
          "scene": {
           "xaxis": {
            "backgroundcolor": "#E5ECF6",
            "gridcolor": "white",
            "gridwidth": 2,
            "linecolor": "white",
            "showbackground": true,
            "ticks": "",
            "zerolinecolor": "white"
           },
           "yaxis": {
            "backgroundcolor": "#E5ECF6",
            "gridcolor": "white",
            "gridwidth": 2,
            "linecolor": "white",
            "showbackground": true,
            "ticks": "",
            "zerolinecolor": "white"
           },
           "zaxis": {
            "backgroundcolor": "#E5ECF6",
            "gridcolor": "white",
            "gridwidth": 2,
            "linecolor": "white",
            "showbackground": true,
            "ticks": "",
            "zerolinecolor": "white"
           }
          },
          "shapedefaults": {
           "line": {
            "color": "#2a3f5f"
           }
          },
          "ternary": {
           "aaxis": {
            "gridcolor": "white",
            "linecolor": "white",
            "ticks": ""
           },
           "baxis": {
            "gridcolor": "white",
            "linecolor": "white",
            "ticks": ""
           },
           "bgcolor": "#E5ECF6",
           "caxis": {
            "gridcolor": "white",
            "linecolor": "white",
            "ticks": ""
           }
          },
          "title": {
           "x": 0.05
          },
          "xaxis": {
           "automargin": true,
           "gridcolor": "white",
           "linecolor": "white",
           "ticks": "",
           "title": {
            "standoff": 15
           },
           "zerolinecolor": "white",
           "zerolinewidth": 2
          },
          "yaxis": {
           "automargin": true,
           "gridcolor": "white",
           "linecolor": "white",
           "ticks": "",
           "title": {
            "standoff": 15
           },
           "zerolinecolor": "white",
           "zerolinewidth": 2
          }
         }
        },
        "width": 1000,
        "xaxis": {
         "anchor": "y",
         "domain": [
          0,
          1
         ],
         "title": {
          "text": "현재가액"
         }
        },
        "yaxis": {
         "anchor": "x",
         "domain": [
          0,
          1
         ],
         "title": {
          "text": "재산의 종류"
         }
        }
       }
      },
      "text/html": [
       "<div>                            <div id=\"1f4eb57a-ff72-407b-939e-48909cb00ca0\" class=\"plotly-graph-div\" style=\"height:800px; width:1000px;\"></div>            <script type=\"text/javascript\">                require([\"plotly\"], function(Plotly) {                    window.PLOTLYENV=window.PLOTLYENV || {};                                    if (document.getElementById(\"1f4eb57a-ff72-407b-939e-48909cb00ca0\")) {                    Plotly.newPlot(                        \"1f4eb57a-ff72-407b-939e-48909cb00ca0\",                        [{\"alignmentgroup\":\"True\",\"hovertemplate\":\"\\ud604\\uc7ac\\uac00\\uc561=%{x}<br>\\uc7ac\\uc0b0\\uc758 \\uc885\\ub958=%{y}<extra></extra>\",\"legendgroup\":\"\",\"marker\":{\"color\":\"#636efa\",\"pattern\":{\"shape\":\"\"}},\"name\":\"\",\"offsetgroup\":\"\",\"orientation\":\"h\",\"showlegend\":false,\"textposition\":\"auto\",\"x\":[30000.0,37000.0,40000.0,50000.0,234660.0,237110.0,475399.0,783000.0,785000.0,874710.0,1000000.0,1301000.0,1733467.0,1800000.0,1846500.0,2765400.0,3506000.0,3950000.0,4108930.0,4335650.0,4614000.0,4666904.0,5417197.0,5652603.0,5675635.0,6821803.0,12296079.0,12815476.0,14274744.0,25657226.0,35832575.0,40293892.0,78872696.0,279936006.0],\"xaxis\":\"x\",\"y\":[\"\\uae30\\ud0c0(\\uc804\\uc138(\\uc784\\ucc28)\\uad8c)\",\"\\uc219\\ubc15\\uc2dc\\uc124(\\uc804\\uc138(\\uc784\\ucc28)\\uad8c)\",\"\\uc758\\ub8cc\\uc2dc\\uc124(\\uc804\\uc138(\\uc784\\ucc28)\\uad8c)\",\"\\ube4c\\ub529(\\uc804\\uc138(\\uc784\\ucc28)\\uad8c)\",\"\\uc219\\ubc15\\uc2dc\\uc124(\\ubd84\\uc591\\uad8c)\",\"\\uc219\\ubc15\\uc2dc\\uc124\",\"\\uc624\\ud53c\\uc2a4\\ud154(\\ubd84\\uc591\\uad8c)\",\"\\ub2e4\\uac00\\uad6c\\uc8fc\\ud0dd(\\uc804\\uc138(\\uc784\\ucc28)\\uad8c)\",\"\\uc5f0\\ub9bd\\uc8fc\\ud0dd(\\uc804\\uc138(\\uc784\\ucc28)\\uad8c)\",\"\\uc790\\ub3d9\\ucc28\\uad00\\ub828\\uc2dc\\uc124\",\"\\uc0c1\\uac00(\\uc804\\uc138(\\uc784\\ucc28)\\uad8c)\",\"\\uadfc\\ub9b0\\uc0dd\\ud65c\\uc2dc\\uc124(\\uc804\\uc138(\\uc784\\ucc28)\\uad8c)\",\"\\ucc3d\\uace0\",\"\\ub2e4\\uac00\\uad6c\\uc8fc\\ud0dd\",\"\\ub2e8\\ub3c5\\uc8fc\\ud0dd(\\uc804\\uc138(\\uc784\\ucc28)\\uad8c)\",\"\\ub2e4\\uc138\\ub300\\uc8fc\\ud0dd(\\uc804\\uc138(\\uc784\\ucc28)\\uad8c)\",\"\\uc0ac\\ubb34\\uc2e4(\\uc804\\uc138(\\uc784\\ucc28)\\uad8c)\",\"\\ubcf5\\ud569\\uac74\\ubb3c(\\uc8fc\\ud0dd+\\uc0c1\\uac00)(\\uc804\\uc138(\\uc784\\ucc28)\\uad8c)\",\"\\ub2e4\\uc138\\ub300\\uc8fc\\ud0dd\",\"\\uad50\\uc721\\uc5f0\\uad6c \\ubc0f\\ubcf5\\uc9c0\\uc2dc\\uc124\",\"\\uc624\\ud53c\\uc2a4\\ud154(\\uc804\\uc138(\\uc784\\ucc28)\\uad8c)\",\"\\uc0ac\\ubb34\\uc2e4\",\"\\uc544\\ud30c\\ud2b8(\\ubd84\\uc591\\uad8c)\",\"\\uc5f0\\ub9bd\\uc8fc\\ud0dd\",\"\\uae30\\ud0c0\",\"\\uc624\\ud53c\\uc2a4\\ud154\",\"\\ub2e8\\ub3c5\\uc8fc\\ud0dd\",\"\\uacf5\\uc7a5\",\"\\ubcf5\\ud569\\uac74\\ubb3c(\\uc8fc\\ud0dd+\\uc0c1\\uac00)\",\"\\uc0c1\\uac00\",\"\\uadfc\\ub9b0\\uc0dd\\ud65c\\uc2dc\\uc124\",\"\\ube4c\\ub529\",\"\\uc544\\ud30c\\ud2b8(\\uc804\\uc138(\\uc784\\ucc28)\\uad8c)\",\"\\uc544\\ud30c\\ud2b8\"],\"yaxis\":\"y\",\"type\":\"bar\"}],                        {\"template\":{\"data\":{\"histogram2dcontour\":[{\"type\":\"histogram2dcontour\",\"colorbar\":{\"outlinewidth\":0,\"ticks\":\"\"},\"colorscale\":[[0.0,\"#0d0887\"],[0.1111111111111111,\"#46039f\"],[0.2222222222222222,\"#7201a8\"],[0.3333333333333333,\"#9c179e\"],[0.4444444444444444,\"#bd3786\"],[0.5555555555555556,\"#d8576b\"],[0.6666666666666666,\"#ed7953\"],[0.7777777777777778,\"#fb9f3a\"],[0.8888888888888888,\"#fdca26\"],[1.0,\"#f0f921\"]]}],\"choropleth\":[{\"type\":\"choropleth\",\"colorbar\":{\"outlinewidth\":0,\"ticks\":\"\"}}],\"histogram2d\":[{\"type\":\"histogram2d\",\"colorbar\":{\"outlinewidth\":0,\"ticks\":\"\"},\"colorscale\":[[0.0,\"#0d0887\"],[0.1111111111111111,\"#46039f\"],[0.2222222222222222,\"#7201a8\"],[0.3333333333333333,\"#9c179e\"],[0.4444444444444444,\"#bd3786\"],[0.5555555555555556,\"#d8576b\"],[0.6666666666666666,\"#ed7953\"],[0.7777777777777778,\"#fb9f3a\"],[0.8888888888888888,\"#fdca26\"],[1.0,\"#f0f921\"]]}],\"heatmap\":[{\"type\":\"heatmap\",\"colorbar\":{\"outlinewidth\":0,\"ticks\":\"\"},\"colorscale\":[[0.0,\"#0d0887\"],[0.1111111111111111,\"#46039f\"],[0.2222222222222222,\"#7201a8\"],[0.3333333333333333,\"#9c179e\"],[0.4444444444444444,\"#bd3786\"],[0.5555555555555556,\"#d8576b\"],[0.6666666666666666,\"#ed7953\"],[0.7777777777777778,\"#fb9f3a\"],[0.8888888888888888,\"#fdca26\"],[1.0,\"#f0f921\"]]}],\"heatmapgl\":[{\"type\":\"heatmapgl\",\"colorbar\":{\"outlinewidth\":0,\"ticks\":\"\"},\"colorscale\":[[0.0,\"#0d0887\"],[0.1111111111111111,\"#46039f\"],[0.2222222222222222,\"#7201a8\"],[0.3333333333333333,\"#9c179e\"],[0.4444444444444444,\"#bd3786\"],[0.5555555555555556,\"#d8576b\"],[0.6666666666666666,\"#ed7953\"],[0.7777777777777778,\"#fb9f3a\"],[0.8888888888888888,\"#fdca26\"],[1.0,\"#f0f921\"]]}],\"contourcarpet\":[{\"type\":\"contourcarpet\",\"colorbar\":{\"outlinewidth\":0,\"ticks\":\"\"}}],\"contour\":[{\"type\":\"contour\",\"colorbar\":{\"outlinewidth\":0,\"ticks\":\"\"},\"colorscale\":[[0.0,\"#0d0887\"],[0.1111111111111111,\"#46039f\"],[0.2222222222222222,\"#7201a8\"],[0.3333333333333333,\"#9c179e\"],[0.4444444444444444,\"#bd3786\"],[0.5555555555555556,\"#d8576b\"],[0.6666666666666666,\"#ed7953\"],[0.7777777777777778,\"#fb9f3a\"],[0.8888888888888888,\"#fdca26\"],[1.0,\"#f0f921\"]]}],\"surface\":[{\"type\":\"surface\",\"colorbar\":{\"outlinewidth\":0,\"ticks\":\"\"},\"colorscale\":[[0.0,\"#0d0887\"],[0.1111111111111111,\"#46039f\"],[0.2222222222222222,\"#7201a8\"],[0.3333333333333333,\"#9c179e\"],[0.4444444444444444,\"#bd3786\"],[0.5555555555555556,\"#d8576b\"],[0.6666666666666666,\"#ed7953\"],[0.7777777777777778,\"#fb9f3a\"],[0.8888888888888888,\"#fdca26\"],[1.0,\"#f0f921\"]]}],\"mesh3d\":[{\"type\":\"mesh3d\",\"colorbar\":{\"outlinewidth\":0,\"ticks\":\"\"}}],\"scatter\":[{\"fillpattern\":{\"fillmode\":\"overlay\",\"size\":10,\"solidity\":0.2},\"type\":\"scatter\"}],\"parcoords\":[{\"type\":\"parcoords\",\"line\":{\"colorbar\":{\"outlinewidth\":0,\"ticks\":\"\"}}}],\"scatterpolargl\":[{\"type\":\"scatterpolargl\",\"marker\":{\"colorbar\":{\"outlinewidth\":0,\"ticks\":\"\"}}}],\"bar\":[{\"error_x\":{\"color\":\"#2a3f5f\"},\"error_y\":{\"color\":\"#2a3f5f\"},\"marker\":{\"line\":{\"color\":\"#E5ECF6\",\"width\":0.5},\"pattern\":{\"fillmode\":\"overlay\",\"size\":10,\"solidity\":0.2}},\"type\":\"bar\"}],\"scattergeo\":[{\"type\":\"scattergeo\",\"marker\":{\"colorbar\":{\"outlinewidth\":0,\"ticks\":\"\"}}}],\"scatterpolar\":[{\"type\":\"scatterpolar\",\"marker\":{\"colorbar\":{\"outlinewidth\":0,\"ticks\":\"\"}}}],\"histogram\":[{\"marker\":{\"pattern\":{\"fillmode\":\"overlay\",\"size\":10,\"solidity\":0.2}},\"type\":\"histogram\"}],\"scattergl\":[{\"type\":\"scattergl\",\"marker\":{\"colorbar\":{\"outlinewidth\":0,\"ticks\":\"\"}}}],\"scatter3d\":[{\"type\":\"scatter3d\",\"line\":{\"colorbar\":{\"outlinewidth\":0,\"ticks\":\"\"}},\"marker\":{\"colorbar\":{\"outlinewidth\":0,\"ticks\":\"\"}}}],\"scattermapbox\":[{\"type\":\"scattermapbox\",\"marker\":{\"colorbar\":{\"outlinewidth\":0,\"ticks\":\"\"}}}],\"scatterternary\":[{\"type\":\"scatterternary\",\"marker\":{\"colorbar\":{\"outlinewidth\":0,\"ticks\":\"\"}}}],\"scattercarpet\":[{\"type\":\"scattercarpet\",\"marker\":{\"colorbar\":{\"outlinewidth\":0,\"ticks\":\"\"}}}],\"carpet\":[{\"aaxis\":{\"endlinecolor\":\"#2a3f5f\",\"gridcolor\":\"white\",\"linecolor\":\"white\",\"minorgridcolor\":\"white\",\"startlinecolor\":\"#2a3f5f\"},\"baxis\":{\"endlinecolor\":\"#2a3f5f\",\"gridcolor\":\"white\",\"linecolor\":\"white\",\"minorgridcolor\":\"white\",\"startlinecolor\":\"#2a3f5f\"},\"type\":\"carpet\"}],\"table\":[{\"cells\":{\"fill\":{\"color\":\"#EBF0F8\"},\"line\":{\"color\":\"white\"}},\"header\":{\"fill\":{\"color\":\"#C8D4E3\"},\"line\":{\"color\":\"white\"}},\"type\":\"table\"}],\"barpolar\":[{\"marker\":{\"line\":{\"color\":\"#E5ECF6\",\"width\":0.5},\"pattern\":{\"fillmode\":\"overlay\",\"size\":10,\"solidity\":0.2}},\"type\":\"barpolar\"}],\"pie\":[{\"automargin\":true,\"type\":\"pie\"}]},\"layout\":{\"autotypenumbers\":\"strict\",\"colorway\":[\"#636efa\",\"#EF553B\",\"#00cc96\",\"#ab63fa\",\"#FFA15A\",\"#19d3f3\",\"#FF6692\",\"#B6E880\",\"#FF97FF\",\"#FECB52\"],\"font\":{\"color\":\"#2a3f5f\"},\"hovermode\":\"closest\",\"hoverlabel\":{\"align\":\"left\"},\"paper_bgcolor\":\"white\",\"plot_bgcolor\":\"#E5ECF6\",\"polar\":{\"bgcolor\":\"#E5ECF6\",\"angularaxis\":{\"gridcolor\":\"white\",\"linecolor\":\"white\",\"ticks\":\"\"},\"radialaxis\":{\"gridcolor\":\"white\",\"linecolor\":\"white\",\"ticks\":\"\"}},\"ternary\":{\"bgcolor\":\"#E5ECF6\",\"aaxis\":{\"gridcolor\":\"white\",\"linecolor\":\"white\",\"ticks\":\"\"},\"baxis\":{\"gridcolor\":\"white\",\"linecolor\":\"white\",\"ticks\":\"\"},\"caxis\":{\"gridcolor\":\"white\",\"linecolor\":\"white\",\"ticks\":\"\"}},\"coloraxis\":{\"colorbar\":{\"outlinewidth\":0,\"ticks\":\"\"}},\"colorscale\":{\"sequential\":[[0.0,\"#0d0887\"],[0.1111111111111111,\"#46039f\"],[0.2222222222222222,\"#7201a8\"],[0.3333333333333333,\"#9c179e\"],[0.4444444444444444,\"#bd3786\"],[0.5555555555555556,\"#d8576b\"],[0.6666666666666666,\"#ed7953\"],[0.7777777777777778,\"#fb9f3a\"],[0.8888888888888888,\"#fdca26\"],[1.0,\"#f0f921\"]],\"sequentialminus\":[[0.0,\"#0d0887\"],[0.1111111111111111,\"#46039f\"],[0.2222222222222222,\"#7201a8\"],[0.3333333333333333,\"#9c179e\"],[0.4444444444444444,\"#bd3786\"],[0.5555555555555556,\"#d8576b\"],[0.6666666666666666,\"#ed7953\"],[0.7777777777777778,\"#fb9f3a\"],[0.8888888888888888,\"#fdca26\"],[1.0,\"#f0f921\"]],\"diverging\":[[0,\"#8e0152\"],[0.1,\"#c51b7d\"],[0.2,\"#de77ae\"],[0.3,\"#f1b6da\"],[0.4,\"#fde0ef\"],[0.5,\"#f7f7f7\"],[0.6,\"#e6f5d0\"],[0.7,\"#b8e186\"],[0.8,\"#7fbc41\"],[0.9,\"#4d9221\"],[1,\"#276419\"]]},\"xaxis\":{\"gridcolor\":\"white\",\"linecolor\":\"white\",\"ticks\":\"\",\"title\":{\"standoff\":15},\"zerolinecolor\":\"white\",\"automargin\":true,\"zerolinewidth\":2},\"yaxis\":{\"gridcolor\":\"white\",\"linecolor\":\"white\",\"ticks\":\"\",\"title\":{\"standoff\":15},\"zerolinecolor\":\"white\",\"automargin\":true,\"zerolinewidth\":2},\"scene\":{\"xaxis\":{\"backgroundcolor\":\"#E5ECF6\",\"gridcolor\":\"white\",\"linecolor\":\"white\",\"showbackground\":true,\"ticks\":\"\",\"zerolinecolor\":\"white\",\"gridwidth\":2},\"yaxis\":{\"backgroundcolor\":\"#E5ECF6\",\"gridcolor\":\"white\",\"linecolor\":\"white\",\"showbackground\":true,\"ticks\":\"\",\"zerolinecolor\":\"white\",\"gridwidth\":2},\"zaxis\":{\"backgroundcolor\":\"#E5ECF6\",\"gridcolor\":\"white\",\"linecolor\":\"white\",\"showbackground\":true,\"ticks\":\"\",\"zerolinecolor\":\"white\",\"gridwidth\":2}},\"shapedefaults\":{\"line\":{\"color\":\"#2a3f5f\"}},\"annotationdefaults\":{\"arrowcolor\":\"#2a3f5f\",\"arrowhead\":0,\"arrowwidth\":1},\"geo\":{\"bgcolor\":\"white\",\"landcolor\":\"#E5ECF6\",\"subunitcolor\":\"white\",\"showland\":true,\"showlakes\":true,\"lakecolor\":\"white\"},\"title\":{\"x\":0.05},\"mapbox\":{\"style\":\"light\"}}},\"xaxis\":{\"anchor\":\"y\",\"domain\":[0.0,1.0],\"title\":{\"text\":\"\\ud604\\uc7ac\\uac00\\uc561\"}},\"yaxis\":{\"anchor\":\"x\",\"domain\":[0.0,1.0],\"title\":{\"text\":\"\\uc7ac\\uc0b0\\uc758 \\uc885\\ub958\"}},\"legend\":{\"tracegroupgap\":0},\"margin\":{\"t\":60},\"barmode\":\"relative\",\"width\":1000,\"height\":800},                        {\"responsive\": true}                    ).then(function(){\n",
       "                            \n",
       "var gd = document.getElementById('1f4eb57a-ff72-407b-939e-48909cb00ca0');\n",
       "var x = new MutationObserver(function (mutations, observer) {{\n",
       "        var display = window.getComputedStyle(gd).display;\n",
       "        if (!display || display === 'none') {{\n",
       "            console.log([gd, 'removed!']);\n",
       "            Plotly.purge(gd);\n",
       "            observer.disconnect();\n",
       "        }}\n",
       "}});\n",
       "\n",
       "// Listen for the removal of the full notebook cells\n",
       "var notebookContainer = gd.closest('#notebook-container');\n",
       "if (notebookContainer) {{\n",
       "    x.observe(notebookContainer, {childList: true});\n",
       "}}\n",
       "\n",
       "// Listen for the clearing of the current output cell\n",
       "var outputEl = gd.closest('.output');\n",
       "if (outputEl) {{\n",
       "    x.observe(outputEl, {childList: true});\n",
       "}}\n",
       "\n",
       "                        })                };                });            </script>        </div>"
      ]
     },
     "metadata": {},
     "output_type": "display_data"
    }
   ],
   "source": [
    "fig = px.bar(asset_div_si_total.loc['건물'].reset_index().sort_values('현재가액', ascending=True), x='현재가액', y='재산의 종류')\n",
    "fig.update_layout(\n",
    "    width = 1000,\n",
    "    height = 800\n",
    ")\n",
    "fig.show()"
   ]
  },
  {
   "cell_type": "code",
   "execution_count": 179,
   "id": "e9328168",
   "metadata": {},
   "outputs": [
    {
     "data": {
      "text/html": [
       "<div>\n",
       "<style scoped>\n",
       "    .dataframe tbody tr th:only-of-type {\n",
       "        vertical-align: middle;\n",
       "    }\n",
       "\n",
       "    .dataframe tbody tr th {\n",
       "        vertical-align: top;\n",
       "    }\n",
       "\n",
       "    .dataframe thead th {\n",
       "        text-align: right;\n",
       "    }\n",
       "</style>\n",
       "<table border=\"1\" class=\"dataframe\">\n",
       "  <thead>\n",
       "    <tr style=\"text-align: right;\">\n",
       "      <th></th>\n",
       "      <th></th>\n",
       "      <th>현재가액</th>\n",
       "    </tr>\n",
       "    <tr>\n",
       "      <th>재산구분</th>\n",
       "      <th>재산의 종류</th>\n",
       "      <th></th>\n",
       "    </tr>\n",
       "  </thead>\n",
       "  <tbody>\n",
       "    <tr>\n",
       "      <th rowspan=\"5\" valign=\"top\">건물</th>\n",
       "      <th>공장</th>\n",
       "      <td>12815476.0</td>\n",
       "    </tr>\n",
       "    <tr>\n",
       "      <th>교육연구 및복지시설</th>\n",
       "      <td>4335650.0</td>\n",
       "    </tr>\n",
       "    <tr>\n",
       "      <th>근린생활시설</th>\n",
       "      <td>35832575.0</td>\n",
       "    </tr>\n",
       "    <tr>\n",
       "      <th>근린생활시설(전세(임차)권)</th>\n",
       "      <td>1301000.0</td>\n",
       "    </tr>\n",
       "    <tr>\n",
       "      <th>기타</th>\n",
       "      <td>5675635.0</td>\n",
       "    </tr>\n",
       "    <tr>\n",
       "      <th>...</th>\n",
       "      <th>...</th>\n",
       "      <td>...</td>\n",
       "    </tr>\n",
       "    <tr>\n",
       "      <th>합명·합자·유한회사 출자지분</th>\n",
       "      <th>출자</th>\n",
       "      <td>579699.0</td>\n",
       "    </tr>\n",
       "    <tr>\n",
       "      <th>현금</th>\n",
       "      <th>NaN</th>\n",
       "      <td>2231300.0</td>\n",
       "    </tr>\n",
       "    <tr>\n",
       "      <th rowspan=\"3\" valign=\"top\">회원권</th>\n",
       "      <th>골프</th>\n",
       "      <td>1141000.0</td>\n",
       "    </tr>\n",
       "    <tr>\n",
       "      <th>콘도미니엄</th>\n",
       "      <td>436330.0</td>\n",
       "    </tr>\n",
       "    <tr>\n",
       "      <th>헬스</th>\n",
       "      <td>517000.0</td>\n",
       "    </tr>\n",
       "  </tbody>\n",
       "</table>\n",
       "<p>79 rows × 1 columns</p>\n",
       "</div>"
      ],
      "text/plain": [
       "                                       현재가액\n",
       "재산구분            재산의 종류                     \n",
       "건물              공장               12815476.0\n",
       "                교육연구 및복지시설        4335650.0\n",
       "                근린생활시설           35832575.0\n",
       "                근린생활시설(전세(임차)권)   1301000.0\n",
       "                기타                5675635.0\n",
       "...                                     ...\n",
       "합명·합자·유한회사 출자지분 출자                 579699.0\n",
       "현금              NaN               2231300.0\n",
       "회원권             골프                1141000.0\n",
       "                콘도미니엄              436330.0\n",
       "                헬스                 517000.0\n",
       "\n",
       "[79 rows x 1 columns]"
      ]
     },
     "execution_count": 179,
     "metadata": {},
     "output_type": "execute_result"
    }
   ],
   "source": [
    "asset_div_si_total"
   ]
  },
  {
   "cell_type": "code",
   "execution_count": 180,
   "id": "92b374ef",
   "metadata": {},
   "outputs": [
    {
     "data": {
      "text/plain": [
       "MultiIndex([(                                    '건물',                   '공장'),\n",
       "            (                                    '건물',           '교육연구 및복지시설'),\n",
       "            (                                    '건물',               '근린생활시설'),\n",
       "            (                                    '건물',      '근린생활시설(전세(임차)권)'),\n",
       "            (                                    '건물',                   '기타'),\n",
       "            (                                    '건물',          '기타(전세(임차)권)'),\n",
       "            (                                    '건물',                '다가구주택'),\n",
       "            (                                    '건물',       '다가구주택(전세(임차)권)'),\n",
       "            (                                    '건물',                '다세대주택'),\n",
       "            (                                    '건물',       '다세대주택(전세(임차)권)'),\n",
       "            (                                    '건물',                 '단독주택'),\n",
       "            (                                    '건물',        '단독주택(전세(임차)권)'),\n",
       "            (                                    '건물',          '복합건물(주택+상가)'),\n",
       "            (                                    '건물', '복합건물(주택+상가)(전세(임차)권)'),\n",
       "            (                                    '건물',                   '빌딩'),\n",
       "            (                                    '건물',          '빌딩(전세(임차)권)'),\n",
       "            (                                    '건물',                  '사무실'),\n",
       "            (                                    '건물',         '사무실(전세(임차)권)'),\n",
       "            (                                    '건물',                   '상가'),\n",
       "            (                                    '건물',          '상가(전세(임차)권)'),\n",
       "            (                                    '건물',                 '숙박시설'),\n",
       "            (                                    '건물',            '숙박시설(분양권)'),\n",
       "            (                                    '건물',        '숙박시설(전세(임차)권)'),\n",
       "            (                                    '건물',                  '아파트'),\n",
       "            (                                    '건물',             '아파트(분양권)'),\n",
       "            (                                    '건물',         '아파트(전세(임차)권)'),\n",
       "            (                                    '건물',                 '연립주택'),\n",
       "            (                                    '건물',        '연립주택(전세(임차)권)'),\n",
       "            (                                    '건물',                 '오피스텔'),\n",
       "            (                                    '건물',            '오피스텔(분양권)'),\n",
       "            (                                    '건물',        '오피스텔(전세(임차)권)'),\n",
       "            (                                    '건물',        '의료시설(전세(임차)권)'),\n",
       "            (                                    '건물',              '자동차관련시설'),\n",
       "            (                                    '건물',                   '창고'),\n",
       "            (                         '고지거부 및 등록제외사항',                    nan),\n",
       "            (                             '골동품 및 예술품',                    nan),\n",
       "            (                                '금 및 백금',                    nan),\n",
       "            (                                   '보석류',                    nan),\n",
       "            ('부동산에 관한 규정이 준용되는 권리와 자동차·건설기계·선박 및 항공기',                   '기타'),\n",
       "            ('부동산에 관한 규정이 준용되는 권리와 자동차·건설기계·선박 및 항공기',                  '자동차'),\n",
       "            (                         '비영리법인에 출연한 재산',                   '출연'),\n",
       "            (                                    '예금',                    nan),\n",
       "            (  '정치자금법에 따른 정치자금의 수입 및 지출을 위한 예금계좌의 예금',                    nan),\n",
       "            (                                    '증권',                   '공채'),\n",
       "            (                                    '증권',                   '국채'),\n",
       "            (                                    '증권',                  '금융채'),\n",
       "            (                                    '증권',               '기타(채권)'),\n",
       "            (                                    '증권',                '비상장주식'),\n",
       "            (                                    '증권',                 '상장주식'),\n",
       "            (                                    '증권',              '주식매수선택권'),\n",
       "            (                                    '증권',                  '회사채'),\n",
       "            (                                 '지식재산권',                   '기타'),\n",
       "            (                                 '지식재산권',                '저작재산권'),\n",
       "            (                                    '채권',                    nan),\n",
       "            (                                    '채무',               '건물임대채무'),\n",
       "            (                                    '채무',                 '금융채무'),\n",
       "            (                                    '채무',                   '기타'),\n",
       "            (                                    '채무',               '토지임대채무'),\n",
       "            (                                    '채무',                    nan),\n",
       "            (                                    '토지',                 '공장용지'),\n",
       "            (                                    '토지',                  '과수원'),\n",
       "            (                                    '토지',                   '구거'),\n",
       "            (                                    '토지',                    '답'),\n",
       "            (                                    '토지',                   '대지'),\n",
       "            (                                    '토지',                   '도로'),\n",
       "            (                                    '토지',                 '목장용지'),\n",
       "            (                                    '토지',                   '묘지'),\n",
       "            (                                    '토지',                   '유지'),\n",
       "            (                                    '토지',                   '임야'),\n",
       "            (                                    '토지',                  '잡종지'),\n",
       "            (                                    '토지',                    '전'),\n",
       "            (                                    '토지',                 '종교용지'),\n",
       "            (                                    '토지',                  '주차장'),\n",
       "            (                                    '토지',                   '하천'),\n",
       "            (                       '합명·합자·유한회사 출자지분',                   '출자'),\n",
       "            (                                    '현금',                    nan),\n",
       "            (                                   '회원권',                   '골프'),\n",
       "            (                                   '회원권',                '콘도미니엄'),\n",
       "            (                                   '회원권',                   '헬스')],\n",
       "           names=['재산구분', '재산의 종류'])"
      ]
     },
     "execution_count": 180,
     "metadata": {},
     "output_type": "execute_result"
    }
   ],
   "source": [
    "asset_div_si_total.index"
   ]
  },
  {
   "cell_type": "code",
   "execution_count": 182,
   "id": "c91142ce",
   "metadata": {
    "scrolled": false
   },
   "outputs": [
    {
     "data": {
      "text/html": [
       "<div>\n",
       "<style scoped>\n",
       "    .dataframe tbody tr th:only-of-type {\n",
       "        vertical-align: middle;\n",
       "    }\n",
       "\n",
       "    .dataframe tbody tr th {\n",
       "        vertical-align: top;\n",
       "    }\n",
       "\n",
       "    .dataframe thead th {\n",
       "        text-align: right;\n",
       "    }\n",
       "</style>\n",
       "<table border=\"1\" class=\"dataframe\">\n",
       "  <thead>\n",
       "    <tr style=\"text-align: right;\">\n",
       "      <th></th>\n",
       "      <th>현재가액</th>\n",
       "    </tr>\n",
       "    <tr>\n",
       "      <th>재산의 종류</th>\n",
       "      <th></th>\n",
       "    </tr>\n",
       "  </thead>\n",
       "  <tbody>\n",
       "    <tr>\n",
       "      <th>공장</th>\n",
       "      <td>12815476.0</td>\n",
       "    </tr>\n",
       "    <tr>\n",
       "      <th>교육연구 및복지시설</th>\n",
       "      <td>4335650.0</td>\n",
       "    </tr>\n",
       "    <tr>\n",
       "      <th>근린생활시설</th>\n",
       "      <td>35832575.0</td>\n",
       "    </tr>\n",
       "    <tr>\n",
       "      <th>근린생활시설(전세(임차)권)</th>\n",
       "      <td>1301000.0</td>\n",
       "    </tr>\n",
       "    <tr>\n",
       "      <th>기타</th>\n",
       "      <td>5675635.0</td>\n",
       "    </tr>\n",
       "    <tr>\n",
       "      <th>기타(전세(임차)권)</th>\n",
       "      <td>30000.0</td>\n",
       "    </tr>\n",
       "    <tr>\n",
       "      <th>다가구주택</th>\n",
       "      <td>1800000.0</td>\n",
       "    </tr>\n",
       "    <tr>\n",
       "      <th>다가구주택(전세(임차)권)</th>\n",
       "      <td>783000.0</td>\n",
       "    </tr>\n",
       "    <tr>\n",
       "      <th>다세대주택</th>\n",
       "      <td>4108930.0</td>\n",
       "    </tr>\n",
       "    <tr>\n",
       "      <th>다세대주택(전세(임차)권)</th>\n",
       "      <td>2765400.0</td>\n",
       "    </tr>\n",
       "    <tr>\n",
       "      <th>단독주택</th>\n",
       "      <td>12296079.0</td>\n",
       "    </tr>\n",
       "    <tr>\n",
       "      <th>단독주택(전세(임차)권)</th>\n",
       "      <td>1846500.0</td>\n",
       "    </tr>\n",
       "    <tr>\n",
       "      <th>복합건물(주택+상가)</th>\n",
       "      <td>14274744.0</td>\n",
       "    </tr>\n",
       "    <tr>\n",
       "      <th>복합건물(주택+상가)(전세(임차)권)</th>\n",
       "      <td>3950000.0</td>\n",
       "    </tr>\n",
       "    <tr>\n",
       "      <th>빌딩</th>\n",
       "      <td>40293892.0</td>\n",
       "    </tr>\n",
       "    <tr>\n",
       "      <th>빌딩(전세(임차)권)</th>\n",
       "      <td>50000.0</td>\n",
       "    </tr>\n",
       "    <tr>\n",
       "      <th>사무실</th>\n",
       "      <td>4666904.0</td>\n",
       "    </tr>\n",
       "    <tr>\n",
       "      <th>사무실(전세(임차)권)</th>\n",
       "      <td>3506000.0</td>\n",
       "    </tr>\n",
       "    <tr>\n",
       "      <th>상가</th>\n",
       "      <td>25657226.0</td>\n",
       "    </tr>\n",
       "    <tr>\n",
       "      <th>상가(전세(임차)권)</th>\n",
       "      <td>1000000.0</td>\n",
       "    </tr>\n",
       "    <tr>\n",
       "      <th>숙박시설</th>\n",
       "      <td>237110.0</td>\n",
       "    </tr>\n",
       "    <tr>\n",
       "      <th>숙박시설(분양권)</th>\n",
       "      <td>234660.0</td>\n",
       "    </tr>\n",
       "    <tr>\n",
       "      <th>숙박시설(전세(임차)권)</th>\n",
       "      <td>37000.0</td>\n",
       "    </tr>\n",
       "    <tr>\n",
       "      <th>아파트</th>\n",
       "      <td>279936006.0</td>\n",
       "    </tr>\n",
       "    <tr>\n",
       "      <th>아파트(분양권)</th>\n",
       "      <td>5417197.0</td>\n",
       "    </tr>\n",
       "    <tr>\n",
       "      <th>아파트(전세(임차)권)</th>\n",
       "      <td>78872696.0</td>\n",
       "    </tr>\n",
       "    <tr>\n",
       "      <th>연립주택</th>\n",
       "      <td>5652603.0</td>\n",
       "    </tr>\n",
       "    <tr>\n",
       "      <th>연립주택(전세(임차)권)</th>\n",
       "      <td>785000.0</td>\n",
       "    </tr>\n",
       "    <tr>\n",
       "      <th>오피스텔</th>\n",
       "      <td>6821803.0</td>\n",
       "    </tr>\n",
       "    <tr>\n",
       "      <th>오피스텔(분양권)</th>\n",
       "      <td>475399.0</td>\n",
       "    </tr>\n",
       "    <tr>\n",
       "      <th>오피스텔(전세(임차)권)</th>\n",
       "      <td>4614000.0</td>\n",
       "    </tr>\n",
       "    <tr>\n",
       "      <th>의료시설(전세(임차)권)</th>\n",
       "      <td>40000.0</td>\n",
       "    </tr>\n",
       "    <tr>\n",
       "      <th>자동차관련시설</th>\n",
       "      <td>874710.0</td>\n",
       "    </tr>\n",
       "    <tr>\n",
       "      <th>창고</th>\n",
       "      <td>1733467.0</td>\n",
       "    </tr>\n",
       "  </tbody>\n",
       "</table>\n",
       "</div>"
      ],
      "text/plain": [
       "                             현재가액\n",
       "재산의 종류                           \n",
       "공장                     12815476.0\n",
       "교육연구 및복지시설              4335650.0\n",
       "근린생활시설                 35832575.0\n",
       "근린생활시설(전세(임차)권)         1301000.0\n",
       "기타                      5675635.0\n",
       "기타(전세(임차)권)               30000.0\n",
       "다가구주택                   1800000.0\n",
       "다가구주택(전세(임차)권)           783000.0\n",
       "다세대주택                   4108930.0\n",
       "다세대주택(전세(임차)권)          2765400.0\n",
       "단독주택                   12296079.0\n",
       "단독주택(전세(임차)권)           1846500.0\n",
       "복합건물(주택+상가)            14274744.0\n",
       "복합건물(주택+상가)(전세(임차)권)    3950000.0\n",
       "빌딩                     40293892.0\n",
       "빌딩(전세(임차)권)               50000.0\n",
       "사무실                     4666904.0\n",
       "사무실(전세(임차)권)            3506000.0\n",
       "상가                     25657226.0\n",
       "상가(전세(임차)권)             1000000.0\n",
       "숙박시설                     237110.0\n",
       "숙박시설(분양권)                234660.0\n",
       "숙박시설(전세(임차)권)             37000.0\n",
       "아파트                   279936006.0\n",
       "아파트(분양권)                5417197.0\n",
       "아파트(전세(임차)권)           78872696.0\n",
       "연립주택                    5652603.0\n",
       "연립주택(전세(임차)권)            785000.0\n",
       "오피스텔                    6821803.0\n",
       "오피스텔(분양권)                475399.0\n",
       "오피스텔(전세(임차)권)           4614000.0\n",
       "의료시설(전세(임차)권)             40000.0\n",
       "자동차관련시설                  874710.0\n",
       "창고                      1733467.0"
      ]
     },
     "execution_count": 182,
     "metadata": {},
     "output_type": "execute_result"
    }
   ],
   "source": [
    "asset_div_si_total.loc['건물']"
   ]
  },
  {
   "cell_type": "code",
   "execution_count": null,
   "id": "d8dde605",
   "metadata": {},
   "outputs": [],
   "source": []
  },
  {
   "cell_type": "code",
   "execution_count": null,
   "id": "354a3c62",
   "metadata": {},
   "outputs": [],
   "source": []
  },
  {
   "cell_type": "code",
   "execution_count": null,
   "id": "379a8d02",
   "metadata": {},
   "outputs": [],
   "source": []
  }
 ],
 "metadata": {
  "kernelspec": {
   "display_name": "Python 3 (ipykernel)",
   "language": "python",
   "name": "python3"
  },
  "language_info": {
   "codemirror_mode": {
    "name": "ipython",
    "version": 3
   },
   "file_extension": ".py",
   "mimetype": "text/x-python",
   "name": "python",
   "nbconvert_exporter": "python",
   "pygments_lexer": "ipython3",
   "version": "3.11.4"
  },
  "toc": {
   "base_numbering": 1,
   "nav_menu": {},
   "number_sections": true,
   "sideBar": true,
   "skip_h1_title": false,
   "title_cell": "Table of Contents",
   "title_sidebar": "Contents",
   "toc_cell": false,
   "toc_position": {
    "height": "calc(100% - 180px)",
    "left": "10px",
    "top": "150px",
    "width": "301.5px"
   },
   "toc_section_display": true,
   "toc_window_display": true
  }
 },
 "nbformat": 4,
 "nbformat_minor": 5
}
